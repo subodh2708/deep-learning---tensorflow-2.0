{
  "cells": [
    {
      "cell_type": "markdown",
      "metadata": {
        "id": "view-in-github",
        "colab_type": "text"
      },
      "source": [
        "<a href=\"https://colab.research.google.com/github/subodh2708/deep-learning---tensorflow-2.0/blob/main/10_time_series_forecasting_with_tensorflow.ipynb\" target=\"_parent\"><img src=\"https://colab.research.google.com/assets/colab-badge.svg\" alt=\"Open In Colab\"/></a>"
      ]
    },
    {
      "cell_type": "markdown",
      "metadata": {
        "id": "3hmhL78d36_4"
      },
      "source": [
        "# Time Series Forcasting fundamentals with tensorflow + milestone project 3: BitPredict💹💰"
      ]
    },
    {
      "cell_type": "markdown",
      "metadata": {
        "id": "gB5anc2C5hBK"
      },
      "source": [
        "## Get Data "
      ]
    },
    {
      "cell_type": "code",
      "execution_count": 1,
      "metadata": {
        "colab": {
          "base_uri": "https://localhost:8080/"
        },
        "id": "_XGl7fGthgGl",
        "outputId": "ec6fb51e-081f-43ef-d831-36600e19ff76"
      },
      "outputs": [
        {
          "output_type": "stream",
          "name": "stdout",
          "text": [
            "--2022-10-03 14:00:37--  https://raw.githubusercontent.com/mrdbourke/tensorflow-deep-learning/main/extras/BTC_USD_2013-10-01_2021-05-18-CoinDesk.csv\n",
            "Resolving raw.githubusercontent.com (raw.githubusercontent.com)... 185.199.108.133, 185.199.109.133, 185.199.110.133, ...\n",
            "Connecting to raw.githubusercontent.com (raw.githubusercontent.com)|185.199.108.133|:443... connected.\n",
            "HTTP request sent, awaiting response... 200 OK\n",
            "Length: 178509 (174K) [text/plain]\n",
            "Saving to: ‘BTC_USD_2013-10-01_2021-05-18-CoinDesk.csv’\n",
            "\n",
            "\r          BTC_USD_2   0%[                    ]       0  --.-KB/s               \rBTC_USD_2013-10-01_ 100%[===================>] 174.33K  --.-KB/s    in 0.003s  \n",
            "\n",
            "2022-10-03 14:00:37 (51.0 MB/s) - ‘BTC_USD_2013-10-01_2021-05-18-CoinDesk.csv’ saved [178509/178509]\n",
            "\n"
          ]
        }
      ],
      "source": [
        "!wget https://raw.githubusercontent.com/mrdbourke/tensorflow-deep-learning/main/extras/BTC_USD_2013-10-01_2021-05-18-CoinDesk.csv"
      ]
    },
    {
      "cell_type": "markdown",
      "metadata": {
        "id": "nAaTOARWh7RO"
      },
      "source": [
        "## Importing time-series with pandas"
      ]
    },
    {
      "cell_type": "code",
      "execution_count": 2,
      "metadata": {
        "colab": {
          "base_uri": "https://localhost:8080/",
          "height": 237
        },
        "id": "fNSbdU0jiCxy",
        "outputId": "57bfef3a-32f6-492c-f027-5601f1474c49"
      },
      "outputs": [
        {
          "output_type": "execute_result",
          "data": {
            "text/plain": [
              "           Currency  Closing Price (USD)  24h Open (USD)  24h High (USD)  \\\n",
              "Date                                                                       \n",
              "2013-10-01      BTC            123.65499       124.30466       124.75166   \n",
              "2013-10-02      BTC            125.45500       123.65499       125.75850   \n",
              "2013-10-03      BTC            108.58483       125.45500       125.66566   \n",
              "2013-10-04      BTC            118.67466       108.58483       118.67500   \n",
              "2013-10-05      BTC            121.33866       118.67466       121.93633   \n",
              "\n",
              "            24h Low (USD)  \n",
              "Date                       \n",
              "2013-10-01      122.56349  \n",
              "2013-10-02      123.63383  \n",
              "2013-10-03       83.32833  \n",
              "2013-10-04      107.05816  \n",
              "2013-10-05      118.00566  "
            ],
            "text/html": [
              "\n",
              "  <div id=\"df-02dbccc5-ce8b-420c-b165-c4eb2ae0ec40\">\n",
              "    <div class=\"colab-df-container\">\n",
              "      <div>\n",
              "<style scoped>\n",
              "    .dataframe tbody tr th:only-of-type {\n",
              "        vertical-align: middle;\n",
              "    }\n",
              "\n",
              "    .dataframe tbody tr th {\n",
              "        vertical-align: top;\n",
              "    }\n",
              "\n",
              "    .dataframe thead th {\n",
              "        text-align: right;\n",
              "    }\n",
              "</style>\n",
              "<table border=\"1\" class=\"dataframe\">\n",
              "  <thead>\n",
              "    <tr style=\"text-align: right;\">\n",
              "      <th></th>\n",
              "      <th>Currency</th>\n",
              "      <th>Closing Price (USD)</th>\n",
              "      <th>24h Open (USD)</th>\n",
              "      <th>24h High (USD)</th>\n",
              "      <th>24h Low (USD)</th>\n",
              "    </tr>\n",
              "    <tr>\n",
              "      <th>Date</th>\n",
              "      <th></th>\n",
              "      <th></th>\n",
              "      <th></th>\n",
              "      <th></th>\n",
              "      <th></th>\n",
              "    </tr>\n",
              "  </thead>\n",
              "  <tbody>\n",
              "    <tr>\n",
              "      <th>2013-10-01</th>\n",
              "      <td>BTC</td>\n",
              "      <td>123.65499</td>\n",
              "      <td>124.30466</td>\n",
              "      <td>124.75166</td>\n",
              "      <td>122.56349</td>\n",
              "    </tr>\n",
              "    <tr>\n",
              "      <th>2013-10-02</th>\n",
              "      <td>BTC</td>\n",
              "      <td>125.45500</td>\n",
              "      <td>123.65499</td>\n",
              "      <td>125.75850</td>\n",
              "      <td>123.63383</td>\n",
              "    </tr>\n",
              "    <tr>\n",
              "      <th>2013-10-03</th>\n",
              "      <td>BTC</td>\n",
              "      <td>108.58483</td>\n",
              "      <td>125.45500</td>\n",
              "      <td>125.66566</td>\n",
              "      <td>83.32833</td>\n",
              "    </tr>\n",
              "    <tr>\n",
              "      <th>2013-10-04</th>\n",
              "      <td>BTC</td>\n",
              "      <td>118.67466</td>\n",
              "      <td>108.58483</td>\n",
              "      <td>118.67500</td>\n",
              "      <td>107.05816</td>\n",
              "    </tr>\n",
              "    <tr>\n",
              "      <th>2013-10-05</th>\n",
              "      <td>BTC</td>\n",
              "      <td>121.33866</td>\n",
              "      <td>118.67466</td>\n",
              "      <td>121.93633</td>\n",
              "      <td>118.00566</td>\n",
              "    </tr>\n",
              "  </tbody>\n",
              "</table>\n",
              "</div>\n",
              "      <button class=\"colab-df-convert\" onclick=\"convertToInteractive('df-02dbccc5-ce8b-420c-b165-c4eb2ae0ec40')\"\n",
              "              title=\"Convert this dataframe to an interactive table.\"\n",
              "              style=\"display:none;\">\n",
              "        \n",
              "  <svg xmlns=\"http://www.w3.org/2000/svg\" height=\"24px\"viewBox=\"0 0 24 24\"\n",
              "       width=\"24px\">\n",
              "    <path d=\"M0 0h24v24H0V0z\" fill=\"none\"/>\n",
              "    <path d=\"M18.56 5.44l.94 2.06.94-2.06 2.06-.94-2.06-.94-.94-2.06-.94 2.06-2.06.94zm-11 1L8.5 8.5l.94-2.06 2.06-.94-2.06-.94L8.5 2.5l-.94 2.06-2.06.94zm10 10l.94 2.06.94-2.06 2.06-.94-2.06-.94-.94-2.06-.94 2.06-2.06.94z\"/><path d=\"M17.41 7.96l-1.37-1.37c-.4-.4-.92-.59-1.43-.59-.52 0-1.04.2-1.43.59L10.3 9.45l-7.72 7.72c-.78.78-.78 2.05 0 2.83L4 21.41c.39.39.9.59 1.41.59.51 0 1.02-.2 1.41-.59l7.78-7.78 2.81-2.81c.8-.78.8-2.07 0-2.86zM5.41 20L4 18.59l7.72-7.72 1.47 1.35L5.41 20z\"/>\n",
              "  </svg>\n",
              "      </button>\n",
              "      \n",
              "  <style>\n",
              "    .colab-df-container {\n",
              "      display:flex;\n",
              "      flex-wrap:wrap;\n",
              "      gap: 12px;\n",
              "    }\n",
              "\n",
              "    .colab-df-convert {\n",
              "      background-color: #E8F0FE;\n",
              "      border: none;\n",
              "      border-radius: 50%;\n",
              "      cursor: pointer;\n",
              "      display: none;\n",
              "      fill: #1967D2;\n",
              "      height: 32px;\n",
              "      padding: 0 0 0 0;\n",
              "      width: 32px;\n",
              "    }\n",
              "\n",
              "    .colab-df-convert:hover {\n",
              "      background-color: #E2EBFA;\n",
              "      box-shadow: 0px 1px 2px rgba(60, 64, 67, 0.3), 0px 1px 3px 1px rgba(60, 64, 67, 0.15);\n",
              "      fill: #174EA6;\n",
              "    }\n",
              "\n",
              "    [theme=dark] .colab-df-convert {\n",
              "      background-color: #3B4455;\n",
              "      fill: #D2E3FC;\n",
              "    }\n",
              "\n",
              "    [theme=dark] .colab-df-convert:hover {\n",
              "      background-color: #434B5C;\n",
              "      box-shadow: 0px 1px 3px 1px rgba(0, 0, 0, 0.15);\n",
              "      filter: drop-shadow(0px 1px 2px rgba(0, 0, 0, 0.3));\n",
              "      fill: #FFFFFF;\n",
              "    }\n",
              "  </style>\n",
              "\n",
              "      <script>\n",
              "        const buttonEl =\n",
              "          document.querySelector('#df-02dbccc5-ce8b-420c-b165-c4eb2ae0ec40 button.colab-df-convert');\n",
              "        buttonEl.style.display =\n",
              "          google.colab.kernel.accessAllowed ? 'block' : 'none';\n",
              "\n",
              "        async function convertToInteractive(key) {\n",
              "          const element = document.querySelector('#df-02dbccc5-ce8b-420c-b165-c4eb2ae0ec40');\n",
              "          const dataTable =\n",
              "            await google.colab.kernel.invokeFunction('convertToInteractive',\n",
              "                                                     [key], {});\n",
              "          if (!dataTable) return;\n",
              "\n",
              "          const docLinkHtml = 'Like what you see? Visit the ' +\n",
              "            '<a target=\"_blank\" href=https://colab.research.google.com/notebooks/data_table.ipynb>data table notebook</a>'\n",
              "            + ' to learn more about interactive tables.';\n",
              "          element.innerHTML = '';\n",
              "          dataTable['output_type'] = 'display_data';\n",
              "          await google.colab.output.renderOutput(dataTable, element);\n",
              "          const docLink = document.createElement('div');\n",
              "          docLink.innerHTML = docLinkHtml;\n",
              "          element.appendChild(docLink);\n",
              "        }\n",
              "      </script>\n",
              "    </div>\n",
              "  </div>\n",
              "  "
            ]
          },
          "metadata": {},
          "execution_count": 2
        }
      ],
      "source": [
        "import pandas as pd\n",
        "\n",
        "df = pd.read_csv('/content/BTC_USD_2013-10-01_2021-05-18-CoinDesk.csv',\n",
        "                 parse_dates = ['Date'],\n",
        "                 index_col = ['Date'])\n",
        "\n",
        "df.head()"
      ]
    },
    {
      "cell_type": "code",
      "execution_count": 3,
      "metadata": {
        "colab": {
          "base_uri": "https://localhost:8080/",
          "height": 455
        },
        "id": "TPioh5A6juWD",
        "outputId": "f4738344-d8ba-4d33-e654-7504c13b6ad1"
      },
      "outputs": [
        {
          "output_type": "execute_result",
          "data": {
            "text/plain": [
              "                   price\n",
              "Date                    \n",
              "2013-10-01    123.654990\n",
              "2013-10-02    125.455000\n",
              "2013-10-03    108.584830\n",
              "2013-10-04    118.674660\n",
              "2013-10-05    121.338660\n",
              "...                  ...\n",
              "2021-05-14  49764.132082\n",
              "2021-05-15  50032.693137\n",
              "2021-05-16  47885.625255\n",
              "2021-05-17  45604.615754\n",
              "2021-05-18  43144.471291\n",
              "\n",
              "[2787 rows x 1 columns]"
            ],
            "text/html": [
              "\n",
              "  <div id=\"df-51926aeb-c139-4dcb-8cc3-5977aa4c8d19\">\n",
              "    <div class=\"colab-df-container\">\n",
              "      <div>\n",
              "<style scoped>\n",
              "    .dataframe tbody tr th:only-of-type {\n",
              "        vertical-align: middle;\n",
              "    }\n",
              "\n",
              "    .dataframe tbody tr th {\n",
              "        vertical-align: top;\n",
              "    }\n",
              "\n",
              "    .dataframe thead th {\n",
              "        text-align: right;\n",
              "    }\n",
              "</style>\n",
              "<table border=\"1\" class=\"dataframe\">\n",
              "  <thead>\n",
              "    <tr style=\"text-align: right;\">\n",
              "      <th></th>\n",
              "      <th>price</th>\n",
              "    </tr>\n",
              "    <tr>\n",
              "      <th>Date</th>\n",
              "      <th></th>\n",
              "    </tr>\n",
              "  </thead>\n",
              "  <tbody>\n",
              "    <tr>\n",
              "      <th>2013-10-01</th>\n",
              "      <td>123.654990</td>\n",
              "    </tr>\n",
              "    <tr>\n",
              "      <th>2013-10-02</th>\n",
              "      <td>125.455000</td>\n",
              "    </tr>\n",
              "    <tr>\n",
              "      <th>2013-10-03</th>\n",
              "      <td>108.584830</td>\n",
              "    </tr>\n",
              "    <tr>\n",
              "      <th>2013-10-04</th>\n",
              "      <td>118.674660</td>\n",
              "    </tr>\n",
              "    <tr>\n",
              "      <th>2013-10-05</th>\n",
              "      <td>121.338660</td>\n",
              "    </tr>\n",
              "    <tr>\n",
              "      <th>...</th>\n",
              "      <td>...</td>\n",
              "    </tr>\n",
              "    <tr>\n",
              "      <th>2021-05-14</th>\n",
              "      <td>49764.132082</td>\n",
              "    </tr>\n",
              "    <tr>\n",
              "      <th>2021-05-15</th>\n",
              "      <td>50032.693137</td>\n",
              "    </tr>\n",
              "    <tr>\n",
              "      <th>2021-05-16</th>\n",
              "      <td>47885.625255</td>\n",
              "    </tr>\n",
              "    <tr>\n",
              "      <th>2021-05-17</th>\n",
              "      <td>45604.615754</td>\n",
              "    </tr>\n",
              "    <tr>\n",
              "      <th>2021-05-18</th>\n",
              "      <td>43144.471291</td>\n",
              "    </tr>\n",
              "  </tbody>\n",
              "</table>\n",
              "<p>2787 rows × 1 columns</p>\n",
              "</div>\n",
              "      <button class=\"colab-df-convert\" onclick=\"convertToInteractive('df-51926aeb-c139-4dcb-8cc3-5977aa4c8d19')\"\n",
              "              title=\"Convert this dataframe to an interactive table.\"\n",
              "              style=\"display:none;\">\n",
              "        \n",
              "  <svg xmlns=\"http://www.w3.org/2000/svg\" height=\"24px\"viewBox=\"0 0 24 24\"\n",
              "       width=\"24px\">\n",
              "    <path d=\"M0 0h24v24H0V0z\" fill=\"none\"/>\n",
              "    <path d=\"M18.56 5.44l.94 2.06.94-2.06 2.06-.94-2.06-.94-.94-2.06-.94 2.06-2.06.94zm-11 1L8.5 8.5l.94-2.06 2.06-.94-2.06-.94L8.5 2.5l-.94 2.06-2.06.94zm10 10l.94 2.06.94-2.06 2.06-.94-2.06-.94-.94-2.06-.94 2.06-2.06.94z\"/><path d=\"M17.41 7.96l-1.37-1.37c-.4-.4-.92-.59-1.43-.59-.52 0-1.04.2-1.43.59L10.3 9.45l-7.72 7.72c-.78.78-.78 2.05 0 2.83L4 21.41c.39.39.9.59 1.41.59.51 0 1.02-.2 1.41-.59l7.78-7.78 2.81-2.81c.8-.78.8-2.07 0-2.86zM5.41 20L4 18.59l7.72-7.72 1.47 1.35L5.41 20z\"/>\n",
              "  </svg>\n",
              "      </button>\n",
              "      \n",
              "  <style>\n",
              "    .colab-df-container {\n",
              "      display:flex;\n",
              "      flex-wrap:wrap;\n",
              "      gap: 12px;\n",
              "    }\n",
              "\n",
              "    .colab-df-convert {\n",
              "      background-color: #E8F0FE;\n",
              "      border: none;\n",
              "      border-radius: 50%;\n",
              "      cursor: pointer;\n",
              "      display: none;\n",
              "      fill: #1967D2;\n",
              "      height: 32px;\n",
              "      padding: 0 0 0 0;\n",
              "      width: 32px;\n",
              "    }\n",
              "\n",
              "    .colab-df-convert:hover {\n",
              "      background-color: #E2EBFA;\n",
              "      box-shadow: 0px 1px 2px rgba(60, 64, 67, 0.3), 0px 1px 3px 1px rgba(60, 64, 67, 0.15);\n",
              "      fill: #174EA6;\n",
              "    }\n",
              "\n",
              "    [theme=dark] .colab-df-convert {\n",
              "      background-color: #3B4455;\n",
              "      fill: #D2E3FC;\n",
              "    }\n",
              "\n",
              "    [theme=dark] .colab-df-convert:hover {\n",
              "      background-color: #434B5C;\n",
              "      box-shadow: 0px 1px 3px 1px rgba(0, 0, 0, 0.15);\n",
              "      filter: drop-shadow(0px 1px 2px rgba(0, 0, 0, 0.3));\n",
              "      fill: #FFFFFF;\n",
              "    }\n",
              "  </style>\n",
              "\n",
              "      <script>\n",
              "        const buttonEl =\n",
              "          document.querySelector('#df-51926aeb-c139-4dcb-8cc3-5977aa4c8d19 button.colab-df-convert');\n",
              "        buttonEl.style.display =\n",
              "          google.colab.kernel.accessAllowed ? 'block' : 'none';\n",
              "\n",
              "        async function convertToInteractive(key) {\n",
              "          const element = document.querySelector('#df-51926aeb-c139-4dcb-8cc3-5977aa4c8d19');\n",
              "          const dataTable =\n",
              "            await google.colab.kernel.invokeFunction('convertToInteractive',\n",
              "                                                     [key], {});\n",
              "          if (!dataTable) return;\n",
              "\n",
              "          const docLinkHtml = 'Like what you see? Visit the ' +\n",
              "            '<a target=\"_blank\" href=https://colab.research.google.com/notebooks/data_table.ipynb>data table notebook</a>'\n",
              "            + ' to learn more about interactive tables.';\n",
              "          element.innerHTML = '';\n",
              "          dataTable['output_type'] = 'display_data';\n",
              "          await google.colab.output.renderOutput(dataTable, element);\n",
              "          const docLink = document.createElement('div');\n",
              "          docLink.innerHTML = docLinkHtml;\n",
              "          element.appendChild(docLink);\n",
              "        }\n",
              "      </script>\n",
              "    </div>\n",
              "  </div>\n",
              "  "
            ]
          },
          "metadata": {},
          "execution_count": 3
        }
      ],
      "source": [
        "bitcoin_prices = pd.DataFrame(df['Closing Price (USD)']).rename(columns= {'Closing Price (USD)':'price'})\n",
        "bitcoin_prices"
      ]
    },
    {
      "cell_type": "code",
      "execution_count": 4,
      "metadata": {
        "colab": {
          "base_uri": "https://localhost:8080/",
          "height": 477
        },
        "id": "OQFv1DoD0T35",
        "outputId": "f0a00152-deeb-4d01-d843-cd262ebc5df6"
      },
      "outputs": [
        {
          "output_type": "execute_result",
          "data": {
            "text/plain": [
              "<matplotlib.legend.Legend at 0x7f86e04ff910>"
            ]
          },
          "metadata": {},
          "execution_count": 4
        },
        {
          "output_type": "display_data",
          "data": {
            "text/plain": [
              "<Figure size 720x504 with 1 Axes>"
            ],
            "image/png": "[encoded data removed]"
          },
          "metadata": {
            "needs_background": "light"
          }
        }
      ],
      "source": [
        "import matplotlib.pyplot as plt\n",
        "\n",
        "bitcoin_prices.plot(figsize = (10,7))\n",
        "plt.ylabel('BTC price')\n",
        "plt.title('price of bitcoins from 2013 to 2021', fontsize= 16)\n",
        "plt.legend(fontsize= 14)\n"
      ]
    },
    {
      "cell_type": "markdown",
      "metadata": {
        "id": "uMXj91Gs01Se"
      },
      "source": [
        "## importing time series data with python CSV module"
      ]
    },
    {
      "cell_type": "code",
      "execution_count": 5,
      "metadata": {
        "colab": {
          "base_uri": "https://localhost:8080/"
        },
        "id": "3NJxiwuSGdyv",
        "outputId": "e048bd2f-d154-47ef-822c-b1889c45685f"
      },
      "outputs": [
        {
          "output_type": "execute_result",
          "data": {
            "text/plain": [
              "([datetime.datetime(2013, 10, 1, 0, 0),\n",
              "  datetime.datetime(2013, 10, 2, 0, 0),\n",
              "  datetime.datetime(2013, 10, 3, 0, 0),\n",
              "  datetime.datetime(2013, 10, 4, 0, 0),\n",
              "  datetime.datetime(2013, 10, 5, 0, 0),\n",
              "  datetime.datetime(2013, 10, 6, 0, 0),\n",
              "  datetime.datetime(2013, 10, 7, 0, 0),\n",
              "  datetime.datetime(2013, 10, 8, 0, 0),\n",
              "  datetime.datetime(2013, 10, 9, 0, 0),\n",
              "  datetime.datetime(2013, 10, 10, 0, 0)],\n",
              " [123.65499,\n",
              "  125.455,\n",
              "  108.58483,\n",
              "  118.67466,\n",
              "  121.33866,\n",
              "  120.65533,\n",
              "  121.795,\n",
              "  123.033,\n",
              "  124.049,\n",
              "  125.96116])"
            ]
          },
          "metadata": {},
          "execution_count": 5
        }
      ],
      "source": [
        "import csv\n",
        "from datetime import datetime\n",
        "\n",
        "timesteps = []\n",
        "btc_price = []\n",
        "with open('/content/BTC_USD_2013-10-01_2021-05-18-CoinDesk.csv', 'r') as f:\n",
        "  csv_reader = csv.reader(f, delimiter= ',')\n",
        "  next(csv_reader)\n",
        "  for line in csv_reader:\n",
        "    timesteps.append(datetime.strptime(line[1], '%Y-%m-%d'))\n",
        "    btc_price.append(float(line[2]))\n",
        "\n",
        "timesteps[:10], btc_price[:10]"
      ]
    },
    {
      "cell_type": "code",
      "execution_count": 6,
      "metadata": {
        "colab": {
          "base_uri": "https://localhost:8080/",
          "height": 477
        },
        "id": "C9JlM_OBKak5",
        "outputId": "83390464-7827-4e4c-b8e5-3546469ff7e9"
      },
      "outputs": [
        {
          "output_type": "execute_result",
          "data": {
            "text/plain": [
              "Text(0.5, 0, 'date')"
            ]
          },
          "metadata": {},
          "execution_count": 6
        },
        {
          "output_type": "display_data",
          "data": {
            "text/plain": [
              "<Figure size 720x504 with 1 Axes>"
            ],
            "image/png": "[encoded data removed]"
          },
          "metadata": {
            "needs_background": "light"
          }
        }
      ],
      "source": [
        "import matplotlib.pyplot as plt\n",
        "plt.figure(figsize= (10,7))\n",
        "plt.plot(timesteps, btc_price)\n",
        "plt.ylabel('BTC price')\n",
        "plt.title('price of bitcoins from 2013 to 2021', fontsize= 16)\n",
        "plt.xlabel('date')"
      ]
    },
    {
      "cell_type": "markdown",
      "metadata": {
        "id": "c-7bmZqOMT5-"
      },
      "source": [
        "## Format data part 1: create train and test set of our time series data"
      ]
    },
    {
      "cell_type": "markdown",
      "metadata": {
        "id": "yY_vISCEIWyk"
      },
      "source": [
        "### creating train and test sets with time series data( the wrong way)"
      ]
    },
    {
      "cell_type": "code",
      "execution_count": 7,
      "metadata": {
        "colab": {
          "base_uri": "https://localhost:8080/"
        },
        "id": "7XG-EklJNeRo",
        "outputId": "dc829765-6569-4b1e-b074-fff7f3883ad7"
      },
      "outputs": [
        {
          "output_type": "execute_result",
          "data": {
            "text/plain": [
              "(array(['2013-10-01T00:00:00.000000000', '2013-10-02T00:00:00.000000000',\n",
              "        '2013-10-03T00:00:00.000000000', '2013-10-04T00:00:00.000000000',\n",
              "        '2013-10-05T00:00:00.000000000', '2013-10-06T00:00:00.000000000',\n",
              "        '2013-10-07T00:00:00.000000000', '2013-10-08T00:00:00.000000000',\n",
              "        '2013-10-09T00:00:00.000000000', '2013-10-10T00:00:00.000000000'],\n",
              "       dtype='datetime64[ns]'),\n",
              " array([123.65499, 125.455  , 108.58483, 118.67466, 121.33866, 120.65533,\n",
              "        121.795  , 123.033  , 124.049  , 125.96116]))"
            ]
          },
          "metadata": {},
          "execution_count": 7
        }
      ],
      "source": [
        "timesteps = bitcoin_prices.index.to_numpy()\n",
        "prices = bitcoin_prices['price'].to_numpy()\n",
        "\n",
        "timesteps[:10] , prices[:10]"
      ]
    },
    {
      "cell_type": "code",
      "execution_count": 8,
      "metadata": {
        "id": "UiIIjcjwNnz6"
      },
      "outputs": [],
      "source": [
        "from sklearn.model_selection import train_test_split\n",
        "X_train, X_test, y_train, y_test = train_test_split( timesteps, prices, test_size=0.2, random_state=42)"
      ]
    },
    {
      "cell_type": "code",
      "execution_count": 9,
      "metadata": {
        "colab": {
          "base_uri": "https://localhost:8080/",
          "height": 464
        },
        "id": "lGxCbdw6ss34",
        "outputId": "088dfe38-c7bc-4e56-8141-7e866d732c73"
      },
      "outputs": [
        {
          "output_type": "execute_result",
          "data": {
            "text/plain": [
              "<matplotlib.legend.Legend at 0x7f86d3a11950>"
            ]
          },
          "metadata": {},
          "execution_count": 9
        },
        {
          "output_type": "display_data",
          "data": {
            "text/plain": [
              "<Figure size 720x504 with 1 Axes>"
            ],
            "image/png": "[encoded data removed]"
          },
          "metadata": {
            "needs_background": "light"
          }
        }
      ],
      "source": [
        "plt.figure(figsize= (10,7))\n",
        "plt.scatter(X_train, y_train, s= 5, label = 'train data')\n",
        "plt.scatter(X_test, y_test, s= 5, label= 'test data')\n",
        "plt.xlabel('date', fontsize = 16)\n",
        "plt.ylabel('price', fontsize= 16)\n",
        "plt.legend(fontsize=16)"
      ]
    },
    {
      "cell_type": "markdown",
      "metadata": {
        "id": "726TvRTNtuv-"
      },
      "source": [
        "## Create train and test set for time series dataset ( the right way)"
      ]
    },
    {
      "cell_type": "code",
      "execution_count": 10,
      "metadata": {
        "id": "yf-46Q_su3Je"
      },
      "outputs": [],
      "source": [
        "split_size = int(0.8 * len(prices))\n",
        "\n",
        "X_train, y_train = timesteps[:split_size] , prices[:split_size]\n",
        "\n",
        "X_test, y_test = timesteps[split_size:] , prices[split_size:]\n",
        "\n"
      ]
    },
    {
      "cell_type": "code",
      "execution_count": 11,
      "metadata": {
        "colab": {
          "base_uri": "https://localhost:8080/",
          "height": 464
        },
        "id": "glknTmtywiJZ",
        "outputId": "44240597-d753-49e9-c812-f6590aa3db51"
      },
      "outputs": [
        {
          "output_type": "execute_result",
          "data": {
            "text/plain": [
              "<matplotlib.legend.Legend at 0x7f86d3970b50>"
            ]
          },
          "metadata": {},
          "execution_count": 11
        },
        {
          "output_type": "display_data",
          "data": {
            "text/plain": [
              "<Figure size 720x504 with 1 Axes>"
            ],
            "image/png": "[encoded data removed]"
          },
          "metadata": {
            "needs_background": "light"
          }
        }
      ],
      "source": [
        "plt.figure(figsize =(10,7))\n",
        "plt.scatter(X_train, y_train, s= 5, label = 'train data')\n",
        "plt.scatter(X_test, y_test, s= 5, label= 'test data')\n",
        "plt.xlabel('date', fontsize = 16)\n",
        "plt.ylabel('price', fontsize= 16)\n",
        "plt.legend(fontsize=16)"
      ]
    },
    {
      "cell_type": "markdown",
      "metadata": {
        "id": "hWOb33ojxYUy"
      },
      "source": [
        "## Create a ploting function"
      ]
    },
    {
      "cell_type": "code",
      "execution_count": 12,
      "metadata": {
        "id": "o7KHuqa2ytV8"
      },
      "outputs": [],
      "source": [
        "def plot_time_series(timesteps, values, format = '.', start = 0 , end = None , label= None):\n",
        "\n",
        "  plt.plot(timesteps[start:end],values[start:end], format, label = label)\n",
        "  plt.xlabel('Time')\n",
        "  plt.ylabel('BTC Price')\n",
        "  if label:\n",
        "    plt.legend(fontsize= 16)\n",
        "\n",
        "  plt.grid(True)"
      ]
    },
    {
      "cell_type": "code",
      "execution_count": 13,
      "metadata": {
        "colab": {
          "base_uri": "https://localhost:8080/",
          "height": 442
        },
        "id": "XQS__dD80ZXX",
        "outputId": "1c9a2148-1c35-4e4a-a1b5-0f659477a5a9"
      },
      "outputs": [
        {
          "output_type": "display_data",
          "data": {
            "text/plain": [
              "<Figure size 720x504 with 1 Axes>"
            ],
            "image/png": "[encoded data removed]"
          },
          "metadata": {
            "needs_background": "light"
          }
        }
      ],
      "source": [
        "plt.figure(figsize = (10,7))\n",
        "plot_time_series(timesteps = X_train , values = y_train , label= 'train data')\n",
        "plot_time_series(X_test, y_test , label= 'test data')"
      ]
    },
    {
      "cell_type": "markdown",
      "metadata": {
        "id": "vCXpD-yV1nOM"
      },
      "source": [
        "## modelling experiment"
      ]
    },
    {
      "cell_type": "markdown",
      "metadata": {
        "id": "18jHUQJV6kf-"
      },
      "source": [
        "### model 0: Naive Forecast(baseline)"
      ]
    },
    {
      "cell_type": "code",
      "execution_count": 14,
      "metadata": {
        "id": "tZSHY4eXF-Vp"
      },
      "outputs": [],
      "source": [
        "naive_forecast = y_test[:-1]"
      ]
    },
    {
      "cell_type": "code",
      "execution_count": 15,
      "metadata": {
        "colab": {
          "base_uri": "https://localhost:8080/",
          "height": 442
        },
        "id": "aLct0BW0Giig",
        "outputId": "42c17eef-c1cb-48d8-992d-b6e35704b4eb"
      },
      "outputs": [
        {
          "output_type": "display_data",
          "data": {
            "text/plain": [
              "<Figure size 720x504 with 1 Axes>"
            ],
            "image/png": "[encoded data removed]"
          },
          "metadata": {
            "needs_background": "light"
          }
        }
      ],
      "source": [
        "plt.figure(figsize= (10,7))\n",
        "plot_time_series(X_train,y_train, label= 'Train Data')\n",
        "plot_time_series(X_test , y_test, label= 'test Data')\n",
        "plot_time_series(timesteps = X_test[1:], values = naive_forecast, format= '-', label= 'Naive Forecast')"
      ]
    },
    {
      "cell_type": "markdown",
      "metadata": {
        "id": "IRcuBtU9HJ7I"
      },
      "source": [
        "## Evaluating the time series model"
      ]
    },
    {
      "cell_type": "code",
      "execution_count": 16,
      "metadata": {
        "id": "tBgfvcUYJPj0"
      },
      "outputs": [],
      "source": [
        "import tensorflow as tf"
      ]
    },
    {
      "cell_type": "code",
      "execution_count": 17,
      "metadata": {
        "id": "etqjtGNKPd9h"
      },
      "outputs": [],
      "source": [
        "def mean_absolute_scaled_error(y_true,y_pred):\n",
        "  mae= tf.reduce_mean(tf.abs(y_true - y_pred))\n",
        "  mae_naive_no_season = tf.reduce_mean(tf.abs(y_true[1:] - y_true[:-1]))\n",
        "\n",
        "  return mae/mae_naive_no_season"
      ]
    },
    {
      "cell_type": "code",
      "execution_count": 18,
      "metadata": {
        "colab": {
          "base_uri": "https://localhost:8080/"
        },
        "id": "s8gluFu9QwaV",
        "outputId": "2eaef999-7ebc-49ac-956a-95987a9a9f95"
      },
      "outputs": [
        {
          "output_type": "execute_result",
          "data": {
            "text/plain": [
              "0.9995699939182624"
            ]
          },
          "metadata": {},
          "execution_count": 18
        }
      ],
      "source": [
        "mean_absolute_scaled_error(y_true = y_test[1:], y_pred = naive_forecast).numpy()"
      ]
    },
    {
      "cell_type": "code",
      "execution_count": 19,
      "metadata": {
        "id": "dVNH30ExMvtj"
      },
      "outputs": [],
      "source": [
        "def evaluate_preds(y_true,y_pred):\n",
        "  y_true = tf.cast(y_true, dtype=tf.float32)\n",
        "  y_pred = tf.cast(y_pred, dtype= tf.float32)\n",
        "\n",
        "  mae = tf.keras.metrics.mean_absolute_error(y_true, y_pred)\n",
        "  mse = tf.keras.metrics.mean_squared_error(y_true,y_pred)\n",
        "  rmse = tf.sqrt(mae)\n",
        "  mape = tf.keras.metrics.mean_absolute_percentage_error(y_true,y_pred)\n",
        "  mase = mean_absolute_scaled_error(y_true,y_pred)\n",
        "\n",
        "  return{'mae':mae.numpy(),\n",
        "         'mse':mse.numpy(),\n",
        "         'rmse':rmse.numpy(),\n",
        "         'mape':mape.numpy(),\n",
        "         'mase': mase.numpy()}"
      ]
    },
    {
      "cell_type": "code",
      "execution_count": 20,
      "metadata": {
        "colab": {
          "base_uri": "https://localhost:8080/"
        },
        "id": "FCMgPIOeIb6j",
        "outputId": "8c042d68-3a83-46b2-dc9f-68e19beb8758"
      },
      "outputs": [
        {
          "output_type": "execute_result",
          "data": {
            "text/plain": [
              "{'mae': 567.9802,\n",
              " 'mse': 1147547.0,\n",
              " 'rmse': 23.832336,\n",
              " 'mape': 2.5165248,\n",
              " 'mase': 0.99957}"
            ]
          },
          "metadata": {},
          "execution_count": 20
        }
      ],
      "source": [
        "naive_results = evaluate_preds(y_true = y_test[1:],\n",
        "                               y_pred= naive_forecast)\n",
        "naive_results"
      ]
    },
    {
      "cell_type": "code",
      "execution_count": 21,
      "metadata": {
        "colab": {
          "base_uri": "https://localhost:8080/"
        },
        "id": "un29BjmnInOz",
        "outputId": "b8c7eb04-3d09-4f05-efae-c313773215a4"
      },
      "outputs": [
        {
          "output_type": "execute_result",
          "data": {
            "text/plain": [
              "array([57107.12067189, 58788.20967893, 58102.19142623, 55715.54665129,\n",
              "       56573.5554719 , 52147.82118698, 49764.1320816 , 50032.69313676,\n",
              "       47885.62525472, 45604.61575361])"
            ]
          },
          "metadata": {},
          "execution_count": 21
        }
      ],
      "source": [
        "naive_forecast[-10:]"
      ]
    },
    {
      "cell_type": "code",
      "execution_count": 22,
      "metadata": {
        "colab": {
          "base_uri": "https://localhost:8080/"
        },
        "id": "atzZXkQUJnze",
        "outputId": "ae984a7e-0c62-47c8-8e35-faa44cd86740"
      },
      "outputs": [
        {
          "output_type": "execute_result",
          "data": {
            "text/plain": [
              "<tf.Tensor: shape=(), dtype=float64, numpy=20056.632963737226>"
            ]
          },
          "metadata": {},
          "execution_count": 22
        }
      ],
      "source": [
        "tf.reduce_mean(y_test)"
      ]
    },
    {
      "cell_type": "code",
      "execution_count": 23,
      "metadata": {
        "colab": {
          "base_uri": "https://localhost:8080/"
        },
        "id": "XRcbV7ieJwoB",
        "outputId": "c011394b-d0fd-492c-9e90-df50894d6476"
      },
      "outputs": [
        {
          "output_type": "execute_result",
          "data": {
            "text/plain": [
              "(<tf.Tensor: shape=(), dtype=float64, numpy=63346.7890351052>,\n",
              " <tf.Tensor: shape=(), dtype=float64, numpy=4944.7023359837>)"
            ]
          },
          "metadata": {},
          "execution_count": 23
        }
      ],
      "source": [
        "tf.reduce_max(y_test), tf.reduce_min(y_test)"
      ]
    },
    {
      "cell_type": "markdown",
      "metadata": {
        "id": "2EfotR2yJ23H"
      },
      "source": [
        "## Format data part 2: Windowing the dataset"
      ]
    },
    {
      "cell_type": "code",
      "execution_count": 24,
      "metadata": {
        "colab": {
          "base_uri": "https://localhost:8080/"
        },
        "id": "_uzB4nFfuz89",
        "outputId": "c60053ce-5c41-4e14-8725-ea895df5e372"
      },
      "outputs": [
        {
          "output_type": "stream",
          "name": "stdout",
          "text": [
            "we want to use this [123.65499, 125.455, 108.58483, 118.67466, 121.33866, 120.65533, 121.795] to predict this 123.033\n"
          ]
        }
      ],
      "source": [
        "print(f'we want to use this {btc_price[:7]} to predict this {btc_price[7]}')"
      ]
    },
    {
      "cell_type": "code",
      "execution_count": 25,
      "metadata": {
        "id": "5IDXfHX_wH8L"
      },
      "outputs": [],
      "source": [
        "HORIZON = 1\n",
        "WINDOW_SIZE = 7"
      ]
    },
    {
      "cell_type": "code",
      "execution_count": 26,
      "metadata": {
        "id": "HfwfwUDVxlF0"
      },
      "outputs": [],
      "source": [
        "def get_labelled_windows(x, horizon=HORIZON):\n",
        "\n",
        "  return x[:, :-horizon], x[:, -horizon:]\n"
      ]
    },
    {
      "cell_type": "code",
      "execution_count": 27,
      "metadata": {
        "colab": {
          "base_uri": "https://localhost:8080/"
        },
        "id": "_vaJmDQszAQP",
        "outputId": "78802cda-f3e6-4844-9a23-bfafd4ec583c"
      },
      "outputs": [
        {
          "output_type": "stream",
          "name": "stdout",
          "text": [
            " window: [1 2 3 4 5 6 7] -->  label: 8\n"
          ]
        }
      ],
      "source": [
        "test_window, test_label = get_labelled_windows(tf.expand_dims(tf.range(8) +1, axis=0))\n",
        "print(f' window: {tf.squeeze(test_window)} -->  label: {tf.squeeze(test_label)}') "
      ]
    },
    {
      "cell_type": "code",
      "execution_count": 28,
      "metadata": {
        "id": "ADyQQu54zbvW"
      },
      "outputs": [],
      "source": [
        "import numpy as np\n",
        "\n",
        "def make_windows(x , window_size=WINDOW_SIZE, horizon = HORIZON):\n",
        "  window_step = np.expand_dims(np.arange(window_size + horizon), axis=0)\n",
        "  window_indexes = window_step + np.expand_dims(np.arange(len(x)-(window_size + horizon - 1)),axis=0).T\n",
        "\n",
        "  #print(f'window_indexes: \\n{window_indexes, window_indexes.shape}')\n",
        "  windowed_array =  x[window_indexes]\n",
        "\n",
        "  windows,labels = get_labelled_windows(windowed_array, horizon= horizon)\n",
        "  return windows,labels\n"
      ]
    },
    {
      "cell_type": "code",
      "execution_count": 29,
      "metadata": {
        "id": "SFdgMnN7DDb9"
      },
      "outputs": [],
      "source": [
        "full_windows, full_labels = make_windows(prices, window_size= WINDOW_SIZE, horizon = HORIZON)"
      ]
    },
    {
      "cell_type": "code",
      "execution_count": 30,
      "metadata": {
        "colab": {
          "base_uri": "https://localhost:8080/"
        },
        "id": "POVRS3u6N-sf",
        "outputId": "808c0145-be74-4c2f-da9d-6772a669662a"
      },
      "outputs": [
        {
          "output_type": "stream",
          "name": "stdout",
          "text": [
            "windows: [123.65499 125.455   108.58483 118.67466 121.33866 120.65533 121.795  ] --> labels: [123.033]\n",
            "windows: [125.455   108.58483 118.67466 121.33866 120.65533 121.795   123.033  ] --> labels: [124.049]\n",
            "windows: [108.58483 118.67466 121.33866 120.65533 121.795   123.033   124.049  ] --> labels: [125.96116]\n"
          ]
        }
      ],
      "source": [
        "for i in range(3):\n",
        "  print(f'windows: {full_windows[i]} --> labels: {full_labels[i]}')"
      ]
    },
    {
      "cell_type": "markdown",
      "metadata": {
        "id": "LdYLtpyXU1Ak"
      },
      "source": [
        "## Turning windows into train and test set"
      ]
    },
    {
      "cell_type": "code",
      "execution_count": 31,
      "metadata": {
        "id": "u0MuklJ0aOc_"
      },
      "outputs": [],
      "source": [
        "def make_train_test_split(windows, labels, test_split=0.2):\n",
        "  split_size = int(len(windows) * (1- test_split))\n",
        "  train_windows = windows[:split_size]\n",
        "  train_labels = labels[:split_size]\n",
        "  test_windows = windows[split_size:]\n",
        "  test_labels = labels[split_size:]\n",
        "  return train_windows, test_windows, train_labels , test_labels"
      ]
    },
    {
      "cell_type": "code",
      "execution_count": 32,
      "metadata": {
        "id": "cNM87ylAdVd-"
      },
      "outputs": [],
      "source": [
        "train_windows,test_windows,train_labels,test_labels = make_train_test_split(full_windows,full_labels)"
      ]
    },
    {
      "cell_type": "markdown",
      "metadata": {
        "id": "XSYbQmUWePw1"
      },
      "source": [
        "## making a modelling checkpoint callback"
      ]
    },
    {
      "cell_type": "code",
      "execution_count": 33,
      "metadata": {
        "id": "Qb1ErhuJebPf"
      },
      "outputs": [],
      "source": [
        "import os\n",
        "\n",
        "def create_model_checkpoint(model_name, save_path = 'model_experiment'):\n",
        "  return tf.keras.callbacks.ModelCheckpoint(filepath = os.path.join(save_path, model_name),\n",
        "                                            verbose = 0,\n",
        "                                            save_best_only= True)"
      ]
    },
    {
      "cell_type": "markdown",
      "metadata": {
        "id": "75GNYkTudPZf"
      },
      "source": [
        "## model 1 : Dense model (window = 7, horizon = 1)"
      ]
    },
    {
      "cell_type": "code",
      "execution_count": 34,
      "metadata": {
        "colab": {
          "base_uri": "https://localhost:8080/"
        },
        "id": "acyN0Hbmd8wD",
        "outputId": "ab7d1b8c-f808-4c53-a486-f84e07d8e36a"
      },
      "outputs": [
        {
          "output_type": "stream",
          "name": "stdout",
          "text": [
            "Epoch 1/100\n",
            "18/18 [==============================] - 1s 46ms/step - loss: 780.3469 - mae: 780.3469 - mse: 2312739.0000 - val_loss: 2279.5828 - val_mae: 2279.5828 - val_mse: 12772095.0000\n",
            "Epoch 2/100\n",
            "18/18 [==============================] - 1s 37ms/step - loss: 247.6765 - mae: 247.6765 - mse: 285480.9062 - val_loss: 1005.9864 - val_mae: 1005.9864 - val_mse: 3441759.2500\n",
            "Epoch 3/100\n",
            "18/18 [==============================] - 1s 29ms/step - loss: 188.4107 - mae: 188.4107 - mse: 171890.0312 - val_loss: 923.2859 - val_mae: 923.2859 - val_mse: 2868195.0000\n",
            "Epoch 4/100\n",
            "18/18 [==============================] - 1s 34ms/step - loss: 169.4334 - mae: 169.4334 - mse: 151699.4375 - val_loss: 900.5932 - val_mae: 900.5932 - val_mse: 2683713.7500\n",
            "Epoch 5/100\n",
            "18/18 [==============================] - 1s 30ms/step - loss: 165.0900 - mae: 165.0900 - mse: 145490.8750 - val_loss: 895.2405 - val_mae: 895.2405 - val_mse: 2564606.2500\n",
            "Epoch 6/100\n",
            "18/18 [==============================] - 1s 30ms/step - loss: 158.5206 - mae: 158.5206 - mse: 133816.7969 - val_loss: 855.1868 - val_mae: 855.1868 - val_mse: 2481815.5000\n",
            "Epoch 7/100\n",
            "18/18 [==============================] - 1s 39ms/step - loss: 151.3568 - mae: 151.3568 - mse: 123446.8047 - val_loss: 840.9290 - val_mae: 840.9290 - val_mse: 2276476.2500\n",
            "Epoch 8/100\n",
            "18/18 [==============================] - 1s 29ms/step - loss: 145.2560 - mae: 145.2560 - mse: 117694.1797 - val_loss: 803.6005 - val_mae: 803.6005 - val_mse: 2140566.2500\n",
            "Epoch 9/100\n",
            "18/18 [==============================] - 1s 30ms/step - loss: 144.3546 - mae: 144.3546 - mse: 115269.0859 - val_loss: 799.5592 - val_mae: 799.5592 - val_mse: 2049233.7500\n",
            "Epoch 10/100\n",
            "18/18 [==============================] - 1s 30ms/step - loss: 141.2944 - mae: 141.2944 - mse: 112394.1953 - val_loss: 763.5060 - val_mae: 763.5060 - val_mse: 1933136.7500\n",
            "Epoch 11/100\n",
            "18/18 [==============================] - 0s 3ms/step - loss: 135.6591 - mae: 135.6591 - mse: 104117.6016 - val_loss: 771.3525 - val_mae: 771.3525 - val_mse: 1885888.2500\n",
            "Epoch 12/100\n",
            "18/18 [==============================] - 0s 4ms/step - loss: 134.1702 - mae: 134.1702 - mse: 101780.5234 - val_loss: 782.8326 - val_mae: 782.8325 - val_mse: 1881791.7500\n",
            "Epoch 13/100\n",
            "18/18 [==============================] - 0s 3ms/step - loss: 134.6014 - mae: 134.6014 - mse: 102344.3516 - val_loss: 784.4728 - val_mae: 784.4728 - val_mse: 1861070.5000\n",
            "Epoch 14/100\n",
            "18/18 [==============================] - 1s 31ms/step - loss: 130.6125 - mae: 130.6125 - mse: 96224.3594 - val_loss: 751.3470 - val_mae: 751.3470 - val_mse: 1749667.6250\n",
            "Epoch 15/100\n",
            "18/18 [==============================] - 1s 31ms/step - loss: 128.8352 - mae: 128.8352 - mse: 94306.8672 - val_loss: 696.5837 - val_mae: 696.5837 - val_mse: 1606358.6250\n",
            "Epoch 16/100\n",
            "18/18 [==============================] - 0s 4ms/step - loss: 124.8667 - mae: 124.8667 - mse: 90498.6172 - val_loss: 707.2988 - val_mae: 707.2988 - val_mse: 1602364.3750\n",
            "Epoch 17/100\n",
            "18/18 [==============================] - 0s 3ms/step - loss: 123.6096 - mae: 123.6096 - mse: 89226.7422 - val_loss: 714.2291 - val_mae: 714.2291 - val_mse: 1601816.6250\n",
            "Epoch 18/100\n",
            "18/18 [==============================] - 1s 30ms/step - loss: 122.3023 - mae: 122.3023 - mse: 87726.4766 - val_loss: 669.1414 - val_mae: 669.1414 - val_mse: 1498631.3750\n",
            "Epoch 19/100\n",
            "18/18 [==============================] - 0s 3ms/step - loss: 121.4932 - mae: 121.4932 - mse: 86447.8828 - val_loss: 721.5452 - val_mae: 721.5452 - val_mse: 1595832.0000\n",
            "Epoch 20/100\n",
            "18/18 [==============================] - 1s 29ms/step - loss: 119.2384 - mae: 119.2384 - mse: 84250.7500 - val_loss: 658.0786 - val_mae: 658.0786 - val_mse: 1448095.0000\n",
            "Epoch 21/100\n",
            "18/18 [==============================] - 1s 29ms/step - loss: 121.5293 - mae: 121.5293 - mse: 85926.5547 - val_loss: 638.3386 - val_mae: 638.3386 - val_mse: 1397797.1250\n",
            "Epoch 22/100\n",
            "18/18 [==============================] - 0s 3ms/step - loss: 119.3422 - mae: 119.3422 - mse: 83495.1953 - val_loss: 678.8881 - val_mae: 678.8881 - val_mse: 1465750.7500\n",
            "Epoch 23/100\n",
            "18/18 [==============================] - 0s 6ms/step - loss: 122.8203 - mae: 122.8203 - mse: 84656.3750 - val_loss: 651.8512 - val_mae: 651.8512 - val_mse: 1401081.1250\n",
            "Epoch 24/100\n",
            "18/18 [==============================] - 1s 60ms/step - loss: 117.0774 - mae: 117.0774 - mse: 81069.2109 - val_loss: 623.5611 - val_mae: 623.5611 - val_mse: 1362704.7500\n",
            "Epoch 25/100\n",
            "18/18 [==============================] - 1s 59ms/step - loss: 115.1816 - mae: 115.1816 - mse: 79065.0391 - val_loss: 618.5576 - val_mae: 618.5576 - val_mse: 1342634.1250\n",
            "Epoch 26/100\n",
            "18/18 [==============================] - 1s 53ms/step - loss: 115.0673 - mae: 115.0673 - mse: 78886.6484 - val_loss: 616.4918 - val_mae: 616.4918 - val_mse: 1321327.3750\n",
            "Epoch 27/100\n",
            "18/18 [==============================] - 0s 7ms/step - loss: 116.6431 - mae: 116.6431 - mse: 79058.1172 - val_loss: 619.0472 - val_mae: 619.0472 - val_mse: 1316206.6250\n",
            "Epoch 28/100\n",
            "18/18 [==============================] - 1s 64ms/step - loss: 114.0328 - mae: 114.0328 - mse: 77953.4609 - val_loss: 610.3879 - val_mae: 610.3879 - val_mse: 1316937.5000\n",
            "Epoch 29/100\n",
            "18/18 [==============================] - 0s 6ms/step - loss: 113.4892 - mae: 113.4892 - mse: 78513.0859 - val_loss: 617.2401 - val_mae: 617.2401 - val_mse: 1304227.6250\n",
            "Epoch 30/100\n",
            "18/18 [==============================] - 1s 66ms/step - loss: 116.4094 - mae: 116.4094 - mse: 78943.1484 - val_loss: 603.6490 - val_mae: 603.6490 - val_mse: 1283178.0000\n",
            "Epoch 31/100\n",
            "18/18 [==============================] - 0s 6ms/step - loss: 112.3454 - mae: 112.3454 - mse: 74879.3203 - val_loss: 623.4434 - val_mae: 623.4434 - val_mse: 1311036.6250\n",
            "Epoch 32/100\n",
            "18/18 [==============================] - 1s 51ms/step - loss: 113.2056 - mae: 113.2056 - mse: 77898.5000 - val_loss: 600.0261 - val_mae: 600.0261 - val_mse: 1271945.6250\n",
            "Epoch 33/100\n",
            "18/18 [==============================] - 0s 5ms/step - loss: 112.9529 - mae: 112.9529 - mse: 76235.3906 - val_loss: 653.0604 - val_mae: 653.0604 - val_mse: 1369885.5000\n",
            "Epoch 34/100\n",
            "18/18 [==============================] - 1s 63ms/step - loss: 112.1157 - mae: 112.1157 - mse: 77267.7578 - val_loss: 594.7913 - val_mae: 594.7913 - val_mse: 1263628.2500\n",
            "Epoch 35/100\n",
            "18/18 [==============================] - 1s 64ms/step - loss: 110.7447 - mae: 110.7447 - mse: 75067.1562 - val_loss: 592.7401 - val_mae: 592.7401 - val_mse: 1250752.6250\n",
            "Epoch 36/100\n",
            "18/18 [==============================] - 2s 109ms/step - loss: 116.3301 - mae: 116.3301 - mse: 77425.8047 - val_loss: 592.4697 - val_mae: 592.4697 - val_mse: 1246067.6250\n",
            "Epoch 37/100\n",
            "18/18 [==============================] - 0s 8ms/step - loss: 110.7676 - mae: 110.7676 - mse: 75596.7188 - val_loss: 618.5350 - val_mae: 618.5350 - val_mse: 1286741.6250\n",
            "Epoch 38/100\n",
            "18/18 [==============================] - 0s 12ms/step - loss: 112.5935 - mae: 112.5935 - mse: 75636.7109 - val_loss: 613.9557 - val_mae: 613.9557 - val_mse: 1306248.2500\n",
            "Epoch 39/100\n",
            "18/18 [==============================] - 1s 63ms/step - loss: 110.1321 - mae: 110.1321 - mse: 74271.8047 - val_loss: 586.6888 - val_mae: 586.6888 - val_mse: 1231217.3750\n",
            "Epoch 40/100\n",
            "18/18 [==============================] - 0s 7ms/step - loss: 109.4753 - mae: 109.4753 - mse: 73257.0078 - val_loss: 593.9153 - val_mae: 593.9153 - val_mse: 1256532.0000\n",
            "Epoch 41/100\n",
            "18/18 [==============================] - 1s 60ms/step - loss: 110.1777 - mae: 110.1777 - mse: 73581.0234 - val_loss: 586.4465 - val_mae: 586.4465 - val_mse: 1229670.8750\n",
            "Epoch 42/100\n",
            "18/18 [==============================] - 0s 5ms/step - loss: 111.5192 - mae: 111.5192 - mse: 76049.7500 - val_loss: 649.3650 - val_mae: 649.3650 - val_mse: 1345896.2500\n",
            "Epoch 43/100\n",
            "18/18 [==============================] - 0s 7ms/step - loss: 115.8939 - mae: 115.8939 - mse: 74405.6172 - val_loss: 686.8293 - val_mae: 686.8293 - val_mse: 1486392.7500\n",
            "Epoch 44/100\n",
            "18/18 [==============================] - 0s 7ms/step - loss: 123.0945 - mae: 123.0945 - mse: 83366.2891 - val_loss: 661.1304 - val_mae: 661.1304 - val_mse: 1411199.7500\n",
            "Epoch 45/100\n",
            "18/18 [==============================] - 0s 9ms/step - loss: 113.8169 - mae: 113.8169 - mse: 77100.1719 - val_loss: 626.8177 - val_mae: 626.8177 - val_mse: 1293826.5000\n",
            "Epoch 46/100\n",
            "18/18 [==============================] - 0s 11ms/step - loss: 114.0971 - mae: 114.0971 - mse: 76079.4453 - val_loss: 588.7769 - val_mae: 588.7769 - val_mse: 1238327.0000\n",
            "Epoch 47/100\n",
            "18/18 [==============================] - 0s 10ms/step - loss: 108.9936 - mae: 108.9936 - mse: 73660.3047 - val_loss: 636.0583 - val_mae: 636.0583 - val_mse: 1312960.0000\n",
            "Epoch 48/100\n",
            "18/18 [==============================] - 0s 10ms/step - loss: 109.2967 - mae: 109.2967 - mse: 73079.0703 - val_loss: 604.1586 - val_mae: 604.1586 - val_mse: 1245050.2500\n",
            "Epoch 49/100\n",
            "18/18 [==============================] - 0s 6ms/step - loss: 111.7787 - mae: 111.7787 - mse: 73888.8984 - val_loss: 591.5096 - val_mae: 591.5096 - val_mse: 1222480.7500\n",
            "Epoch 50/100\n",
            "18/18 [==============================] - 0s 9ms/step - loss: 111.7319 - mae: 111.7319 - mse: 73875.1641 - val_loss: 636.4677 - val_mae: 636.4677 - val_mse: 1341626.7500\n",
            "Epoch 51/100\n",
            "18/18 [==============================] - 0s 11ms/step - loss: 110.7498 - mae: 110.7498 - mse: 73830.9141 - val_loss: 589.2878 - val_mae: 589.2878 - val_mse: 1216414.1250\n",
            "Epoch 52/100\n",
            "18/18 [==============================] - 0s 8ms/step - loss: 111.5193 - mae: 111.5193 - mse: 75446.6875 - val_loss: 609.5289 - val_mae: 609.5289 - val_mse: 1277468.7500\n",
            "Epoch 53/100\n",
            "18/18 [==============================] - 2s 96ms/step - loss: 113.9868 - mae: 113.9868 - mse: 75752.9766 - val_loss: 584.7471 - val_mae: 584.7471 - val_mse: 1209497.1250\n",
            "Epoch 54/100\n",
            "18/18 [==============================] - 1s 54ms/step - loss: 110.1075 - mae: 110.1075 - mse: 72728.5625 - val_loss: 578.7416 - val_mae: 578.7416 - val_mse: 1200865.6250\n",
            "Epoch 55/100\n",
            "18/18 [==============================] - 0s 6ms/step - loss: 110.6423 - mae: 110.6423 - mse: 75084.4141 - val_loss: 581.5333 - val_mae: 581.5333 - val_mse: 1218268.7500\n",
            "Epoch 56/100\n",
            "18/18 [==============================] - 0s 9ms/step - loss: 107.6537 - mae: 107.6537 - mse: 71568.1328 - val_loss: 759.0189 - val_mae: 759.0189 - val_mse: 1698484.5000\n",
            "Epoch 57/100\n",
            "18/18 [==============================] - 0s 5ms/step - loss: 119.2012 - mae: 119.2012 - mse: 79652.9531 - val_loss: 603.5953 - val_mae: 603.5953 - val_mse: 1262626.7500\n",
            "Epoch 58/100\n",
            "18/18 [==============================] - 0s 6ms/step - loss: 116.4417 - mae: 116.4417 - mse: 75122.8828 - val_loss: 583.7296 - val_mae: 583.7296 - val_mse: 1206719.0000\n",
            "Epoch 59/100\n",
            "18/18 [==============================] - 0s 5ms/step - loss: 109.9014 - mae: 109.9014 - mse: 72680.9766 - val_loss: 592.8416 - val_mae: 592.8416 - val_mse: 1240090.3750\n",
            "Epoch 60/100\n",
            "18/18 [==============================] - 0s 7ms/step - loss: 107.7859 - mae: 107.7859 - mse: 72220.4922 - val_loss: 593.4969 - val_mae: 593.4969 - val_mse: 1220786.7500\n",
            "Epoch 61/100\n",
            "18/18 [==============================] - 1s 68ms/step - loss: 107.6960 - mae: 107.6960 - mse: 72155.8672 - val_loss: 575.5123 - val_mae: 575.5123 - val_mse: 1194018.5000\n",
            "Epoch 62/100\n",
            "18/18 [==============================] - 0s 7ms/step - loss: 107.1257 - mae: 107.1257 - mse: 70836.3438 - val_loss: 580.2645 - val_mae: 580.2645 - val_mse: 1213138.3750\n",
            "Epoch 63/100\n",
            "18/18 [==============================] - 0s 12ms/step - loss: 111.8451 - mae: 111.8451 - mse: 73612.9453 - val_loss: 654.6143 - val_mae: 654.6143 - val_mse: 1348994.2500\n",
            "Epoch 64/100\n",
            "18/18 [==============================] - 0s 10ms/step - loss: 110.3121 - mae: 110.3121 - mse: 72546.6641 - val_loss: 610.7810 - val_mae: 610.7810 - val_mse: 1251885.2500\n",
            "Epoch 65/100\n",
            "18/18 [==============================] - 1s 57ms/step - loss: 109.7098 - mae: 109.7098 - mse: 72575.1016 - val_loss: 573.9960 - val_mae: 573.9960 - val_mse: 1190387.3750\n",
            "Epoch 66/100\n",
            "18/18 [==============================] - 1s 53ms/step - loss: 106.8139 - mae: 106.8139 - mse: 70554.2734 - val_loss: 572.9989 - val_mae: 572.9989 - val_mse: 1187547.3750\n",
            "Epoch 67/100\n",
            "18/18 [==============================] - 0s 3ms/step - loss: 106.1394 - mae: 106.1394 - mse: 70026.4219 - val_loss: 602.1524 - val_mae: 602.1524 - val_mse: 1255793.1250\n",
            "Epoch 68/100\n",
            "18/18 [==============================] - 0s 3ms/step - loss: 112.9245 - mae: 112.9245 - mse: 70779.4219 - val_loss: 687.6375 - val_mae: 687.6375 - val_mse: 1476286.1250\n",
            "Epoch 69/100\n",
            "18/18 [==============================] - 0s 3ms/step - loss: 126.9916 - mae: 126.9916 - mse: 82712.0156 - val_loss: 664.9473 - val_mae: 664.9473 - val_mse: 1413700.8750\n",
            "Epoch 70/100\n",
            "18/18 [==============================] - 0s 3ms/step - loss: 124.8734 - mae: 124.8734 - mse: 83039.0547 - val_loss: 619.6686 - val_mae: 619.6686 - val_mse: 1298640.7500\n",
            "Epoch 71/100\n",
            "18/18 [==============================] - 0s 4ms/step - loss: 109.8522 - mae: 109.8522 - mse: 71643.5000 - val_loss: 582.3637 - val_mae: 582.3637 - val_mse: 1201057.1250\n",
            "Epoch 72/100\n",
            "18/18 [==============================] - 0s 3ms/step - loss: 107.6717 - mae: 107.6717 - mse: 71406.7734 - val_loss: 573.4947 - val_mae: 573.4947 - val_mse: 1192645.7500\n",
            "Epoch 73/100\n",
            "18/18 [==============================] - 0s 3ms/step - loss: 109.6036 - mae: 109.6036 - mse: 71761.6250 - val_loss: 583.9045 - val_mae: 583.9045 - val_mse: 1218967.2500\n",
            "Epoch 74/100\n",
            "18/18 [==============================] - 1s 30ms/step - loss: 107.7049 - mae: 107.7049 - mse: 71542.6094 - val_loss: 572.9933 - val_mae: 572.9933 - val_mse: 1189806.3750\n",
            "Epoch 75/100\n",
            "18/18 [==============================] - 0s 3ms/step - loss: 108.1179 - mae: 108.1179 - mse: 70535.7969 - val_loss: 583.9372 - val_mae: 583.9372 - val_mse: 1199156.5000\n",
            "Epoch 76/100\n",
            "18/18 [==============================] - 0s 3ms/step - loss: 109.5447 - mae: 109.5447 - mse: 71991.1328 - val_loss: 592.8235 - val_mae: 592.8235 - val_mse: 1234671.6250\n",
            "Epoch 77/100\n",
            "18/18 [==============================] - 0s 3ms/step - loss: 108.3639 - mae: 108.3639 - mse: 70784.8125 - val_loss: 575.4260 - val_mae: 575.4260 - val_mse: 1197659.8750\n",
            "Epoch 78/100\n",
            "18/18 [==============================] - 0s 4ms/step - loss: 108.0055 - mae: 108.0055 - mse: 70093.0234 - val_loss: 574.3941 - val_mae: 574.3941 - val_mse: 1193026.1250\n",
            "Epoch 79/100\n",
            "18/18 [==============================] - 0s 4ms/step - loss: 107.3223 - mae: 107.3223 - mse: 71654.6562 - val_loss: 597.2478 - val_mae: 597.2478 - val_mse: 1242042.0000\n",
            "Epoch 80/100\n",
            "18/18 [==============================] - 0s 3ms/step - loss: 108.1452 - mae: 108.1452 - mse: 71775.7266 - val_loss: 586.6866 - val_mae: 586.6866 - val_mse: 1199789.2500\n",
            "Epoch 81/100\n",
            "18/18 [==============================] - 0s 3ms/step - loss: 106.1153 - mae: 106.1153 - mse: 69995.2422 - val_loss: 575.1765 - val_mae: 575.1765 - val_mse: 1195805.5000\n",
            "Epoch 82/100\n",
            "18/18 [==============================] - 0s 3ms/step - loss: 116.6344 - mae: 116.6344 - mse: 77928.7344 - val_loss: 575.4340 - val_mae: 575.4340 - val_mse: 1192046.3750\n",
            "Epoch 83/100\n",
            "18/18 [==============================] - 0s 3ms/step - loss: 110.8731 - mae: 110.8731 - mse: 72825.0703 - val_loss: 654.5366 - val_mae: 654.5366 - val_mse: 1375390.8750\n",
            "Epoch 84/100\n",
            "18/18 [==============================] - 0s 28ms/step - loss: 111.9106 - mae: 111.9106 - mse: 73183.8438 - val_loss: 572.3373 - val_mae: 572.3373 - val_mse: 1176463.6250\n",
            "Epoch 85/100\n",
            "18/18 [==============================] - 0s 3ms/step - loss: 106.6154 - mae: 106.6154 - mse: 70752.4453 - val_loss: 574.2833 - val_mae: 574.2833 - val_mse: 1178176.8750\n",
            "Epoch 86/100\n",
            "18/18 [==============================] - 0s 3ms/step - loss: 108.4299 - mae: 108.4299 - mse: 70129.7188 - val_loss: 583.3530 - val_mae: 583.3530 - val_mse: 1191900.3750\n",
            "Epoch 87/100\n",
            "18/18 [==============================] - 0s 3ms/step - loss: 105.7481 - mae: 105.7481 - mse: 68589.9375 - val_loss: 593.0121 - val_mae: 593.0121 - val_mse: 1230071.7500\n",
            "Epoch 88/100\n",
            "18/18 [==============================] - 1s 30ms/step - loss: 107.2604 - mae: 107.2604 - mse: 70897.3281 - val_loss: 571.7658 - val_mae: 571.7658 - val_mse: 1182082.7500\n",
            "Epoch 89/100\n",
            "18/18 [==============================] - 1s 30ms/step - loss: 106.7823 - mae: 106.7823 - mse: 69118.5625 - val_loss: 568.6370 - val_mae: 568.6370 - val_mse: 1174329.7500\n",
            "Epoch 90/100\n",
            "18/18 [==============================] - 0s 4ms/step - loss: 105.8682 - mae: 105.8682 - mse: 67370.6953 - val_loss: 602.9690 - val_mae: 602.9690 - val_mse: 1230767.2500\n",
            "Epoch 91/100\n",
            "18/18 [==============================] - 0s 3ms/step - loss: 110.6365 - mae: 110.6365 - mse: 72148.0391 - val_loss: 605.6947 - val_mae: 605.6947 - val_mse: 1257883.8750\n",
            "Epoch 92/100\n",
            "18/18 [==============================] - 0s 3ms/step - loss: 109.4668 - mae: 109.4668 - mse: 72193.7734 - val_loss: 572.4370 - val_mae: 572.4370 - val_mse: 1183753.2500\n",
            "Epoch 93/100\n",
            "18/18 [==============================] - 0s 3ms/step - loss: 113.0063 - mae: 113.0063 - mse: 73147.9609 - val_loss: 617.3001 - val_mae: 617.3001 - val_mse: 1284326.5000\n",
            "Epoch 94/100\n",
            "18/18 [==============================] - 0s 4ms/step - loss: 112.4903 - mae: 112.4903 - mse: 73928.3047 - val_loss: 599.9803 - val_mae: 599.9803 - val_mse: 1225950.7500\n",
            "Epoch 95/100\n",
            "18/18 [==============================] - 0s 4ms/step - loss: 106.0053 - mae: 106.0053 - mse: 68764.8672 - val_loss: 570.6210 - val_mae: 570.6210 - val_mse: 1175398.3750\n",
            "Epoch 96/100\n",
            "18/18 [==============================] - 0s 3ms/step - loss: 109.5910 - mae: 109.5910 - mse: 70458.2422 - val_loss: 676.3395 - val_mae: 676.3395 - val_mse: 1426408.5000\n",
            "Epoch 97/100\n",
            "18/18 [==============================] - 0s 3ms/step - loss: 110.2213 - mae: 110.2213 - mse: 72762.1250 - val_loss: 574.2988 - val_mae: 574.2988 - val_mse: 1177002.2500\n",
            "Epoch 98/100\n",
            "18/18 [==============================] - 0s 4ms/step - loss: 106.7290 - mae: 106.7290 - mse: 69964.2500 - val_loss: 576.7734 - val_mae: 576.7734 - val_mse: 1192501.1250\n",
            "Epoch 99/100\n",
            "18/18 [==============================] - 1s 30ms/step - loss: 106.9889 - mae: 106.9889 - mse: 70740.1953 - val_loss: 568.5499 - val_mae: 568.5499 - val_mse: 1172587.7500\n",
            "Epoch 100/100\n",
            "18/18 [==============================] - 0s 4ms/step - loss: 117.7622 - mae: 117.7622 - mse: 73195.7734 - val_loss: 662.5322 - val_mae: 662.5322 - val_mse: 1358191.8750\n"
          ]
        },
        {
          "output_type": "execute_result",
          "data": {
            "text/plain": [
              "<keras.callbacks.History at 0x7f866fa44a10>"
            ]
          },
          "metadata": {},
          "execution_count": 34
        }
      ],
      "source": [
        "import tensorflow as tf\n",
        "from tensorflow.keras import layers\n",
        "\n",
        "tf.random.set_seed(42)\n",
        "model_1 = tf.keras.Sequential([\n",
        "    layers.Dense(128, activation= 'relu'),\n",
        "    layers.Dense(HORIZON,activation = 'linear')\n",
        "],name = 'model_1_dense')\n",
        "\n",
        "model_1.compile(loss = 'mae',\n",
        "                optimizer = tf.keras.optimizers.Adam(),\n",
        "                metrics = ['mae','mse'])\n",
        "\n",
        "model_1.fit(x =train_windows,\n",
        "            y = train_labels,\n",
        "            epochs = 100,\n",
        "            batch_size = 128,\n",
        "            validation_data = (test_windows, test_labels),\n",
        "            callbacks = [create_model_checkpoint(model_name = model_1.name)])"
      ]
    },
    {
      "cell_type": "code",
      "execution_count": 35,
      "metadata": {
        "colab": {
          "base_uri": "https://localhost:8080/"
        },
        "id": "oAxU4EyxjY15",
        "outputId": "5841702d-7507-4bd9-c46b-c1077add7cda"
      },
      "outputs": [
        {
          "output_type": "stream",
          "name": "stdout",
          "text": [
            "18/18 [==============================] - 0s 1ms/step - loss: 662.5322 - mae: 662.5322 - mse: 1358192.1250\n"
          ]
        },
        {
          "output_type": "execute_result",
          "data": {
            "text/plain": [
              "[662.5322265625, 662.5322265625, 1358192.125]"
            ]
          },
          "metadata": {},
          "execution_count": 35
        }
      ],
      "source": [
        "model_1.evaluate(test_windows, test_labels)"
      ]
    },
    {
      "cell_type": "code",
      "execution_count": 36,
      "metadata": {
        "colab": {
          "base_uri": "https://localhost:8080/"
        },
        "id": "hLNIVI8JlGci",
        "outputId": "d8729e0d-3c55-4764-f1c9-969136a45403"
      },
      "outputs": [
        {
          "output_type": "stream",
          "name": "stdout",
          "text": [
            "18/18 [==============================] - 0s 2ms/step - loss: 568.5499 - mae: 568.5499 - mse: 1172587.7500\n"
          ]
        },
        {
          "output_type": "execute_result",
          "data": {
            "text/plain": [
              "[568.5498657226562, 568.5498657226562, 1172587.75]"
            ]
          },
          "metadata": {},
          "execution_count": 36
        }
      ],
      "source": [
        "model_1 = tf.keras.models.load_model(\"model_experiment/model_1_dense/\")\n",
        "model_1.evaluate(test_windows, test_labels)"
      ]
    },
    {
      "cell_type": "markdown",
      "metadata": {
        "id": "wGvIEiKzlwcE"
      },
      "source": [
        "## Making forecast with a model (on the test dataset )"
      ]
    },
    {
      "cell_type": "code",
      "execution_count": 37,
      "metadata": {
        "id": "T0_YpOhKuqdc"
      },
      "outputs": [],
      "source": [
        "def make_preds(model, input_data):\n",
        "\n",
        "  forecast = model.predict(input_data)\n",
        "  return tf.squeeze(forecast)"
      ]
    },
    {
      "cell_type": "code",
      "execution_count": 38,
      "metadata": {
        "colab": {
          "base_uri": "https://localhost:8080/"
        },
        "id": "gBhSv0Nnvuds",
        "outputId": "6be3d8cd-fc9d-4d5f-d20a-051f867f428b"
      },
      "outputs": [
        {
          "output_type": "execute_result",
          "data": {
            "text/plain": [
              "<tf.Tensor: shape=(10,), dtype=float32, numpy=\n",
              "array([8874.493, 8789.944, 9040.986, 8804.829, 8741.21 , 8749.835,\n",
              "       8705.865, 8513.171, 8478.415, 8536.302], dtype=float32)>"
            ]
          },
          "metadata": {},
          "execution_count": 38
        }
      ],
      "source": [
        "model_1_preds = make_preds(model_1, test_windows)\n",
        "model_1_preds[:10]"
      ]
    },
    {
      "cell_type": "code",
      "execution_count": 39,
      "metadata": {
        "id": "oCTLu50TwTEx"
      },
      "outputs": [],
      "source": [
        "model_1_results = evaluate_preds(y_true=tf.squeeze(test_labels),\n",
        "                                 y_pred = model_1_preds)"
      ]
    },
    {
      "cell_type": "code",
      "execution_count": 40,
      "metadata": {
        "colab": {
          "base_uri": "https://localhost:8080/"
        },
        "id": "QvTJ1o1xxugO",
        "outputId": "fac21491-6b93-4c57-be2b-6daef2b3873d"
      },
      "outputs": [
        {
          "output_type": "execute_result",
          "data": {
            "text/plain": [
              "{'mae': 568.5498,\n",
              " 'mse': 1172587.6,\n",
              " 'rmse': 23.844282,\n",
              " 'mape': 2.549229,\n",
              " 'mase': 0.99878454}"
            ]
          },
          "metadata": {},
          "execution_count": 40
        }
      ],
      "source": [
        "model_1_results"
      ]
    },
    {
      "cell_type": "code",
      "execution_count": 41,
      "metadata": {
        "colab": {
          "base_uri": "https://localhost:8080/",
          "height": 442
        },
        "id": "rT1Y_IvmxzJx",
        "outputId": "2a5b484b-c3b6-4594-b27f-944db4b262fd"
      },
      "outputs": [
        {
          "output_type": "display_data",
          "data": {
            "text/plain": [
              "<Figure size 720x504 with 1 Axes>"
            ],
            "image/png": "[encoded data removed]"
          },
          "metadata": {
            "needs_background": "light"
          }
        }
      ],
      "source": [
        "offset = 300\n",
        "plt.figure(figsize = (10,7))\n",
        "\n",
        "plot_time_series(timesteps=X_test[-len(test_windows):],\n",
        "                 values = test_labels[:,0],\n",
        "                 start = offset, label = \"Test Data\")\n",
        "\n",
        "plot_time_series(timesteps=X_test[-len(test_windows):],\n",
        "                 values = model_1_preds,\n",
        "                 start = offset,\n",
        "                 format = \"-\",\n",
        "                 label = \"model_1_preds\")\n"
      ]
    },
    {
      "cell_type": "markdown",
      "metadata": {
        "id": "C8OFRqYW0Poi"
      },
      "source": [
        "## Model 2: Dense(window = 30, horizon = 1)"
      ]
    },
    {
      "cell_type": "code",
      "execution_count": 42,
      "metadata": {
        "id": "wlhuSF-pXmae"
      },
      "outputs": [],
      "source": [
        "HORIZON = 1\n",
        "WINDOW_SIZE = 30"
      ]
    },
    {
      "cell_type": "code",
      "execution_count": 43,
      "metadata": {
        "id": "X2MCeEsAYKqz"
      },
      "outputs": [],
      "source": [
        "full_windows, full_labels = make_windows(prices, window_size = WINDOW_SIZE, horizon = HORIZON)"
      ]
    },
    {
      "cell_type": "code",
      "execution_count": 44,
      "metadata": {
        "id": "8ZoxLv0uY2jn"
      },
      "outputs": [],
      "source": [
        "train_windows, test_windows, train_labels, test_labels = make_train_test_split(windows = full_windows,\n",
        "                                                                               labels =  full_labels,\n",
        "                                                                               test_split = 0.2)"
      ]
    },
    {
      "cell_type": "code",
      "execution_count": 45,
      "metadata": {
        "colab": {
          "base_uri": "https://localhost:8080/"
        },
        "id": "ly1PvN_tZg4n",
        "outputId": "4b944fee-f84c-4a01-b656-3e84c118c462"
      },
      "outputs": [
        {
          "output_type": "execute_result",
          "data": {
            "text/plain": [
              "<keras.callbacks.History at 0x7f866bed58d0>"
            ]
          },
          "metadata": {},
          "execution_count": 45
        }
      ],
      "source": [
        "tf.random.set_seed(42)\n",
        "\n",
        "model_2 = tf.keras.Sequential([\n",
        "    layers.Dense(128, activation = 'relu'),\n",
        "    layers.Dense(HORIZON)\n",
        "], name = \"model_2_dense\")\n",
        "\n",
        "model_2.compile(loss = 'mae',\n",
        "                optimizer = tf.keras.optimizers.Adam())\n",
        "\n",
        "model_2.fit(train_windows,\n",
        "            train_labels,\n",
        "            batch_size = 128,\n",
        "            epochs = 100,\n",
        "            verbose =0,\n",
        "            validation_data = (test_windows, test_labels),\n",
        "            callbacks = [create_model_checkpoint(model_name = model_2.name)])"
      ]
    },
    {
      "cell_type": "code",
      "execution_count": 46,
      "metadata": {
        "colab": {
          "base_uri": "https://localhost:8080/"
        },
        "id": "7rxWmmwjav0m",
        "outputId": "3a605ea7-a263-4394-ee32-a4b94e6e8d02"
      },
      "outputs": [
        {
          "output_type": "stream",
          "name": "stdout",
          "text": [
            "18/18 [==============================] - 0s 1ms/step - loss: 658.0289\n"
          ]
        },
        {
          "output_type": "execute_result",
          "data": {
            "text/plain": [
              "658.0288696289062"
            ]
          },
          "metadata": {},
          "execution_count": 46
        }
      ],
      "source": [
        "model_2.evaluate(test_windows, test_labels)"
      ]
    },
    {
      "cell_type": "code",
      "execution_count": 47,
      "metadata": {
        "colab": {
          "base_uri": "https://localhost:8080/"
        },
        "id": "vy6GGH1PbMWb",
        "outputId": "37a445de-a5e6-44d5-f00f-2c0518ea0f8d"
      },
      "outputs": [
        {
          "output_type": "stream",
          "name": "stdout",
          "text": [
            "18/18 [==============================] - 0s 1ms/step - loss: 608.8480\n"
          ]
        },
        {
          "output_type": "execute_result",
          "data": {
            "text/plain": [
              "608.8480224609375"
            ]
          },
          "metadata": {},
          "execution_count": 47
        }
      ],
      "source": [
        "model_2 = tf.keras.models.load_model('model_experiment/model_2_dense/')\n",
        "model_2.evaluate(test_windows, test_labels)"
      ]
    },
    {
      "cell_type": "code",
      "execution_count": 48,
      "metadata": {
        "id": "Q5EGocb8bukT"
      },
      "outputs": [],
      "source": [
        "model_2_preds = make_preds(model_2,\n",
        "                           input_data = test_windows)"
      ]
    },
    {
      "cell_type": "code",
      "execution_count": 49,
      "metadata": {
        "id": "8bE6rs3IcjX5"
      },
      "outputs": [],
      "source": [
        "model_2_results = evaluate_preds(y_true = tf.squeeze(test_labels),\n",
        "                                 y_pred = model_2_preds)\n"
      ]
    },
    {
      "cell_type": "code",
      "execution_count": 50,
      "metadata": {
        "colab": {
          "base_uri": "https://localhost:8080/"
        },
        "id": "OBHQ1BXKc281",
        "outputId": "66f57b5d-aff1-40d6-b92e-790ecd9ebbf1"
      },
      "outputs": [
        {
          "output_type": "execute_result",
          "data": {
            "text/plain": [
              "{'mae': 608.84814,\n",
              " 'mse': 1284314.4,\n",
              " 'rmse': 24.674849,\n",
              " 'mape': 2.7680664,\n",
              " 'mase': 1.0642724}"
            ]
          },
          "metadata": {},
          "execution_count": 50
        }
      ],
      "source": [
        "model_2_results"
      ]
    },
    {
      "cell_type": "code",
      "execution_count": 51,
      "metadata": {
        "colab": {
          "base_uri": "https://localhost:8080/",
          "height": 442
        },
        "id": "6yy_NHcJc6oN",
        "outputId": "3704e19b-f2f8-4384-f9e5-5b535f7783fe"
      },
      "outputs": [
        {
          "output_type": "display_data",
          "data": {
            "text/plain": [
              "<Figure size 720x504 with 1 Axes>"
            ],
            "image/png": "[encoded data removed]"
          },
          "metadata": {
            "needs_background": "light"
          }
        }
      ],
      "source": [
        "offset =300\n",
        "\n",
        "plt.figure(figsize= (10,7))\n",
        "\n",
        "plot_time_series(timesteps= X_test[-len(test_windows):],\n",
        "                 values = test_labels[:,0],\n",
        "                 start = offset,\n",
        "                 label = \"test_data\")\n",
        "\n",
        "plot_time_series(timesteps = X_test[-len(test_windows):],\n",
        "                 values = model_2_preds,\n",
        "                 start = offset,\n",
        "                 format = \"-\",\n",
        "                 label = \"model_2_preds\")"
      ]
    },
    {
      "cell_type": "markdown",
      "metadata": {
        "id": "X6hZpxzFefgT"
      },
      "source": [
        "## model 3 : Dense(window =30, horizon = 7)"
      ]
    },
    {
      "cell_type": "code",
      "execution_count": 52,
      "metadata": {
        "id": "3hvj9OpMgMuG"
      },
      "outputs": [],
      "source": [
        "HORIZON = 7\n",
        "WINDOW_SIZE = 30\n",
        "\n",
        "full_windows,full_labels = make_windows(prices, window_size= WINDOW_SIZE , horizon =  HORIZON)"
      ]
    },
    {
      "cell_type": "code",
      "execution_count": 53,
      "metadata": {
        "id": "3kLAbT9egbNn"
      },
      "outputs": [],
      "source": [
        "train_windows, test_windows, train_labels, test_labels = make_train_test_split(windows = full_windows,\n",
        "                                                                               labels = full_labels)"
      ]
    },
    {
      "cell_type": "code",
      "execution_count": 54,
      "metadata": {
        "colab": {
          "base_uri": "https://localhost:8080/"
        },
        "id": "VPjKlKtWg86m",
        "outputId": "bcbda91c-b978-4992-f3b9-dec31859a837"
      },
      "outputs": [
        {
          "output_type": "stream",
          "name": "stdout",
          "text": [
            "Epoch 1/100\n",
            "18/18 [==============================] - 1s 34ms/step - loss: 1476.6801 - val_loss: 3088.5391\n",
            "Epoch 2/100\n",
            "18/18 [==============================] - 0s 27ms/step - loss: 552.8872 - val_loss: 2462.5020\n",
            "Epoch 3/100\n",
            "18/18 [==============================] - 0s 28ms/step - loss: 435.1955 - val_loss: 2282.7729\n",
            "Epoch 4/100\n",
            "18/18 [==============================] - 0s 28ms/step - loss: 391.9522 - val_loss: 1980.5011\n",
            "Epoch 5/100\n",
            "18/18 [==============================] - 0s 3ms/step - loss: 357.7267 - val_loss: 1985.0293\n",
            "Epoch 6/100\n",
            "18/18 [==============================] - 0s 29ms/step - loss: 332.7856 - val_loss: 1754.1522\n",
            "Epoch 7/100\n",
            "18/18 [==============================] - 1s 43ms/step - loss: 309.8981 - val_loss: 1590.3005\n",
            "Epoch 8/100\n",
            "18/18 [==============================] - 1s 30ms/step - loss: 302.8700 - val_loss: 1565.3329\n",
            "Epoch 9/100\n",
            "18/18 [==============================] - 0s 3ms/step - loss: 293.6388 - val_loss: 1611.2915\n",
            "Epoch 10/100\n",
            "18/18 [==============================] - 0s 28ms/step - loss: 292.9813 - val_loss: 1515.2767\n",
            "Epoch 11/100\n",
            "18/18 [==============================] - 0s 28ms/step - loss: 283.2764 - val_loss: 1477.6067\n",
            "Epoch 12/100\n",
            "18/18 [==============================] - 0s 3ms/step - loss: 275.6171 - val_loss: 1523.7949\n",
            "Epoch 13/100\n",
            "18/18 [==============================] - 1s 30ms/step - loss: 271.0623 - val_loss: 1454.5190\n",
            "Epoch 14/100\n",
            "18/18 [==============================] - 0s 27ms/step - loss: 270.5262 - val_loss: 1419.8560\n",
            "Epoch 15/100\n",
            "18/18 [==============================] - 0s 4ms/step - loss: 264.9192 - val_loss: 1514.7672\n",
            "Epoch 16/100\n",
            "18/18 [==============================] - 0s 4ms/step - loss: 263.9895 - val_loss: 1428.1069\n",
            "Epoch 17/100\n",
            "18/18 [==============================] - 0s 3ms/step - loss: 262.7860 - val_loss: 1509.7175\n",
            "Epoch 18/100\n",
            "18/18 [==============================] - 0s 4ms/step - loss: 261.2750 - val_loss: 1485.4717\n",
            "Epoch 19/100\n",
            "18/18 [==============================] - 0s 4ms/step - loss: 258.8603 - val_loss: 1498.3242\n",
            "Epoch 20/100\n",
            "18/18 [==============================] - 0s 3ms/step - loss: 261.5325 - val_loss: 1431.1338\n",
            "Epoch 21/100\n",
            "18/18 [==============================] - 0s 4ms/step - loss: 256.0999 - val_loss: 1434.0571\n",
            "Epoch 22/100\n",
            "18/18 [==============================] - 0s 3ms/step - loss: 257.1093 - val_loss: 1432.9050\n",
            "Epoch 23/100\n",
            "18/18 [==============================] - 0s 29ms/step - loss: 260.5021 - val_loss: 1380.8607\n",
            "Epoch 24/100\n",
            "18/18 [==============================] - 0s 28ms/step - loss: 266.9105 - val_loss: 1377.7487\n",
            "Epoch 25/100\n",
            "18/18 [==============================] - 0s 3ms/step - loss: 253.5253 - val_loss: 1491.6226\n",
            "Epoch 26/100\n",
            "18/18 [==============================] - 0s 3ms/step - loss: 252.3594 - val_loss: 1396.9802\n",
            "Epoch 27/100\n",
            "18/18 [==============================] - 0s 4ms/step - loss: 249.1352 - val_loss: 1436.5671\n",
            "Epoch 28/100\n",
            "18/18 [==============================] - 0s 3ms/step - loss: 249.6862 - val_loss: 1401.4629\n",
            "Epoch 29/100\n",
            "18/18 [==============================] - 0s 4ms/step - loss: 249.7410 - val_loss: 1394.3362\n",
            "Epoch 30/100\n",
            "18/18 [==============================] - 0s 28ms/step - loss: 249.0822 - val_loss: 1347.6769\n",
            "Epoch 31/100\n",
            "18/18 [==============================] - 0s 4ms/step - loss: 244.0749 - val_loss: 1348.6328\n",
            "Epoch 32/100\n",
            "18/18 [==============================] - 0s 28ms/step - loss: 246.8022 - val_loss: 1329.3359\n",
            "Epoch 33/100\n",
            "18/18 [==============================] - 0s 3ms/step - loss: 245.9506 - val_loss: 1384.7731\n",
            "Epoch 34/100\n",
            "18/18 [==============================] - 0s 4ms/step - loss: 246.0174 - val_loss: 1355.9598\n",
            "Epoch 35/100\n",
            "18/18 [==============================] - 0s 4ms/step - loss: 243.7620 - val_loss: 1363.7579\n",
            "Epoch 36/100\n",
            "18/18 [==============================] - 0s 3ms/step - loss: 241.1248 - val_loss: 1410.3391\n",
            "Epoch 37/100\n",
            "18/18 [==============================] - 0s 3ms/step - loss: 258.0173 - val_loss: 1349.0780\n",
            "Epoch 38/100\n",
            "18/18 [==============================] - 0s 4ms/step - loss: 239.5506 - val_loss: 1361.1649\n",
            "Epoch 39/100\n",
            "18/18 [==============================] - 0s 4ms/step - loss: 245.0304 - val_loss: 1396.5168\n",
            "Epoch 40/100\n",
            "18/18 [==============================] - 0s 4ms/step - loss: 240.2838 - val_loss: 1475.3779\n",
            "Epoch 41/100\n",
            "18/18 [==============================] - 0s 3ms/step - loss: 242.0395 - val_loss: 1403.7788\n",
            "Epoch 42/100\n",
            "18/18 [==============================] - 0s 3ms/step - loss: 245.7990 - val_loss: 1335.5558\n",
            "Epoch 43/100\n",
            "18/18 [==============================] - 0s 3ms/step - loss: 240.2967 - val_loss: 1371.6216\n",
            "Epoch 44/100\n",
            "18/18 [==============================] - 0s 28ms/step - loss: 250.6715 - val_loss: 1292.5607\n",
            "Epoch 45/100\n",
            "18/18 [==============================] - 0s 3ms/step - loss: 244.9295 - val_loss: 1513.4651\n",
            "Epoch 46/100\n",
            "18/18 [==============================] - 0s 3ms/step - loss: 242.6354 - val_loss: 1294.0117\n",
            "Epoch 47/100\n",
            "18/18 [==============================] - 0s 3ms/step - loss: 236.4085 - val_loss: 1323.3668\n",
            "Epoch 48/100\n",
            "18/18 [==============================] - 0s 3ms/step - loss: 234.9307 - val_loss: 1314.9104\n",
            "Epoch 49/100\n",
            "18/18 [==============================] - 0s 3ms/step - loss: 240.2824 - val_loss: 1314.3116\n",
            "Epoch 50/100\n",
            "18/18 [==============================] - 0s 3ms/step - loss: 235.9135 - val_loss: 1300.9117\n",
            "Epoch 51/100\n",
            "18/18 [==============================] - 0s 3ms/step - loss: 244.2592 - val_loss: 1401.4980\n",
            "Epoch 52/100\n",
            "18/18 [==============================] - 0s 3ms/step - loss: 233.0795 - val_loss: 1322.4376\n",
            "Epoch 53/100\n",
            "18/18 [==============================] - 0s 28ms/step - loss: 231.7043 - val_loss: 1289.7489\n",
            "Epoch 54/100\n",
            "18/18 [==============================] - 0s 3ms/step - loss: 236.4574 - val_loss: 1304.5195\n",
            "Epoch 55/100\n",
            "18/18 [==============================] - 0s 3ms/step - loss: 233.9601 - val_loss: 1325.4091\n",
            "Epoch 56/100\n",
            "18/18 [==============================] - 0s 3ms/step - loss: 234.6053 - val_loss: 1342.9772\n",
            "Epoch 57/100\n",
            "18/18 [==============================] - 0s 4ms/step - loss: 235.8340 - val_loss: 1398.1770\n",
            "Epoch 58/100\n",
            "18/18 [==============================] - 0s 4ms/step - loss: 232.2876 - val_loss: 1307.6246\n",
            "Epoch 59/100\n",
            "18/18 [==============================] - 0s 3ms/step - loss: 231.2605 - val_loss: 1292.0947\n",
            "Epoch 60/100\n",
            "18/18 [==============================] - 0s 28ms/step - loss: 230.9664 - val_loss: 1271.3101\n",
            "Epoch 61/100\n",
            "18/18 [==============================] - 0s 4ms/step - loss: 230.5149 - val_loss: 1461.6400\n",
            "Epoch 62/100\n",
            "18/18 [==============================] - 0s 3ms/step - loss: 233.8956 - val_loss: 1303.2072\n",
            "Epoch 63/100\n",
            "18/18 [==============================] - 0s 3ms/step - loss: 236.4534 - val_loss: 1382.0212\n",
            "Epoch 64/100\n",
            "18/18 [==============================] - 0s 28ms/step - loss: 231.5335 - val_loss: 1258.1943\n",
            "Epoch 65/100\n",
            "18/18 [==============================] - 0s 4ms/step - loss: 233.2865 - val_loss: 1395.1260\n",
            "Epoch 66/100\n",
            "18/18 [==============================] - 0s 4ms/step - loss: 233.4467 - val_loss: 1472.3950\n",
            "Epoch 67/100\n",
            "18/18 [==============================] - 0s 3ms/step - loss: 237.0803 - val_loss: 1277.4172\n",
            "Epoch 68/100\n",
            "18/18 [==============================] - 0s 3ms/step - loss: 229.8266 - val_loss: 1342.0269\n",
            "Epoch 69/100\n",
            "18/18 [==============================] - 0s 3ms/step - loss: 229.1300 - val_loss: 1536.4250\n",
            "Epoch 70/100\n",
            "18/18 [==============================] - 0s 4ms/step - loss: 235.6916 - val_loss: 1278.5677\n",
            "Epoch 71/100\n",
            "18/18 [==============================] - 0s 27ms/step - loss: 226.6589 - val_loss: 1258.1080\n",
            "Epoch 72/100\n",
            "18/18 [==============================] - 0s 27ms/step - loss: 228.9357 - val_loss: 1250.1577\n",
            "Epoch 73/100\n",
            "18/18 [==============================] - 0s 4ms/step - loss: 226.1103 - val_loss: 1278.9072\n",
            "Epoch 74/100\n",
            "18/18 [==============================] - 0s 4ms/step - loss: 230.0703 - val_loss: 1364.9247\n",
            "Epoch 75/100\n",
            "18/18 [==============================] - 0s 4ms/step - loss: 227.6293 - val_loss: 1386.9498\n",
            "Epoch 76/100\n",
            "18/18 [==============================] - 0s 4ms/step - loss: 228.9475 - val_loss: 1282.8600\n",
            "Epoch 77/100\n",
            "18/18 [==============================] - 0s 28ms/step - loss: 225.1728 - val_loss: 1234.3922\n",
            "Epoch 78/100\n",
            "18/18 [==============================] - 0s 4ms/step - loss: 229.5752 - val_loss: 1258.4149\n",
            "Epoch 79/100\n",
            "18/18 [==============================] - 0s 4ms/step - loss: 228.7715 - val_loss: 1314.1998\n",
            "Epoch 80/100\n",
            "18/18 [==============================] - 0s 3ms/step - loss: 229.0316 - val_loss: 1302.7209\n",
            "Epoch 81/100\n",
            "18/18 [==============================] - 0s 3ms/step - loss: 226.3574 - val_loss: 1250.7902\n",
            "Epoch 82/100\n",
            "18/18 [==============================] - 0s 3ms/step - loss: 224.8654 - val_loss: 1271.8049\n",
            "Epoch 83/100\n",
            "18/18 [==============================] - 0s 3ms/step - loss: 224.5736 - val_loss: 1289.4341\n",
            "Epoch 84/100\n",
            "18/18 [==============================] - 0s 4ms/step - loss: 225.7016 - val_loss: 1259.0988\n",
            "Epoch 85/100\n",
            "18/18 [==============================] - 0s 3ms/step - loss: 226.3121 - val_loss: 1267.8599\n",
            "Epoch 86/100\n",
            "18/18 [==============================] - 0s 3ms/step - loss: 224.5820 - val_loss: 1281.6602\n",
            "Epoch 87/100\n",
            "18/18 [==============================] - 0s 3ms/step - loss: 228.1579 - val_loss: 1371.5221\n",
            "Epoch 88/100\n",
            "18/18 [==============================] - 0s 3ms/step - loss: 227.8217 - val_loss: 1460.1110\n",
            "Epoch 89/100\n",
            "18/18 [==============================] - 0s 3ms/step - loss: 229.7546 - val_loss: 1283.3890\n",
            "Epoch 90/100\n",
            "18/18 [==============================] - 0s 3ms/step - loss: 231.4251 - val_loss: 1359.4939\n",
            "Epoch 91/100\n",
            "18/18 [==============================] - 0s 3ms/step - loss: 225.5690 - val_loss: 1269.3485\n",
            "Epoch 92/100\n",
            "18/18 [==============================] - 0s 3ms/step - loss: 226.3247 - val_loss: 1243.8672\n",
            "Epoch 93/100\n",
            "18/18 [==============================] - 0s 3ms/step - loss: 231.3765 - val_loss: 1319.8845\n",
            "Epoch 94/100\n",
            "18/18 [==============================] - 0s 3ms/step - loss: 226.6964 - val_loss: 1302.1136\n",
            "Epoch 95/100\n",
            "18/18 [==============================] - 0s 3ms/step - loss: 228.1130 - val_loss: 1269.6951\n",
            "Epoch 96/100\n",
            "18/18 [==============================] - 0s 3ms/step - loss: 230.4718 - val_loss: 1404.5326\n",
            "Epoch 97/100\n",
            "18/18 [==============================] - 0s 3ms/step - loss: 230.1207 - val_loss: 1290.2529\n",
            "Epoch 98/100\n",
            "18/18 [==============================] - 0s 4ms/step - loss: 229.7066 - val_loss: 1314.9495\n",
            "Epoch 99/100\n",
            "18/18 [==============================] - 1s 29ms/step - loss: 225.6212 - val_loss: 1228.1417\n",
            "Epoch 100/100\n",
            "18/18 [==============================] - 0s 3ms/step - loss: 222.7613 - val_loss: 1322.7781\n"
          ]
        },
        {
          "output_type": "execute_result",
          "data": {
            "text/plain": [
              "<keras.callbacks.History at 0x7f866c13b6d0>"
            ]
          },
          "metadata": {},
          "execution_count": 54
        }
      ],
      "source": [
        "tf.random.set_seed(42)\n",
        "\n",
        "model_3 = tf.keras.Sequential([\n",
        "    layers.Dense(128, activation = 'relu'),\n",
        "    layers.Dense(HORIZON)\n",
        "],name = 'model_3_dense')\n",
        "\n",
        "model_3.compile(loss = 'mae',\n",
        "                optimizer = tf.keras.optimizers.Adam())\n",
        "\n",
        "model_3.fit(train_windows,\n",
        "            train_labels,\n",
        "            batch_size= 128,\n",
        "            epochs =100,\n",
        "            validation_data = (test_windows, test_labels),\n",
        "            callbacks = [create_model_checkpoint(model_name = model_3.name)])\n"
      ]
    },
    {
      "cell_type": "code",
      "execution_count": 55,
      "metadata": {
        "colab": {
          "base_uri": "https://localhost:8080/"
        },
        "id": "DG3qOx2diBmA",
        "outputId": "8e60f6c3-95fa-4a2f-87ef-e006dbff6d82"
      },
      "outputs": [
        {
          "output_type": "stream",
          "name": "stdout",
          "text": [
            "18/18 [==============================] - 0s 1ms/step - loss: 1322.7781\n"
          ]
        },
        {
          "output_type": "execute_result",
          "data": {
            "text/plain": [
              "1322.778076171875"
            ]
          },
          "metadata": {},
          "execution_count": 55
        }
      ],
      "source": [
        "model_3.evaluate(test_windows, test_labels)"
      ]
    },
    {
      "cell_type": "code",
      "execution_count": 56,
      "metadata": {
        "colab": {
          "base_uri": "https://localhost:8080/"
        },
        "id": "1qh3AKm5jFPS",
        "outputId": "604c97e6-85e5-4450-de0e-a2952cec83bc"
      },
      "outputs": [
        {
          "output_type": "stream",
          "name": "stdout",
          "text": [
            "18/18 [==============================] - 0s 1ms/step - loss: 1228.1417\n"
          ]
        },
        {
          "output_type": "execute_result",
          "data": {
            "text/plain": [
              "1228.1417236328125"
            ]
          },
          "metadata": {},
          "execution_count": 56
        }
      ],
      "source": [
        "model_3 = tf.keras.models.load_model('model_experiment/model_3_dense/')\n",
        "model_3.evaluate(test_windows, test_labels)"
      ]
    },
    {
      "cell_type": "code",
      "execution_count": 57,
      "metadata": {
        "colab": {
          "base_uri": "https://localhost:8080/"
        },
        "id": "mgW63cQLj1fo",
        "outputId": "ed1e09ad-23dd-43dd-d8f8-e0f7f976b846"
      },
      "outputs": [
        {
          "output_type": "execute_result",
          "data": {
            "text/plain": [
              "<tf.Tensor: shape=(3, 7), dtype=float32, numpy=\n",
              "array([[9233.328 , 9332.702 , 9363.651 , 9442.775 , 9401.978 , 9414.001 ,\n",
              "        9280.01  ],\n",
              "       [8911.084 , 9065.984 , 9113.08  , 9026.601 , 8990.093 , 9000.148 ,\n",
              "        9053.433 ],\n",
              "       [8848.506 , 9018.2295, 9006.146 , 8934.578 , 8929.888 , 8856.351 ,\n",
              "        8958.367 ]], dtype=float32)>"
            ]
          },
          "metadata": {},
          "execution_count": 57
        }
      ],
      "source": [
        "model_3_preds = make_preds(model_3,\n",
        "                           input_data = test_windows)\n",
        "\n",
        "model_3_preds[:3]"
      ]
    },
    {
      "cell_type": "code",
      "execution_count": 58,
      "metadata": {
        "colab": {
          "base_uri": "https://localhost:8080/"
        },
        "id": "PWDcPib3kXqG",
        "outputId": "7dc8c71e-648b-451f-b2a3-49167dc4e784"
      },
      "outputs": [
        {
          "output_type": "execute_result",
          "data": {
            "text/plain": [
              "{'mae': array([  559.42004 ,   276.0053  ,   298.20258 ,   408.06152 ,\n",
              "          431.32047 ,   526.28064 ,   542.41644 ,   459.79108 ,\n",
              "          490.63736 ,   631.6582  ,   802.51654 ,   731.79333 ,\n",
              "          684.06476 ,   789.71857 ,   563.4593  ,   271.9013  ,\n",
              "          231.86858 ,   258.64767 ,   277.65277 ,   291.5478  ,\n",
              "          105.425575,   132.63156 ,   205.97643 ,   262.20816 ,\n",
              "          169.8651  ,   165.05127 ,   110.21959 ,    83.64655 ,\n",
              "          115.86182 ,   152.87025 ,   279.98862 ,   380.96127 ,\n",
              "          280.21414 ,   271.9101  ,   264.43088 ,   261.91315 ,\n",
              "          330.29108 ,   242.21861 ,   253.72746 ,   245.38596 ,\n",
              "          412.562   ,   128.63539 ,    88.56452 ,    92.15639 ,\n",
              "          100.39704 ,   102.41455 ,    74.52804 ,    94.00349 ,\n",
              "           84.86837 ,    76.64781 ,   108.49679 ,   144.869   ,\n",
              "          187.69133 ,   162.5261  ,   265.83133 ,   391.21323 ,\n",
              "          552.2943  ,   541.77313 ,   522.20886 ,   523.98157 ,\n",
              "          430.13052 ,   276.80893 ,   263.94058 ,   346.60178 ,\n",
              "          449.3755  ,   494.68695 ,   524.3805  ,   532.446   ,\n",
              "          147.137   ,   232.74303 ,   213.22754 ,   407.64008 ,\n",
              "          528.1755  ,   381.76352 ,   288.17203 ,   365.8348  ,\n",
              "          332.32047 ,   393.45953 ,   525.2578  ,   656.50446 ,\n",
              "          811.64105 ,   640.2487  ,   293.96652 ,   163.34152 ,\n",
              "          214.56223 ,   211.33469 ,   237.02092 ,   322.86914 ,\n",
              "          365.69547 ,   561.3761  ,   439.0353  ,   436.3436  ,\n",
              "          359.31528 ,   248.87918 ,   167.8086  ,   263.49414 ,\n",
              "          310.0152  ,   507.3171  ,   621.88586 ,   777.44714 ,\n",
              "          512.9869  ,   292.40332 ,   202.28111 ,   327.75348 ,\n",
              "          356.55942 ,   364.2507  ,   453.20215 ,   574.33777 ,\n",
              "          966.9287  ,   940.8019  ,   871.2143  ,   374.3736  ,\n",
              "          174.17635 ,   241.6317  ,   192.01842 ,   354.8773  ,\n",
              "          305.95822 ,   407.91135 ,   562.78625 ,  1000.76465 ,\n",
              "         1604.6038  ,  2171.9666  ,  1956.6292  ,  2101.5525  ,\n",
              "         2263.4653  ,  2644.0884  ,  1284.6072  ,   680.17303 ,\n",
              "          450.15256 ,   391.20877 ,   514.96826 ,   414.87408 ,\n",
              "          485.30225 ,   301.8972  ,   314.97287 ,   298.2189  ,\n",
              "          351.74908 ,   286.78683 ,   316.8676  ,   322.0376  ,\n",
              "          342.37445 ,   373.64133 ,   283.48422 ,   587.4204  ,\n",
              "          666.5479  ,   415.29117 ,   351.52155 ,   228.57352 ,\n",
              "          281.31793 ,   207.98508 ,   233.22957 ,   522.5366  ,\n",
              "          344.37173 ,   535.6847  ,   403.58908 ,   351.62738 ,\n",
              "          196.2786  ,   204.0111  ,   210.801   ,   162.25252 ,\n",
              "          284.53592 ,   245.85555 ,   225.53348 ,   272.62347 ,\n",
              "          321.16434 ,   365.74408 ,   523.12604 ,   706.972   ,\n",
              "          516.4347  ,   604.03156 ,   827.5575  ,   887.2248  ,\n",
              "          991.22644 ,  1084.594   ,   499.86246 ,   265.87973 ,\n",
              "          353.98926 ,   401.75015 ,   416.3312  ,   392.2098  ,\n",
              "          466.42563 ,   458.61328 ,   622.09735 ,   973.6868  ,\n",
              "          865.1095  ,   278.56168 ,   516.1124  ,   737.87164 ,\n",
              "          363.9961  ,   231.46066 ,   265.72015 ,   234.37752 ,\n",
              "          366.99582 ,   436.41098 ,   645.9733  ,   610.24457 ,\n",
              "          342.28433 ,   262.02386 ,   323.00375 ,   306.09793 ,\n",
              "          523.2842  ,   736.6734  ,   707.1592  ,   451.09836 ,\n",
              "          301.78976 ,   144.70912 ,   199.37123 ,   336.74512 ,\n",
              "          146.3319  ,   138.04367 ,   307.15137 ,   179.54256 ,\n",
              "          165.28293 ,   204.35352 ,   271.4813  ,   372.5491  ,\n",
              "          525.0003  ,   147.24805 ,   107.68108 ,   150.50168 ,\n",
              "          137.84389 ,   209.29674 ,   181.5173  ,   185.5844  ,\n",
              "          145.70578 ,   140.22517 ,   158.3178  ,   177.3323  ,\n",
              "          274.27832 ,   572.3242  ,   270.27078 ,   279.54477 ,\n",
              "          133.47781 ,    55.439594,    81.092636,    68.80943 ,\n",
              "          103.634346,   153.1716  ,   149.0791  ,   168.81125 ,\n",
              "           74.92425 ,   162.96986 ,    56.424107,    93.80176 ,\n",
              "          210.05315 ,   146.7373  ,   143.01674 ,    74.46889 ,\n",
              "           83.6822  ,   123.72587 ,   171.18959 ,   152.87207 ,\n",
              "          176.66936 ,   192.75906 ,   269.69754 ,   310.21527 ,\n",
              "          603.6744  ,   699.2436  ,   812.1265  ,   911.0148  ,\n",
              "         1125.0621  ,  1342.5162  ,  1313.9249  ,   521.97644 ,\n",
              "          205.17201 ,   259.8019  ,   227.63268 ,   301.16617 ,\n",
              "          385.06558 ,   150.06682 ,   131.36873 ,   206.08928 ,\n",
              "          130.17215 ,   285.26996 ,   290.4891  ,   284.52246 ,\n",
              "          233.101   ,   336.17328 ,   216.41406 ,   185.488   ,\n",
              "          164.74861 ,   193.0219  ,   168.33244 ,   244.41086 ,\n",
              "          427.41226 ,   597.6722  ,   279.71664 ,   304.67145 ,\n",
              "          176.03697 ,   239.18875 ,   355.67758 ,   290.50726 ,\n",
              "          171.10756 ,   184.33385 ,   261.0728  ,   350.27106 ,\n",
              "          577.03156 ,   771.4784  ,  1050.9551  ,  1481.2781  ,\n",
              "         1378.0541  ,   883.13226 ,   572.96063 ,   130.63058 ,\n",
              "          206.059   ,   197.40959 ,   295.65317 ,   404.69308 ,\n",
              "          398.2896  ,   417.95145 ,   438.75586 ,   388.33496 ,\n",
              "          214.90555 ,   105.01005 ,   325.9368  ,   447.4184  ,\n",
              "          361.00977 ,   496.7426  ,   307.85727 ,   158.863   ,\n",
              "          169.79129 ,   313.21262 ,   134.87863 ,   118.55971 ,\n",
              "          148.13351 ,   215.45215 ,   311.0682  ,   274.3397  ,\n",
              "          205.59319 ,   154.73787 ,   170.1815  ,   233.73215 ,\n",
              "          328.0646  ,   456.9986  ,   544.226   ,   657.4069  ,\n",
              "          596.3923  ,   493.66547 ,   158.6808  ,    92.03822 ,\n",
              "          306.65457 ,   252.29018 ,   425.00195 ,   607.69196 ,\n",
              "          757.7344  ,  1028.1162  ,  1196.5586  ,  1187.6671  ,\n",
              "         1222.1669  ,   399.41867 ,   264.33035 ,   223.53445 ,\n",
              "          348.61246 ,   267.4036  ,   292.8566  ,   226.46219 ,\n",
              "          163.67912 ,   388.74594 ,   616.5091  ,   715.7144  ,\n",
              "          884.2673  ,  1118.2787  ,  1178.191   ,  1176.8744  ,\n",
              "          447.41656 ,   517.2567  ,   402.29672 ,   321.86285 ,\n",
              "          541.6454  ,   816.1635  ,   814.1642  ,   806.601   ,\n",
              "         1098.4758  ,  1303.5609  ,  1819.226   ,  1520.301   ,\n",
              "          975.065   ,   500.0745  ,   451.08258 ,   624.44836 ,\n",
              "          932.54913 ,  1119.5061  ,  1098.8876  ,  1111.4788  ,\n",
              "          981.3917  ,   774.1716  ,  1216.6174  ,  1347.8223  ,\n",
              "         1275.0948  ,   297.71875 ,   200.9509  ,   508.31027 ,\n",
              "          814.637   ,   605.5293  ,   654.36163 ,   563.6462  ,\n",
              "          596.4467  ,   581.3574  ,   830.5762  ,  1476.597   ,\n",
              "         2502.964   ,  2741.3472  ,  3085.4458  ,  3333.7878  ,\n",
              "         3539.5178  ,  2340.6372  ,   909.3376  ,   490.21567 ,\n",
              "          972.10657 ,  1305.3005  ,  1392.7361  ,  1755.094   ,\n",
              "         2546.695   ,  3059.948   ,  3003.2554  ,  2345.634   ,\n",
              "         2578.2778  ,  2814.2083  ,  3490.5386  ,  3260.6985  ,\n",
              "         4013.9187  ,  4978.504   ,  4385.956   ,  4103.263   ,\n",
              "         4391.792   ,  3081.4644  ,  2669.2148  ,  2414.4084  ,\n",
              "         4396.1475  ,  5788.4326  ,  5140.9053  ,  1273.4592  ,\n",
              "         1228.788   ,   701.4922  ,  2658.4453  ,  3027.572   ,\n",
              "         3027.8152  ,  3052.0781  ,  3045.396   ,  3537.386   ,\n",
              "         3745.5918  ,   900.0968  ,  1300.6917  ,  1302.6451  ,\n",
              "         1263.2556  ,  1302.2109  ,  2369.464   ,  3758.8523  ,\n",
              "         3492.7053  ,  2445.4978  ,  2877.3337  ,  3181.6016  ,\n",
              "         4807.9404  ,  5343.167   ,  4497.2007  ,  4869.027   ,\n",
              "         6087.3286  ,  6035.864   ,  8042.9697  ,  4592.853   ,\n",
              "         1518.462   ,  1500.4481  ,  1698.0397  ,  2548.5916  ,\n",
              "         2541.6692  ,  3393.869   ,  2871.6948  ,  3457.3716  ,\n",
              "         2717.7974  ,  3099.4827  ,  5651.3228  ,  6983.054   ,\n",
              "        10184.632   ,  8898.209   ,  4790.104   ,  2860.8967  ,\n",
              "         2013.5424  ,  1576.1022  ,  2593.8655  ,  3928.4883  ,\n",
              "         2703.8203  ,  2768.889   ,  3018.4146  ,  3906.845   ,\n",
              "         5233.6826  ,  6350.7373  ,  6068.0386  ,  5488.909   ,\n",
              "         4320.8374  ,  2024.2377  ,  1894.8945  ,  1482.7812  ,\n",
              "         1518.4553  ,  2880.513   ,  1606.4152  ,  1566.9939  ,\n",
              "         2957.5447  ,  4173.5615  ,  5676.796   ,  5417.197   ,\n",
              "         5249.5586  ,  1434.1613  ,  2133.1199  ,  2881.859   ,\n",
              "         3821.452   ,  4351.3306  ,  2311.1194  ,  2531.862   ,\n",
              "         1582.3064  ,   743.0675  ,   740.6685  ,   830.79297 ,\n",
              "          862.8683  ,   569.9665  ,  1134.5519  ,  1382.0139  ,\n",
              "         1559.6451  ,  2509.4558  ,  3264.3242  ,  3508.3386  ,\n",
              "         2416.577   ,  2335.6223  ,  2526.2778  ,  3310.1401  ,\n",
              "         5526.7583  ,  7300.811   ,  8667.999   ,  8214.251   ,\n",
              "         6219.2544  ,  4510.4214  ,  4505.271   ,  2656.5486  ,\n",
              "         1991.4564  ,  3071.716   ,  4366.595   ,  6207.0596  ,\n",
              "         3825.3962  ,  1774.5725  ,  2043.5586  ,  2223.3137  ,\n",
              "         1501.3549  ,  1830.9236  ,  1363.1423  ,  2061.2495  ,\n",
              "         2064.8828  ,  1645.9509  ,  2415.7795  ,  3431.0178  ,\n",
              "         5687.66    ,  7175.9517  ,  7918.8955  ], dtype=float32),\n",
              " 'mse': array([3.33394000e+05, 1.03724445e+05, 9.75477734e+04, 1.80555578e+05,\n",
              "        2.26793469e+05, 3.19683781e+05, 3.31785156e+05, 2.79899312e+05,\n",
              "        3.70252281e+05, 5.32036625e+05, 7.95682000e+05, 6.82951375e+05,\n",
              "        5.56032125e+05, 6.60285000e+05, 3.52380906e+05, 1.16671945e+05,\n",
              "        8.00336719e+04, 9.34664531e+04, 9.21393672e+04, 1.04041875e+05,\n",
              "        1.96615488e+04, 2.64791699e+04, 6.18707188e+04, 1.02955797e+05,\n",
              "        4.36306016e+04, 3.45583516e+04, 1.73448262e+04, 1.06492334e+04,\n",
              "        1.50544912e+04, 3.00173652e+04, 9.54852891e+04, 1.50687219e+05,\n",
              "        9.55566953e+04, 1.24640773e+05, 1.22260398e+05, 1.22192852e+05,\n",
              "        1.64926156e+05, 1.04291938e+05, 1.04716102e+05, 7.14317812e+04,\n",
              "        1.85622641e+05, 2.40555898e+04, 1.04443379e+04, 1.08766943e+04,\n",
              "        1.81710645e+04, 1.34194131e+04, 7.59755225e+03, 1.30255479e+04,\n",
              "        9.67257910e+03, 1.21373447e+04, 1.71709180e+04, 2.91904902e+04,\n",
              "        5.34009375e+04, 4.30802227e+04, 1.54338922e+05, 2.63090000e+05,\n",
              "        3.92752844e+05, 3.85401812e+05, 3.42097688e+05, 3.03134500e+05,\n",
              "        2.02138109e+05, 1.61282828e+05, 1.68757281e+05, 2.24789250e+05,\n",
              "        3.34351000e+05, 3.17256219e+05, 3.24330469e+05, 2.94770938e+05,\n",
              "        3.21403379e+04, 7.15406328e+04, 6.01047383e+04, 1.94125781e+05,\n",
              "        2.96338000e+05, 1.73771594e+05, 1.10524422e+05, 1.69625984e+05,\n",
              "        1.34109234e+05, 2.44139016e+05, 3.85172812e+05, 5.37043375e+05,\n",
              "        6.99801562e+05, 4.24303656e+05, 9.64800000e+04, 4.17386289e+04,\n",
              "        5.79252109e+04, 5.76000039e+04, 7.16003516e+04, 1.40586828e+05,\n",
              "        1.72043281e+05, 3.53915438e+05, 2.63749906e+05, 2.47050219e+05,\n",
              "        1.52179578e+05, 8.25143125e+04, 3.97282109e+04, 7.46978125e+04,\n",
              "        1.56581328e+05, 3.18724781e+05, 4.61892062e+05, 6.32013812e+05,\n",
              "        3.03695938e+05, 1.08098164e+05, 5.32101680e+04, 1.21410133e+05,\n",
              "        2.14644328e+05, 2.69117562e+05, 3.37814000e+05, 4.53375344e+05,\n",
              "        1.08349212e+06, 9.69460000e+05, 7.77834312e+05, 1.66238922e+05,\n",
              "        4.37044336e+04, 7.97520547e+04, 5.02197266e+04, 1.45318984e+05,\n",
              "        1.32896734e+05, 2.33199766e+05, 3.67667812e+05, 1.87499225e+06,\n",
              "        3.82544675e+06, 6.11114400e+06, 5.20348900e+06, 5.72459100e+06,\n",
              "        5.94761650e+06, 7.06636100e+06, 1.77607712e+06, 5.71786875e+05,\n",
              "        2.38541328e+05, 1.96971125e+05, 3.72253031e+05, 2.90039969e+05,\n",
              "        3.16406531e+05, 1.58819891e+05, 1.78927250e+05, 1.23254617e+05,\n",
              "        1.53376625e+05, 1.07515883e+05, 1.52277422e+05, 1.95200203e+05,\n",
              "        2.03025844e+05, 2.16209500e+05, 1.07583070e+05, 4.19026469e+05,\n",
              "        5.16380344e+05, 2.37964578e+05, 1.60922766e+05, 6.32510664e+04,\n",
              "        1.01699102e+05, 6.11560195e+04, 5.93905352e+04, 3.07242906e+05,\n",
              "        1.51582078e+05, 3.16971906e+05, 2.01775000e+05, 1.35609594e+05,\n",
              "        4.69756445e+04, 5.22583164e+04, 6.42655742e+04, 3.81848828e+04,\n",
              "        1.08177227e+05, 9.06808047e+04, 6.81520859e+04, 8.95860234e+04,\n",
              "        1.13006180e+05, 1.79956609e+05, 3.22909750e+05, 7.15943688e+05,\n",
              "        5.49820938e+05, 6.98467312e+05, 1.05350462e+06, 1.06671038e+06,\n",
              "        1.13801400e+06, 1.18490050e+06, 3.22156281e+05, 2.08278234e+05,\n",
              "        2.85719562e+05, 2.43085984e+05, 2.06137266e+05, 2.00610203e+05,\n",
              "        2.55878719e+05, 3.12861438e+05, 6.31455375e+05, 1.10615862e+06,\n",
              "        9.01712938e+05, 1.76444016e+05, 3.40770812e+05, 5.88025688e+05,\n",
              "        1.55192500e+05, 7.37252344e+04, 1.07882586e+05, 7.47378125e+04,\n",
              "        2.11414594e+05, 2.25098469e+05, 4.67451500e+05, 3.93355188e+05,\n",
              "        1.56228234e+05, 8.65428203e+04, 1.18756789e+05, 1.16208570e+05,\n",
              "        4.17561219e+05, 6.82756562e+05, 5.77383688e+05, 2.78386688e+05,\n",
              "        1.91040875e+05, 4.51314023e+04, 9.66046719e+04, 1.35987234e+05,\n",
              "        3.46512305e+04, 2.73080371e+04, 1.20861430e+05, 5.39484766e+04,\n",
              "        4.05714727e+04, 7.52649922e+04, 9.88261641e+04, 1.81728578e+05,\n",
              "        2.87719406e+05, 3.26745312e+04, 1.88171465e+04, 3.13027598e+04,\n",
              "        3.67352773e+04, 5.45493164e+04, 4.20905508e+04, 3.76223359e+04,\n",
              "        2.50840273e+04, 3.01902812e+04, 3.87692148e+04, 4.62195898e+04,\n",
              "        9.53595703e+04, 3.34977250e+05, 8.52137344e+04, 8.93841406e+04,\n",
              "        2.57094395e+04, 4.94461572e+03, 8.79626367e+03, 8.49029102e+03,\n",
              "        1.57091475e+04, 3.55610195e+04, 3.16384863e+04, 3.69771133e+04,\n",
              "        6.76249902e+03, 3.62076914e+04, 4.05944751e+03, 1.35008799e+04,\n",
              "        4.68076211e+04, 2.68615254e+04, 2.30234590e+04, 7.54533350e+03,\n",
              "        9.36424023e+03, 1.82010156e+04, 3.38128711e+04, 2.85906777e+04,\n",
              "        5.20125000e+04, 6.49524297e+04, 1.04471016e+05, 1.46007438e+05,\n",
              "        7.14144688e+05, 9.58125312e+05, 1.22509600e+06, 1.29478712e+06,\n",
              "        1.68467775e+06, 2.08443112e+06, 1.80137138e+06, 3.43922781e+05,\n",
              "        8.38062969e+04, 8.79114766e+04, 6.41988086e+04, 1.04314453e+05,\n",
              "        2.05045047e+05, 3.14043750e+04, 2.54131523e+04, 4.96176289e+04,\n",
              "        3.26739727e+04, 1.10487914e+05, 1.30131867e+05, 1.24735758e+05,\n",
              "        9.50999453e+04, 1.58834859e+05, 9.33186641e+04, 9.37423594e+04,\n",
              "        5.72294297e+04, 5.36821914e+04, 4.13911602e+04, 7.44215391e+04,\n",
              "        2.05739219e+05, 3.66187438e+05, 1.16855016e+05, 1.17204914e+05,\n",
              "        4.12653633e+04, 9.10168750e+04, 1.75218281e+05, 1.09306273e+05,\n",
              "        5.18959297e+04, 9.13076484e+04, 1.20695414e+05, 2.13619031e+05,\n",
              "        4.99358281e+05, 9.10010562e+05, 1.38975025e+06, 2.40428150e+06,\n",
              "        1.95363112e+06, 8.23527188e+05, 3.59575312e+05, 2.67775332e+04,\n",
              "        4.69525234e+04, 7.13935547e+04, 1.49703359e+05, 2.84783344e+05,\n",
              "        2.56093453e+05, 2.42521719e+05, 2.33469703e+05, 1.67033984e+05,\n",
              "        5.82417461e+04, 2.51238906e+04, 1.46595703e+05, 2.57371109e+05,\n",
              "        1.79850125e+05, 3.15337250e+05, 1.43075406e+05, 5.45757695e+04,\n",
              "        4.02590859e+04, 1.04498383e+05, 2.46403535e+04, 1.82447305e+04,\n",
              "        3.22257832e+04, 7.33687812e+04, 1.17344664e+05, 9.29680547e+04,\n",
              "        5.05981641e+04, 3.16992832e+04, 4.74245938e+04, 1.20601891e+05,\n",
              "        1.93126094e+05, 3.08337844e+05, 4.02318344e+05, 4.99645938e+05,\n",
              "        3.91438750e+05, 2.66566938e+05, 3.88146797e+04, 1.24275049e+04,\n",
              "        1.16664797e+05, 7.14946953e+04, 3.96406812e+05, 7.48489312e+05,\n",
              "        9.75264562e+05, 1.51613375e+06, 1.74917412e+06, 1.57698800e+06,\n",
              "        1.58133600e+06, 2.45576719e+05, 9.23140078e+04, 6.55380859e+04,\n",
              "        1.31787750e+05, 1.15113414e+05, 1.02307930e+05, 7.25379219e+04,\n",
              "        5.40419141e+04, 5.24896812e+05, 9.50770125e+05, 9.26232125e+05,\n",
              "        1.11365888e+06, 1.60103862e+06, 1.57692200e+06, 1.47775112e+06,\n",
              "        3.83324469e+05, 3.69744031e+05, 2.38819047e+05, 1.43169625e+05,\n",
              "        4.32763156e+05, 1.06803788e+06, 1.17400338e+06, 1.00694612e+06,\n",
              "        1.58363538e+06, 2.21012875e+06, 3.77491825e+06, 2.50035525e+06,\n",
              "        1.18956588e+06, 3.58880188e+05, 3.03592812e+05, 8.44406500e+05,\n",
              "        1.34112062e+06, 1.83813462e+06, 1.75363200e+06, 1.99065762e+06,\n",
              "        1.55192062e+06, 7.54376062e+05, 1.98689962e+06, 1.98100862e+06,\n",
              "        1.75947562e+06, 1.28232172e+05, 5.40807266e+04, 3.39730281e+05,\n",
              "        7.68867188e+05, 5.17358750e+05, 5.58042312e+05, 4.50932219e+05,\n",
              "        4.61642469e+05, 4.06037281e+05, 1.20640425e+06, 4.41879750e+06,\n",
              "        9.13147900e+06, 1.13353390e+07, 1.30212570e+07, 1.33741100e+07,\n",
              "        1.30366630e+07, 5.69693500e+06, 1.04668162e+06, 5.55939375e+05,\n",
              "        1.45060125e+06, 2.21110100e+06, 2.93645750e+06, 4.17465325e+06,\n",
              "        8.86809600e+06, 1.12878900e+07, 1.06687820e+07, 9.75505400e+06,\n",
              "        1.13975120e+07, 1.14823420e+07, 1.65296480e+07, 1.71318060e+07,\n",
              "        2.64630180e+07, 3.67715960e+07, 2.96931160e+07, 2.13515460e+07,\n",
              "        2.45664100e+07, 1.40850790e+07, 7.98280700e+06, 1.00049820e+07,\n",
              "        2.39863500e+07, 3.69922320e+07, 2.79343300e+07, 2.16239375e+06,\n",
              "        1.95902162e+06, 9.66099125e+05, 8.49763400e+06, 1.26890310e+07,\n",
              "        1.31594640e+07, 1.40178720e+07, 1.10246220e+07, 1.47196250e+07,\n",
              "        1.47363250e+07, 1.04302138e+06, 2.51192675e+06, 2.82747050e+06,\n",
              "        2.01651562e+06, 2.33862700e+06, 6.62512800e+06, 1.67676470e+07,\n",
              "        1.61179680e+07, 8.83295300e+06, 1.08211450e+07, 1.35291040e+07,\n",
              "        3.16443400e+07, 4.43336120e+07, 3.55703480e+07, 3.59946480e+07,\n",
              "        4.78694120e+07, 4.24167600e+07, 6.63626600e+07, 2.33264860e+07,\n",
              "        3.14468200e+06, 4.87435350e+06, 4.78159750e+06, 1.07451600e+07,\n",
              "        1.08128370e+07, 1.72822160e+07, 1.14444390e+07, 1.49543870e+07,\n",
              "        8.87318500e+06, 1.16514550e+07, 4.61954440e+07, 6.23508280e+07,\n",
              "        1.12169384e+08, 8.19101200e+07, 2.64749020e+07, 1.25423810e+07,\n",
              "        5.62378700e+06, 3.60028975e+06, 7.83456250e+06, 1.69358820e+07,\n",
              "        1.06481170e+07, 1.23299020e+07, 1.75144200e+07, 2.47907220e+07,\n",
              "        3.78497200e+07, 5.26399120e+07, 4.78895560e+07, 3.45402760e+07,\n",
              "        2.01211540e+07, 7.52182800e+06, 4.23857350e+06, 3.06185050e+06,\n",
              "        3.44073350e+06, 9.38222300e+06, 5.84576100e+06, 4.33842200e+06,\n",
              "        1.37386530e+07, 2.51135820e+07, 3.83723960e+07, 3.33786180e+07,\n",
              "        3.01767680e+07, 3.73629075e+06, 6.47484450e+06, 1.15425380e+07,\n",
              "        1.68360760e+07, 2.10577000e+07, 5.81830550e+06, 6.72836650e+06,\n",
              "        3.22983575e+06, 6.79807688e+05, 7.93674000e+05, 1.18572462e+06,\n",
              "        9.69263312e+05, 6.35788812e+05, 1.58890925e+06, 2.93819975e+06,\n",
              "        4.41733200e+06, 1.04396230e+07, 1.59341440e+07, 1.58365250e+07,\n",
              "        8.02327050e+06, 6.90858150e+06, 7.81497500e+06, 1.88693180e+07,\n",
              "        4.18421640e+07, 6.20995120e+07, 8.48631200e+07, 7.41613920e+07,\n",
              "        4.62633920e+07, 2.55688940e+07, 2.45755620e+07, 1.02823180e+07,\n",
              "        5.33402050e+06, 1.16097650e+07, 2.34686680e+07, 4.12730560e+07,\n",
              "        1.70490560e+07, 3.89742050e+06, 4.65160700e+06, 6.30977050e+06,\n",
              "        3.60876825e+06, 4.55321650e+06, 3.40397625e+06, 5.22099650e+06,\n",
              "        5.63631050e+06, 4.36895950e+06, 9.38240800e+06, 2.11363800e+07,\n",
              "        4.66035280e+07, 6.60825960e+07, 8.01464320e+07], dtype=float32),\n",
              " 'rmse': array([ 23.65206  ,  16.613407 ,  17.268543 ,  20.200533 ,  20.768255 ,\n",
              "         22.940807 ,  23.289835 ,  21.442738 ,  22.150335 ,  25.132812 ,\n",
              "         28.328722 ,  27.051682 ,  26.15463  ,  28.101933 ,  23.737295 ,\n",
              "         16.48943  ,  15.227231 ,  16.082527 ,  16.662916 ,  17.07477  ,\n",
              "         10.267696 ,  11.516576 ,  14.351878 ,  16.192842 ,  13.03323  ,\n",
              "         12.847228 ,  10.498551 ,   9.145849 ,  10.763912 ,  12.364069 ,\n",
              "         16.732859 ,  19.518229 ,  16.739597 ,  16.489697 ,  16.261332 ,\n",
              "         16.183731 ,  18.173912 ,  15.5633745,  15.928825 ,  15.6648   ,\n",
              "         20.31162  ,  11.341755 ,   9.410872 ,   9.5998125,  10.019833 ,\n",
              "         10.1200075,   8.632963 ,   9.6955385,   9.212403 ,   8.754873 ,\n",
              "         10.416179 ,  12.036154 ,  13.700048 ,  12.748571 ,  16.304333 ,\n",
              "         19.77911  ,  23.500942 ,  23.276022 ,  22.851889 ,  22.890642 ,\n",
              "         20.739588 ,  16.637575 ,  16.246248 ,  18.617245 ,  21.198479 ,\n",
              "         22.24156  ,  22.899355 ,  23.07479  ,  12.130004 ,  15.2559185,\n",
              "         14.602313 ,  20.190098 ,  22.982069 ,  19.538769 ,  16.97563  ,\n",
              "         19.12681  ,  18.229658 ,  19.835814 ,  22.918503 ,  25.622341 ,\n",
              "         28.489317 ,  25.303137 ,  17.145452 ,  12.780514 ,  14.647942 ,\n",
              "         14.537354 ,  15.395483 ,  17.96856  ,  19.123165 ,  23.693375 ,\n",
              "         20.953169 ,  20.88884  ,  18.955614 ,  15.775905 ,  12.954096 ,\n",
              "         16.232502 ,  17.607248 ,  22.5237   ,  24.937637 ,  27.88274  ,\n",
              "         22.649212 ,  17.099806 ,  14.222556 ,  18.103962 ,  18.882782 ,\n",
              "         19.085352 ,  21.288546 ,  23.965343 ,  31.095476 ,  30.672493 ,\n",
              "         29.51634  ,  19.348736 ,  13.197588 ,  15.544507 ,  13.857072 ,\n",
              "         18.838188 ,  17.491663 ,  20.196815 ,  23.723118 ,  31.634865 ,\n",
              "         40.057507 ,  46.60436  ,  44.2338   ,  45.842693 ,  47.57589  ,\n",
              "         51.420696 ,  35.84142  ,  26.080126 ,  21.216799 ,  19.778997 ,\n",
              "         22.692913 ,  20.368458 ,  22.029577 ,  17.375189 ,  17.747475 ,\n",
              "         17.269016 ,  18.754974 ,  16.934782 ,  17.800776 ,  17.945406 ,\n",
              "         18.503363 ,  19.329805 ,  16.836988 ,  24.236755 ,  25.81759  ,\n",
              "         20.378695 ,  18.748909 ,  15.118649 ,  16.772535 ,  14.421688 ,\n",
              "         15.271855 ,  22.859062 ,  18.557257 ,  23.144863 ,  20.089527 ,\n",
              "         18.75173  ,  14.009947 ,  14.283245 ,  14.518988 ,  12.737837 ,\n",
              "         16.868193 ,  15.679781 ,  15.017771 ,  16.511312 ,  17.921059 ,\n",
              "         19.124435 ,  22.871948 ,  26.588943 ,  22.725199 ,  24.57705  ,\n",
              "         28.7673   ,  29.78632  ,  31.483747 ,  32.933174 ,  22.357601 ,\n",
              "         16.305819 ,  18.8146   ,  20.043705 ,  20.404194 ,  19.804287 ,\n",
              "         21.59689  ,  21.415258 ,  24.941877 ,  31.203955 ,  29.412745 ,\n",
              "         16.690166 ,  22.718107 ,  27.163792 ,  19.078682 ,  15.213831 ,\n",
              "         16.300924 ,  15.309393 ,  19.157135 ,  20.890451 ,  25.416004 ,\n",
              "         24.703127 ,  18.500927 ,  16.187151 ,  17.972305 ,  17.495653 ,\n",
              "         22.875406 ,  27.14173  ,  26.592464 ,  21.239075 ,  17.372095 ,\n",
              "         12.02951  ,  14.119887 ,  18.350615 ,  12.096772 ,  11.749198 ,\n",
              "         17.525734 ,  13.399349 ,  12.856241 ,  14.295227 ,  16.476686 ,\n",
              "         19.30153  ,  22.912882 ,  12.134579 ,  10.376949 ,  12.267912 ,\n",
              "         11.740693 ,  14.4670925,  13.472836 ,  13.622937 ,  12.070865 ,\n",
              "         11.841671 ,  12.58244  ,  13.316617 ,  16.56135  ,  23.9233   ,\n",
              "         16.439913 ,  16.719591 ,  11.55326  ,   7.445777 ,   9.005145 ,\n",
              "          8.295145 ,  10.180096 ,  12.376252 ,  12.209795 ,  12.992739 ,\n",
              "          8.655879 ,  12.765965 ,   7.511598 ,   9.685131 ,  14.49321  ,\n",
              "         12.113517 ,  11.958959 ,   8.629536 ,   9.147798 ,  11.123213 ,\n",
              "         13.083944 ,  12.364142 ,  13.291702 ,  13.883771 ,  16.42247  ,\n",
              "         17.612928 ,  24.569786 ,  26.443214 ,  28.497833 ,  30.183023 ,\n",
              "         33.541943 ,  36.64036  ,  36.2481   ,  22.846802 ,  14.323826 ,\n",
              "         16.118372 ,  15.087501 ,  17.35414  ,  19.623087 ,  12.250176 ,\n",
              "         11.461619 ,  14.355809 ,  11.409301 ,  16.889936 ,  17.04374  ,\n",
              "         16.867792 ,  15.267646 ,  18.33503  ,  14.711019 ,  13.619398 ,\n",
              "         12.835443 ,  13.893232 ,  12.974299 ,  15.633646 ,  20.673952 ,\n",
              "         24.447336 ,  16.724731 ,  17.45484  ,  13.267893 ,  15.465729 ,\n",
              "         18.859415 ,  17.044273 ,  13.080808 ,  13.576961 ,  16.157747 ,\n",
              "         18.715528 ,  24.021477 ,  27.775497 ,  32.418434 ,  38.487377 ,\n",
              "         37.122154 ,  29.717543 ,  23.936596 ,  11.429373 ,  14.354755 ,\n",
              "         14.050253 ,  17.194569 ,  20.116985 ,  19.957195 ,  20.44386  ,\n",
              "         20.946499 ,  19.706217 ,  14.659658 ,  10.247441 ,  18.053719 ,\n",
              "         21.152267 ,  19.000254 ,  22.287722 ,  17.54586  ,  12.604086 ,\n",
              "         13.030399 ,  17.697813 ,  11.613726 ,  10.888512 ,  12.171011 ,\n",
              "         14.678289 ,  17.637125 ,  16.563204 ,  14.338522 ,  12.439368 ,\n",
              "         13.045363 ,  15.2883005,  18.112555 ,  21.377525 ,  23.32865  ,\n",
              "         25.639946 ,  24.421144 ,  22.218584 ,  12.596856 ,   9.593656 ,\n",
              "         17.511555 ,  15.883644 ,  20.615576 ,  24.651411 ,  27.526974 ,\n",
              "         32.06425  ,  34.59131  ,  34.462547 ,  34.9595   ,  19.985462 ,\n",
              "         16.25824  ,  14.951069 ,  18.671165 ,  16.35248  ,  17.113054 ,\n",
              "         15.048662 ,  12.793714 ,  19.71664  ,  24.829597 ,  26.752842 ,\n",
              "         29.736631 ,  33.440674 ,  34.324787 ,  34.3056   ,  21.152224 ,\n",
              "         22.743279 ,  20.057333 ,  17.940536 ,  23.273277 ,  28.568575 ,\n",
              "         28.533562 ,  28.400724 ,  33.14326  ,  36.10486  ,  42.652386 ,\n",
              "         38.99104  ,  31.22603  ,  22.362347 ,  21.238705 ,  24.988966 ,\n",
              "         30.537666 ,  33.459023 ,  33.14947  ,  33.33885  ,  31.327173 ,\n",
              "         27.823938 ,  34.880043 ,  36.7127   ,  35.708466 ,  17.254528 ,\n",
              "         14.175716 ,  22.545738 ,  28.54185  ,  24.607504 ,  25.580494 ,\n",
              "         23.741234 ,  24.422258 ,  24.111355 ,  28.819717 ,  38.426514 ,\n",
              "         50.02963  ,  52.357876 ,  55.546787 ,  57.738964 ,  59.493847 ,\n",
              "         48.38013  ,  30.155224 ,  22.140814 ,  31.178625 ,  36.128944 ,\n",
              "         37.31938  ,  41.89384  ,  50.464787 ,  55.31679  ,  54.801964 ,\n",
              "         48.431747 ,  50.776745 ,  53.04911  ,  59.080784 ,  57.102528 ,\n",
              "         63.355495 ,  70.55852  ,  66.226555 ,  64.05672  ,  66.27059  ,\n",
              "         55.51094  ,  51.664444 ,  49.13663  ,  66.30345  ,  76.08175  ,\n",
              "         71.700096 ,  35.685562 ,  35.054073 ,  26.485695 ,  51.560116 ,\n",
              "         55.023376 ,  55.025585 ,  55.245613 ,  55.185104 ,  59.475925 ,\n",
              "         61.20124  ,  30.001612 ,  36.0651   ,  36.092175 ,  35.54231  ,\n",
              "         36.08616  ,  48.67714  ,  61.309483 ,  59.099113 ,  49.45197  ,\n",
              "         53.640785 ,  56.405685 ,  69.33931  ,  73.09697  ,  67.061165 ,\n",
              "         69.77841  ,  78.02133  ,  77.69083  ,  89.68261  ,  67.77059  ,\n",
              "         38.96745  ,  38.73562  ,  41.207275 ,  50.483578 ,  50.41497  ,\n",
              "         58.25692  ,  53.5882   ,  58.79942  ,  52.132496 ,  55.672997 ,\n",
              "         75.17528  ,  83.56467  , 100.91892  ,  94.33032  ,  69.21058  ,\n",
              "         53.487354 ,  44.87251  ,  39.700153 ,  50.930004 ,  62.677658 ,\n",
              "         51.99827  ,  52.620235 ,  54.9401   ,  62.504757 ,  72.34419  ,\n",
              "         79.69151  ,  77.89761  ,  74.08717  ,  65.73307  ,  44.991528 ,\n",
              "         43.530388 ,  38.5069   ,  38.96736  ,  53.67041  ,  40.080112 ,\n",
              "         39.585274 ,  54.383312 ,  64.60311  ,  75.34451  ,  73.60161  ,\n",
              "         72.453835 ,  37.87032  ,  46.18571  ,  53.68295  ,  61.817894 ,\n",
              "         65.964615 ,  48.074104 ,  50.317608 ,  39.778214 ,  27.259264 ,\n",
              "         27.215225 ,  28.823479 ,  29.37462  ,  23.87397  ,  33.68311  ,\n",
              "         37.175446 ,  39.492344 ,  50.09447  ,  57.134266 ,  59.23123  ,\n",
              "         49.158688 ,  48.328274 ,  50.262093 ,  57.53382  ,  74.34218  ,\n",
              "         85.44478  ,  93.10209  ,  90.6325   ,  78.86224  ,  67.15967  ,\n",
              "         67.121315 ,  51.541714 ,  44.625732 ,  55.423065 ,  66.080215 ,\n",
              "         78.7849   ,  61.849785 ,  42.125675 ,  45.205738 ,  47.152027 ,\n",
              "         38.74732  ,  42.78929  ,  36.920753 ,  45.40098  ,  45.440983 ,\n",
              "         40.57032  ,  49.15058  ,  58.57489  ,  75.41658  ,  84.71099  ,\n",
              "         88.988174 ], dtype=float32),\n",
              " 'mape': array([ 6.383133  ,  3.1873055 ,  3.4441986 ,  4.7474217 ,  5.087393  ,\n",
              "         6.2807307 ,  6.541848  ,  5.720405  ,  6.363076  ,  8.315235  ,\n",
              "        10.800634  , 10.020564  ,  9.454184  , 10.886435  ,  7.8023076 ,\n",
              "         3.7682526 ,  3.155776  ,  3.437866  ,  3.6989737 ,  3.8828704 ,\n",
              "         1.3986939 ,  1.7881403 ,  2.8099759 ,  3.586232  ,  2.3180187 ,\n",
              "         2.242667  ,  1.4899626 ,  1.1336712 ,  1.5688592 ,  2.1066084 ,\n",
              "         3.8841438 ,  5.2990785 ,  3.9507866 ,  3.9636142 ,  3.8526888 ,\n",
              "         3.8195531 ,  4.802899  ,  3.5313706 ,  3.6780703 ,  3.46592   ,\n",
              "         5.6844716 ,  1.781396  ,  1.2288109 ,  1.2746593 ,  1.3930616 ,\n",
              "         1.4077994 ,  1.0244621 ,  1.2907869 ,  1.1759014 ,  1.0764247 ,\n",
              "         1.5163736 ,  2.0254838 ,  2.6292856 ,  2.2210493 ,  3.4710693 ,\n",
              "         5.017667  ,  7.0700006 ,  6.8297133 ,  6.527853  ,  6.520673  ,\n",
              "         5.3245935 ,  3.3024843 ,  3.071215  ,  3.98927   ,  5.1149187 ,\n",
              "         5.61996   ,  5.953922  ,  6.0512958 ,  1.6630603 ,  2.6762862 ,\n",
              "         2.4792778 ,  4.7584987 ,  6.204536  ,  4.5032034 ,  3.402323  ,\n",
              "         4.296131  ,  3.8193192 ,  4.302126  ,  5.675283  ,  7.0431447 ,\n",
              "         8.695885  ,  6.8402886 ,  3.1351395 ,  1.7247756 ,  2.2906337 ,\n",
              "         2.239771  ,  2.4867249 ,  3.3104722 ,  3.7112315 ,  5.63722   ,\n",
              "         4.333159  ,  4.287891  ,  3.5142124 ,  2.4285538 ,  1.6611431 ,\n",
              "         2.6178567 ,  3.1315804 ,  5.1447906 ,  6.353043  ,  7.9626427 ,\n",
              "         5.287782  ,  3.019717  ,  2.0546832 ,  3.4092698 ,  3.8586323 ,\n",
              "         4.0400887 ,  5.076718  ,  6.4802604 , 11.007784  , 10.7414465 ,\n",
              "         9.975953  ,  4.3021564 ,  1.9976255 ,  2.7215734 ,  2.1505435 ,\n",
              "         4.012396  ,  3.618029  ,  4.9309316 ,  6.8522887 , 14.579784  ,\n",
              "        24.689518  , 35.3894    , 34.018784  , 38.566185  , 41.93856   ,\n",
              "        49.170227  , 23.934246  , 12.76731   ,  8.060933  ,  6.7705026 ,\n",
              "         8.406375  ,  6.574843  ,  7.4993    ,  4.5726724 ,  5.019635  ,\n",
              "         4.6231947 ,  5.3266654 ,  4.374331  ,  5.0321302 ,  5.182704  ,\n",
              "         5.5057526 ,  5.9565516 ,  4.374629  ,  8.735546  ,  9.690324  ,\n",
              "         5.9229927 ,  4.960857  ,  3.2358913 ,  3.916653  ,  2.960389  ,\n",
              "         3.2594497 ,  7.427887  ,  4.961269  ,  7.767851  ,  5.8759427 ,\n",
              "         5.0899153 ,  2.7828124 ,  2.8943253 ,  2.9632704 ,  2.2983522 ,\n",
              "         3.979706  ,  3.4080956 ,  3.0998034 ,  3.7605264 ,  4.432523  ,\n",
              "         4.82497   ,  6.85255   ,  8.808609  ,  6.1029444 ,  6.961776  ,\n",
              "         9.447651  , 10.045695  , 11.199372  , 12.213851  ,  5.522779  ,\n",
              "         2.7715328 ,  3.6357415 ,  4.1950994 ,  4.3852634 ,  4.1972456 ,\n",
              "         4.983673  ,  5.084654  ,  7.0168824 , 10.815913  ,  9.642549  ,\n",
              "         3.1320593 ,  5.3848643 ,  7.675372  ,  3.774346  ,  2.4561572 ,\n",
              "         2.8501215 ,  2.5092413 ,  3.9920144 ,  4.77418   ,  7.1354446 ,\n",
              "         6.7556424 ,  3.8018935 ,  2.8637733 ,  3.509565  ,  3.2845404 ,\n",
              "         5.372305  ,  7.5835423 ,  7.2673955 ,  4.5891204 ,  3.0293348 ,\n",
              "         1.4613218 ,  1.9975586 ,  3.4842055 ,  1.5093697 ,  1.4179296 ,\n",
              "         3.2048676 ,  1.8887612 ,  1.7362866 ,  2.1689427 ,  2.8873942 ,\n",
              "         3.9644148 ,  5.5802307 ,  1.5622852 ,  1.149674  ,  1.6047982 ,\n",
              "         1.4754645 ,  2.231686  ,  1.9317787 ,  1.9744525 ,  1.5439414 ,\n",
              "         1.4976854 ,  1.6820679 ,  1.897119  ,  2.9943423 ,  6.2459874 ,\n",
              "         2.953745  ,  3.064406  ,  1.4674717 ,  0.60568035,  0.8881008 ,\n",
              "         0.74896526,  1.1339073 ,  1.6680954 ,  1.608187  ,  1.8191533 ,\n",
              "         0.8100192 ,  1.7489618 ,  0.6075544 ,  1.0088054 ,  2.2717352 ,\n",
              "         1.5915908 ,  1.5513337 ,  0.80798715,  0.91097534,  1.3482684 ,\n",
              "         1.8638477 ,  1.6469681 ,  1.8685368 ,  2.02392   ,  2.8186364 ,\n",
              "         3.1947546 ,  5.8327208 ,  6.557446  ,  7.4054317 ,  8.245705  ,\n",
              "        10.09411   , 11.89811   , 11.6254015 ,  4.5898523 ,  1.7863373 ,\n",
              "         2.2723162 ,  1.9803488 ,  2.6221123 ,  3.3960602 ,  1.3109515 ,\n",
              "         1.1341455 ,  1.759563  ,  1.128492  ,  2.4649835 ,  2.5131893 ,\n",
              "         2.4598405 ,  2.0161705 ,  2.8633106 ,  1.7830117 ,  1.5193297 ,\n",
              "         1.3595337 ,  1.614378  ,  1.4105192 ,  2.059183  ,  3.6486063 ,\n",
              "         5.1331215 ,  2.424635  ,  2.6510155 ,  1.5341433 ,  2.09643   ,\n",
              "         3.1137257 ,  2.539438  ,  1.4683777 ,  1.568614  ,  2.2879937 ,\n",
              "         3.1728706 ,  5.3861685 ,  7.392792  , 10.086266  , 14.331542  ,\n",
              "        13.409384  ,  8.636568  ,  5.616763  ,  1.2732922 ,  1.9986842 ,\n",
              "         1.8976632 ,  2.7845583 ,  3.754111  ,  3.6711032 ,  3.8447108 ,\n",
              "         4.0184684 ,  3.5524209 ,  1.9625986 ,  0.98632026,  3.0846426 ,\n",
              "         4.236171  ,  3.4315605 ,  4.7224817 ,  2.9343495 ,  1.5163301 ,\n",
              "         1.5953581 ,  2.9111507 ,  1.2543285 ,  1.1071885 ,  1.3919702 ,\n",
              "         2.0292516 ,  2.9253087 ,  2.5853817 ,  1.9386241 ,  1.4526908 ,\n",
              "         1.5694046 ,  2.1026871 ,  2.9367437 ,  4.04099   ,  4.7796817 ,\n",
              "         5.770069  ,  5.2124357 ,  4.3052373 ,  1.3792781 ,  0.8005689 ,\n",
              "         2.684975  ,  2.188901  ,  3.448495  ,  4.792791  ,  5.909497  ,\n",
              "         7.955139  ,  9.233251  ,  9.119957  ,  9.261035  ,  2.9975643 ,\n",
              "         1.9903    ,  1.6718756 ,  2.58726   ,  1.9542675 ,  2.1405175 ,\n",
              "         1.6731445 ,  1.178066  ,  2.6046596 ,  4.0535207 ,  4.755552  ,\n",
              "         5.835533  ,  7.3285947 ,  7.6915874 ,  7.6137385 ,  2.8398395 ,\n",
              "         3.3314493 ,  2.5113592 ,  2.0298178 ,  3.3189912 ,  4.8585114 ,\n",
              "         4.7158113 ,  4.6272564 ,  6.2273393 ,  7.223699  ,  9.988826  ,\n",
              "         8.288783  ,  5.237044  ,  2.6687312 ,  2.4694824 ,  3.5809126 ,\n",
              "         5.3039985 ,  6.3736773 ,  6.23859   ,  6.344448  ,  5.5967784 ,\n",
              "         4.148265  ,  6.354063  ,  7.0523105 ,  6.644291  ,  1.5557402 ,\n",
              "         1.0602225 ,  2.6997712 ,  4.3472815 ,  3.2732253 ,  3.5330117 ,\n",
              "         3.0514553 ,  3.2215595 ,  3.1218312 ,  4.204726  ,  6.9420166 ,\n",
              "        11.60342   , 12.176869  , 13.453348  , 14.439218  , 15.278827  ,\n",
              "        10.020564  ,  3.8659077 ,  2.0333557 ,  3.9704196 ,  5.2561073 ,\n",
              "         5.4017196 ,  6.697758  ,  9.399555  , 11.09861   , 10.672504  ,\n",
              "         7.815193  ,  8.272939  ,  8.983307  , 10.819359  ,  9.587128  ,\n",
              "        11.14034   , 13.304127  , 11.300749  , 10.6548    , 11.274142  ,\n",
              "         7.8193297 ,  6.9860325 ,  6.769106  , 12.204499  , 16.113087  ,\n",
              "        14.353757  ,  3.5346606 ,  3.313356  ,  1.8951993 ,  7.7469826 ,\n",
              "         9.033199  ,  9.231903  ,  9.467803  ,  9.404374  , 11.023445  ,\n",
              "        11.800318  ,  2.8124304 ,  4.0199337 ,  3.950694  ,  3.7909858 ,\n",
              "         3.9367132 ,  6.9262767 , 10.6855    ,  9.707618  ,  6.670374  ,\n",
              "         7.674061  ,  8.309083  , 11.966503  , 12.519148  , 10.110762  ,\n",
              "        10.707312  , 13.19876   , 12.978641  , 17.091331  ,  9.630076  ,\n",
              "         3.1794276 ,  2.9887314 ,  3.3808594 ,  4.881789  ,  4.761776  ,\n",
              "         6.241043  ,  5.2421517 ,  6.347189  ,  5.175462  ,  6.029026  ,\n",
              "        11.695898  , 14.624441  , 21.540733  , 18.883375  , 10.238024  ,\n",
              "         6.1705375 ,  4.2898383 ,  3.2523804 ,  5.2908754 ,  7.9320273 ,\n",
              "         5.3697076 ,  5.336057  ,  5.5906935 ,  7.074054  ,  9.375492  ,\n",
              "        11.086345  , 10.371183  ,  9.408301  ,  7.407569  ,  3.3996441 ,\n",
              "         3.2378588 ,  2.5028694 ,  2.6447754 ,  5.0076265 ,  2.8739963 ,\n",
              "         2.8070548 ,  5.404184  ,  7.739886  , 10.505011  , 10.031975  ,\n",
              "         9.742052  ,  2.6674068 ,  3.8989453 ,  5.0200095 ,  6.615648  ,\n",
              "         7.476633  ,  3.9717202 ,  4.3323865 ,  2.6973286 ,  1.2728416 ,\n",
              "         1.2849373 ,  1.4467553 ,  1.4952526 ,  0.98913246,  1.9539042 ,\n",
              "         2.3853426 ,  2.5916712 ,  4.069341  ,  5.2415066 ,  5.630094  ,\n",
              "         3.8688655 ,  3.7874763 ,  4.2134275 ,  5.7756824 ,  9.770691  ,\n",
              "        13.159069  , 16.036814  , 15.505876  , 12.111253  ,  8.840368  ,\n",
              "         8.823597  ,  5.2454715 ,  3.878957  ,  5.697788  ,  7.8928275 ,\n",
              "        11.124117  ,  6.7739263 ,  3.14318   ,  3.6283498 ,  3.892282  ,\n",
              "         2.6967316 ,  3.2670074 ,  2.4376302 ,  3.6690652 ,  3.585248  ,\n",
              "         2.9584897 ,  4.53231   ,  6.682528  , 11.290611  , 14.65142   ,\n",
              "        16.85183   ], dtype=float32),\n",
              " 'mase': 2.1854093}"
            ]
          },
          "metadata": {},
          "execution_count": 58
        }
      ],
      "source": [
        "model_3_results = evaluate_preds(y_true = tf.squeeze(test_labels),\n",
        "                                 y_pred =  model_3_preds)\n",
        "\n",
        "model_3_results"
      ]
    },
    {
      "cell_type": "markdown",
      "metadata": {
        "id": "ivbD5f30mq5o"
      },
      "source": [
        "## make our evaluation function work for larger horizons"
      ]
    },
    {
      "cell_type": "code",
      "execution_count": 59,
      "metadata": {
        "colab": {
          "base_uri": "https://localhost:8080/"
        },
        "id": "3C0Qf149oFJQ",
        "outputId": "37699064-6e18-4f84-be01-8b1524f87602"
      },
      "outputs": [
        {
          "output_type": "execute_result",
          "data": {
            "text/plain": [
              "1228.1416"
            ]
          },
          "metadata": {},
          "execution_count": 59
        }
      ],
      "source": [
        "tf.reduce_mean(model_3_results['mae']).numpy()"
      ]
    },
    {
      "cell_type": "code",
      "execution_count": 60,
      "metadata": {
        "id": "YXHskG5mnBDE"
      },
      "outputs": [],
      "source": [
        "def evaluate_preds(y_true,y_pred):\n",
        "  y_true = tf.cast(y_true, dtype=tf.float32)\n",
        "  y_pred = tf.cast(y_pred, dtype= tf.float32)\n",
        "\n",
        "  mae = tf.keras.metrics.mean_absolute_error(y_true, y_pred)\n",
        "  mse = tf.keras.metrics.mean_squared_error(y_true,y_pred)\n",
        "  rmse = tf.sqrt(mae)\n",
        "  mape = tf.keras.metrics.mean_absolute_percentage_error(y_true,y_pred)\n",
        "  mase = mean_absolute_scaled_error(y_true,y_pred)\n",
        "\n",
        "  if mae.ndim >0:\n",
        "    mae = tf.reduce_mean(mae)\n",
        "    mse =tf.reduce_mean(mse)\n",
        "    rmse = tf.reduce_mean(rmse)\n",
        "    mape = tf.reduce_mean(mape)\n",
        "    mase = tf.reduce_mean(mase)\n",
        "\n",
        "  return{'mae':mae.numpy(),\n",
        "         'mse':mse.numpy(),\n",
        "         'rmse':rmse.numpy(),\n",
        "         'mape':mape.numpy(),\n",
        "         'mase': mase.numpy()}"
      ]
    },
    {
      "cell_type": "code",
      "execution_count": 61,
      "metadata": {
        "colab": {
          "base_uri": "https://localhost:8080/"
        },
        "id": "-Vct0cYvpcih",
        "outputId": "a3e3792a-7469-40ec-bb5a-1e61d81a8e5a"
      },
      "outputs": [
        {
          "output_type": "execute_result",
          "data": {
            "text/plain": [
              "{'mae': 1228.1416,\n",
              " 'mse': 5323686.5,\n",
              " 'rmse': 29.518578,\n",
              " 'mape': 5.4698334,\n",
              " 'mase': 2.1854093}"
            ]
          },
          "metadata": {},
          "execution_count": 61
        }
      ],
      "source": [
        "model_3_results = evaluate_preds(y_true = tf.squeeze(test_labels),\n",
        "                                 y_pred = model_3_preds)\n",
        "model_3_results"
      ]
    },
    {
      "cell_type": "code",
      "execution_count": 62,
      "metadata": {
        "colab": {
          "base_uri": "https://localhost:8080/",
          "height": 442
        },
        "id": "vyYhluAMpqP5",
        "outputId": "4df0afbb-fe35-411c-e34c-fa148f09fdb7"
      },
      "outputs": [
        {
          "output_type": "display_data",
          "data": {
            "text/plain": [
              "<Figure size 720x504 with 1 Axes>"
            ],
            "image/png": "[encoded data removed]"
          },
          "metadata": {
            "needs_background": "light"
          }
        }
      ],
      "source": [
        "offset = 300\n",
        "\n",
        "plt.figure(figsize = (10,7))\n",
        "\n",
        "plot_time_series(timesteps = X_test[-len(test_windows):], values = test_labels[:,0], start = offset, label = 'Test Data')\n",
        "\n",
        "plot_time_series(timesteps =X_test[-len(test_windows):], values = tf.reduce_mean(model_3_preds, axis=1) ,start = offset,format='-', label = 'model_3_preds' )"
      ]
    },
    {
      "cell_type": "markdown",
      "metadata": {
        "id": "MQAAtxaztyZ6"
      },
      "source": [
        "## Which of our model performing best so far"
      ]
    },
    {
      "cell_type": "code",
      "execution_count": 63,
      "metadata": {
        "colab": {
          "base_uri": "https://localhost:8080/",
          "height": 440
        },
        "id": "ZsgFXhnH7ZBM",
        "outputId": "d1f00711-b33e-4be2-8f59-243d9e7d7ed5"
      },
      "outputs": [
        {
          "output_type": "display_data",
          "data": {
            "text/plain": [
              "<Figure size 720x504 with 1 Axes>"
            ],
            "image/png": "[encoded data removed]"
          },
          "metadata": {
            "needs_background": "light"
          }
        }
      ],
      "source": [
        "pd.DataFrame({'naive':naive_results['mae'],\n",
        "              'horizon_1_window_7':model_1_results['mae'],\n",
        "              'horizon_1_window_30':model_2_results['mae'],\n",
        "              'horizon_7_window_30': model_3_results['mae']},index = ['mae']).plot(figsize=(10,7),kind = \"bar\");"
      ]
    },
    {
      "cell_type": "markdown",
      "metadata": {
        "id": "xLF_N9kj8qiq"
      },
      "source": [
        "## model 4: Conv1D"
      ]
    },
    {
      "cell_type": "code",
      "execution_count": 64,
      "metadata": {
        "id": "Biw78egz_v2L"
      },
      "outputs": [],
      "source": [
        "HORIZON = 1\n",
        "WINDOW_SIZE = 7\n",
        "\n",
        "full_windows,full_labels = make_windows(prices, window_size=WINDOW_SIZE,horizon=HORIZON)"
      ]
    },
    {
      "cell_type": "code",
      "execution_count": 65,
      "metadata": {
        "id": "WPl5qgulAaeo"
      },
      "outputs": [],
      "source": [
        "train_windows, test_windows, train_labels, test_labels = make_train_test_split(full_windows, full_labels)"
      ]
    },
    {
      "cell_type": "code",
      "execution_count": 66,
      "metadata": {
        "colab": {
          "base_uri": "https://localhost:8080/"
        },
        "id": "VCv-SvAxAt3U",
        "outputId": "c8e93493-adaa-423e-f979-814adc022ce8"
      },
      "outputs": [
        {
          "output_type": "execute_result",
          "data": {
            "text/plain": [
              "(7,)"
            ]
          },
          "metadata": {},
          "execution_count": 66
        }
      ],
      "source": [
        "train_windows[0].shape"
      ]
    },
    {
      "cell_type": "code",
      "execution_count": 67,
      "metadata": {
        "colab": {
          "base_uri": "https://localhost:8080/"
        },
        "id": "J2l2edb-B7yP",
        "outputId": "0c45cc8d-86e2-444f-9827-d80fb6948bee"
      },
      "outputs": [
        {
          "output_type": "execute_result",
          "data": {
            "text/plain": [
              "<tf.Tensor: shape=(7,), dtype=float64, numpy=\n",
              "array([123.65499, 125.455  , 108.58483, 118.67466, 121.33866, 120.65533,\n",
              "       121.795  ])>"
            ]
          },
          "metadata": {},
          "execution_count": 67
        }
      ],
      "source": [
        "x = tf.constant(train_windows[0])\n",
        "x"
      ]
    },
    {
      "cell_type": "code",
      "execution_count": 68,
      "metadata": {
        "id": "QiKb2YbXCelx"
      },
      "outputs": [],
      "source": [
        "expand_dims_layer  = layers.Lambda(lambda x : tf.expand_dims(x, axis = 1))"
      ]
    },
    {
      "cell_type": "code",
      "execution_count": 69,
      "metadata": {
        "colab": {
          "base_uri": "https://localhost:8080/"
        },
        "id": "U7-FtZM9GFs9",
        "outputId": "e0a70f85-0449-438b-b4b5-7f5b61fb6ca0"
      },
      "outputs": [
        {
          "output_type": "stream",
          "name": "stdout",
          "text": [
            "Epoch 1/100\n",
            "18/18 [==============================] - 1s 51ms/step - loss: 1207.3885 - val_loss: 2320.5461\n",
            "Epoch 2/100\n",
            "18/18 [==============================] - 1s 42ms/step - loss: 316.2140 - val_loss: 1467.3309\n",
            "Epoch 3/100\n",
            "18/18 [==============================] - 1s 43ms/step - loss: 192.6844 - val_loss: 1164.7460\n",
            "Epoch 4/100\n",
            "18/18 [==============================] - 1s 42ms/step - loss: 177.3536 - val_loss: 981.6823\n",
            "Epoch 5/100\n",
            "18/18 [==============================] - 1s 42ms/step - loss: 172.3469 - val_loss: 960.8795\n",
            "Epoch 6/100\n",
            "18/18 [==============================] - 1s 42ms/step - loss: 171.9752 - val_loss: 950.1938\n",
            "Epoch 7/100\n",
            "18/18 [==============================] - 1s 41ms/step - loss: 167.1943 - val_loss: 943.3042\n",
            "Epoch 8/100\n",
            "18/18 [==============================] - 1s 41ms/step - loss: 163.5994 - val_loss: 905.5258\n",
            "Epoch 9/100\n",
            "18/18 [==============================] - 0s 3ms/step - loss: 162.5453 - val_loss: 929.7834\n",
            "Epoch 10/100\n",
            "18/18 [==============================] - 1s 57ms/step - loss: 158.5783 - val_loss: 871.9852\n",
            "Epoch 11/100\n",
            "18/18 [==============================] - 1s 41ms/step - loss: 154.0055 - val_loss: 852.7189\n",
            "Epoch 12/100\n",
            "18/18 [==============================] - 0s 3ms/step - loss: 151.2621 - val_loss: 944.2293\n",
            "Epoch 13/100\n",
            "18/18 [==============================] - 0s 4ms/step - loss: 150.2687 - val_loss: 881.2109\n",
            "Epoch 14/100\n",
            "18/18 [==============================] - 1s 43ms/step - loss: 145.4592 - val_loss: 849.2067\n",
            "Epoch 15/100\n",
            "18/18 [==============================] - 1s 41ms/step - loss: 143.3641 - val_loss: 844.4286\n",
            "Epoch 16/100\n",
            "18/18 [==============================] - 1s 42ms/step - loss: 139.8762 - val_loss: 806.7508\n",
            "Epoch 17/100\n",
            "18/18 [==============================] - 0s 3ms/step - loss: 138.1675 - val_loss: 812.6639\n",
            "Epoch 18/100\n",
            "18/18 [==============================] - 1s 41ms/step - loss: 137.9499 - val_loss: 775.2330\n",
            "Epoch 19/100\n",
            "18/18 [==============================] - 1s 42ms/step - loss: 131.1450 - val_loss: 755.4478\n",
            "Epoch 20/100\n",
            "18/18 [==============================] - 1s 41ms/step - loss: 132.4057 - val_loss: 712.1984\n",
            "Epoch 21/100\n",
            "18/18 [==============================] - 1s 41ms/step - loss: 131.0830 - val_loss: 707.4222\n",
            "Epoch 22/100\n",
            "18/18 [==============================] - 1s 42ms/step - loss: 126.9677 - val_loss: 692.5481\n",
            "Epoch 23/100\n",
            "18/18 [==============================] - 1s 40ms/step - loss: 125.1869 - val_loss: 685.2978\n",
            "Epoch 24/100\n",
            "18/18 [==============================] - 1s 59ms/step - loss: 123.9248 - val_loss: 670.9751\n",
            "Epoch 25/100\n",
            "18/18 [==============================] - 1s 42ms/step - loss: 122.2450 - val_loss: 662.3439\n",
            "Epoch 26/100\n",
            "18/18 [==============================] - 1s 41ms/step - loss: 121.1394 - val_loss: 654.4514\n",
            "Epoch 27/100\n",
            "18/18 [==============================] - 1s 40ms/step - loss: 121.0951 - val_loss: 646.9714\n",
            "Epoch 28/100\n",
            "18/18 [==============================] - 1s 42ms/step - loss: 117.9507 - val_loss: 644.0071\n",
            "Epoch 29/100\n",
            "18/18 [==============================] - 1s 41ms/step - loss: 116.9190 - val_loss: 642.6725\n",
            "Epoch 30/100\n",
            "18/18 [==============================] - 1s 41ms/step - loss: 121.8659 - val_loss: 629.5990\n",
            "Epoch 31/100\n",
            "18/18 [==============================] - 0s 4ms/step - loss: 114.7007 - val_loss: 640.6924\n",
            "Epoch 32/100\n",
            "18/18 [==============================] - 1s 41ms/step - loss: 115.8331 - val_loss: 622.1508\n",
            "Epoch 33/100\n",
            "18/18 [==============================] - 0s 5ms/step - loss: 115.7185 - val_loss: 656.7963\n",
            "Epoch 34/100\n",
            "18/18 [==============================] - 1s 44ms/step - loss: 117.4010 - val_loss: 612.7388\n",
            "Epoch 35/100\n",
            "18/18 [==============================] - 0s 3ms/step - loss: 113.2624 - val_loss: 613.9559\n",
            "Epoch 36/100\n",
            "18/18 [==============================] - 1s 40ms/step - loss: 117.0075 - val_loss: 605.2271\n",
            "Epoch 37/100\n",
            "18/18 [==============================] - 0s 3ms/step - loss: 115.1192 - val_loss: 613.4613\n",
            "Epoch 38/100\n",
            "18/18 [==============================] - 0s 3ms/step - loss: 114.0889 - val_loss: 617.4557\n",
            "Epoch 39/100\n",
            "18/18 [==============================] - 1s 57ms/step - loss: 113.8287 - val_loss: 599.6378\n",
            "Epoch 40/100\n",
            "18/18 [==============================] - 0s 3ms/step - loss: 112.1102 - val_loss: 601.0756\n",
            "Epoch 41/100\n",
            "18/18 [==============================] - 0s 3ms/step - loss: 111.7130 - val_loss: 642.4761\n",
            "Epoch 42/100\n",
            "18/18 [==============================] - 0s 3ms/step - loss: 117.4614 - val_loss: 628.8831\n",
            "Epoch 43/100\n",
            "18/18 [==============================] - 0s 4ms/step - loss: 114.9637 - val_loss: 626.2316\n",
            "Epoch 44/100\n",
            "18/18 [==============================] - 0s 4ms/step - loss: 113.7044 - val_loss: 601.3557\n",
            "Epoch 45/100\n",
            "18/18 [==============================] - 0s 3ms/step - loss: 110.2300 - val_loss: 602.2663\n",
            "Epoch 46/100\n",
            "18/18 [==============================] - 0s 4ms/step - loss: 110.8421 - val_loss: 601.6514\n",
            "Epoch 47/100\n",
            "18/18 [==============================] - 0s 3ms/step - loss: 111.1995 - val_loss: 679.1381\n",
            "Epoch 48/100\n",
            "18/18 [==============================] - 0s 4ms/step - loss: 110.6627 - val_loss: 607.0563\n",
            "Epoch 49/100\n",
            "18/18 [==============================] - 0s 3ms/step - loss: 111.7838 - val_loss: 641.5778\n",
            "Epoch 50/100\n",
            "18/18 [==============================] - 0s 3ms/step - loss: 116.4225 - val_loss: 623.6741\n",
            "Epoch 51/100\n",
            "18/18 [==============================] - 1s 42ms/step - loss: 111.4164 - val_loss: 590.2226\n",
            "Epoch 52/100\n",
            "18/18 [==============================] - 0s 3ms/step - loss: 112.2794 - val_loss: 599.6578\n",
            "Epoch 53/100\n",
            "18/18 [==============================] - 0s 3ms/step - loss: 111.6150 - val_loss: 637.6077\n",
            "Epoch 54/100\n",
            "18/18 [==============================] - 1s 41ms/step - loss: 110.0329 - val_loss: 589.3809\n",
            "Epoch 55/100\n",
            "18/18 [==============================] - 1s 42ms/step - loss: 113.4552 - val_loss: 587.1551\n",
            "Epoch 56/100\n",
            "18/18 [==============================] - 0s 3ms/step - loss: 111.7108 - val_loss: 816.9904\n",
            "Epoch 57/100\n",
            "18/18 [==============================] - 0s 3ms/step - loss: 135.7504 - val_loss: 719.3807\n",
            "Epoch 58/100\n",
            "18/18 [==============================] - 0s 3ms/step - loss: 122.0247 - val_loss: 735.9521\n",
            "Epoch 59/100\n",
            "18/18 [==============================] - 0s 3ms/step - loss: 112.3813 - val_loss: 600.9780\n",
            "Epoch 60/100\n",
            "18/18 [==============================] - 0s 3ms/step - loss: 111.0364 - val_loss: 648.7866\n",
            "Epoch 61/100\n",
            "18/18 [==============================] - 0s 4ms/step - loss: 111.4802 - val_loss: 590.3774\n",
            "Epoch 62/100\n",
            "18/18 [==============================] - 1s 41ms/step - loss: 107.9389 - val_loss: 576.8009\n",
            "Epoch 63/100\n",
            "18/18 [==============================] - 0s 3ms/step - loss: 109.2602 - val_loss: 607.2755\n",
            "Epoch 64/100\n",
            "18/18 [==============================] - 0s 3ms/step - loss: 109.6901 - val_loss: 596.7833\n",
            "Epoch 65/100\n",
            "18/18 [==============================] - 0s 4ms/step - loss: 109.3035 - val_loss: 591.7098\n",
            "Epoch 66/100\n",
            "18/18 [==============================] - 0s 3ms/step - loss: 108.8017 - val_loss: 578.0851\n",
            "Epoch 67/100\n",
            "18/18 [==============================] - 0s 3ms/step - loss: 107.3418 - val_loss: 655.8542\n",
            "Epoch 68/100\n",
            "18/18 [==============================] - 0s 3ms/step - loss: 111.2484 - val_loss: 669.3168\n",
            "Epoch 69/100\n",
            "18/18 [==============================] - 0s 3ms/step - loss: 130.1731 - val_loss: 704.8605\n",
            "Epoch 70/100\n",
            "18/18 [==============================] - 1s 41ms/step - loss: 122.0591 - val_loss: 574.0012\n",
            "Epoch 71/100\n",
            "18/18 [==============================] - 0s 3ms/step - loss: 110.6805 - val_loss: 582.4785\n",
            "Epoch 72/100\n",
            "18/18 [==============================] - 1s 41ms/step - loss: 108.5809 - val_loss: 573.2568\n",
            "Epoch 73/100\n",
            "18/18 [==============================] - 0s 3ms/step - loss: 111.4726 - val_loss: 639.7592\n",
            "Epoch 74/100\n",
            "18/18 [==============================] - 1s 41ms/step - loss: 108.1881 - val_loss: 572.1608\n",
            "Epoch 75/100\n",
            "18/18 [==============================] - 0s 3ms/step - loss: 108.2999 - val_loss: 586.2969\n",
            "Epoch 76/100\n",
            "18/18 [==============================] - 0s 4ms/step - loss: 109.3541 - val_loss: 572.9821\n",
            "Epoch 77/100\n",
            "18/18 [==============================] - 0s 3ms/step - loss: 107.8668 - val_loss: 572.5251\n",
            "Epoch 78/100\n",
            "18/18 [==============================] - 0s 3ms/step - loss: 107.7326 - val_loss: 574.9956\n",
            "Epoch 79/100\n",
            "18/18 [==============================] - 0s 4ms/step - loss: 107.1027 - val_loss: 593.1469\n",
            "Epoch 80/100\n",
            "18/18 [==============================] - 0s 4ms/step - loss: 108.1534 - val_loss: 585.9691\n",
            "Epoch 81/100\n",
            "18/18 [==============================] - 0s 3ms/step - loss: 107.0599 - val_loss: 572.7422\n",
            "Epoch 82/100\n",
            "18/18 [==============================] - 0s 3ms/step - loss: 117.6359 - val_loss: 604.6208\n",
            "Epoch 83/100\n",
            "18/18 [==============================] - 0s 3ms/step - loss: 110.8032 - val_loss: 670.5224\n",
            "Epoch 84/100\n",
            "18/18 [==============================] - 0s 3ms/step - loss: 111.6609 - val_loss: 574.8293\n",
            "Epoch 85/100\n",
            "18/18 [==============================] - 1s 42ms/step - loss: 107.9166 - val_loss: 571.9283\n",
            "Epoch 86/100\n",
            "18/18 [==============================] - 0s 4ms/step - loss: 107.2452 - val_loss: 592.6500\n",
            "Epoch 87/100\n",
            "18/18 [==============================] - 0s 3ms/step - loss: 106.7613 - val_loss: 604.2857\n",
            "Epoch 88/100\n",
            "18/18 [==============================] - 0s 3ms/step - loss: 107.7547 - val_loss: 584.0389\n",
            "Epoch 89/100\n",
            "18/18 [==============================] - 0s 3ms/step - loss: 106.5926 - val_loss: 572.7336\n",
            "Epoch 90/100\n",
            "18/18 [==============================] - 0s 3ms/step - loss: 106.1900 - val_loss: 577.0853\n",
            "Epoch 91/100\n",
            "18/18 [==============================] - 0s 3ms/step - loss: 109.8441 - val_loss: 595.3207\n",
            "Epoch 92/100\n",
            "18/18 [==============================] - 0s 5ms/step - loss: 110.1011 - val_loss: 585.5007\n",
            "Epoch 93/100\n",
            "18/18 [==============================] - 0s 3ms/step - loss: 115.8956 - val_loss: 643.3029\n",
            "Epoch 94/100\n",
            "18/18 [==============================] - 0s 4ms/step - loss: 111.8781 - val_loss: 597.5074\n",
            "Epoch 95/100\n",
            "18/18 [==============================] - 1s 41ms/step - loss: 106.6255 - val_loss: 571.3428\n",
            "Epoch 96/100\n",
            "18/18 [==============================] - 0s 3ms/step - loss: 108.5560 - val_loss: 627.1015\n",
            "Epoch 97/100\n",
            "18/18 [==============================] - 0s 4ms/step - loss: 107.7741 - val_loss: 589.1556\n",
            "Epoch 98/100\n",
            "18/18 [==============================] - 0s 4ms/step - loss: 107.1832 - val_loss: 574.5533\n",
            "Epoch 99/100\n",
            "18/18 [==============================] - 1s 59ms/step - loss: 107.1678 - val_loss: 569.0326\n",
            "Epoch 100/100\n",
            "18/18 [==============================] - 0s 3ms/step - loss: 110.9699 - val_loss: 624.1892\n"
          ]
        },
        {
          "output_type": "execute_result",
          "data": {
            "text/plain": [
              "<keras.callbacks.History at 0x7f86690e8e90>"
            ]
          },
          "metadata": {},
          "execution_count": 69
        }
      ],
      "source": [
        "tf.random.set_seed(42)\n",
        "\n",
        "model_4 = tf.keras.Sequential([\n",
        "    layers.Lambda(lambda x : tf.expand_dims(x, axis= 1)),\n",
        "    layers.Conv1D(filters = 128, kernel_size = 5, strides=1, padding= 'causal', activation = 'relu'),\n",
        "    layers.Dense(HORIZON)\n",
        "] , name = \"model_4_conv1d\")\n",
        "\n",
        "model_4.compile(loss = \"mae\",\n",
        "              optimizer = tf.keras.optimizers.Adam())\n",
        "\n",
        "model_4.fit(train_windows,\n",
        "          train_labels,\n",
        "          batch_size = 128,\n",
        "          epochs = 100,\n",
        "          verbose = 1,\n",
        "          validation_data = (test_windows, test_labels),\n",
        "          callbacks = [create_model_checkpoint(model_name = 'model_4_conv1d') ])"
      ]
    },
    {
      "cell_type": "code",
      "execution_count": 70,
      "metadata": {
        "colab": {
          "base_uri": "https://localhost:8080/"
        },
        "id": "9tFmAYVkMwYS",
        "outputId": "6ac73632-fe98-44a1-d59d-975a3e66b749"
      },
      "outputs": [
        {
          "output_type": "stream",
          "name": "stdout",
          "text": [
            "18/18 [==============================] - 0s 1ms/step - loss: 624.1893\n"
          ]
        },
        {
          "output_type": "execute_result",
          "data": {
            "text/plain": [
              "624.1892700195312"
            ]
          },
          "metadata": {},
          "execution_count": 70
        }
      ],
      "source": [
        "model_4.evaluate(test_windows, test_labels)"
      ]
    },
    {
      "cell_type": "code",
      "execution_count": 71,
      "metadata": {
        "colab": {
          "base_uri": "https://localhost:8080/"
        },
        "id": "9mvbmj5cPlMq",
        "outputId": "8480bb5a-32f1-4a5a-8344-bcd5cba66770"
      },
      "outputs": [
        {
          "output_type": "stream",
          "name": "stdout",
          "text": [
            "18/18 [==============================] - 0s 2ms/step - loss: 569.0326\n"
          ]
        },
        {
          "output_type": "execute_result",
          "data": {
            "text/plain": [
              "569.0325927734375"
            ]
          },
          "metadata": {},
          "execution_count": 71
        }
      ],
      "source": [
        "model_4 = tf.keras.models.load_model(\"model_experiment/model_4_conv1d/\")\n",
        "model_4.evaluate(test_windows, test_labels)"
      ]
    },
    {
      "cell_type": "code",
      "execution_count": 72,
      "metadata": {
        "colab": {
          "base_uri": "https://localhost:8080/"
        },
        "id": "xiSlK8-_P61Y",
        "outputId": "86ba8e4f-9dd2-4dd3-b922-496c32d2ca5d"
      },
      "outputs": [
        {
          "output_type": "execute_result",
          "data": {
            "text/plain": [
              "<tf.Tensor: shape=(4,), dtype=float32, numpy=array([8847.293, 8757.503, 8997.469, 8762.801], dtype=float32)>"
            ]
          },
          "metadata": {},
          "execution_count": 72
        }
      ],
      "source": [
        "model_4_preds = make_preds(model_4, test_windows)\n",
        "\n",
        "model_4_preds[:4]"
      ]
    },
    {
      "cell_type": "code",
      "execution_count": 73,
      "metadata": {
        "colab": {
          "base_uri": "https://localhost:8080/"
        },
        "id": "NnfuhgUDRCN4",
        "outputId": "bd11eef0-db0e-409b-eb8c-818206159579"
      },
      "outputs": [
        {
          "output_type": "execute_result",
          "data": {
            "text/plain": [
              "{'mae': 569.03265,\n",
              " 'mse': 1169841.0,\n",
              " 'rmse': 23.854404,\n",
              " 'mape': 2.5515256,\n",
              " 'mase': 0.9996328}"
            ]
          },
          "metadata": {},
          "execution_count": 73
        }
      ],
      "source": [
        "model_4_results = evaluate_preds(y_true = tf.squeeze(test_labels),\n",
        "                                 y_pred = model_4_preds)\n",
        "\n",
        "model_4_results"
      ]
    },
    {
      "cell_type": "markdown",
      "metadata": {
        "id": "AR-tHaSdRpS1"
      },
      "source": [
        "## model 5: RNN (LSTM)"
      ]
    },
    {
      "cell_type": "code",
      "execution_count": 74,
      "metadata": {
        "colab": {
          "base_uri": "https://localhost:8080/"
        },
        "id": "RDgn55m7SwVb",
        "outputId": "a408120a-469e-4b1e-f6c9-ddbdfc37869a"
      },
      "outputs": [
        {
          "output_type": "stream",
          "name": "stdout",
          "text": [
            "Epoch 1/100\n",
            "10/18 [===============>..............] - ETA: 0s - loss: 2581.3245 "
          ]
        },
        {
          "output_type": "stream",
          "name": "stderr",
          "text": [
            "WARNING:absl:<keras.layers.recurrent.LSTMCell object at 0x7f866c126090> has the same name 'LSTMCell' as a built-in Keras object. Consider renaming <class 'keras.layers.recurrent.LSTMCell'> to avoid naming conflicts when loading with `tf.keras.models.load_model`. If renaming is not possible, pass the object in the `custom_objects` parameter of the load function.\n"
          ]
        },
        {
          "output_type": "stream",
          "name": "stdout",
          "text": [
            "\b\b\b\b\b\b\b\b\b\b\b\b\b\b\b\b\b\b\b\b\b\b\b\b\b\b\b\b\b\b\b\b\b\b\b\b\b\b\b\b\b\b\b\b\b\b\b\b\b\b\b\b\b\b\b\b\b\b\b\b\b\b\b\b\b\b\r18/18 [==============================] - 5s 229ms/step - loss: 2323.6123 - val_loss: 9224.3506\n",
            "Epoch 2/100\n",
            "12/18 [===================>..........] - ETA: 0s - loss: 905.3286 "
          ]
        },
        {
          "output_type": "stream",
          "name": "stderr",
          "text": [
            "WARNING:absl:<keras.layers.recurrent.LSTMCell object at 0x7f866c126090> has the same name 'LSTMCell' as a built-in Keras object. Consider renaming <class 'keras.layers.recurrent.LSTMCell'> to avoid naming conflicts when loading with `tf.keras.models.load_model`. If renaming is not possible, pass the object in the `custom_objects` parameter of the load function.\n"
          ]
        },
        {
          "output_type": "stream",
          "name": "stdout",
          "text": [
            "\b\b\b\b\b\b\b\b\b\b\b\b\b\b\b\b\b\b\b\b\b\b\b\b\b\b\b\b\b\b\b\b\b\b\b\b\b\b\b\b\b\b\b\b\b\b\b\b\b\b\b\b\b\b\b\b\b\b\b\b\b\b\b\b\b\r18/18 [==============================] - 2s 126ms/step - loss: 695.4956 - val_loss: 1485.8942\n",
            "Epoch 3/100\n",
            "12/18 [===================>..........] - ETA: 0s - loss: 266.3532"
          ]
        },
        {
          "output_type": "stream",
          "name": "stderr",
          "text": [
            "WARNING:absl:<keras.layers.recurrent.LSTMCell object at 0x7f866c126090> has the same name 'LSTMCell' as a built-in Keras object. Consider renaming <class 'keras.layers.recurrent.LSTMCell'> to avoid naming conflicts when loading with `tf.keras.models.load_model`. If renaming is not possible, pass the object in the `custom_objects` parameter of the load function.\n"
          ]
        },
        {
          "output_type": "stream",
          "name": "stdout",
          "text": [
            "\b\b\b\b\b\b\b\b\b\b\b\b\b\b\b\b\b\b\b\b\b\b\b\b\b\b\b\b\b\b\b\b\b\b\b\b\b\b\b\b\b\b\b\b\b\b\b\b\b\b\b\b\b\b\b\b\b\b\b\b\b\b\b\b\b\r18/18 [==============================] - 2s 139ms/step - loss: 237.3010 - val_loss: 1298.9436\n",
            "Epoch 4/100\n",
            "12/18 [===================>..........] - ETA: 0s - loss: 192.6128"
          ]
        },
        {
          "output_type": "stream",
          "name": "stderr",
          "text": [
            "WARNING:absl:<keras.layers.recurrent.LSTMCell object at 0x7f866c126090> has the same name 'LSTMCell' as a built-in Keras object. Consider renaming <class 'keras.layers.recurrent.LSTMCell'> to avoid naming conflicts when loading with `tf.keras.models.load_model`. If renaming is not possible, pass the object in the `custom_objects` parameter of the load function.\n"
          ]
        },
        {
          "output_type": "stream",
          "name": "stdout",
          "text": [
            "\b\b\b\b\b\b\b\b\b\b\b\b\b\b\b\b\b\b\b\b\b\b\b\b\b\b\b\b\b\b\b\b\b\b\b\b\b\b\b\b\b\b\b\b\b\b\b\b\b\b\b\b\b\b\b\b\b\b\b\b\b\b\b\b\b\r18/18 [==============================] - 2s 120ms/step - loss: 181.9182 - val_loss: 966.6407\n",
            "Epoch 5/100\n",
            "18/18 [==============================] - 0s 7ms/step - loss: 173.4021 - val_loss: 970.9384\n",
            "Epoch 6/100\n",
            "12/18 [===================>..........] - ETA: 0s - loss: 170.0443"
          ]
        },
        {
          "output_type": "stream",
          "name": "stderr",
          "text": [
            "WARNING:absl:<keras.layers.recurrent.LSTMCell object at 0x7f866c126090> has the same name 'LSTMCell' as a built-in Keras object. Consider renaming <class 'keras.layers.recurrent.LSTMCell'> to avoid naming conflicts when loading with `tf.keras.models.load_model`. If renaming is not possible, pass the object in the `custom_objects` parameter of the load function.\n"
          ]
        },
        {
          "output_type": "stream",
          "name": "stdout",
          "text": [
            "\b\b\b\b\b\b\b\b\b\b\b\b\b\b\b\b\b\b\b\b\b\b\b\b\b\b\b\b\b\b\b\b\b\b\b\b\b\b\b\b\b\b\b\b\b\b\b\b\b\b\b\b\b\b\b\b\b\b\b\b\b\b\b\b\b\r18/18 [==============================] - 2s 118ms/step - loss: 172.3319 - val_loss: 891.5209\n",
            "Epoch 7/100\n",
            "18/18 [==============================] - 0s 7ms/step - loss: 168.9708 - val_loss: 968.6377\n",
            "Epoch 8/100\n",
            "18/18 [==============================] - 0s 6ms/step - loss: 169.5318 - val_loss: 963.4456\n",
            "Epoch 9/100\n",
            "18/18 [==============================] - 0s 6ms/step - loss: 167.5760 - val_loss: 956.5829\n",
            "Epoch 10/100\n",
            "18/18 [==============================] - 0s 6ms/step - loss: 166.3443 - val_loss: 936.8956\n",
            "Epoch 11/100\n",
            "18/18 [==============================] - 0s 7ms/step - loss: 165.4762 - val_loss: 909.1110\n",
            "Epoch 12/100\n",
            "12/18 [===================>..........] - ETA: 0s - loss: 170.8306"
          ]
        },
        {
          "output_type": "stream",
          "name": "stderr",
          "text": [
            "WARNING:absl:<keras.layers.recurrent.LSTMCell object at 0x7f866c126090> has the same name 'LSTMCell' as a built-in Keras object. Consider renaming <class 'keras.layers.recurrent.LSTMCell'> to avoid naming conflicts when loading with `tf.keras.models.load_model`. If renaming is not possible, pass the object in the `custom_objects` parameter of the load function.\n"
          ]
        },
        {
          "output_type": "stream",
          "name": "stdout",
          "text": [
            "\b\b\b\b\b\b\b\b\b\b\b\b\b\b\b\b\b\b\b\b\b\b\b\b\b\b\b\b\b\b\b\b\b\b\b\b\b\b\b\b\b\b\b\b\b\b\b\b\b\b\b\b\b\b\b\b\b\b\b\b\b\b\b\b\b\r18/18 [==============================] - 2s 118ms/step - loss: 169.9951 - val_loss: 891.2327\n",
            "Epoch 13/100\n",
            "18/18 [==============================] - 0s 6ms/step - loss: 160.3806 - val_loss: 898.5595\n",
            "Epoch 14/100\n",
            "18/18 [==============================] - 0s 7ms/step - loss: 157.6484 - val_loss: 927.9266\n",
            "Epoch 15/100\n",
            "18/18 [==============================] - 0s 7ms/step - loss: 167.6508 - val_loss: 982.9256\n",
            "Epoch 16/100\n",
            "18/18 [==============================] - 0s 7ms/step - loss: 160.4521 - val_loss: 916.0458\n",
            "Epoch 17/100\n",
            "18/18 [==============================] - 0s 6ms/step - loss: 153.8805 - val_loss: 928.6927\n",
            "Epoch 18/100\n",
            "12/18 [===================>..........] - ETA: 0s - loss: 160.4999"
          ]
        },
        {
          "output_type": "stream",
          "name": "stderr",
          "text": [
            "WARNING:absl:<keras.layers.recurrent.LSTMCell object at 0x7f866c126090> has the same name 'LSTMCell' as a built-in Keras object. Consider renaming <class 'keras.layers.recurrent.LSTMCell'> to avoid naming conflicts when loading with `tf.keras.models.load_model`. If renaming is not possible, pass the object in the `custom_objects` parameter of the load function.\n"
          ]
        },
        {
          "output_type": "stream",
          "name": "stdout",
          "text": [
            "\b\b\b\b\b\b\b\b\b\b\b\b\b\b\b\b\b\b\b\b\b\b\b\b\b\b\b\b\b\b\b\b\b\b\b\b\b\b\b\b\b\b\b\b\b\b\b\b\b\b\b\b\b\b\b\b\b\b\b\b\b\b\b\b\b\r18/18 [==============================] - 2s 141ms/step - loss: 152.1556 - val_loss: 865.6219\n",
            "Epoch 19/100\n",
            "18/18 [==============================] - 0s 7ms/step - loss: 148.8319 - val_loss: 876.9328\n",
            "Epoch 20/100\n",
            "12/18 [===================>..........] - ETA: 0s - loss: 153.3520"
          ]
        },
        {
          "output_type": "stream",
          "name": "stderr",
          "text": [
            "WARNING:absl:<keras.layers.recurrent.LSTMCell object at 0x7f866c126090> has the same name 'LSTMCell' as a built-in Keras object. Consider renaming <class 'keras.layers.recurrent.LSTMCell'> to avoid naming conflicts when loading with `tf.keras.models.load_model`. If renaming is not possible, pass the object in the `custom_objects` parameter of the load function.\n"
          ]
        },
        {
          "output_type": "stream",
          "name": "stdout",
          "text": [
            "\b\b\b\b\b\b\b\b\b\b\b\b\b\b\b\b\b\b\b\b\b\b\b\b\b\b\b\b\b\b\b\b\b\b\b\b\b\b\b\b\b\b\b\b\b\b\b\b\b\b\b\b\b\b\b\b\b\b\b\b\b\b\b\b\b\r18/18 [==============================] - 2s 120ms/step - loss: 149.6801 - val_loss: 831.2376\n",
            "Epoch 21/100\n",
            "11/18 [=================>............] - ETA: 0s - loss: 153.4114"
          ]
        },
        {
          "output_type": "stream",
          "name": "stderr",
          "text": [
            "WARNING:absl:<keras.layers.recurrent.LSTMCell object at 0x7f866c126090> has the same name 'LSTMCell' as a built-in Keras object. Consider renaming <class 'keras.layers.recurrent.LSTMCell'> to avoid naming conflicts when loading with `tf.keras.models.load_model`. If renaming is not possible, pass the object in the `custom_objects` parameter of the load function.\n"
          ]
        },
        {
          "output_type": "stream",
          "name": "stdout",
          "text": [
            "\b\b\b\b\b\b\b\b\b\b\b\b\b\b\b\b\b\b\b\b\b\b\b\b\b\b\b\b\b\b\b\b\b\b\b\b\b\b\b\b\b\b\b\b\b\b\b\b\b\b\b\b\b\b\b\b\b\b\b\b\b\b\b\b\b\r18/18 [==============================] - 2s 117ms/step - loss: 145.7330 - val_loss: 821.0629\n",
            "Epoch 22/100\n",
            "18/18 [==============================] - 0s 6ms/step - loss: 143.9433 - val_loss: 821.2911\n",
            "Epoch 23/100\n",
            "18/18 [==============================] - 0s 7ms/step - loss: 143.1268 - val_loss: 837.1895\n",
            "Epoch 24/100\n",
            "12/18 [===================>..........] - ETA: 0s - loss: 140.3252"
          ]
        },
        {
          "output_type": "stream",
          "name": "stderr",
          "text": [
            "WARNING:absl:<keras.layers.recurrent.LSTMCell object at 0x7f866c126090> has the same name 'LSTMCell' as a built-in Keras object. Consider renaming <class 'keras.layers.recurrent.LSTMCell'> to avoid naming conflicts when loading with `tf.keras.models.load_model`. If renaming is not possible, pass the object in the `custom_objects` parameter of the load function.\n"
          ]
        },
        {
          "output_type": "stream",
          "name": "stdout",
          "text": [
            "\b\b\b\b\b\b\b\b\b\b\b\b\b\b\b\b\b\b\b\b\b\b\b\b\b\b\b\b\b\b\b\b\b\b\b\b\b\b\b\b\b\b\b\b\b\b\b\b\b\b\b\b\b\b\b\b\b\b\b\b\b\b\b\b\b\r18/18 [==============================] - 2s 138ms/step - loss: 141.0378 - val_loss: 808.0547\n",
            "Epoch 25/100\n",
            "13/18 [====================>.........] - ETA: 0s - loss: 142.0081"
          ]
        },
        {
          "output_type": "stream",
          "name": "stderr",
          "text": [
            "WARNING:absl:<keras.layers.recurrent.LSTMCell object at 0x7f866c126090> has the same name 'LSTMCell' as a built-in Keras object. Consider renaming <class 'keras.layers.recurrent.LSTMCell'> to avoid naming conflicts when loading with `tf.keras.models.load_model`. If renaming is not possible, pass the object in the `custom_objects` parameter of the load function.\n"
          ]
        },
        {
          "output_type": "stream",
          "name": "stdout",
          "text": [
            "\b\b\b\b\b\b\b\b\b\b\b\b\b\b\b\b\b\b\b\b\b\b\b\b\b\b\b\b\b\b\b\b\b\b\b\b\b\b\b\b\b\b\b\b\b\b\b\b\b\b\b\b\b\b\b\b\b\b\b\b\b\b\b\b\b\r18/18 [==============================] - 2s 122ms/step - loss: 139.0068 - val_loss: 787.0112\n",
            "Epoch 26/100\n",
            "13/18 [====================>.........] - ETA: 0s - loss: 135.4655"
          ]
        },
        {
          "output_type": "stream",
          "name": "stderr",
          "text": [
            "WARNING:absl:<keras.layers.recurrent.LSTMCell object at 0x7f866c126090> has the same name 'LSTMCell' as a built-in Keras object. Consider renaming <class 'keras.layers.recurrent.LSTMCell'> to avoid naming conflicts when loading with `tf.keras.models.load_model`. If renaming is not possible, pass the object in the `custom_objects` parameter of the load function.\n"
          ]
        },
        {
          "output_type": "stream",
          "name": "stdout",
          "text": [
            "\b\b\b\b\b\b\b\b\b\b\b\b\b\b\b\b\b\b\b\b\b\b\b\b\b\b\b\b\b\b\b\b\b\b\b\b\b\b\b\b\b\b\b\b\b\b\b\b\b\b\b\b\b\b\b\b\b\b\b\b\b\b\b\b\b\r18/18 [==============================] - 2s 118ms/step - loss: 137.9395 - val_loss: 769.2203\n",
            "Epoch 27/100\n",
            "18/18 [==============================] - 0s 6ms/step - loss: 136.4498 - val_loss: 772.5977\n",
            "Epoch 28/100\n",
            "13/18 [====================>.........] - ETA: 0s - loss: 134.0706"
          ]
        },
        {
          "output_type": "stream",
          "name": "stderr",
          "text": [
            "WARNING:absl:<keras.layers.recurrent.LSTMCell object at 0x7f866c126090> has the same name 'LSTMCell' as a built-in Keras object. Consider renaming <class 'keras.layers.recurrent.LSTMCell'> to avoid naming conflicts when loading with `tf.keras.models.load_model`. If renaming is not possible, pass the object in the `custom_objects` parameter of the load function.\n"
          ]
        },
        {
          "output_type": "stream",
          "name": "stdout",
          "text": [
            "\b\b\b\b\b\b\b\b\b\b\b\b\b\b\b\b\b\b\b\b\b\b\b\b\b\b\b\b\b\b\b\b\b\b\b\b\b\b\b\b\b\b\b\b\b\b\b\b\b\b\b\b\b\b\b\b\b\b\b\b\b\b\b\b\b\r18/18 [==============================] - 2s 118ms/step - loss: 135.2745 - val_loss: 751.0115\n",
            "Epoch 29/100\n",
            "18/18 [==============================] - 0s 6ms/step - loss: 135.5958 - val_loss: 759.8718\n",
            "Epoch 30/100\n",
            "18/18 [==============================] - 0s 7ms/step - loss: 138.2377 - val_loss: 789.2983\n",
            "Epoch 31/100\n",
            "12/18 [===================>..........] - ETA: 0s - loss: 135.2388"
          ]
        },
        {
          "output_type": "stream",
          "name": "stderr",
          "text": [
            "WARNING:absl:<keras.layers.recurrent.LSTMCell object at 0x7f866c126090> has the same name 'LSTMCell' as a built-in Keras object. Consider renaming <class 'keras.layers.recurrent.LSTMCell'> to avoid naming conflicts when loading with `tf.keras.models.load_model`. If renaming is not possible, pass the object in the `custom_objects` parameter of the load function.\n"
          ]
        },
        {
          "output_type": "stream",
          "name": "stdout",
          "text": [
            "\b\b\b\b\b\b\b\b\b\b\b\b\b\b\b\b\b\b\b\b\b\b\b\b\b\b\b\b\b\b\b\b\b\b\b\b\b\b\b\b\b\b\b\b\b\b\b\b\b\b\b\b\b\b\b\b\b\b\b\b\b\b\b\b\b\r18/18 [==============================] - 2s 144ms/step - loss: 133.4514 - val_loss: 730.3293\n",
            "Epoch 32/100\n",
            "18/18 [==============================] - 0s 7ms/step - loss: 129.2459 - val_loss: 730.9674\n",
            "Epoch 33/100\n",
            "13/18 [====================>.........] - ETA: 0s - loss: 129.6380"
          ]
        },
        {
          "output_type": "stream",
          "name": "stderr",
          "text": [
            "WARNING:absl:<keras.layers.recurrent.LSTMCell object at 0x7f866c126090> has the same name 'LSTMCell' as a built-in Keras object. Consider renaming <class 'keras.layers.recurrent.LSTMCell'> to avoid naming conflicts when loading with `tf.keras.models.load_model`. If renaming is not possible, pass the object in the `custom_objects` parameter of the load function.\n"
          ]
        },
        {
          "output_type": "stream",
          "name": "stdout",
          "text": [
            "\b\b\b\b\b\b\b\b\b\b\b\b\b\b\b\b\b\b\b\b\b\b\b\b\b\b\b\b\b\b\b\b\b\b\b\b\b\b\b\b\b\b\b\b\b\b\b\b\b\b\b\b\b\b\b\b\b\b\b\b\b\b\b\b\b\r18/18 [==============================] - 2s 120ms/step - loss: 128.6682 - val_loss: 726.6902\n",
            "Epoch 34/100\n",
            "12/18 [===================>..........] - ETA: 0s - loss: 134.7901"
          ]
        },
        {
          "output_type": "stream",
          "name": "stderr",
          "text": [
            "WARNING:absl:<keras.layers.recurrent.LSTMCell object at 0x7f866c126090> has the same name 'LSTMCell' as a built-in Keras object. Consider renaming <class 'keras.layers.recurrent.LSTMCell'> to avoid naming conflicts when loading with `tf.keras.models.load_model`. If renaming is not possible, pass the object in the `custom_objects` parameter of the load function.\n"
          ]
        },
        {
          "output_type": "stream",
          "name": "stdout",
          "text": [
            "\b\b\b\b\b\b\b\b\b\b\b\b\b\b\b\b\b\b\b\b\b\b\b\b\b\b\b\b\b\b\b\b\b\b\b\b\b\b\b\b\b\b\b\b\b\b\b\b\b\b\b\b\b\b\b\b\b\b\b\b\b\b\b\b\b\r18/18 [==============================] - 2s 118ms/step - loss: 128.9641 - val_loss: 708.2340\n",
            "Epoch 35/100\n",
            "12/18 [===================>..........] - ETA: 0s - loss: 127.4486"
          ]
        },
        {
          "output_type": "stream",
          "name": "stderr",
          "text": [
            "WARNING:absl:<keras.layers.recurrent.LSTMCell object at 0x7f866c126090> has the same name 'LSTMCell' as a built-in Keras object. Consider renaming <class 'keras.layers.recurrent.LSTMCell'> to avoid naming conflicts when loading with `tf.keras.models.load_model`. If renaming is not possible, pass the object in the `custom_objects` parameter of the load function.\n"
          ]
        },
        {
          "output_type": "stream",
          "name": "stdout",
          "text": [
            "\b\b\b\b\b\b\b\b\b\b\b\b\b\b\b\b\b\b\b\b\b\b\b\b\b\b\b\b\b\b\b\b\b\b\b\b\b\b\b\b\b\b\b\b\b\b\b\b\b\b\b\b\b\b\b\b\b\b\b\b\b\b\b\b\b\r18/18 [==============================] - 2s 120ms/step - loss: 126.4375 - val_loss: 702.6016\n",
            "Epoch 36/100\n",
            "12/18 [===================>..........] - ETA: 0s - loss: 124.1017"
          ]
        },
        {
          "output_type": "stream",
          "name": "stderr",
          "text": [
            "WARNING:absl:<keras.layers.recurrent.LSTMCell object at 0x7f866c126090> has the same name 'LSTMCell' as a built-in Keras object. Consider renaming <class 'keras.layers.recurrent.LSTMCell'> to avoid naming conflicts when loading with `tf.keras.models.load_model`. If renaming is not possible, pass the object in the `custom_objects` parameter of the load function.\n"
          ]
        },
        {
          "output_type": "stream",
          "name": "stdout",
          "text": [
            "\b\b\b\b\b\b\b\b\b\b\b\b\b\b\b\b\b\b\b\b\b\b\b\b\b\b\b\b\b\b\b\b\b\b\b\b\b\b\b\b\b\b\b\b\b\b\b\b\b\b\b\b\b\b\b\b\b\b\b\b\b\b\b\b\b\r18/18 [==============================] - 2s 142ms/step - loss: 125.8648 - val_loss: 696.0234\n",
            "Epoch 37/100\n",
            "11/18 [=================>............] - ETA: 0s - loss: 122.4251"
          ]
        },
        {
          "output_type": "stream",
          "name": "stderr",
          "text": [
            "WARNING:absl:<keras.layers.recurrent.LSTMCell object at 0x7f866c126090> has the same name 'LSTMCell' as a built-in Keras object. Consider renaming <class 'keras.layers.recurrent.LSTMCell'> to avoid naming conflicts when loading with `tf.keras.models.load_model`. If renaming is not possible, pass the object in the `custom_objects` parameter of the load function.\n"
          ]
        },
        {
          "output_type": "stream",
          "name": "stdout",
          "text": [
            "\b\b\b\b\b\b\b\b\b\b\b\b\b\b\b\b\b\b\b\b\b\b\b\b\b\b\b\b\b\b\b\b\b\b\b\b\b\b\b\b\b\b\b\b\b\b\b\b\b\b\b\b\b\b\b\b\b\b\b\b\b\b\b\b\b\r18/18 [==============================] - 2s 122ms/step - loss: 124.2744 - val_loss: 692.3998\n",
            "Epoch 38/100\n",
            "11/18 [=================>............] - ETA: 0s - loss: 131.0452"
          ]
        },
        {
          "output_type": "stream",
          "name": "stderr",
          "text": [
            "WARNING:absl:<keras.layers.recurrent.LSTMCell object at 0x7f866c126090> has the same name 'LSTMCell' as a built-in Keras object. Consider renaming <class 'keras.layers.recurrent.LSTMCell'> to avoid naming conflicts when loading with `tf.keras.models.load_model`. If renaming is not possible, pass the object in the `custom_objects` parameter of the load function.\n"
          ]
        },
        {
          "output_type": "stream",
          "name": "stdout",
          "text": [
            "\b\b\b\b\b\b\b\b\b\b\b\b\b\b\b\b\b\b\b\b\b\b\b\b\b\b\b\b\b\b\b\b\b\b\b\b\b\b\b\b\b\b\b\b\b\b\b\b\b\b\b\b\b\b\b\b\b\b\b\b\b\b\b\b\b\r18/18 [==============================] - 2s 120ms/step - loss: 123.4617 - val_loss: 682.3129\n",
            "Epoch 39/100\n",
            "18/18 [==============================] - 0s 6ms/step - loss: 124.4908 - val_loss: 689.1117\n",
            "Epoch 40/100\n",
            "18/18 [==============================] - 0s 7ms/step - loss: 123.6601 - val_loss: 688.7414\n",
            "Epoch 41/100\n",
            "12/18 [===================>..........] - ETA: 0s - loss: 124.3209"
          ]
        },
        {
          "output_type": "stream",
          "name": "stderr",
          "text": [
            "WARNING:absl:<keras.layers.recurrent.LSTMCell object at 0x7f866c126090> has the same name 'LSTMCell' as a built-in Keras object. Consider renaming <class 'keras.layers.recurrent.LSTMCell'> to avoid naming conflicts when loading with `tf.keras.models.load_model`. If renaming is not possible, pass the object in the `custom_objects` parameter of the load function.\n"
          ]
        },
        {
          "output_type": "stream",
          "name": "stdout",
          "text": [
            "\b\b\b\b\b\b\b\b\b\b\b\b\b\b\b\b\b\b\b\b\b\b\b\b\b\b\b\b\b\b\b\b\b\b\b\b\b\b\b\b\b\b\b\b\b\b\b\b\b\b\b\b\b\b\b\b\b\b\b\b\b\b\b\b\b\r18/18 [==============================] - 2s 119ms/step - loss: 121.6996 - val_loss: 673.3080\n",
            "Epoch 42/100\n",
            "12/18 [===================>..........] - ETA: 0s - loss: 119.8762"
          ]
        },
        {
          "output_type": "stream",
          "name": "stderr",
          "text": [
            "WARNING:absl:<keras.layers.recurrent.LSTMCell object at 0x7f866c126090> has the same name 'LSTMCell' as a built-in Keras object. Consider renaming <class 'keras.layers.recurrent.LSTMCell'> to avoid naming conflicts when loading with `tf.keras.models.load_model`. If renaming is not possible, pass the object in the `custom_objects` parameter of the load function.\n"
          ]
        },
        {
          "output_type": "stream",
          "name": "stdout",
          "text": [
            "\b\b\b\b\b\b\b\b\b\b\b\b\b\b\b\b\b\b\b\b\b\b\b\b\b\b\b\b\b\b\b\b\b\b\b\b\b\b\b\b\b\b\b\b\b\b\b\b\b\b\b\b\b\b\b\b\b\b\b\b\b\b\b\b\b\r18/18 [==============================] - 2s 143ms/step - loss: 121.2662 - val_loss: 665.5682\n",
            "Epoch 43/100\n",
            "13/18 [====================>.........] - ETA: 0s - loss: 116.9011"
          ]
        },
        {
          "output_type": "stream",
          "name": "stderr",
          "text": [
            "WARNING:absl:<keras.layers.recurrent.LSTMCell object at 0x7f866c126090> has the same name 'LSTMCell' as a built-in Keras object. Consider renaming <class 'keras.layers.recurrent.LSTMCell'> to avoid naming conflicts when loading with `tf.keras.models.load_model`. If renaming is not possible, pass the object in the `custom_objects` parameter of the load function.\n"
          ]
        },
        {
          "output_type": "stream",
          "name": "stdout",
          "text": [
            "\b\b\b\b\b\b\b\b\b\b\b\b\b\b\b\b\b\b\b\b\b\b\b\b\b\b\b\b\b\b\b\b\b\b\b\b\b\b\b\b\b\b\b\b\b\b\b\b\b\b\b\b\b\b\b\b\b\b\b\b\b\b\b\b\b\r18/18 [==============================] - 2s 121ms/step - loss: 121.1914 - val_loss: 663.4371\n",
            "Epoch 44/100\n",
            "18/18 [==============================] - 0s 6ms/step - loss: 121.3492 - val_loss: 666.4625\n",
            "Epoch 45/100\n",
            "12/18 [===================>..........] - ETA: 0s - loss: 116.5398"
          ]
        },
        {
          "output_type": "stream",
          "name": "stderr",
          "text": [
            "WARNING:absl:<keras.layers.recurrent.LSTMCell object at 0x7f866c126090> has the same name 'LSTMCell' as a built-in Keras object. Consider renaming <class 'keras.layers.recurrent.LSTMCell'> to avoid naming conflicts when loading with `tf.keras.models.load_model`. If renaming is not possible, pass the object in the `custom_objects` parameter of the load function.\n"
          ]
        },
        {
          "output_type": "stream",
          "name": "stdout",
          "text": [
            "\b\b\b\b\b\b\b\b\b\b\b\b\b\b\b\b\b\b\b\b\b\b\b\b\b\b\b\b\b\b\b\b\b\b\b\b\b\b\b\b\b\b\b\b\b\b\b\b\b\b\b\b\b\b\b\b\b\b\b\b\b\b\b\b\b\r18/18 [==============================] - 2s 119ms/step - loss: 119.4222 - val_loss: 653.1441\n",
            "Epoch 46/100\n",
            "12/18 [===================>..........] - ETA: 0s - loss: 124.5274"
          ]
        },
        {
          "output_type": "stream",
          "name": "stderr",
          "text": [
            "WARNING:absl:<keras.layers.recurrent.LSTMCell object at 0x7f866c126090> has the same name 'LSTMCell' as a built-in Keras object. Consider renaming <class 'keras.layers.recurrent.LSTMCell'> to avoid naming conflicts when loading with `tf.keras.models.load_model`. If renaming is not possible, pass the object in the `custom_objects` parameter of the load function.\n"
          ]
        },
        {
          "output_type": "stream",
          "name": "stdout",
          "text": [
            "\b\b\b\b\b\b\b\b\b\b\b\b\b\b\b\b\b\b\b\b\b\b\b\b\b\b\b\b\b\b\b\b\b\b\b\b\b\b\b\b\b\b\b\b\b\b\b\b\b\b\b\b\b\b\b\b\b\b\b\b\b\b\b\b\b\r18/18 [==============================] - 2s 140ms/step - loss: 119.1475 - val_loss: 649.3669\n",
            "Epoch 47/100\n",
            "18/18 [==============================] - 0s 6ms/step - loss: 119.5113 - val_loss: 650.3450\n",
            "Epoch 48/100\n",
            "12/18 [===================>..........] - ETA: 0s - loss: 114.8167"
          ]
        },
        {
          "output_type": "stream",
          "name": "stderr",
          "text": [
            "WARNING:absl:<keras.layers.recurrent.LSTMCell object at 0x7f866c126090> has the same name 'LSTMCell' as a built-in Keras object. Consider renaming <class 'keras.layers.recurrent.LSTMCell'> to avoid naming conflicts when loading with `tf.keras.models.load_model`. If renaming is not possible, pass the object in the `custom_objects` parameter of the load function.\n"
          ]
        },
        {
          "output_type": "stream",
          "name": "stdout",
          "text": [
            "\b\b\b\b\b\b\b\b\b\b\b\b\b\b\b\b\b\b\b\b\b\b\b\b\b\b\b\b\b\b\b\b\b\b\b\b\b\b\b\b\b\b\b\b\b\b\b\b\b\b\b\b\b\b\b\b\b\b\b\b\b\b\b\b\b\r18/18 [==============================] - 2s 121ms/step - loss: 117.9849 - val_loss: 643.7015\n",
            "Epoch 49/100\n",
            "18/18 [==============================] - 0s 6ms/step - loss: 117.3458 - val_loss: 649.1431\n",
            "Epoch 50/100\n",
            "18/18 [==============================] - 0s 7ms/step - loss: 119.0112 - val_loss: 658.5665\n",
            "Epoch 51/100\n",
            "18/18 [==============================] - 0s 7ms/step - loss: 118.3833 - val_loss: 673.2418\n",
            "Epoch 52/100\n",
            "18/18 [==============================] - 0s 6ms/step - loss: 118.0016 - val_loss: 644.5724\n",
            "Epoch 53/100\n",
            "12/18 [===================>..........] - ETA: 0s - loss: 115.0004"
          ]
        },
        {
          "output_type": "stream",
          "name": "stderr",
          "text": [
            "WARNING:absl:<keras.layers.recurrent.LSTMCell object at 0x7f866c126090> has the same name 'LSTMCell' as a built-in Keras object. Consider renaming <class 'keras.layers.recurrent.LSTMCell'> to avoid naming conflicts when loading with `tf.keras.models.load_model`. If renaming is not possible, pass the object in the `custom_objects` parameter of the load function.\n"
          ]
        },
        {
          "output_type": "stream",
          "name": "stdout",
          "text": [
            "\b\b\b\b\b\b\b\b\b\b\b\b\b\b\b\b\b\b\b\b\b\b\b\b\b\b\b\b\b\b\b\b\b\b\b\b\b\b\b\b\b\b\b\b\b\b\b\b\b\b\b\b\b\b\b\b\b\b\b\b\b\b\b\b\b\r18/18 [==============================] - 2s 120ms/step - loss: 117.5012 - val_loss: 632.1457\n",
            "Epoch 54/100\n",
            "18/18 [==============================] - 0s 7ms/step - loss: 117.3330 - val_loss: 637.2055\n",
            "Epoch 55/100\n",
            "12/18 [===================>..........] - ETA: 0s - loss: 121.5831"
          ]
        },
        {
          "output_type": "stream",
          "name": "stderr",
          "text": [
            "WARNING:absl:<keras.layers.recurrent.LSTMCell object at 0x7f866c126090> has the same name 'LSTMCell' as a built-in Keras object. Consider renaming <class 'keras.layers.recurrent.LSTMCell'> to avoid naming conflicts when loading with `tf.keras.models.load_model`. If renaming is not possible, pass the object in the `custom_objects` parameter of the load function.\n"
          ]
        },
        {
          "output_type": "stream",
          "name": "stdout",
          "text": [
            "\b\b\b\b\b\b\b\b\b\b\b\b\b\b\b\b\b\b\b\b\b\b\b\b\b\b\b\b\b\b\b\b\b\b\b\b\b\b\b\b\b\b\b\b\b\b\b\b\b\b\b\b\b\b\b\b\b\b\b\b\b\b\b\b\b\r18/18 [==============================] - 2s 122ms/step - loss: 115.8615 - val_loss: 627.7058\n",
            "Epoch 56/100\n",
            "18/18 [==============================] - 0s 7ms/step - loss: 117.1814 - val_loss: 648.4813\n",
            "Epoch 57/100\n",
            "18/18 [==============================] - 0s 7ms/step - loss: 125.8361 - val_loss: 648.9831\n",
            "Epoch 58/100\n",
            "18/18 [==============================] - 0s 6ms/step - loss: 115.4787 - val_loss: 630.3375\n",
            "Epoch 59/100\n",
            "18/18 [==============================] - 0s 6ms/step - loss: 114.6559 - val_loss: 628.4244\n",
            "Epoch 60/100\n",
            "13/18 [====================>.........] - ETA: 0s - loss: 115.3895"
          ]
        },
        {
          "output_type": "stream",
          "name": "stderr",
          "text": [
            "WARNING:absl:<keras.layers.recurrent.LSTMCell object at 0x7f866c126090> has the same name 'LSTMCell' as a built-in Keras object. Consider renaming <class 'keras.layers.recurrent.LSTMCell'> to avoid naming conflicts when loading with `tf.keras.models.load_model`. If renaming is not possible, pass the object in the `custom_objects` parameter of the load function.\n"
          ]
        },
        {
          "output_type": "stream",
          "name": "stdout",
          "text": [
            "\b\b\b\b\b\b\b\b\b\b\b\b\b\b\b\b\b\b\b\b\b\b\b\b\b\b\b\b\b\b\b\b\b\b\b\b\b\b\b\b\b\b\b\b\b\b\b\b\b\b\b\b\b\b\b\b\b\b\b\b\b\b\b\b\b\r18/18 [==============================] - 2s 143ms/step - loss: 114.8021 - val_loss: 620.0607\n",
            "Epoch 61/100\n",
            "18/18 [==============================] - 0s 7ms/step - loss: 114.3845 - val_loss: 633.4195\n",
            "Epoch 62/100\n",
            "18/18 [==============================] - 0s 6ms/step - loss: 114.7735 - val_loss: 653.0529\n",
            "Epoch 63/100\n",
            "18/18 [==============================] - 0s 6ms/step - loss: 118.5447 - val_loss: 622.3017\n",
            "Epoch 64/100\n",
            "18/18 [==============================] - 0s 7ms/step - loss: 113.3439 - val_loss: 646.4648\n",
            "Epoch 65/100\n",
            "18/18 [==============================] - 0s 7ms/step - loss: 115.5774 - val_loss: 621.8207\n",
            "Epoch 66/100\n",
            "18/18 [==============================] - 0s 6ms/step - loss: 113.5758 - val_loss: 625.8535\n",
            "Epoch 67/100\n",
            "12/18 [===================>..........] - ETA: 0s - loss: 111.2375"
          ]
        },
        {
          "output_type": "stream",
          "name": "stderr",
          "text": [
            "WARNING:absl:<keras.layers.recurrent.LSTMCell object at 0x7f866c126090> has the same name 'LSTMCell' as a built-in Keras object. Consider renaming <class 'keras.layers.recurrent.LSTMCell'> to avoid naming conflicts when loading with `tf.keras.models.load_model`. If renaming is not possible, pass the object in the `custom_objects` parameter of the load function.\n"
          ]
        },
        {
          "output_type": "stream",
          "name": "stdout",
          "text": [
            "\b\b\b\b\b\b\b\b\b\b\b\b\b\b\b\b\b\b\b\b\b\b\b\b\b\b\b\b\b\b\b\b\b\b\b\b\b\b\b\b\b\b\b\b\b\b\b\b\b\b\b\b\b\b\b\b\b\b\b\b\b\b\b\b\b\r18/18 [==============================] - 2s 124ms/step - loss: 114.3274 - val_loss: 618.1777\n",
            "Epoch 68/100\n",
            "11/18 [=================>............] - ETA: 0s - loss: 113.9696"
          ]
        },
        {
          "output_type": "stream",
          "name": "stderr",
          "text": [
            "WARNING:absl:<keras.layers.recurrent.LSTMCell object at 0x7f866c126090> has the same name 'LSTMCell' as a built-in Keras object. Consider renaming <class 'keras.layers.recurrent.LSTMCell'> to avoid naming conflicts when loading with `tf.keras.models.load_model`. If renaming is not possible, pass the object in the `custom_objects` parameter of the load function.\n"
          ]
        },
        {
          "output_type": "stream",
          "name": "stdout",
          "text": [
            "\b\b\b\b\b\b\b\b\b\b\b\b\b\b\b\b\b\b\b\b\b\b\b\b\b\b\b\b\b\b\b\b\b\b\b\b\b\b\b\b\b\b\b\b\b\b\b\b\b\b\b\b\b\b\b\b\b\b\b\b\b\b\b\b\b\r18/18 [==============================] - 2s 119ms/step - loss: 115.8874 - val_loss: 610.0667\n",
            "Epoch 69/100\n",
            "18/18 [==============================] - 0s 7ms/step - loss: 118.1946 - val_loss: 630.6259\n",
            "Epoch 70/100\n",
            "18/18 [==============================] - 0s 8ms/step - loss: 117.6780 - val_loss: 613.6976\n",
            "Epoch 71/100\n",
            "18/18 [==============================] - 0s 6ms/step - loss: 112.6891 - val_loss: 628.7469\n",
            "Epoch 72/100\n",
            "18/18 [==============================] - 0s 6ms/step - loss: 115.3159 - val_loss: 613.3113\n",
            "Epoch 73/100\n",
            "13/18 [====================>.........] - ETA: 0s - loss: 112.0070"
          ]
        },
        {
          "output_type": "stream",
          "name": "stderr",
          "text": [
            "WARNING:absl:<keras.layers.recurrent.LSTMCell object at 0x7f866c126090> has the same name 'LSTMCell' as a built-in Keras object. Consider renaming <class 'keras.layers.recurrent.LSTMCell'> to avoid naming conflicts when loading with `tf.keras.models.load_model`. If renaming is not possible, pass the object in the `custom_objects` parameter of the load function.\n"
          ]
        },
        {
          "output_type": "stream",
          "name": "stdout",
          "text": [
            "\b\b\b\b\b\b\b\b\b\b\b\b\b\b\b\b\b\b\b\b\b\b\b\b\b\b\b\b\b\b\b\b\b\b\b\b\b\b\b\b\b\b\b\b\b\b\b\b\b\b\b\b\b\b\b\b\b\b\b\b\b\b\b\b\b\r18/18 [==============================] - 2s 119ms/step - loss: 112.2513 - val_loss: 607.5436\n",
            "Epoch 74/100\n",
            "18/18 [==============================] - 0s 7ms/step - loss: 113.5405 - val_loss: 612.9193\n",
            "Epoch 75/100\n",
            "18/18 [==============================] - 0s 9ms/step - loss: 114.6243 - val_loss: 680.9974\n",
            "Epoch 76/100\n",
            "18/18 [==============================] - 0s 7ms/step - loss: 114.3978 - val_loss: 627.7791\n",
            "Epoch 77/100\n",
            "18/18 [==============================] - 0s 6ms/step - loss: 115.0701 - val_loss: 677.3135\n",
            "Epoch 78/100\n",
            "18/18 [==============================] - 0s 7ms/step - loss: 115.6408 - val_loss: 638.9863\n",
            "Epoch 79/100\n",
            "12/18 [===================>..........] - ETA: 0s - loss: 111.3614"
          ]
        },
        {
          "output_type": "stream",
          "name": "stderr",
          "text": [
            "WARNING:absl:<keras.layers.recurrent.LSTMCell object at 0x7f866c126090> has the same name 'LSTMCell' as a built-in Keras object. Consider renaming <class 'keras.layers.recurrent.LSTMCell'> to avoid naming conflicts when loading with `tf.keras.models.load_model`. If renaming is not possible, pass the object in the `custom_objects` parameter of the load function.\n"
          ]
        },
        {
          "output_type": "stream",
          "name": "stdout",
          "text": [
            "\b\b\b\b\b\b\b\b\b\b\b\b\b\b\b\b\b\b\b\b\b\b\b\b\b\b\b\b\b\b\b\b\b\b\b\b\b\b\b\b\b\b\b\b\b\b\b\b\b\b\b\b\b\b\b\b\b\b\b\b\b\b\b\b\b\r18/18 [==============================] - 2s 144ms/step - loss: 113.8102 - val_loss: 603.6312\n",
            "Epoch 80/100\n",
            "18/18 [==============================] - 0s 8ms/step - loss: 111.6164 - val_loss: 621.9382\n",
            "Epoch 81/100\n",
            "18/18 [==============================] - 0s 7ms/step - loss: 111.7110 - val_loss: 620.0795\n",
            "Epoch 82/100\n",
            "12/18 [===================>..........] - ETA: 0s - loss: 119.6738"
          ]
        },
        {
          "output_type": "stream",
          "name": "stderr",
          "text": [
            "WARNING:absl:<keras.layers.recurrent.LSTMCell object at 0x7f866c126090> has the same name 'LSTMCell' as a built-in Keras object. Consider renaming <class 'keras.layers.recurrent.LSTMCell'> to avoid naming conflicts when loading with `tf.keras.models.load_model`. If renaming is not possible, pass the object in the `custom_objects` parameter of the load function.\n"
          ]
        },
        {
          "output_type": "stream",
          "name": "stdout",
          "text": [
            "\b\b\b\b\b\b\b\b\b\b\b\b\b\b\b\b\b\b\b\b\b\b\b\b\b\b\b\b\b\b\b\b\b\b\b\b\b\b\b\b\b\b\b\b\b\b\b\b\b\b\b\b\b\b\b\b\b\b\b\b\b\b\b\b\b\r18/18 [==============================] - 2s 122ms/step - loss: 114.4341 - val_loss: 598.3356\n",
            "Epoch 83/100\n",
            "18/18 [==============================] - 0s 6ms/step - loss: 112.8585 - val_loss: 607.5803\n",
            "Epoch 84/100\n",
            "18/18 [==============================] - 0s 7ms/step - loss: 111.8406 - val_loss: 602.6411\n",
            "Epoch 85/100\n",
            "18/18 [==============================] - 0s 6ms/step - loss: 111.2613 - val_loss: 627.6544\n",
            "Epoch 86/100\n",
            "18/18 [==============================] - 0s 6ms/step - loss: 113.9645 - val_loss: 619.5224\n",
            "Epoch 87/100\n",
            "13/18 [====================>.........] - ETA: 0s - loss: 118.0084"
          ]
        },
        {
          "output_type": "stream",
          "name": "stderr",
          "text": [
            "WARNING:absl:<keras.layers.recurrent.LSTMCell object at 0x7f866c126090> has the same name 'LSTMCell' as a built-in Keras object. Consider renaming <class 'keras.layers.recurrent.LSTMCell'> to avoid naming conflicts when loading with `tf.keras.models.load_model`. If renaming is not possible, pass the object in the `custom_objects` parameter of the load function.\n"
          ]
        },
        {
          "output_type": "stream",
          "name": "stdout",
          "text": [
            "\b\b\b\b\b\b\b\b\b\b\b\b\b\b\b\b\b\b\b\b\b\b\b\b\b\b\b\b\b\b\b\b\b\b\b\b\b\b\b\b\b\b\b\b\b\b\b\b\b\b\b\b\b\b\b\b\b\b\b\b\b\b\b\b\b\r18/18 [==============================] - 2s 120ms/step - loss: 113.8286 - val_loss: 598.2933\n",
            "Epoch 88/100\n",
            "12/18 [===================>..........] - ETA: 0s - loss: 114.0405"
          ]
        },
        {
          "output_type": "stream",
          "name": "stderr",
          "text": [
            "WARNING:absl:<keras.layers.recurrent.LSTMCell object at 0x7f866c126090> has the same name 'LSTMCell' as a built-in Keras object. Consider renaming <class 'keras.layers.recurrent.LSTMCell'> to avoid naming conflicts when loading with `tf.keras.models.load_model`. If renaming is not possible, pass the object in the `custom_objects` parameter of the load function.\n"
          ]
        },
        {
          "output_type": "stream",
          "name": "stdout",
          "text": [
            "\b\b\b\b\b\b\b\b\b\b\b\b\b\b\b\b\b\b\b\b\b\b\b\b\b\b\b\b\b\b\b\b\b\b\b\b\b\b\b\b\b\b\b\b\b\b\b\b\b\b\b\b\b\b\b\b\b\b\b\b\b\b\b\b\b\r18/18 [==============================] - 2s 119ms/step - loss: 110.8448 - val_loss: 596.0640\n",
            "Epoch 89/100\n",
            "18/18 [==============================] - 0s 6ms/step - loss: 111.0922 - val_loss: 630.6047\n",
            "Epoch 90/100\n",
            "18/18 [==============================] - 0s 7ms/step - loss: 115.8214 - val_loss: 680.3810\n",
            "Epoch 91/100\n",
            "18/18 [==============================] - 0s 7ms/step - loss: 116.0425 - val_loss: 632.1270\n",
            "Epoch 92/100\n",
            "12/18 [===================>..........] - ETA: 0s - loss: 113.3233"
          ]
        },
        {
          "output_type": "stream",
          "name": "stderr",
          "text": [
            "WARNING:absl:<keras.layers.recurrent.LSTMCell object at 0x7f866c126090> has the same name 'LSTMCell' as a built-in Keras object. Consider renaming <class 'keras.layers.recurrent.LSTMCell'> to avoid naming conflicts when loading with `tf.keras.models.load_model`. If renaming is not possible, pass the object in the `custom_objects` parameter of the load function.\n"
          ]
        },
        {
          "output_type": "stream",
          "name": "stdout",
          "text": [
            "\b\b\b\b\b\b\b\b\b\b\b\b\b\b\b\b\b\b\b\b\b\b\b\b\b\b\b\b\b\b\b\b\b\b\b\b\b\b\b\b\b\b\b\b\b\b\b\b\b\b\b\b\b\b\b\b\b\b\b\b\b\b\b\b\b\r18/18 [==============================] - 2s 144ms/step - loss: 111.9858 - val_loss: 596.0399\n",
            "Epoch 93/100\n",
            "18/18 [==============================] - 0s 7ms/step - loss: 111.9554 - val_loss: 601.6699\n",
            "Epoch 94/100\n",
            "18/18 [==============================] - 0s 6ms/step - loss: 110.7805 - val_loss: 605.7480\n",
            "Epoch 95/100\n",
            "12/18 [===================>..........] - ETA: 0s - loss: 107.7001"
          ]
        },
        {
          "output_type": "stream",
          "name": "stderr",
          "text": [
            "WARNING:absl:<keras.layers.recurrent.LSTMCell object at 0x7f866c126090> has the same name 'LSTMCell' as a built-in Keras object. Consider renaming <class 'keras.layers.recurrent.LSTMCell'> to avoid naming conflicts when loading with `tf.keras.models.load_model`. If renaming is not possible, pass the object in the `custom_objects` parameter of the load function.\n"
          ]
        },
        {
          "output_type": "stream",
          "name": "stdout",
          "text": [
            "\b\b\b\b\b\b\b\b\b\b\b\b\b\b\b\b\b\b\b\b\b\b\b\b\b\b\b\b\b\b\b\b\b\b\b\b\b\b\b\b\b\b\b\b\b\b\b\b\b\b\b\b\b\b\b\b\b\b\b\b\b\b\b\b\b\r18/18 [==============================] - 2s 119ms/step - loss: 110.1889 - val_loss: 594.1672\n",
            "Epoch 96/100\n",
            "18/18 [==============================] - 0s 6ms/step - loss: 112.3372 - val_loss: 601.4485\n",
            "Epoch 97/100\n",
            "18/18 [==============================] - 0s 7ms/step - loss: 110.8521 - val_loss: 625.3636\n",
            "Epoch 98/100\n",
            "13/18 [====================>.........] - ETA: 0s - loss: 113.4188"
          ]
        },
        {
          "output_type": "stream",
          "name": "stderr",
          "text": [
            "WARNING:absl:<keras.layers.recurrent.LSTMCell object at 0x7f866c126090> has the same name 'LSTMCell' as a built-in Keras object. Consider renaming <class 'keras.layers.recurrent.LSTMCell'> to avoid naming conflicts when loading with `tf.keras.models.load_model`. If renaming is not possible, pass the object in the `custom_objects` parameter of the load function.\n"
          ]
        },
        {
          "output_type": "stream",
          "name": "stdout",
          "text": [
            "\b\b\b\b\b\b\b\b\b\b\b\b\b\b\b\b\b\b\b\b\b\b\b\b\b\b\b\b\b\b\b\b\b\b\b\b\b\b\b\b\b\b\b\b\b\b\b\b\b\b\b\b\b\b\b\b\b\b\b\b\b\b\b\b\b\r18/18 [==============================] - 2s 119ms/step - loss: 110.8161 - val_loss: 594.1018\n",
            "Epoch 99/100\n",
            "12/18 [===================>..........] - ETA: 0s - loss: 107.9519"
          ]
        },
        {
          "output_type": "stream",
          "name": "stderr",
          "text": [
            "WARNING:absl:<keras.layers.recurrent.LSTMCell object at 0x7f866c126090> has the same name 'LSTMCell' as a built-in Keras object. Consider renaming <class 'keras.layers.recurrent.LSTMCell'> to avoid naming conflicts when loading with `tf.keras.models.load_model`. If renaming is not possible, pass the object in the `custom_objects` parameter of the load function.\n"
          ]
        },
        {
          "output_type": "stream",
          "name": "stdout",
          "text": [
            "\b\b\b\b\b\b\b\b\b\b\b\b\b\b\b\b\b\b\b\b\b\b\b\b\b\b\b\b\b\b\b\b\b\b\b\b\b\b\b\b\b\b\b\b\b\b\b\b\b\b\b\b\b\b\b\b\b\b\b\b\b\b\b\b\b\r18/18 [==============================] - 2s 117ms/step - loss: 109.7159 - val_loss: 591.6655\n",
            "Epoch 100/100\n",
            "18/18 [==============================] - 0s 6ms/step - loss: 112.6171 - val_loss: 594.9865\n"
          ]
        },
        {
          "output_type": "execute_result",
          "data": {
            "text/plain": [
              "<keras.callbacks.History at 0x7f866cf1a590>"
            ]
          },
          "metadata": {},
          "execution_count": 74
        }
      ],
      "source": [
        "tf.random.set_seed(42)\n",
        "\n",
        "inputs = layers.Input(shape = (WINDOW_SIZE))\n",
        "x = layers.Lambda(lambda x : tf.expand_dims(x, axis= 1))(inputs)\n",
        "#x = layers.LSTM(128, return_sequences = True)(x)\n",
        "x =layers.LSTM(128, activation = 'relu')(x)\n",
        "#x = layers.Dense(32, activation = 'relus')(x)\n",
        "output = layers.Dense(HORIZON)(x)\n",
        "model_5 = tf.keras.Model(inputs= inputs, outputs = output , name = 'model_5_LSTM')\n",
        "\n",
        "model_5.compile(loss = 'mae',\n",
        "                optimizer = tf.keras.optimizers.Adam())\n",
        "\n",
        "model_5.fit(train_windows,\n",
        "            train_labels,\n",
        "            batch_size = 128,\n",
        "            epochs = 100,\n",
        "            validation_data = (test_windows, test_labels),\n",
        "            callbacks = [create_model_checkpoint(model_name = model_5.name)])"
      ]
    },
    {
      "cell_type": "code",
      "execution_count": 75,
      "metadata": {
        "id": "oyxm-cRRWZUE",
        "colab": {
          "base_uri": "https://localhost:8080/"
        },
        "outputId": "759efe8d-42c2-4d9f-d0d4-c8c82400a9ca"
      },
      "outputs": [
        {
          "output_type": "stream",
          "name": "stdout",
          "text": [
            "18/18 [==============================] - 0s 2ms/step - loss: 591.6655\n"
          ]
        },
        {
          "output_type": "execute_result",
          "data": {
            "text/plain": [
              "591.6654663085938"
            ]
          },
          "metadata": {},
          "execution_count": 75
        }
      ],
      "source": [
        "model_5 = tf.keras.models.load_model('model_experiment/model_5_LSTM')\n",
        "model_5.evaluate(test_windows, test_labels)"
      ]
    },
    {
      "cell_type": "code",
      "execution_count": 76,
      "metadata": {
        "id": "Uf6w_WrCYLud",
        "colab": {
          "base_uri": "https://localhost:8080/"
        },
        "outputId": "28344bde-2f90-4ef5-f79f-237a47aadfb6"
      },
      "outputs": [
        {
          "output_type": "execute_result",
          "data": {
            "text/plain": [
              "<tf.Tensor: shape=(5,), dtype=float32, numpy=array([8970.957, 8815.352, 9026.793, 8831.478, 8736.686], dtype=float32)>"
            ]
          },
          "metadata": {},
          "execution_count": 76
        }
      ],
      "source": [
        "model_5_preds = make_preds(model_5, test_windows)\n",
        "model_5_preds[:5]"
      ]
    },
    {
      "cell_type": "code",
      "execution_count": 77,
      "metadata": {
        "id": "qyseMiqWYepV",
        "colab": {
          "base_uri": "https://localhost:8080/"
        },
        "outputId": "417eb0df-044e-4e39-ff8d-3c9316718636"
      },
      "outputs": [
        {
          "output_type": "execute_result",
          "data": {
            "text/plain": [
              "{'mae': 591.6655,\n",
              " 'mse': 1250831.5,\n",
              " 'rmse': 24.324175,\n",
              " 'mape': 2.66558,\n",
              " 'mase': 1.0393925}"
            ]
          },
          "metadata": {},
          "execution_count": 77
        }
      ],
      "source": [
        "model_5_results = evaluate_preds(y_true = tf.squeeze(test_labels),\n",
        "                                 y_pred = model_5_preds)\n",
        "\n",
        "model_5_results"
      ]
    },
    {
      "cell_type": "code",
      "execution_count": 78,
      "metadata": {
        "id": "KfL6TTWuYz2G",
        "colab": {
          "base_uri": "https://localhost:8080/"
        },
        "outputId": "8a3befb7-006a-4677-d082-2d0883f9f7a0"
      },
      "outputs": [
        {
          "output_type": "execute_result",
          "data": {
            "text/plain": [
              "{'mae': 567.9802,\n",
              " 'mse': 1147547.0,\n",
              " 'rmse': 23.832336,\n",
              " 'mape': 2.5165248,\n",
              " 'mase': 0.99957}"
            ]
          },
          "metadata": {},
          "execution_count": 78
        }
      ],
      "source": [
        "naive_results"
      ]
    },
    {
      "cell_type": "markdown",
      "metadata": {
        "id": "dq5m39IZVS5V"
      },
      "source": [
        "## Make a multi-variate time series Dataset"
      ]
    },
    {
      "cell_type": "code",
      "execution_count": 79,
      "metadata": {
        "id": "DxNBIX9TWAEp",
        "colab": {
          "base_uri": "https://localhost:8080/",
          "height": 237
        },
        "outputId": "737cf8a1-f133-424a-c84e-48aadd62fdab"
      },
      "outputs": [
        {
          "output_type": "execute_result",
          "data": {
            "text/plain": [
              "                price\n",
              "Date                 \n",
              "2013-10-01  123.65499\n",
              "2013-10-02  125.45500\n",
              "2013-10-03  108.58483\n",
              "2013-10-04  118.67466\n",
              "2013-10-05  121.33866"
            ],
            "text/html": [
              "\n",
              "  <div id=\"df-abf081b1-2b74-4be0-97ed-fef6296ccde5\">\n",
              "    <div class=\"colab-df-container\">\n",
              "      <div>\n",
              "<style scoped>\n",
              "    .dataframe tbody tr th:only-of-type {\n",
              "        vertical-align: middle;\n",
              "    }\n",
              "\n",
              "    .dataframe tbody tr th {\n",
              "        vertical-align: top;\n",
              "    }\n",
              "\n",
              "    .dataframe thead th {\n",
              "        text-align: right;\n",
              "    }\n",
              "</style>\n",
              "<table border=\"1\" class=\"dataframe\">\n",
              "  <thead>\n",
              "    <tr style=\"text-align: right;\">\n",
              "      <th></th>\n",
              "      <th>price</th>\n",
              "    </tr>\n",
              "    <tr>\n",
              "      <th>Date</th>\n",
              "      <th></th>\n",
              "    </tr>\n",
              "  </thead>\n",
              "  <tbody>\n",
              "    <tr>\n",
              "      <th>2013-10-01</th>\n",
              "      <td>123.65499</td>\n",
              "    </tr>\n",
              "    <tr>\n",
              "      <th>2013-10-02</th>\n",
              "      <td>125.45500</td>\n",
              "    </tr>\n",
              "    <tr>\n",
              "      <th>2013-10-03</th>\n",
              "      <td>108.58483</td>\n",
              "    </tr>\n",
              "    <tr>\n",
              "      <th>2013-10-04</th>\n",
              "      <td>118.67466</td>\n",
              "    </tr>\n",
              "    <tr>\n",
              "      <th>2013-10-05</th>\n",
              "      <td>121.33866</td>\n",
              "    </tr>\n",
              "  </tbody>\n",
              "</table>\n",
              "</div>\n",
              "      <button class=\"colab-df-convert\" onclick=\"convertToInteractive('df-abf081b1-2b74-4be0-97ed-fef6296ccde5')\"\n",
              "              title=\"Convert this dataframe to an interactive table.\"\n",
              "              style=\"display:none;\">\n",
              "        \n",
              "  <svg xmlns=\"http://www.w3.org/2000/svg\" height=\"24px\"viewBox=\"0 0 24 24\"\n",
              "       width=\"24px\">\n",
              "    <path d=\"M0 0h24v24H0V0z\" fill=\"none\"/>\n",
              "    <path d=\"M18.56 5.44l.94 2.06.94-2.06 2.06-.94-2.06-.94-.94-2.06-.94 2.06-2.06.94zm-11 1L8.5 8.5l.94-2.06 2.06-.94-2.06-.94L8.5 2.5l-.94 2.06-2.06.94zm10 10l.94 2.06.94-2.06 2.06-.94-2.06-.94-.94-2.06-.94 2.06-2.06.94z\"/><path d=\"M17.41 7.96l-1.37-1.37c-.4-.4-.92-.59-1.43-.59-.52 0-1.04.2-1.43.59L10.3 9.45l-7.72 7.72c-.78.78-.78 2.05 0 2.83L4 21.41c.39.39.9.59 1.41.59.51 0 1.02-.2 1.41-.59l7.78-7.78 2.81-2.81c.8-.78.8-2.07 0-2.86zM5.41 20L4 18.59l7.72-7.72 1.47 1.35L5.41 20z\"/>\n",
              "  </svg>\n",
              "      </button>\n",
              "      \n",
              "  <style>\n",
              "    .colab-df-container {\n",
              "      display:flex;\n",
              "      flex-wrap:wrap;\n",
              "      gap: 12px;\n",
              "    }\n",
              "\n",
              "    .colab-df-convert {\n",
              "      background-color: #E8F0FE;\n",
              "      border: none;\n",
              "      border-radius: 50%;\n",
              "      cursor: pointer;\n",
              "      display: none;\n",
              "      fill: #1967D2;\n",
              "      height: 32px;\n",
              "      padding: 0 0 0 0;\n",
              "      width: 32px;\n",
              "    }\n",
              "\n",
              "    .colab-df-convert:hover {\n",
              "      background-color: #E2EBFA;\n",
              "      box-shadow: 0px 1px 2px rgba(60, 64, 67, 0.3), 0px 1px 3px 1px rgba(60, 64, 67, 0.15);\n",
              "      fill: #174EA6;\n",
              "    }\n",
              "\n",
              "    [theme=dark] .colab-df-convert {\n",
              "      background-color: #3B4455;\n",
              "      fill: #D2E3FC;\n",
              "    }\n",
              "\n",
              "    [theme=dark] .colab-df-convert:hover {\n",
              "      background-color: #434B5C;\n",
              "      box-shadow: 0px 1px 3px 1px rgba(0, 0, 0, 0.15);\n",
              "      filter: drop-shadow(0px 1px 2px rgba(0, 0, 0, 0.3));\n",
              "      fill: #FFFFFF;\n",
              "    }\n",
              "  </style>\n",
              "\n",
              "      <script>\n",
              "        const buttonEl =\n",
              "          document.querySelector('#df-abf081b1-2b74-4be0-97ed-fef6296ccde5 button.colab-df-convert');\n",
              "        buttonEl.style.display =\n",
              "          google.colab.kernel.accessAllowed ? 'block' : 'none';\n",
              "\n",
              "        async function convertToInteractive(key) {\n",
              "          const element = document.querySelector('#df-abf081b1-2b74-4be0-97ed-fef6296ccde5');\n",
              "          const dataTable =\n",
              "            await google.colab.kernel.invokeFunction('convertToInteractive',\n",
              "                                                     [key], {});\n",
              "          if (!dataTable) return;\n",
              "\n",
              "          const docLinkHtml = 'Like what you see? Visit the ' +\n",
              "            '<a target=\"_blank\" href=https://colab.research.google.com/notebooks/data_table.ipynb>data table notebook</a>'\n",
              "            + ' to learn more about interactive tables.';\n",
              "          element.innerHTML = '';\n",
              "          dataTable['output_type'] = 'display_data';\n",
              "          await google.colab.output.renderOutput(dataTable, element);\n",
              "          const docLink = document.createElement('div');\n",
              "          docLink.innerHTML = docLinkHtml;\n",
              "          element.appendChild(docLink);\n",
              "        }\n",
              "      </script>\n",
              "    </div>\n",
              "  </div>\n",
              "  "
            ]
          },
          "metadata": {},
          "execution_count": 79
        }
      ],
      "source": [
        "bitcoin_prices.head()"
      ]
    },
    {
      "cell_type": "code",
      "source": [
        "block_reward_1 = 50\n",
        "block_reward_2 = 25\n",
        "block_reward_3 = 12.5\n",
        "block_reward_4 = 6.25\n",
        "\n",
        "\n",
        "block_reward_2_datetime = np.datetime64(\"2012-11-08\")\n",
        "block_reward_3_datetime = np.datetime64(\"2016-07-09\")\n",
        "block_reward_4_datetime = np.datetime64(\"2020-05-18\")"
      ],
      "metadata": {
        "id": "jVd9uvkuRWCs"
      },
      "execution_count": 80,
      "outputs": []
    },
    {
      "cell_type": "code",
      "source": [
        "block_reward_3_datetime"
      ],
      "metadata": {
        "colab": {
          "base_uri": "https://localhost:8080/"
        },
        "id": "14v7v71KS3mN",
        "outputId": "b9fea220-04e8-45c5-e188-71c8c61ed0df"
      },
      "execution_count": 81,
      "outputs": [
        {
          "output_type": "execute_result",
          "data": {
            "text/plain": [
              "numpy.datetime64('2016-07-09')"
            ]
          },
          "metadata": {},
          "execution_count": 81
        }
      ]
    },
    {
      "cell_type": "code",
      "source": [
        "block_reward_2_days = (block_reward_3_datetime - bitcoin_prices.index[0]).days\n",
        "block_reward_3_days = (block_reward_4_datetime - bitcoin_prices.index[0]).days\n",
        "\n",
        "block_reward_2_days, block_reward_3_days"
      ],
      "metadata": {
        "id": "sb0G1VLbS68O",
        "colab": {
          "base_uri": "https://localhost:8080/"
        },
        "outputId": "8d359731-c3f8-4689-dd8e-b2be57d013b9"
      },
      "execution_count": 82,
      "outputs": [
        {
          "output_type": "execute_result",
          "data": {
            "text/plain": [
              "(1012, 2421)"
            ]
          },
          "metadata": {},
          "execution_count": 82
        }
      ]
    },
    {
      "cell_type": "code",
      "source": [
        "bitcoin_prices_block = bitcoin_prices.copy()\n",
        "bitcoin_prices_block['block_reward'] = None"
      ],
      "metadata": {
        "id": "tYWzS8BbNmYz"
      },
      "execution_count": 83,
      "outputs": []
    },
    {
      "cell_type": "code",
      "source": [
        "bitcoin_prices_block.iloc[:block_reward_2_days,-1] = block_reward_2\n",
        "bitcoin_prices_block.iloc[block_reward_2_days:block_reward_3_days,-1] = block_reward_3\n",
        "bitcoin_prices_block.iloc[block_reward_3_days:,-1] = block_reward_4"
      ],
      "metadata": {
        "id": "qHf0z13Vg6Io"
      },
      "execution_count": 84,
      "outputs": []
    },
    {
      "cell_type": "code",
      "source": [
        "bitcoin_prices_block.tail()"
      ],
      "metadata": {
        "colab": {
          "base_uri": "https://localhost:8080/",
          "height": 237
        },
        "id": "gH-uco8UB9Wy",
        "outputId": "9c7460d3-360e-4bd2-af98-823f50e9b2cb"
      },
      "execution_count": 85,
      "outputs": [
        {
          "output_type": "execute_result",
          "data": {
            "text/plain": [
              "                   price block_reward\n",
              "Date                                 \n",
              "2021-05-14  49764.132082         6.25\n",
              "2021-05-15  50032.693137         6.25\n",
              "2021-05-16  47885.625255         6.25\n",
              "2021-05-17  45604.615754         6.25\n",
              "2021-05-18  43144.471291         6.25"
            ],
            "text/html": [
              "\n",
              "  <div id=\"df-9733721f-1132-4ba5-af08-1b2be6812240\">\n",
              "    <div class=\"colab-df-container\">\n",
              "      <div>\n",
              "<style scoped>\n",
              "    .dataframe tbody tr th:only-of-type {\n",
              "        vertical-align: middle;\n",
              "    }\n",
              "\n",
              "    .dataframe tbody tr th {\n",
              "        vertical-align: top;\n",
              "    }\n",
              "\n",
              "    .dataframe thead th {\n",
              "        text-align: right;\n",
              "    }\n",
              "</style>\n",
              "<table border=\"1\" class=\"dataframe\">\n",
              "  <thead>\n",
              "    <tr style=\"text-align: right;\">\n",
              "      <th></th>\n",
              "      <th>price</th>\n",
              "      <th>block_reward</th>\n",
              "    </tr>\n",
              "    <tr>\n",
              "      <th>Date</th>\n",
              "      <th></th>\n",
              "      <th></th>\n",
              "    </tr>\n",
              "  </thead>\n",
              "  <tbody>\n",
              "    <tr>\n",
              "      <th>2021-05-14</th>\n",
              "      <td>49764.132082</td>\n",
              "      <td>6.25</td>\n",
              "    </tr>\n",
              "    <tr>\n",
              "      <th>2021-05-15</th>\n",
              "      <td>50032.693137</td>\n",
              "      <td>6.25</td>\n",
              "    </tr>\n",
              "    <tr>\n",
              "      <th>2021-05-16</th>\n",
              "      <td>47885.625255</td>\n",
              "      <td>6.25</td>\n",
              "    </tr>\n",
              "    <tr>\n",
              "      <th>2021-05-17</th>\n",
              "      <td>45604.615754</td>\n",
              "      <td>6.25</td>\n",
              "    </tr>\n",
              "    <tr>\n",
              "      <th>2021-05-18</th>\n",
              "      <td>43144.471291</td>\n",
              "      <td>6.25</td>\n",
              "    </tr>\n",
              "  </tbody>\n",
              "</table>\n",
              "</div>\n",
              "      <button class=\"colab-df-convert\" onclick=\"convertToInteractive('df-9733721f-1132-4ba5-af08-1b2be6812240')\"\n",
              "              title=\"Convert this dataframe to an interactive table.\"\n",
              "              style=\"display:none;\">\n",
              "        \n",
              "  <svg xmlns=\"http://www.w3.org/2000/svg\" height=\"24px\"viewBox=\"0 0 24 24\"\n",
              "       width=\"24px\">\n",
              "    <path d=\"M0 0h24v24H0V0z\" fill=\"none\"/>\n",
              "    <path d=\"M18.56 5.44l.94 2.06.94-2.06 2.06-.94-2.06-.94-.94-2.06-.94 2.06-2.06.94zm-11 1L8.5 8.5l.94-2.06 2.06-.94-2.06-.94L8.5 2.5l-.94 2.06-2.06.94zm10 10l.94 2.06.94-2.06 2.06-.94-2.06-.94-.94-2.06-.94 2.06-2.06.94z\"/><path d=\"M17.41 7.96l-1.37-1.37c-.4-.4-.92-.59-1.43-.59-.52 0-1.04.2-1.43.59L10.3 9.45l-7.72 7.72c-.78.78-.78 2.05 0 2.83L4 21.41c.39.39.9.59 1.41.59.51 0 1.02-.2 1.41-.59l7.78-7.78 2.81-2.81c.8-.78.8-2.07 0-2.86zM5.41 20L4 18.59l7.72-7.72 1.47 1.35L5.41 20z\"/>\n",
              "  </svg>\n",
              "      </button>\n",
              "      \n",
              "  <style>\n",
              "    .colab-df-container {\n",
              "      display:flex;\n",
              "      flex-wrap:wrap;\n",
              "      gap: 12px;\n",
              "    }\n",
              "\n",
              "    .colab-df-convert {\n",
              "      background-color: #E8F0FE;\n",
              "      border: none;\n",
              "      border-radius: 50%;\n",
              "      cursor: pointer;\n",
              "      display: none;\n",
              "      fill: #1967D2;\n",
              "      height: 32px;\n",
              "      padding: 0 0 0 0;\n",
              "      width: 32px;\n",
              "    }\n",
              "\n",
              "    .colab-df-convert:hover {\n",
              "      background-color: #E2EBFA;\n",
              "      box-shadow: 0px 1px 2px rgba(60, 64, 67, 0.3), 0px 1px 3px 1px rgba(60, 64, 67, 0.15);\n",
              "      fill: #174EA6;\n",
              "    }\n",
              "\n",
              "    [theme=dark] .colab-df-convert {\n",
              "      background-color: #3B4455;\n",
              "      fill: #D2E3FC;\n",
              "    }\n",
              "\n",
              "    [theme=dark] .colab-df-convert:hover {\n",
              "      background-color: #434B5C;\n",
              "      box-shadow: 0px 1px 3px 1px rgba(0, 0, 0, 0.15);\n",
              "      filter: drop-shadow(0px 1px 2px rgba(0, 0, 0, 0.3));\n",
              "      fill: #FFFFFF;\n",
              "    }\n",
              "  </style>\n",
              "\n",
              "      <script>\n",
              "        const buttonEl =\n",
              "          document.querySelector('#df-9733721f-1132-4ba5-af08-1b2be6812240 button.colab-df-convert');\n",
              "        buttonEl.style.display =\n",
              "          google.colab.kernel.accessAllowed ? 'block' : 'none';\n",
              "\n",
              "        async function convertToInteractive(key) {\n",
              "          const element = document.querySelector('#df-9733721f-1132-4ba5-af08-1b2be6812240');\n",
              "          const dataTable =\n",
              "            await google.colab.kernel.invokeFunction('convertToInteractive',\n",
              "                                                     [key], {});\n",
              "          if (!dataTable) return;\n",
              "\n",
              "          const docLinkHtml = 'Like what you see? Visit the ' +\n",
              "            '<a target=\"_blank\" href=https://colab.research.google.com/notebooks/data_table.ipynb>data table notebook</a>'\n",
              "            + ' to learn more about interactive tables.';\n",
              "          element.innerHTML = '';\n",
              "          dataTable['output_type'] = 'display_data';\n",
              "          await google.colab.output.renderOutput(dataTable, element);\n",
              "          const docLink = document.createElement('div');\n",
              "          docLink.innerHTML = docLinkHtml;\n",
              "          element.appendChild(docLink);\n",
              "        }\n",
              "      </script>\n",
              "    </div>\n",
              "  </div>\n",
              "  "
            ]
          },
          "metadata": {},
          "execution_count": 85
        }
      ]
    },
    {
      "cell_type": "code",
      "source": [
        "from sklearn.preprocessing import minmax_scale\n",
        "scaled_price_block_df = pd.DataFrame(minmax_scale(bitcoin_prices_block[['price','block_reward']]),\n",
        "                                     columns = bitcoin_prices_block.columns,\n",
        "                                     index = bitcoin_prices_block.index)\n",
        "\n",
        "scaled_price_block_df.plot(figsize=(10,7))"
      ],
      "metadata": {
        "colab": {
          "base_uri": "https://localhost:8080/",
          "height": 459
        },
        "id": "b1nb4--oEXAI",
        "outputId": "9e1bd66f-ae1b-408e-999e-1d0ca284b638"
      },
      "execution_count": 86,
      "outputs": [
        {
          "output_type": "execute_result",
          "data": {
            "text/plain": [
              "<matplotlib.axes._subplots.AxesSubplot at 0x7f866d0f07d0>"
            ]
          },
          "metadata": {},
          "execution_count": 86
        },
        {
          "output_type": "display_data",
          "data": {
            "text/plain": [
              "<Figure size 720x504 with 1 Axes>"
            ],
            "image/png": "[encoded data removed]"
          },
          "metadata": {
            "needs_background": "light"
          }
        }
      ]
    },
    {
      "cell_type": "markdown",
      "source": [
        "## Making a windowed dataset with pandas"
      ],
      "metadata": {
        "id": "Etj6xchPFQBT"
      }
    },
    {
      "cell_type": "code",
      "source": [
        "HORIZON = 1\n",
        "WINDOW_SIZE = 7"
      ],
      "metadata": {
        "id": "PO_KlSnFY2ej"
      },
      "execution_count": 87,
      "outputs": []
    },
    {
      "cell_type": "code",
      "source": [
        " bitcoin_prices_windowed = bitcoin_prices_block.copy()"
      ],
      "metadata": {
        "id": "ZhxN9-MlZtAG"
      },
      "execution_count": 88,
      "outputs": []
    },
    {
      "cell_type": "code",
      "source": [
        "for i in range(WINDOW_SIZE):\n",
        "  bitcoin_prices_windowed[f'Price+{i +1}'] = bitcoin_prices_windowed['price'].shift(periods=i+1)"
      ],
      "metadata": {
        "id": "m785TITWdGha"
      },
      "execution_count": 89,
      "outputs": []
    },
    {
      "cell_type": "code",
      "source": [
        "bitcoin_prices_windowed.head()"
      ],
      "metadata": {
        "colab": {
          "base_uri": "https://localhost:8080/",
          "height": 237
        },
        "id": "wY2UfiSweVZf",
        "outputId": "b604198c-1aeb-49b2-b8b4-6687e7880252"
      },
      "execution_count": 90,
      "outputs": [
        {
          "output_type": "execute_result",
          "data": {
            "text/plain": [
              "                price block_reward    Price+1    Price+2    Price+3  \\\n",
              "Date                                                                  \n",
              "2013-10-01  123.65499           25        NaN        NaN        NaN   \n",
              "2013-10-02  125.45500           25  123.65499        NaN        NaN   \n",
              "2013-10-03  108.58483           25  125.45500  123.65499        NaN   \n",
              "2013-10-04  118.67466           25  108.58483  125.45500  123.65499   \n",
              "2013-10-05  121.33866           25  118.67466  108.58483  125.45500   \n",
              "\n",
              "              Price+4  Price+5  Price+6  Price+7  \n",
              "Date                                              \n",
              "2013-10-01        NaN      NaN      NaN      NaN  \n",
              "2013-10-02        NaN      NaN      NaN      NaN  \n",
              "2013-10-03        NaN      NaN      NaN      NaN  \n",
              "2013-10-04        NaN      NaN      NaN      NaN  \n",
              "2013-10-05  123.65499      NaN      NaN      NaN  "
            ],
            "text/html": [
              "\n",
              "  <div id=\"df-7bd1fb99-bcb9-4d1a-81a1-f14d4d9afddc\">\n",
              "    <div class=\"colab-df-container\">\n",
              "      <div>\n",
              "<style scoped>\n",
              "    .dataframe tbody tr th:only-of-type {\n",
              "        vertical-align: middle;\n",
              "    }\n",
              "\n",
              "    .dataframe tbody tr th {\n",
              "        vertical-align: top;\n",
              "    }\n",
              "\n",
              "    .dataframe thead th {\n",
              "        text-align: right;\n",
              "    }\n",
              "</style>\n",
              "<table border=\"1\" class=\"dataframe\">\n",
              "  <thead>\n",
              "    <tr style=\"text-align: right;\">\n",
              "      <th></th>\n",
              "      <th>price</th>\n",
              "      <th>block_reward</th>\n",
              "      <th>Price+1</th>\n",
              "      <th>Price+2</th>\n",
              "      <th>Price+3</th>\n",
              "      <th>Price+4</th>\n",
              "      <th>Price+5</th>\n",
              "      <th>Price+6</th>\n",
              "      <th>Price+7</th>\n",
              "    </tr>\n",
              "    <tr>\n",
              "      <th>Date</th>\n",
              "      <th></th>\n",
              "      <th></th>\n",
              "      <th></th>\n",
              "      <th></th>\n",
              "      <th></th>\n",
              "      <th></th>\n",
              "      <th></th>\n",
              "      <th></th>\n",
              "      <th></th>\n",
              "    </tr>\n",
              "  </thead>\n",
              "  <tbody>\n",
              "    <tr>\n",
              "      <th>2013-10-01</th>\n",
              "      <td>123.65499</td>\n",
              "      <td>25</td>\n",
              "      <td>NaN</td>\n",
              "      <td>NaN</td>\n",
              "      <td>NaN</td>\n",
              "      <td>NaN</td>\n",
              "      <td>NaN</td>\n",
              "      <td>NaN</td>\n",
              "      <td>NaN</td>\n",
              "    </tr>\n",
              "    <tr>\n",
              "      <th>2013-10-02</th>\n",
              "      <td>125.45500</td>\n",
              "      <td>25</td>\n",
              "      <td>123.65499</td>\n",
              "      <td>NaN</td>\n",
              "      <td>NaN</td>\n",
              "      <td>NaN</td>\n",
              "      <td>NaN</td>\n",
              "      <td>NaN</td>\n",
              "      <td>NaN</td>\n",
              "    </tr>\n",
              "    <tr>\n",
              "      <th>2013-10-03</th>\n",
              "      <td>108.58483</td>\n",
              "      <td>25</td>\n",
              "      <td>125.45500</td>\n",
              "      <td>123.65499</td>\n",
              "      <td>NaN</td>\n",
              "      <td>NaN</td>\n",
              "      <td>NaN</td>\n",
              "      <td>NaN</td>\n",
              "      <td>NaN</td>\n",
              "    </tr>\n",
              "    <tr>\n",
              "      <th>2013-10-04</th>\n",
              "      <td>118.67466</td>\n",
              "      <td>25</td>\n",
              "      <td>108.58483</td>\n",
              "      <td>125.45500</td>\n",
              "      <td>123.65499</td>\n",
              "      <td>NaN</td>\n",
              "      <td>NaN</td>\n",
              "      <td>NaN</td>\n",
              "      <td>NaN</td>\n",
              "    </tr>\n",
              "    <tr>\n",
              "      <th>2013-10-05</th>\n",
              "      <td>121.33866</td>\n",
              "      <td>25</td>\n",
              "      <td>118.67466</td>\n",
              "      <td>108.58483</td>\n",
              "      <td>125.45500</td>\n",
              "      <td>123.65499</td>\n",
              "      <td>NaN</td>\n",
              "      <td>NaN</td>\n",
              "      <td>NaN</td>\n",
              "    </tr>\n",
              "  </tbody>\n",
              "</table>\n",
              "</div>\n",
              "      <button class=\"colab-df-convert\" onclick=\"convertToInteractive('df-7bd1fb99-bcb9-4d1a-81a1-f14d4d9afddc')\"\n",
              "              title=\"Convert this dataframe to an interactive table.\"\n",
              "              style=\"display:none;\">\n",
              "        \n",
              "  <svg xmlns=\"http://www.w3.org/2000/svg\" height=\"24px\"viewBox=\"0 0 24 24\"\n",
              "       width=\"24px\">\n",
              "    <path d=\"M0 0h24v24H0V0z\" fill=\"none\"/>\n",
              "    <path d=\"M18.56 5.44l.94 2.06.94-2.06 2.06-.94-2.06-.94-.94-2.06-.94 2.06-2.06.94zm-11 1L8.5 8.5l.94-2.06 2.06-.94-2.06-.94L8.5 2.5l-.94 2.06-2.06.94zm10 10l.94 2.06.94-2.06 2.06-.94-2.06-.94-.94-2.06-.94 2.06-2.06.94z\"/><path d=\"M17.41 7.96l-1.37-1.37c-.4-.4-.92-.59-1.43-.59-.52 0-1.04.2-1.43.59L10.3 9.45l-7.72 7.72c-.78.78-.78 2.05 0 2.83L4 21.41c.39.39.9.59 1.41.59.51 0 1.02-.2 1.41-.59l7.78-7.78 2.81-2.81c.8-.78.8-2.07 0-2.86zM5.41 20L4 18.59l7.72-7.72 1.47 1.35L5.41 20z\"/>\n",
              "  </svg>\n",
              "      </button>\n",
              "      \n",
              "  <style>\n",
              "    .colab-df-container {\n",
              "      display:flex;\n",
              "      flex-wrap:wrap;\n",
              "      gap: 12px;\n",
              "    }\n",
              "\n",
              "    .colab-df-convert {\n",
              "      background-color: #E8F0FE;\n",
              "      border: none;\n",
              "      border-radius: 50%;\n",
              "      cursor: pointer;\n",
              "      display: none;\n",
              "      fill: #1967D2;\n",
              "      height: 32px;\n",
              "      padding: 0 0 0 0;\n",
              "      width: 32px;\n",
              "    }\n",
              "\n",
              "    .colab-df-convert:hover {\n",
              "      background-color: #E2EBFA;\n",
              "      box-shadow: 0px 1px 2px rgba(60, 64, 67, 0.3), 0px 1px 3px 1px rgba(60, 64, 67, 0.15);\n",
              "      fill: #174EA6;\n",
              "    }\n",
              "\n",
              "    [theme=dark] .colab-df-convert {\n",
              "      background-color: #3B4455;\n",
              "      fill: #D2E3FC;\n",
              "    }\n",
              "\n",
              "    [theme=dark] .colab-df-convert:hover {\n",
              "      background-color: #434B5C;\n",
              "      box-shadow: 0px 1px 3px 1px rgba(0, 0, 0, 0.15);\n",
              "      filter: drop-shadow(0px 1px 2px rgba(0, 0, 0, 0.3));\n",
              "      fill: #FFFFFF;\n",
              "    }\n",
              "  </style>\n",
              "\n",
              "      <script>\n",
              "        const buttonEl =\n",
              "          document.querySelector('#df-7bd1fb99-bcb9-4d1a-81a1-f14d4d9afddc button.colab-df-convert');\n",
              "        buttonEl.style.display =\n",
              "          google.colab.kernel.accessAllowed ? 'block' : 'none';\n",
              "\n",
              "        async function convertToInteractive(key) {\n",
              "          const element = document.querySelector('#df-7bd1fb99-bcb9-4d1a-81a1-f14d4d9afddc');\n",
              "          const dataTable =\n",
              "            await google.colab.kernel.invokeFunction('convertToInteractive',\n",
              "                                                     [key], {});\n",
              "          if (!dataTable) return;\n",
              "\n",
              "          const docLinkHtml = 'Like what you see? Visit the ' +\n",
              "            '<a target=\"_blank\" href=https://colab.research.google.com/notebooks/data_table.ipynb>data table notebook</a>'\n",
              "            + ' to learn more about interactive tables.';\n",
              "          element.innerHTML = '';\n",
              "          dataTable['output_type'] = 'display_data';\n",
              "          await google.colab.output.renderOutput(dataTable, element);\n",
              "          const docLink = document.createElement('div');\n",
              "          docLink.innerHTML = docLinkHtml;\n",
              "          element.appendChild(docLink);\n",
              "        }\n",
              "      </script>\n",
              "    </div>\n",
              "  </div>\n",
              "  "
            ]
          },
          "metadata": {},
          "execution_count": 90
        }
      ]
    },
    {
      "cell_type": "code",
      "source": [
        "X = bitcoin_prices_windowed.dropna().drop('price', axis = 1).astype(np.float32)\n",
        "y = bitcoin_prices_windowed.dropna()['price'].astype(np.float32)"
      ],
      "metadata": {
        "id": "-OgrTdESecDO"
      },
      "execution_count": 91,
      "outputs": []
    },
    {
      "cell_type": "code",
      "source": [
        "split_size = int(len(X) * 0.8)\n",
        "X_train,y_train = X[:split_size], y[:split_size]\n",
        "X_test,y_test = X[split_size:] , y[split_size:]\n",
        "len(X_train), len(y_train), len(X_test), len(y_test)"
      ],
      "metadata": {
        "colab": {
          "base_uri": "https://localhost:8080/"
        },
        "id": "7uzlkZ6fgNXy",
        "outputId": "f0fc2433-2778-4bbe-e767-bece113051e3"
      },
      "execution_count": 92,
      "outputs": [
        {
          "output_type": "execute_result",
          "data": {
            "text/plain": [
              "(2224, 2224, 556, 556)"
            ]
          },
          "metadata": {},
          "execution_count": 92
        }
      ]
    },
    {
      "cell_type": "markdown",
      "source": [
        "## Model 6: Dense(multivariate Time Series)"
      ],
      "metadata": {
        "id": "ZOGE0OGzi8Sx"
      }
    },
    {
      "cell_type": "code",
      "source": [
        "tf.random.set_seed(42)\n",
        "\n",
        "model_6 = tf.keras.Sequential([\n",
        "    tf.keras.layers.Dense(128, 'relu'),\n",
        "    tf.keras.layers.Dense(HORIZON)\n",
        "], name = \"model_6_dense_multivariate\")\n",
        "\n",
        "model_6.compile(loss = \"mae\",\n",
        "                optimizer = tf.keras.optimizers.Adam())\n",
        "\n",
        "model_6.fit(X_train,y_train,\n",
        "            batch_size =128,\n",
        "            epochs = 100,\n",
        "            validation_data = (X_test,y_test),\n",
        "            callbacks = [create_model_checkpoint(model_name = model_6.name)])"
      ],
      "metadata": {
        "colab": {
          "base_uri": "https://localhost:8080/"
        },
        "id": "sa4DGjB4j-DU",
        "outputId": "be97cbad-9ac6-4203-90bf-f071bed29258"
      },
      "execution_count": 93,
      "outputs": [
        {
          "output_type": "stream",
          "name": "stdout",
          "text": [
            "Epoch 1/100\n",
            "18/18 [==============================] - 1s 37ms/step - loss: 1234.6881 - val_loss: 2061.8428\n",
            "Epoch 2/100\n",
            "18/18 [==============================] - 0s 29ms/step - loss: 351.5003 - val_loss: 1908.7257\n",
            "Epoch 3/100\n",
            "18/18 [==============================] - 1s 29ms/step - loss: 235.4110 - val_loss: 1329.5310\n",
            "Epoch 4/100\n",
            "18/18 [==============================] - 0s 28ms/step - loss: 208.6456 - val_loss: 1102.0128\n",
            "Epoch 5/100\n",
            "18/18 [==============================] - 0s 3ms/step - loss: 196.5595 - val_loss: 1108.6157\n",
            "Epoch 6/100\n",
            "18/18 [==============================] - 1s 30ms/step - loss: 187.2317 - val_loss: 1035.9969\n",
            "Epoch 7/100\n",
            "18/18 [==============================] - 0s 29ms/step - loss: 182.0119 - val_loss: 1019.2738\n",
            "Epoch 8/100\n",
            "18/18 [==============================] - 0s 29ms/step - loss: 175.6998 - val_loss: 977.7345\n",
            "Epoch 9/100\n",
            "18/18 [==============================] - 0s 27ms/step - loss: 170.1651 - val_loss: 953.9047\n",
            "Epoch 10/100\n",
            "18/18 [==============================] - 0s 29ms/step - loss: 164.3849 - val_loss: 912.1832\n",
            "Epoch 11/100\n",
            "18/18 [==============================] - 0s 28ms/step - loss: 158.0432 - val_loss: 871.2955\n",
            "Epoch 12/100\n",
            "18/18 [==============================] - 0s 28ms/step - loss: 151.8589 - val_loss: 853.0025\n",
            "Epoch 13/100\n",
            "18/18 [==============================] - 0s 3ms/step - loss: 150.1562 - val_loss: 899.1047\n",
            "Epoch 14/100\n",
            "18/18 [==============================] - 0s 28ms/step - loss: 147.8199 - val_loss: 845.0212\n",
            "Epoch 15/100\n",
            "18/18 [==============================] - 0s 28ms/step - loss: 142.5173 - val_loss: 788.1892\n",
            "Epoch 16/100\n",
            "18/18 [==============================] - 0s 27ms/step - loss: 137.1697 - val_loss: 770.6404\n",
            "Epoch 17/100\n",
            "18/18 [==============================] - 0s 28ms/step - loss: 136.0208 - val_loss: 763.1682\n",
            "Epoch 18/100\n",
            "18/18 [==============================] - 0s 28ms/step - loss: 135.4696 - val_loss: 753.5217\n",
            "Epoch 19/100\n",
            "18/18 [==============================] - 0s 4ms/step - loss: 130.7954 - val_loss: 758.8008\n",
            "Epoch 20/100\n",
            "18/18 [==============================] - 0s 28ms/step - loss: 128.6773 - val_loss: 703.7003\n",
            "Epoch 21/100\n",
            "18/18 [==============================] - 1s 46ms/step - loss: 129.2461 - val_loss: 693.4249\n",
            "Epoch 22/100\n",
            "18/18 [==============================] - 0s 3ms/step - loss: 125.8202 - val_loss: 703.4455\n",
            "Epoch 23/100\n",
            "18/18 [==============================] - 0s 3ms/step - loss: 127.8713 - val_loss: 698.5743\n",
            "Epoch 24/100\n",
            "18/18 [==============================] - 0s 29ms/step - loss: 122.4124 - val_loss: 672.5024\n",
            "Epoch 25/100\n",
            "18/18 [==============================] - 0s 28ms/step - loss: 121.3311 - val_loss: 666.3888\n",
            "Epoch 26/100\n",
            "18/18 [==============================] - 0s 3ms/step - loss: 127.9873 - val_loss: 693.5915\n",
            "Epoch 27/100\n",
            "18/18 [==============================] - 0s 28ms/step - loss: 124.8371 - val_loss: 645.3121\n",
            "Epoch 28/100\n",
            "18/18 [==============================] - 0s 28ms/step - loss: 119.8579 - val_loss: 641.3582\n",
            "Epoch 29/100\n",
            "18/18 [==============================] - 0s 3ms/step - loss: 121.2880 - val_loss: 665.6819\n",
            "Epoch 30/100\n",
            "18/18 [==============================] - 1s 29ms/step - loss: 121.1822 - val_loss: 640.8664\n",
            "Epoch 31/100\n",
            "18/18 [==============================] - 0s 4ms/step - loss: 120.4115 - val_loss: 667.9379\n",
            "Epoch 32/100\n",
            "18/18 [==============================] - 0s 28ms/step - loss: 118.3126 - val_loss: 618.9241\n",
            "Epoch 33/100\n",
            "18/18 [==============================] - 0s 3ms/step - loss: 115.8836 - val_loss: 621.7647\n",
            "Epoch 34/100\n",
            "18/18 [==============================] - 0s 28ms/step - loss: 114.9744 - val_loss: 611.1620\n",
            "Epoch 35/100\n",
            "18/18 [==============================] - 0s 3ms/step - loss: 112.5883 - val_loss: 615.9453\n",
            "Epoch 36/100\n",
            "18/18 [==============================] - 0s 3ms/step - loss: 115.2489 - val_loss: 616.3082\n",
            "Epoch 37/100\n",
            "18/18 [==============================] - 0s 3ms/step - loss: 114.1561 - val_loss: 612.4215\n",
            "Epoch 38/100\n",
            "18/18 [==============================] - 0s 28ms/step - loss: 111.4725 - val_loss: 602.2148\n",
            "Epoch 39/100\n",
            "18/18 [==============================] - 0s 28ms/step - loss: 113.2853 - val_loss: 597.4948\n",
            "Epoch 40/100\n",
            "18/18 [==============================] - 0s 28ms/step - loss: 109.8442 - val_loss: 594.1258\n",
            "Epoch 41/100\n",
            "18/18 [==============================] - 0s 3ms/step - loss: 110.6678 - val_loss: 618.8127\n",
            "Epoch 42/100\n",
            "18/18 [==============================] - 0s 3ms/step - loss: 115.6730 - val_loss: 597.8893\n",
            "Epoch 43/100\n",
            "18/18 [==============================] - 0s 3ms/step - loss: 110.8469 - val_loss: 598.7606\n",
            "Epoch 44/100\n",
            "18/18 [==============================] - 0s 28ms/step - loss: 109.6574 - val_loss: 589.3675\n",
            "Epoch 45/100\n",
            "18/18 [==============================] - 0s 3ms/step - loss: 108.7725 - val_loss: 611.4677\n",
            "Epoch 46/100\n",
            "18/18 [==============================] - 1s 29ms/step - loss: 109.6011 - val_loss: 587.5851\n",
            "Epoch 47/100\n",
            "18/18 [==============================] - 0s 3ms/step - loss: 110.3633 - val_loss: 634.5783\n",
            "Epoch 48/100\n",
            "18/18 [==============================] - 0s 4ms/step - loss: 109.3613 - val_loss: 641.6937\n",
            "Epoch 49/100\n",
            "18/18 [==============================] - 0s 28ms/step - loss: 112.7560 - val_loss: 581.5450\n",
            "Epoch 50/100\n",
            "18/18 [==============================] - 0s 3ms/step - loss: 108.7167 - val_loss: 645.5009\n",
            "Epoch 51/100\n",
            "18/18 [==============================] - 0s 4ms/step - loss: 110.1508 - val_loss: 601.1287\n",
            "Epoch 52/100\n",
            "18/18 [==============================] - 0s 3ms/step - loss: 111.2310 - val_loss: 604.3257\n",
            "Epoch 53/100\n",
            "18/18 [==============================] - 0s 3ms/step - loss: 111.7207 - val_loss: 637.5742\n",
            "Epoch 54/100\n",
            "18/18 [==============================] - 0s 3ms/step - loss: 113.4848 - val_loss: 598.4409\n",
            "Epoch 55/100\n",
            "18/18 [==============================] - 0s 28ms/step - loss: 109.9909 - val_loss: 575.7907\n",
            "Epoch 56/100\n",
            "18/18 [==============================] - 0s 3ms/step - loss: 108.7174 - val_loss: 778.8625\n",
            "Epoch 57/100\n",
            "18/18 [==============================] - 0s 4ms/step - loss: 124.3417 - val_loss: 684.9153\n",
            "Epoch 58/100\n",
            "18/18 [==============================] - 0s 4ms/step - loss: 113.7253 - val_loss: 578.1130\n",
            "Epoch 59/100\n",
            "18/18 [==============================] - 0s 3ms/step - loss: 106.6669 - val_loss: 587.5096\n",
            "Epoch 60/100\n",
            "18/18 [==============================] - 0s 4ms/step - loss: 107.3718 - val_loss: 604.5571\n",
            "Epoch 61/100\n",
            "18/18 [==============================] - 0s 3ms/step - loss: 107.3551 - val_loss: 579.4926\n",
            "Epoch 62/100\n",
            "18/18 [==============================] - 0s 4ms/step - loss: 107.1465 - val_loss: 590.5033\n",
            "Epoch 63/100\n",
            "18/18 [==============================] - 0s 3ms/step - loss: 110.3243 - val_loss: 656.7147\n",
            "Epoch 64/100\n",
            "18/18 [==============================] - 0s 3ms/step - loss: 111.4401 - val_loss: 695.9143\n",
            "Epoch 65/100\n",
            "18/18 [==============================] - 0s 28ms/step - loss: 112.8277 - val_loss: 571.7211\n",
            "Epoch 66/100\n",
            "18/18 [==============================] - 0s 3ms/step - loss: 111.0755 - val_loss: 586.5437\n",
            "Epoch 67/100\n",
            "18/18 [==============================] - 0s 3ms/step - loss: 106.8978 - val_loss: 605.0884\n",
            "Epoch 68/100\n",
            "18/18 [==============================] - 0s 3ms/step - loss: 112.7144 - val_loss: 721.4471\n",
            "Epoch 69/100\n",
            "18/18 [==============================] - 0s 3ms/step - loss: 125.0426 - val_loss: 675.2717\n",
            "Epoch 70/100\n",
            "18/18 [==============================] - 0s 3ms/step - loss: 120.6351 - val_loss: 583.3199\n",
            "Epoch 71/100\n",
            "18/18 [==============================] - 0s 3ms/step - loss: 110.7660 - val_loss: 617.2175\n",
            "Epoch 72/100\n",
            "18/18 [==============================] - 0s 4ms/step - loss: 107.5005 - val_loss: 573.3948\n",
            "Epoch 73/100\n",
            "18/18 [==============================] - 0s 3ms/step - loss: 109.0864 - val_loss: 598.6362\n",
            "Epoch 74/100\n",
            "18/18 [==============================] - 0s 4ms/step - loss: 106.1097 - val_loss: 585.1651\n",
            "Epoch 75/100\n",
            "18/18 [==============================] - 0s 3ms/step - loss: 108.0799 - val_loss: 595.4968\n",
            "Epoch 76/100\n",
            "18/18 [==============================] - 0s 3ms/step - loss: 106.6665 - val_loss: 572.6196\n",
            "Epoch 77/100\n",
            "18/18 [==============================] - 0s 29ms/step - loss: 106.8613 - val_loss: 569.7401\n",
            "Epoch 78/100\n",
            "18/18 [==============================] - 0s 27ms/step - loss: 106.2962 - val_loss: 569.5538\n",
            "Epoch 79/100\n",
            "18/18 [==============================] - 0s 3ms/step - loss: 105.4122 - val_loss: 587.1070\n",
            "Epoch 80/100\n",
            "18/18 [==============================] - 0s 3ms/step - loss: 106.3550 - val_loss: 575.5290\n",
            "Epoch 81/100\n",
            "18/18 [==============================] - 0s 3ms/step - loss: 105.4703 - val_loss: 573.0557\n",
            "Epoch 82/100\n",
            "18/18 [==============================] - 0s 28ms/step - loss: 111.8128 - val_loss: 569.2513\n",
            "Epoch 83/100\n",
            "18/18 [==============================] - 0s 3ms/step - loss: 110.6720 - val_loss: 643.0087\n",
            "Epoch 84/100\n",
            "18/18 [==============================] - 0s 3ms/step - loss: 110.1933 - val_loss: 578.6856\n",
            "Epoch 85/100\n",
            "18/18 [==============================] - 0s 3ms/step - loss: 105.9973 - val_loss: 580.7695\n",
            "Epoch 86/100\n",
            "18/18 [==============================] - 0s 4ms/step - loss: 106.2998 - val_loss: 574.9779\n",
            "Epoch 87/100\n",
            "18/18 [==============================] - 0s 4ms/step - loss: 104.6251 - val_loss: 579.1241\n",
            "Epoch 88/100\n",
            "18/18 [==============================] - 0s 3ms/step - loss: 105.5787 - val_loss: 578.4373\n",
            "Epoch 89/100\n",
            "18/18 [==============================] - 0s 28ms/step - loss: 106.2337 - val_loss: 568.6227\n",
            "Epoch 90/100\n",
            "18/18 [==============================] - 0s 4ms/step - loss: 104.4805 - val_loss: 603.5798\n",
            "Epoch 91/100\n",
            "18/18 [==============================] - 0s 4ms/step - loss: 107.7674 - val_loss: 609.6341\n",
            "Epoch 92/100\n",
            "18/18 [==============================] - 0s 4ms/step - loss: 107.0758 - val_loss: 578.5632\n",
            "Epoch 93/100\n",
            "18/18 [==============================] - 0s 4ms/step - loss: 113.8534 - val_loss: 660.6237\n",
            "Epoch 94/100\n",
            "18/18 [==============================] - 0s 3ms/step - loss: 110.9860 - val_loss: 569.0581\n",
            "Epoch 95/100\n",
            "18/18 [==============================] - 0s 3ms/step - loss: 106.0804 - val_loss: 591.7418\n",
            "Epoch 96/100\n",
            "18/18 [==============================] - 0s 3ms/step - loss: 114.2290 - val_loss: 611.8512\n",
            "Epoch 97/100\n",
            "18/18 [==============================] - 0s 3ms/step - loss: 107.7527 - val_loss: 584.7686\n",
            "Epoch 98/100\n",
            "18/18 [==============================] - 0s 4ms/step - loss: 107.8530 - val_loss: 583.5021\n",
            "Epoch 99/100\n",
            "18/18 [==============================] - 0s 28ms/step - loss: 108.0866 - val_loss: 568.3345\n",
            "Epoch 100/100\n",
            "18/18 [==============================] - 0s 3ms/step - loss: 108.8599 - val_loss: 645.7142\n"
          ]
        },
        {
          "output_type": "execute_result",
          "data": {
            "text/plain": [
              "<keras.callbacks.History at 0x7f866c976bd0>"
            ]
          },
          "metadata": {},
          "execution_count": 93
        }
      ]
    },
    {
      "cell_type": "code",
      "source": [
        "model_6.evaluate(X_test,y_test)"
      ],
      "metadata": {
        "colab": {
          "base_uri": "https://localhost:8080/"
        },
        "id": "yywMWfUkmCFd",
        "outputId": "8528bd6d-73f8-4e7e-c75d-9c9be806784c"
      },
      "execution_count": 94,
      "outputs": [
        {
          "output_type": "stream",
          "name": "stdout",
          "text": [
            "18/18 [==============================] - 0s 1ms/step - loss: 645.7142\n"
          ]
        },
        {
          "output_type": "execute_result",
          "data": {
            "text/plain": [
              "645.7142333984375"
            ]
          },
          "metadata": {},
          "execution_count": 94
        }
      ]
    },
    {
      "cell_type": "code",
      "source": [
        "model_6 = tf.keras.models.load_model('model_experiment/model_6_dense_multivariate/')\n",
        "model_6.evaluate(X_test,y_test)"
      ],
      "metadata": {
        "colab": {
          "base_uri": "https://localhost:8080/"
        },
        "id": "GZbgskUXmXoN",
        "outputId": "c0a38aff-2fe8-46ea-9c4c-1c32e15e159d"
      },
      "execution_count": 95,
      "outputs": [
        {
          "output_type": "stream",
          "name": "stdout",
          "text": [
            "18/18 [==============================] - 0s 2ms/step - loss: 568.3345\n"
          ]
        },
        {
          "output_type": "execute_result",
          "data": {
            "text/plain": [
              "568.33447265625"
            ]
          },
          "metadata": {},
          "execution_count": 95
        }
      ]
    },
    {
      "cell_type": "code",
      "source": [
        "model_6_preds = tf.squeeze(model_6.predict(X_test))\n",
        "model_6_preds[:10]"
      ],
      "metadata": {
        "colab": {
          "base_uri": "https://localhost:8080/"
        },
        "id": "3yRqG5KQmyU5",
        "outputId": "320e2e4a-6685-40d1-f9df-f6b601a21b52"
      },
      "execution_count": 96,
      "outputs": [
        {
          "output_type": "execute_result",
          "data": {
            "text/plain": [
              "<tf.Tensor: shape=(10,), dtype=float32, numpy=\n",
              "array([8845.381 , 8769.115 , 9044.852 , 8745.515 , 8727.0625, 8773.182 ,\n",
              "       8669.289 , 8502.578 , 8469.248 , 8527.997 ], dtype=float32)>"
            ]
          },
          "metadata": {},
          "execution_count": 96
        }
      ]
    },
    {
      "cell_type": "code",
      "source": [
        "model_6_results = evaluate_preds(y_true = y_test,\n",
        "                                 y_pred = model_6_preds)\n",
        "\n",
        "model_6_results"
      ],
      "metadata": {
        "colab": {
          "base_uri": "https://localhost:8080/"
        },
        "id": "OIk58pUonZd1",
        "outputId": "8cb5d7f5-70a8-41fc-9c39-395bbcf01a48"
      },
      "execution_count": 97,
      "outputs": [
        {
          "output_type": "execute_result",
          "data": {
            "text/plain": [
              "{'mae': 568.33435,\n",
              " 'mse': 1164858.9,\n",
              " 'rmse': 23.839764,\n",
              " 'mape': 2.549302,\n",
              " 'mase': 0.99840605}"
            ]
          },
          "metadata": {},
          "execution_count": 97
        }
      ]
    },
    {
      "cell_type": "code",
      "source": [
        "model_1_results"
      ],
      "metadata": {
        "colab": {
          "base_uri": "https://localhost:8080/"
        },
        "id": "3cDNRzFNnxCa",
        "outputId": "67f1aa85-be7f-4bb6-aad6-b66c6d5ed853"
      },
      "execution_count": 98,
      "outputs": [
        {
          "output_type": "execute_result",
          "data": {
            "text/plain": [
              "{'mae': 568.5498,\n",
              " 'mse': 1172587.6,\n",
              " 'rmse': 23.844282,\n",
              " 'mape': 2.549229,\n",
              " 'mase': 0.99878454}"
            ]
          },
          "metadata": {},
          "execution_count": 98
        }
      ]
    },
    {
      "cell_type": "code",
      "source": [],
      "metadata": {
        "id": "ezcNXIDmoDhA"
      },
      "execution_count": 98,
      "outputs": []
    }
  ],
  "metadata": {
    "colab": {
      "provenance": [],
      "authorship_tag": "ABX9TyNmIDYfRjviUmykwljp/Afd",
      "include_colab_link": true
    },
    "kernelspec": {
      "display_name": "Python 3",
      "name": "python3"
    },
    "language_info": {
      "name": "python"
    }
  },
  "nbformat": 4,
  "nbformat_minor": 0
}