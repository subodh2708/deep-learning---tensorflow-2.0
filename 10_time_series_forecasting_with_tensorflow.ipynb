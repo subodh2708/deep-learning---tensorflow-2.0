{
  "nbformat": 4,
  "nbformat_minor": 0,
  "metadata": {
    "colab": {
      "provenance": [],
      "authorship_tag": "ABX9TyPtRqr6wfIc9I0E59I4T+Ok",
      "include_colab_link": true
    },
    "kernelspec": {
      "name": "python3",
      "display_name": "Python 3"
    },
    "language_info": {
      "name": "python"
    },
    "accelerator": "GPU"
  },
  "cells": [
    {
      "cell_type": "markdown",
      "metadata": {
        "id": "view-in-github",
        "colab_type": "text"
      },
      "source": [
        "<a href=\"https://colab.research.google.com/github/subodh2708/deep-learning---tensorflow-2.0/blob/main/10_time_series_forecasting_with_tensorflow.ipynb\" target=\"_parent\"><img src=\"https://colab.research.google.com/assets/colab-badge.svg\" alt=\"Open In Colab\"/></a>"
      ]
    },
    {
      "cell_type": "markdown",
      "source": [
        "# Time Series Forcasting fundamentals with tensorflow + milestone project 3: BitPredict💹💰"
      ],
      "metadata": {
        "id": "3hmhL78d36_4"
      }
    },
    {
      "cell_type": "markdown",
      "source": [
        "## Get Data "
      ],
      "metadata": {
        "id": "gB5anc2C5hBK"
      }
    },
    {
      "cell_type": "code",
      "source": [
        "!wget https://raw.githubusercontent.com/mrdbourke/tensorflow-deep-learning/main/extras/BTC_USD_2013-10-01_2021-05-18-CoinDesk.csv"
      ],
      "metadata": {
        "colab": {
          "base_uri": "https://localhost:8080/"
        },
        "id": "_XGl7fGthgGl",
        "outputId": "d4ff216a-4d64-4023-91ff-58f2f84665cc"
      },
      "execution_count": 52,
      "outputs": [
        {
          "output_type": "stream",
          "name": "stdout",
          "text": [
            "--2022-09-28 04:52:43--  https://raw.githubusercontent.com/mrdbourke/tensorflow-deep-learning/main/extras/BTC_USD_2013-10-01_2021-05-18-CoinDesk.csv\n",
            "Resolving raw.githubusercontent.com (raw.githubusercontent.com)... 185.199.108.133, 185.199.109.133, 185.199.110.133, ...\n",
            "Connecting to raw.githubusercontent.com (raw.githubusercontent.com)|185.199.108.133|:443... connected.\n",
            "HTTP request sent, awaiting response... 200 OK\n",
            "Length: 178509 (174K) [text/plain]\n",
            "Saving to: ‘BTC_USD_2013-10-01_2021-05-18-CoinDesk.csv.1’\n",
            "\n",
            "BTC_USD_2013-10-01_ 100%[===================>] 174.33K  --.-KB/s    in 0.002s  \n",
            "\n",
            "2022-09-28 04:52:44 (71.3 MB/s) - ‘BTC_USD_2013-10-01_2021-05-18-CoinDesk.csv.1’ saved [178509/178509]\n",
            "\n"
          ]
        }
      ]
    },
    {
      "cell_type": "markdown",
      "source": [
        "## Importing time-series with pandas"
      ],
      "metadata": {
        "id": "nAaTOARWh7RO"
      }
    },
    {
      "cell_type": "code",
      "source": [
        "import pandas as pd\n",
        "\n",
        "df = pd.read_csv('/content/BTC_USD_2013-10-01_2021-05-18-CoinDesk.csv',\n",
        "                 parse_dates = ['Date'],\n",
        "                 index_col = ['Date'])\n",
        "\n",
        "df.head()"
      ],
      "metadata": {
        "colab": {
          "base_uri": "https://localhost:8080/",
          "height": 237
        },
        "id": "fNSbdU0jiCxy",
        "outputId": "96373df8-d016-40ce-8031-50f3970d3d15"
      },
      "execution_count": 53,
      "outputs": [
        {
          "output_type": "execute_result",
          "data": {
            "text/plain": [
              "           Currency  Closing Price (USD)  24h Open (USD)  24h High (USD)  \\\n",
              "Date                                                                       \n",
              "2013-10-01      BTC            123.65499       124.30466       124.75166   \n",
              "2013-10-02      BTC            125.45500       123.65499       125.75850   \n",
              "2013-10-03      BTC            108.58483       125.45500       125.66566   \n",
              "2013-10-04      BTC            118.67466       108.58483       118.67500   \n",
              "2013-10-05      BTC            121.33866       118.67466       121.93633   \n",
              "\n",
              "            24h Low (USD)  \n",
              "Date                       \n",
              "2013-10-01      122.56349  \n",
              "2013-10-02      123.63383  \n",
              "2013-10-03       83.32833  \n",
              "2013-10-04      107.05816  \n",
              "2013-10-05      118.00566  "
            ],
            "text/html": [
              "\n",
              "  <div id=\"df-55c58005-01c8-4262-862b-605c5d4c018d\">\n",
              "    <div class=\"colab-df-container\">\n",
              "      <div>\n",
              "<style scoped>\n",
              "    .dataframe tbody tr th:only-of-type {\n",
              "        vertical-align: middle;\n",
              "    }\n",
              "\n",
              "    .dataframe tbody tr th {\n",
              "        vertical-align: top;\n",
              "    }\n",
              "\n",
              "    .dataframe thead th {\n",
              "        text-align: right;\n",
              "    }\n",
              "</style>\n",
              "<table border=\"1\" class=\"dataframe\">\n",
              "  <thead>\n",
              "    <tr style=\"text-align: right;\">\n",
              "      <th></th>\n",
              "      <th>Currency</th>\n",
              "      <th>Closing Price (USD)</th>\n",
              "      <th>24h Open (USD)</th>\n",
              "      <th>24h High (USD)</th>\n",
              "      <th>24h Low (USD)</th>\n",
              "    </tr>\n",
              "    <tr>\n",
              "      <th>Date</th>\n",
              "      <th></th>\n",
              "      <th></th>\n",
              "      <th></th>\n",
              "      <th></th>\n",
              "      <th></th>\n",
              "    </tr>\n",
              "  </thead>\n",
              "  <tbody>\n",
              "    <tr>\n",
              "      <th>2013-10-01</th>\n",
              "      <td>BTC</td>\n",
              "      <td>123.65499</td>\n",
              "      <td>124.30466</td>\n",
              "      <td>124.75166</td>\n",
              "      <td>122.56349</td>\n",
              "    </tr>\n",
              "    <tr>\n",
              "      <th>2013-10-02</th>\n",
              "      <td>BTC</td>\n",
              "      <td>125.45500</td>\n",
              "      <td>123.65499</td>\n",
              "      <td>125.75850</td>\n",
              "      <td>123.63383</td>\n",
              "    </tr>\n",
              "    <tr>\n",
              "      <th>2013-10-03</th>\n",
              "      <td>BTC</td>\n",
              "      <td>108.58483</td>\n",
              "      <td>125.45500</td>\n",
              "      <td>125.66566</td>\n",
              "      <td>83.32833</td>\n",
              "    </tr>\n",
              "    <tr>\n",
              "      <th>2013-10-04</th>\n",
              "      <td>BTC</td>\n",
              "      <td>118.67466</td>\n",
              "      <td>108.58483</td>\n",
              "      <td>118.67500</td>\n",
              "      <td>107.05816</td>\n",
              "    </tr>\n",
              "    <tr>\n",
              "      <th>2013-10-05</th>\n",
              "      <td>BTC</td>\n",
              "      <td>121.33866</td>\n",
              "      <td>118.67466</td>\n",
              "      <td>121.93633</td>\n",
              "      <td>118.00566</td>\n",
              "    </tr>\n",
              "  </tbody>\n",
              "</table>\n",
              "</div>\n",
              "      <button class=\"colab-df-convert\" onclick=\"convertToInteractive('df-55c58005-01c8-4262-862b-605c5d4c018d')\"\n",
              "              title=\"Convert this dataframe to an interactive table.\"\n",
              "              style=\"display:none;\">\n",
              "        \n",
              "  <svg xmlns=\"http://www.w3.org/2000/svg\" height=\"24px\"viewBox=\"0 0 24 24\"\n",
              "       width=\"24px\">\n",
              "    <path d=\"M0 0h24v24H0V0z\" fill=\"none\"/>\n",
              "    <path d=\"M18.56 5.44l.94 2.06.94-2.06 2.06-.94-2.06-.94-.94-2.06-.94 2.06-2.06.94zm-11 1L8.5 8.5l.94-2.06 2.06-.94-2.06-.94L8.5 2.5l-.94 2.06-2.06.94zm10 10l.94 2.06.94-2.06 2.06-.94-2.06-.94-.94-2.06-.94 2.06-2.06.94z\"/><path d=\"M17.41 7.96l-1.37-1.37c-.4-.4-.92-.59-1.43-.59-.52 0-1.04.2-1.43.59L10.3 9.45l-7.72 7.72c-.78.78-.78 2.05 0 2.83L4 21.41c.39.39.9.59 1.41.59.51 0 1.02-.2 1.41-.59l7.78-7.78 2.81-2.81c.8-.78.8-2.07 0-2.86zM5.41 20L4 18.59l7.72-7.72 1.47 1.35L5.41 20z\"/>\n",
              "  </svg>\n",
              "      </button>\n",
              "      \n",
              "  <style>\n",
              "    .colab-df-container {\n",
              "      display:flex;\n",
              "      flex-wrap:wrap;\n",
              "      gap: 12px;\n",
              "    }\n",
              "\n",
              "    .colab-df-convert {\n",
              "      background-color: #E8F0FE;\n",
              "      border: none;\n",
              "      border-radius: 50%;\n",
              "      cursor: pointer;\n",
              "      display: none;\n",
              "      fill: #1967D2;\n",
              "      height: 32px;\n",
              "      padding: 0 0 0 0;\n",
              "      width: 32px;\n",
              "    }\n",
              "\n",
              "    .colab-df-convert:hover {\n",
              "      background-color: #E2EBFA;\n",
              "      box-shadow: 0px 1px 2px rgba(60, 64, 67, 0.3), 0px 1px 3px 1px rgba(60, 64, 67, 0.15);\n",
              "      fill: #174EA6;\n",
              "    }\n",
              "\n",
              "    [theme=dark] .colab-df-convert {\n",
              "      background-color: #3B4455;\n",
              "      fill: #D2E3FC;\n",
              "    }\n",
              "\n",
              "    [theme=dark] .colab-df-convert:hover {\n",
              "      background-color: #434B5C;\n",
              "      box-shadow: 0px 1px 3px 1px rgba(0, 0, 0, 0.15);\n",
              "      filter: drop-shadow(0px 1px 2px rgba(0, 0, 0, 0.3));\n",
              "      fill: #FFFFFF;\n",
              "    }\n",
              "  </style>\n",
              "\n",
              "      <script>\n",
              "        const buttonEl =\n",
              "          document.querySelector('#df-55c58005-01c8-4262-862b-605c5d4c018d button.colab-df-convert');\n",
              "        buttonEl.style.display =\n",
              "          google.colab.kernel.accessAllowed ? 'block' : 'none';\n",
              "\n",
              "        async function convertToInteractive(key) {\n",
              "          const element = document.querySelector('#df-55c58005-01c8-4262-862b-605c5d4c018d');\n",
              "          const dataTable =\n",
              "            await google.colab.kernel.invokeFunction('convertToInteractive',\n",
              "                                                     [key], {});\n",
              "          if (!dataTable) return;\n",
              "\n",
              "          const docLinkHtml = 'Like what you see? Visit the ' +\n",
              "            '<a target=\"_blank\" href=https://colab.research.google.com/notebooks/data_table.ipynb>data table notebook</a>'\n",
              "            + ' to learn more about interactive tables.';\n",
              "          element.innerHTML = '';\n",
              "          dataTable['output_type'] = 'display_data';\n",
              "          await google.colab.output.renderOutput(dataTable, element);\n",
              "          const docLink = document.createElement('div');\n",
              "          docLink.innerHTML = docLinkHtml;\n",
              "          element.appendChild(docLink);\n",
              "        }\n",
              "      </script>\n",
              "    </div>\n",
              "  </div>\n",
              "  "
            ]
          },
          "metadata": {},
          "execution_count": 53
        }
      ]
    },
    {
      "cell_type": "code",
      "source": [
        "bitcoin_price = pd.DataFrame(df['Closing Price (USD)']).rename(columns= {'Closing Price (USD)':'price'})\n",
        "bitcoin_price"
      ],
      "metadata": {
        "colab": {
          "base_uri": "https://localhost:8080/",
          "height": 455
        },
        "id": "TPioh5A6juWD",
        "outputId": "07c52f0d-de0a-4b4e-eaf2-423e37bcdcb2"
      },
      "execution_count": 54,
      "outputs": [
        {
          "output_type": "execute_result",
          "data": {
            "text/plain": [
              "                   price\n",
              "Date                    \n",
              "2013-10-01    123.654990\n",
              "2013-10-02    125.455000\n",
              "2013-10-03    108.584830\n",
              "2013-10-04    118.674660\n",
              "2013-10-05    121.338660\n",
              "...                  ...\n",
              "2021-05-14  49764.132082\n",
              "2021-05-15  50032.693137\n",
              "2021-05-16  47885.625255\n",
              "2021-05-17  45604.615754\n",
              "2021-05-18  43144.471291\n",
              "\n",
              "[2787 rows x 1 columns]"
            ],
            "text/html": [
              "\n",
              "  <div id=\"df-1d689450-e9cf-4e7c-a623-d1e5bbe9a502\">\n",
              "    <div class=\"colab-df-container\">\n",
              "      <div>\n",
              "<style scoped>\n",
              "    .dataframe tbody tr th:only-of-type {\n",
              "        vertical-align: middle;\n",
              "    }\n",
              "\n",
              "    .dataframe tbody tr th {\n",
              "        vertical-align: top;\n",
              "    }\n",
              "\n",
              "    .dataframe thead th {\n",
              "        text-align: right;\n",
              "    }\n",
              "</style>\n",
              "<table border=\"1\" class=\"dataframe\">\n",
              "  <thead>\n",
              "    <tr style=\"text-align: right;\">\n",
              "      <th></th>\n",
              "      <th>price</th>\n",
              "    </tr>\n",
              "    <tr>\n",
              "      <th>Date</th>\n",
              "      <th></th>\n",
              "    </tr>\n",
              "  </thead>\n",
              "  <tbody>\n",
              "    <tr>\n",
              "      <th>2013-10-01</th>\n",
              "      <td>123.654990</td>\n",
              "    </tr>\n",
              "    <tr>\n",
              "      <th>2013-10-02</th>\n",
              "      <td>125.455000</td>\n",
              "    </tr>\n",
              "    <tr>\n",
              "      <th>2013-10-03</th>\n",
              "      <td>108.584830</td>\n",
              "    </tr>\n",
              "    <tr>\n",
              "      <th>2013-10-04</th>\n",
              "      <td>118.674660</td>\n",
              "    </tr>\n",
              "    <tr>\n",
              "      <th>2013-10-05</th>\n",
              "      <td>121.338660</td>\n",
              "    </tr>\n",
              "    <tr>\n",
              "      <th>...</th>\n",
              "      <td>...</td>\n",
              "    </tr>\n",
              "    <tr>\n",
              "      <th>2021-05-14</th>\n",
              "      <td>49764.132082</td>\n",
              "    </tr>\n",
              "    <tr>\n",
              "      <th>2021-05-15</th>\n",
              "      <td>50032.693137</td>\n",
              "    </tr>\n",
              "    <tr>\n",
              "      <th>2021-05-16</th>\n",
              "      <td>47885.625255</td>\n",
              "    </tr>\n",
              "    <tr>\n",
              "      <th>2021-05-17</th>\n",
              "      <td>45604.615754</td>\n",
              "    </tr>\n",
              "    <tr>\n",
              "      <th>2021-05-18</th>\n",
              "      <td>43144.471291</td>\n",
              "    </tr>\n",
              "  </tbody>\n",
              "</table>\n",
              "<p>2787 rows × 1 columns</p>\n",
              "</div>\n",
              "      <button class=\"colab-df-convert\" onclick=\"convertToInteractive('df-1d689450-e9cf-4e7c-a623-d1e5bbe9a502')\"\n",
              "              title=\"Convert this dataframe to an interactive table.\"\n",
              "              style=\"display:none;\">\n",
              "        \n",
              "  <svg xmlns=\"http://www.w3.org/2000/svg\" height=\"24px\"viewBox=\"0 0 24 24\"\n",
              "       width=\"24px\">\n",
              "    <path d=\"M0 0h24v24H0V0z\" fill=\"none\"/>\n",
              "    <path d=\"M18.56 5.44l.94 2.06.94-2.06 2.06-.94-2.06-.94-.94-2.06-.94 2.06-2.06.94zm-11 1L8.5 8.5l.94-2.06 2.06-.94-2.06-.94L8.5 2.5l-.94 2.06-2.06.94zm10 10l.94 2.06.94-2.06 2.06-.94-2.06-.94-.94-2.06-.94 2.06-2.06.94z\"/><path d=\"M17.41 7.96l-1.37-1.37c-.4-.4-.92-.59-1.43-.59-.52 0-1.04.2-1.43.59L10.3 9.45l-7.72 7.72c-.78.78-.78 2.05 0 2.83L4 21.41c.39.39.9.59 1.41.59.51 0 1.02-.2 1.41-.59l7.78-7.78 2.81-2.81c.8-.78.8-2.07 0-2.86zM5.41 20L4 18.59l7.72-7.72 1.47 1.35L5.41 20z\"/>\n",
              "  </svg>\n",
              "      </button>\n",
              "      \n",
              "  <style>\n",
              "    .colab-df-container {\n",
              "      display:flex;\n",
              "      flex-wrap:wrap;\n",
              "      gap: 12px;\n",
              "    }\n",
              "\n",
              "    .colab-df-convert {\n",
              "      background-color: #E8F0FE;\n",
              "      border: none;\n",
              "      border-radius: 50%;\n",
              "      cursor: pointer;\n",
              "      display: none;\n",
              "      fill: #1967D2;\n",
              "      height: 32px;\n",
              "      padding: 0 0 0 0;\n",
              "      width: 32px;\n",
              "    }\n",
              "\n",
              "    .colab-df-convert:hover {\n",
              "      background-color: #E2EBFA;\n",
              "      box-shadow: 0px 1px 2px rgba(60, 64, 67, 0.3), 0px 1px 3px 1px rgba(60, 64, 67, 0.15);\n",
              "      fill: #174EA6;\n",
              "    }\n",
              "\n",
              "    [theme=dark] .colab-df-convert {\n",
              "      background-color: #3B4455;\n",
              "      fill: #D2E3FC;\n",
              "    }\n",
              "\n",
              "    [theme=dark] .colab-df-convert:hover {\n",
              "      background-color: #434B5C;\n",
              "      box-shadow: 0px 1px 3px 1px rgba(0, 0, 0, 0.15);\n",
              "      filter: drop-shadow(0px 1px 2px rgba(0, 0, 0, 0.3));\n",
              "      fill: #FFFFFF;\n",
              "    }\n",
              "  </style>\n",
              "\n",
              "      <script>\n",
              "        const buttonEl =\n",
              "          document.querySelector('#df-1d689450-e9cf-4e7c-a623-d1e5bbe9a502 button.colab-df-convert');\n",
              "        buttonEl.style.display =\n",
              "          google.colab.kernel.accessAllowed ? 'block' : 'none';\n",
              "\n",
              "        async function convertToInteractive(key) {\n",
              "          const element = document.querySelector('#df-1d689450-e9cf-4e7c-a623-d1e5bbe9a502');\n",
              "          const dataTable =\n",
              "            await google.colab.kernel.invokeFunction('convertToInteractive',\n",
              "                                                     [key], {});\n",
              "          if (!dataTable) return;\n",
              "\n",
              "          const docLinkHtml = 'Like what you see? Visit the ' +\n",
              "            '<a target=\"_blank\" href=https://colab.research.google.com/notebooks/data_table.ipynb>data table notebook</a>'\n",
              "            + ' to learn more about interactive tables.';\n",
              "          element.innerHTML = '';\n",
              "          dataTable['output_type'] = 'display_data';\n",
              "          await google.colab.output.renderOutput(dataTable, element);\n",
              "          const docLink = document.createElement('div');\n",
              "          docLink.innerHTML = docLinkHtml;\n",
              "          element.appendChild(docLink);\n",
              "        }\n",
              "      </script>\n",
              "    </div>\n",
              "  </div>\n",
              "  "
            ]
          },
          "metadata": {},
          "execution_count": 54
        }
      ]
    },
    {
      "cell_type": "code",
      "source": [
        "import matplotlib.pyplot as plt\n",
        "\n",
        "bitcoin_price.plot(figsize = (10,7))\n",
        "plt.ylabel('BTC price')\n",
        "plt.title('price of bitcoins from 2013 to 2021', fontsize= 16)\n",
        "plt.legend(fontsize= 14)\n"
      ],
      "metadata": {
        "colab": {
          "base_uri": "https://localhost:8080/",
          "height": 477
        },
        "id": "OQFv1DoD0T35",
        "outputId": "c00ef3c4-902a-46a8-9247-b66b059a1ff4"
      },
      "execution_count": 55,
      "outputs": [
        {
          "output_type": "execute_result",
          "data": {
            "text/plain": [
              "<matplotlib.legend.Legend at 0x7f5959ea6f10>"
            ]
          },
          "metadata": {},
          "execution_count": 55
        },
        {
          "output_type": "display_data",
          "data": {
            "text/plain": [
              "<Figure size 720x504 with 1 Axes>"
            ],
            "image/png": "[encoded data removed]"
          },
          "metadata": {
            "needs_background": "light"
          }
        }
      ]
    },
    {
      "cell_type": "markdown",
      "source": [
        "## importing time series data with python CSV module"
      ],
      "metadata": {
        "id": "uMXj91Gs01Se"
      }
    },
    {
      "cell_type": "code",
      "source": [
        "import csv\n",
        "from datetime import datetime\n",
        "\n",
        "timesteps = []\n",
        "btc_price = []\n",
        "with open('/content/BTC_USD_2013-10-01_2021-05-18-CoinDesk.csv', 'r') as f:\n",
        "  csv_reader = csv.reader(f, delimiter= ',')\n",
        "  next(csv_reader)\n",
        "  for line in csv_reader:\n",
        "    timesteps.append(datetime.strptime(line[1], '%Y-%m-%d'))\n",
        "    btc_price.append(float(line[2]))\n",
        "\n",
        "timesteps[:10], btc_price[:10]"
      ],
      "metadata": {
        "colab": {
          "base_uri": "https://localhost:8080/"
        },
        "id": "3NJxiwuSGdyv",
        "outputId": "2fb5c71c-fe5b-49ff-9dbd-f934352dc7e4"
      },
      "execution_count": 56,
      "outputs": [
        {
          "output_type": "execute_result",
          "data": {
            "text/plain": [
              "([datetime.datetime(2013, 10, 1, 0, 0),\n",
              "  datetime.datetime(2013, 10, 2, 0, 0),\n",
              "  datetime.datetime(2013, 10, 3, 0, 0),\n",
              "  datetime.datetime(2013, 10, 4, 0, 0),\n",
              "  datetime.datetime(2013, 10, 5, 0, 0),\n",
              "  datetime.datetime(2013, 10, 6, 0, 0),\n",
              "  datetime.datetime(2013, 10, 7, 0, 0),\n",
              "  datetime.datetime(2013, 10, 8, 0, 0),\n",
              "  datetime.datetime(2013, 10, 9, 0, 0),\n",
              "  datetime.datetime(2013, 10, 10, 0, 0)],\n",
              " [123.65499,\n",
              "  125.455,\n",
              "  108.58483,\n",
              "  118.67466,\n",
              "  121.33866,\n",
              "  120.65533,\n",
              "  121.795,\n",
              "  123.033,\n",
              "  124.049,\n",
              "  125.96116])"
            ]
          },
          "metadata": {},
          "execution_count": 56
        }
      ]
    },
    {
      "cell_type": "code",
      "source": [
        "import matplotlib.pyplot as plt\n",
        "plt.figure(figsize= (10,7))\n",
        "plt.plot(timesteps, btc_price)\n",
        "plt.ylabel('BTC price')\n",
        "plt.title('price of bitcoins from 2013 to 2021', fontsize= 16)\n",
        "plt.xlabel('date')"
      ],
      "metadata": {
        "colab": {
          "base_uri": "https://localhost:8080/",
          "height": 477
        },
        "id": "C9JlM_OBKak5",
        "outputId": "c752d044-f0ec-4299-a381-3aa004dac739"
      },
      "execution_count": 57,
      "outputs": [
        {
          "output_type": "execute_result",
          "data": {
            "text/plain": [
              "Text(0.5, 0, 'date')"
            ]
          },
          "metadata": {},
          "execution_count": 57
        },
        {
          "output_type": "display_data",
          "data": {
            "text/plain": [
              "<Figure size 720x504 with 1 Axes>"
            ],
            "image/png": "[encoded data removed]"
          },
          "metadata": {
            "needs_background": "light"
          }
        }
      ]
    },
    {
      "cell_type": "markdown",
      "source": [
        "## Format data part 1: create train and test set of our time series data"
      ],
      "metadata": {
        "id": "c-7bmZqOMT5-"
      }
    },
    {
      "cell_type": "markdown",
      "source": [
        "### creating train and test sets with time series data( the wrong way)"
      ],
      "metadata": {
        "id": "yY_vISCEIWyk"
      }
    },
    {
      "cell_type": "code",
      "source": [
        "timesteps = bitcoin_price.index.to_numpy()\n",
        "prices = bitcoin_price['price'].to_numpy()\n",
        "\n",
        "timesteps[:10] , prices[:10]"
      ],
      "metadata": {
        "colab": {
          "base_uri": "https://localhost:8080/"
        },
        "id": "7XG-EklJNeRo",
        "outputId": "69295e13-71da-48aa-cf8b-e7adcd2def5a"
      },
      "execution_count": 58,
      "outputs": [
        {
          "output_type": "execute_result",
          "data": {
            "text/plain": [
              "(array(['2013-10-01T00:00:00.000000000', '2013-10-02T00:00:00.000000000',\n",
              "        '2013-10-03T00:00:00.000000000', '2013-10-04T00:00:00.000000000',\n",
              "        '2013-10-05T00:00:00.000000000', '2013-10-06T00:00:00.000000000',\n",
              "        '2013-10-07T00:00:00.000000000', '2013-10-08T00:00:00.000000000',\n",
              "        '2013-10-09T00:00:00.000000000', '2013-10-10T00:00:00.000000000'],\n",
              "       dtype='datetime64[ns]'),\n",
              " array([123.65499, 125.455  , 108.58483, 118.67466, 121.33866, 120.65533,\n",
              "        121.795  , 123.033  , 124.049  , 125.96116]))"
            ]
          },
          "metadata": {},
          "execution_count": 58
        }
      ]
    },
    {
      "cell_type": "code",
      "source": [
        "from sklearn.model_selection import train_test_split\n",
        "X_train, X_test, y_train, y_test = train_test_split( timesteps, prices, test_size=0.2, random_state=42)"
      ],
      "metadata": {
        "id": "UiIIjcjwNnz6"
      },
      "execution_count": 59,
      "outputs": []
    },
    {
      "cell_type": "code",
      "source": [
        "plt.figure(figsize= (10,7))\n",
        "plt.scatter(X_train, y_train, s= 5, label = 'train data')\n",
        "plt.scatter(X_test, y_test, s= 5, label= 'test data')\n",
        "plt.xlabel('date', fontsize = 16)\n",
        "plt.ylabel('price', fontsize= 16)\n",
        "plt.legend(fontsize=16)"
      ],
      "metadata": {
        "colab": {
          "base_uri": "https://localhost:8080/",
          "height": 464
        },
        "id": "lGxCbdw6ss34",
        "outputId": "f1ba1756-82bf-439d-b197-ee3aa441b205"
      },
      "execution_count": 60,
      "outputs": [
        {
          "output_type": "execute_result",
          "data": {
            "text/plain": [
              "<matplotlib.legend.Legend at 0x7f59681a91d0>"
            ]
          },
          "metadata": {},
          "execution_count": 60
        },
        {
          "output_type": "display_data",
          "data": {
            "text/plain": [
              "<Figure size 720x504 with 1 Axes>"
            ],
            "image/png": "[encoded data removed]"
          },
          "metadata": {
            "needs_background": "light"
          }
        }
      ]
    },
    {
      "cell_type": "markdown",
      "source": [
        "## Create train and test set for time series dataset ( the right way)"
      ],
      "metadata": {
        "id": "726TvRTNtuv-"
      }
    },
    {
      "cell_type": "code",
      "source": [
        "split_size = int(0.8 * len(prices))\n",
        "\n",
        "X_train, y_train = timesteps[:split_size] , prices[:split_size]\n",
        "\n",
        "X_test, y_test = timesteps[split_size:] , prices[split_size:]\n",
        "\n"
      ],
      "metadata": {
        "id": "yf-46Q_su3Je"
      },
      "execution_count": 61,
      "outputs": []
    },
    {
      "cell_type": "code",
      "source": [
        "plt.figure(figsize =(10,7))\n",
        "plt.scatter(X_train, y_train, s= 5, label = 'train data')\n",
        "plt.scatter(X_test, y_test, s= 5, label= 'test data')\n",
        "plt.xlabel('date', fontsize = 16)\n",
        "plt.ylabel('price', fontsize= 16)\n",
        "plt.legend(fontsize=16)"
      ],
      "metadata": {
        "colab": {
          "base_uri": "https://localhost:8080/",
          "height": 464
        },
        "id": "glknTmtywiJZ",
        "outputId": "4a62bc84-4283-4d43-a394-b5d97924f55d"
      },
      "execution_count": 62,
      "outputs": [
        {
          "output_type": "execute_result",
          "data": {
            "text/plain": [
              "<matplotlib.legend.Legend at 0x7f5959f6e310>"
            ]
          },
          "metadata": {},
          "execution_count": 62
        },
        {
          "output_type": "display_data",
          "data": {
            "text/plain": [
              "<Figure size 720x504 with 1 Axes>"
            ],
            "image/png": "[encoded data removed]"
          },
          "metadata": {
            "needs_background": "light"
          }
        }
      ]
    },
    {
      "cell_type": "markdown",
      "source": [
        "## Create a ploting function"
      ],
      "metadata": {
        "id": "hWOb33ojxYUy"
      }
    },
    {
      "cell_type": "code",
      "source": [
        "def plot_time_series(timesteps, values, format = '.', start = 0 , end = None , label= None):\n",
        "\n",
        "  plt.plot(timesteps[start:end],values[start:end], format, label = label)\n",
        "  plt.xlabel('Time')\n",
        "  plt.ylabel('BTC Price')\n",
        "  if label:\n",
        "    plt.legend(fontsize= 16)\n",
        "\n",
        "  plt.grid(True)"
      ],
      "metadata": {
        "id": "o7KHuqa2ytV8"
      },
      "execution_count": 63,
      "outputs": []
    },
    {
      "cell_type": "code",
      "source": [
        "plt.figure(figsize = (10,7))\n",
        "plot_time_series(timesteps = X_train , values = y_train , label= 'train data')\n",
        "plot_time_series(X_test, y_test , label= 'test data')"
      ],
      "metadata": {
        "colab": {
          "base_uri": "https://localhost:8080/",
          "height": 442
        },
        "id": "XQS__dD80ZXX",
        "outputId": "a3e17760-749a-440d-97ee-a5f541714b02"
      },
      "execution_count": 64,
      "outputs": [
        {
          "output_type": "display_data",
          "data": {
            "text/plain": [
              "<Figure size 720x504 with 1 Axes>"
            ],
            "image/png": "[encoded data removed]"
          },
          "metadata": {
            "needs_background": "light"
          }
        }
      ]
    },
    {
      "cell_type": "markdown",
      "source": [
        "## modelling experiment"
      ],
      "metadata": {
        "id": "vCXpD-yV1nOM"
      }
    },
    {
      "cell_type": "markdown",
      "source": [
        "### model 0: Naive Forecast(baseline)"
      ],
      "metadata": {
        "id": "18jHUQJV6kf-"
      }
    },
    {
      "cell_type": "code",
      "source": [
        "naive_forecast = y_test[:-1]"
      ],
      "metadata": {
        "id": "tZSHY4eXF-Vp"
      },
      "execution_count": 65,
      "outputs": []
    },
    {
      "cell_type": "code",
      "source": [
        "plt.figure(figsize= (10,7))\n",
        "plot_time_series(X_train,y_train, label= 'Train Data')\n",
        "plot_time_series(X_test , y_test, label= 'test Data')\n",
        "plot_time_series(timesteps = X_test[1:], values = naive_forecast, format= '-', label= 'Naive Forecast')"
      ],
      "metadata": {
        "colab": {
          "base_uri": "https://localhost:8080/",
          "height": 442
        },
        "id": "aLct0BW0Giig",
        "outputId": "a6b3e00a-cb1b-4ef2-99f9-4afb59ac5817"
      },
      "execution_count": 66,
      "outputs": [
        {
          "output_type": "display_data",
          "data": {
            "text/plain": [
              "<Figure size 720x504 with 1 Axes>"
            ],
            "image/png": "[encoded data removed]"
          },
          "metadata": {
            "needs_background": "light"
          }
        }
      ]
    },
    {
      "cell_type": "markdown",
      "source": [
        "## Evaluating the time series model"
      ],
      "metadata": {
        "id": "IRcuBtU9HJ7I"
      }
    },
    {
      "cell_type": "code",
      "source": [
        "import tensorflow as tf"
      ],
      "metadata": {
        "id": "tBgfvcUYJPj0"
      },
      "execution_count": 67,
      "outputs": []
    },
    {
      "cell_type": "code",
      "source": [
        "def mean_absolute_scaled_error(y_true,y_pred):\n",
        "  mae= tf.reduce_mean(tf.abs(y_true - y_pred))\n",
        "  mae_naive_no_season = tf.reduce_mean(tf.abs(y_true[1:] - y_true[:-1]))\n",
        "\n",
        "  return mae/mae_naive_no_season"
      ],
      "metadata": {
        "id": "etqjtGNKPd9h"
      },
      "execution_count": 68,
      "outputs": []
    },
    {
      "cell_type": "code",
      "source": [
        "mean_absolute_scaled_error(y_true = y_test[1:], y_pred = naive_forecast).numpy()"
      ],
      "metadata": {
        "colab": {
          "base_uri": "https://localhost:8080/"
        },
        "id": "s8gluFu9QwaV",
        "outputId": "25436962-0d90-4d39-ae15-cac192818ed9"
      },
      "execution_count": 69,
      "outputs": [
        {
          "output_type": "execute_result",
          "data": {
            "text/plain": [
              "0.9995699939182624"
            ]
          },
          "metadata": {},
          "execution_count": 69
        }
      ]
    },
    {
      "cell_type": "code",
      "source": [
        "def evaluate_preds(y_true,y_pred):\n",
        "  y_true = tf.cast(y_true, dtype=tf.float32)\n",
        "  y_pred = tf.cast(y_pred, dtype= tf.float32)\n",
        "\n",
        "  mae = tf.keras.metrics.mean_absolute_error(y_true, y_pred)\n",
        "  mse = tf.keras.metrics.mean_squared_error(y_true,y_pred)\n",
        "  rmse = tf.sqrt(mae)\n",
        "  mape = tf.keras.metrics.mean_absolute_percentage_error(y_true,y_pred)\n",
        "  mase = mean_absolute_scaled_error(y_true,y_pred)\n",
        "\n",
        "  return{'mae':mae.numpy(),\n",
        "         'mse':mse.numpy(),\n",
        "         'rmse':rmse.numpy(),\n",
        "         'mape':mape.numpy(),\n",
        "         'mase': mase.numpy()}"
      ],
      "metadata": {
        "id": "dVNH30ExMvtj"
      },
      "execution_count": 70,
      "outputs": []
    },
    {
      "cell_type": "code",
      "source": [
        "naive_results = evaluate_preds(y_true = y_test[1:],\n",
        "                               y_pred= naive_forecast)\n",
        "naive_results"
      ],
      "metadata": {
        "colab": {
          "base_uri": "https://localhost:8080/"
        },
        "id": "FCMgPIOeIb6j",
        "outputId": "105ada79-aa4e-46cb-982d-6dde3be73882"
      },
      "execution_count": 71,
      "outputs": [
        {
          "output_type": "execute_result",
          "data": {
            "text/plain": [
              "{'mae': 567.9802,\n",
              " 'mse': 1147547.0,\n",
              " 'rmse': 23.832336,\n",
              " 'mape': 2.516525,\n",
              " 'mase': 0.99957}"
            ]
          },
          "metadata": {},
          "execution_count": 71
        }
      ]
    },
    {
      "cell_type": "code",
      "source": [
        "naive_forecast[-10:]"
      ],
      "metadata": {
        "colab": {
          "base_uri": "https://localhost:8080/"
        },
        "id": "un29BjmnInOz",
        "outputId": "4e53f9dc-d639-4795-fd0c-8f55b7205ac0"
      },
      "execution_count": 72,
      "outputs": [
        {
          "output_type": "execute_result",
          "data": {
            "text/plain": [
              "array([57107.12067189, 58788.20967893, 58102.19142623, 55715.54665129,\n",
              "       56573.5554719 , 52147.82118698, 49764.1320816 , 50032.69313676,\n",
              "       47885.62525472, 45604.61575361])"
            ]
          },
          "metadata": {},
          "execution_count": 72
        }
      ]
    },
    {
      "cell_type": "code",
      "source": [
        "tf.reduce_mean(y_test)"
      ],
      "metadata": {
        "colab": {
          "base_uri": "https://localhost:8080/"
        },
        "id": "atzZXkQUJnze",
        "outputId": "2d3a9060-932d-4635-c565-f11a30659048"
      },
      "execution_count": 73,
      "outputs": [
        {
          "output_type": "execute_result",
          "data": {
            "text/plain": [
              "<tf.Tensor: shape=(), dtype=float64, numpy=20056.632963737222>"
            ]
          },
          "metadata": {},
          "execution_count": 73
        }
      ]
    },
    {
      "cell_type": "code",
      "source": [
        "tf.reduce_max(y_test), tf.reduce_min(y_test)"
      ],
      "metadata": {
        "colab": {
          "base_uri": "https://localhost:8080/"
        },
        "id": "XRcbV7ieJwoB",
        "outputId": "a2ad092e-e8f7-43a0-adb9-43ae6bd2528c"
      },
      "execution_count": 74,
      "outputs": [
        {
          "output_type": "execute_result",
          "data": {
            "text/plain": [
              "(<tf.Tensor: shape=(), dtype=float64, numpy=63346.7890351052>,\n",
              " <tf.Tensor: shape=(), dtype=float64, numpy=4944.7023359837>)"
            ]
          },
          "metadata": {},
          "execution_count": 74
        }
      ]
    },
    {
      "cell_type": "markdown",
      "source": [
        "## Format data part 2: Windowing the dataset"
      ],
      "metadata": {
        "id": "2EfotR2yJ23H"
      }
    },
    {
      "cell_type": "code",
      "source": [
        "print(f'we want to use this {btc_price[:7]} to predict this {btc_price[7]}')"
      ],
      "metadata": {
        "colab": {
          "base_uri": "https://localhost:8080/"
        },
        "id": "_uzB4nFfuz89",
        "outputId": "2fd5285c-2952-4a14-d75a-431340acf207"
      },
      "execution_count": 75,
      "outputs": [
        {
          "output_type": "stream",
          "name": "stdout",
          "text": [
            "we want to use this [123.65499, 125.455, 108.58483, 118.67466, 121.33866, 120.65533, 121.795] to predict this 123.033\n"
          ]
        }
      ]
    },
    {
      "cell_type": "code",
      "source": [
        "HORIZON = 1\n",
        "WINDOW_SIZE = 7"
      ],
      "metadata": {
        "id": "5IDXfHX_wH8L"
      },
      "execution_count": 76,
      "outputs": []
    },
    {
      "cell_type": "code",
      "source": [
        "def get_labelled_windows(x, horizon=HORIZON):\n",
        "\n",
        "  return x[:, :-horizon], x[:, -horizon:]\n"
      ],
      "metadata": {
        "id": "HfwfwUDVxlF0"
      },
      "execution_count": 77,
      "outputs": []
    },
    {
      "cell_type": "code",
      "source": [
        "test_window, test_label = get_labelled_windows(tf.expand_dims(tf.range(8) +1, axis=0))\n",
        "print(f' window: {tf.squeeze(test_window)} -->  label: {tf.squeeze(test_label)}') "
      ],
      "metadata": {
        "colab": {
          "base_uri": "https://localhost:8080/"
        },
        "id": "_vaJmDQszAQP",
        "outputId": "40967080-f9e9-4dd0-be14-35c084cfdcfe"
      },
      "execution_count": 78,
      "outputs": [
        {
          "output_type": "stream",
          "name": "stdout",
          "text": [
            " window: [1 2 3 4 5 6 7] -->  label: 8\n"
          ]
        }
      ]
    },
    {
      "cell_type": "code",
      "source": [
        "import numpy as np\n",
        "\n",
        "def make_windows(x , window_size=WINDOW_SIZE, horizon = HORIZON):\n",
        "  window_step = np.expand_dims(np.arange(window_size + horizon), axis=0)\n",
        "  window_indexes = window_step + np.expand_dims(np.arange(len(x)-(window_size + horizon - 1)),axis=0).T\n",
        "\n",
        "  #print(f'window_indexes: \\n{window_indexes, window_indexes.shape}')\n",
        "  windowed_array =  x[window_indexes]\n",
        "\n",
        "  windows,labels = get_labelled_windows(windowed_array, horizon= horizon)\n",
        "  return windows,labels\n"
      ],
      "metadata": {
        "id": "ADyQQu54zbvW"
      },
      "execution_count": 79,
      "outputs": []
    },
    {
      "cell_type": "code",
      "source": [
        "full_windows, full_labels = make_windows(prices, window_size= WINDOW_SIZE, horizon = HORIZON)"
      ],
      "metadata": {
        "id": "SFdgMnN7DDb9"
      },
      "execution_count": 80,
      "outputs": []
    },
    {
      "cell_type": "code",
      "source": [
        "for i in range(3):\n",
        "  print(f'windows: {full_windows[i]} --> labels: {full_labels[i]}')"
      ],
      "metadata": {
        "colab": {
          "base_uri": "https://localhost:8080/"
        },
        "id": "POVRS3u6N-sf",
        "outputId": "a28e1265-fe4a-4ca4-e3cb-2ba8792393b0"
      },
      "execution_count": 81,
      "outputs": [
        {
          "output_type": "stream",
          "name": "stdout",
          "text": [
            "windows: [123.65499 125.455   108.58483 118.67466 121.33866 120.65533 121.795  ] --> labels: [123.033]\n",
            "windows: [125.455   108.58483 118.67466 121.33866 120.65533 121.795   123.033  ] --> labels: [124.049]\n",
            "windows: [108.58483 118.67466 121.33866 120.65533 121.795   123.033   124.049  ] --> labels: [125.96116]\n"
          ]
        }
      ]
    },
    {
      "cell_type": "markdown",
      "source": [
        "## Turning windows into train and test set"
      ],
      "metadata": {
        "id": "LdYLtpyXU1Ak"
      }
    },
    {
      "cell_type": "code",
      "source": [
        "def make_train_test_split(windows, labels, test_split=0.2):\n",
        "  split_size = int(len(windows) * (1- test_split))\n",
        "  train_windows = windows[:split_size]\n",
        "  train_labels = labels[:split_size]\n",
        "  test_windows = windows[split_size:]\n",
        "  test_labels = labels[split_size:]\n",
        "  return train_windows, test_windows, train_labels , test_labels"
      ],
      "metadata": {
        "id": "u0MuklJ0aOc_"
      },
      "execution_count": 82,
      "outputs": []
    },
    {
      "cell_type": "code",
      "source": [
        "train_windows,test_windows,train_labels,test_labels = make_train_test_split(full_windows,full_labels)"
      ],
      "metadata": {
        "id": "cNM87ylAdVd-"
      },
      "execution_count": 83,
      "outputs": []
    },
    {
      "cell_type": "markdown",
      "source": [
        "## making a modelling checkpoint callback"
      ],
      "metadata": {
        "id": "XSYbQmUWePw1"
      }
    },
    {
      "cell_type": "code",
      "source": [
        "import os\n",
        "\n",
        "def create_model_checkpoint(model_name, save_path = 'model_experiment'):\n",
        "  return tf.keras.callbacks.ModelCheckpoint(filepath = os.path.join(save_path, model_name),\n",
        "                                            verbose = 0,\n",
        "                                            save_best_only= True)"
      ],
      "metadata": {
        "id": "Qb1ErhuJebPf"
      },
      "execution_count": 84,
      "outputs": []
    },
    {
      "cell_type": "markdown",
      "source": [
        "## model 1 : Dense model (window = 7, horizon = 1)"
      ],
      "metadata": {
        "id": "75GNYkTudPZf"
      }
    },
    {
      "cell_type": "code",
      "source": [
        "import tensorflow as tf\n",
        "from tensorflow.keras import layers\n",
        "\n",
        "tf.random.set_seed(42)\n",
        "model_1 = tf.keras.Sequential([\n",
        "    layers.Dense(128, activation= 'relu'),\n",
        "    layers.Dense(HORIZON,activation = 'linear')\n",
        "],name = 'model_1_dense')\n",
        "\n",
        "model_1.compile(loss = 'mae',\n",
        "                optimizer = tf.keras.optimizers.Adam(),\n",
        "                metrics = ['mae','mse'])\n",
        "\n",
        "model_1.fit(x =train_windows,\n",
        "            y = train_labels,\n",
        "            epochs = 100,\n",
        "            batch_size = 128,\n",
        "            validation_data = (test_windows, test_labels),\n",
        "            callbacks = [create_model_checkpoint(model_name = model_1.name)])"
      ],
      "metadata": {
        "id": "acyN0Hbmd8wD",
        "colab": {
          "base_uri": "https://localhost:8080/"
        },
        "outputId": "dabc1260-c179-4fe0-aad2-476024f079fc"
      },
      "execution_count": 85,
      "outputs": [
        {
          "output_type": "stream",
          "name": "stdout",
          "text": [
            "Epoch 1/100\n",
            "18/18 [==============================] - 1s 65ms/step - loss: 780.3455 - mae: 780.3455 - mse: 2312725.7500 - val_loss: 2279.6528 - val_mae: 2279.6528 - val_mse: 12772731.0000\n",
            "Epoch 2/100\n",
            "18/18 [==============================] - 1s 52ms/step - loss: 247.6756 - mae: 247.6756 - mse: 285481.1875 - val_loss: 1005.9993 - val_mae: 1005.9993 - val_mse: 3441833.2500\n",
            "Epoch 3/100\n",
            "18/18 [==============================] - 1s 71ms/step - loss: 188.4116 - mae: 188.4116 - mse: 171891.6094 - val_loss: 923.2862 - val_mae: 923.2861 - val_mse: 2868220.7500\n",
            "Epoch 4/100\n",
            "18/18 [==============================] - 0s 26ms/step - loss: 169.4340 - mae: 169.4340 - mse: 151700.5781 - val_loss: 900.5872 - val_mae: 900.5872 - val_mse: 2683715.5000\n",
            "Epoch 5/100\n",
            "18/18 [==============================] - 0s 27ms/step - loss: 165.0894 - mae: 165.0894 - mse: 145490.7812 - val_loss: 895.2237 - val_mae: 895.2237 - val_mse: 2564574.5000\n",
            "Epoch 6/100\n",
            "18/18 [==============================] - 0s 27ms/step - loss: 158.5210 - mae: 158.5210 - mse: 133817.7344 - val_loss: 855.1984 - val_mae: 855.1984 - val_mse: 2481873.2500\n",
            "Epoch 7/100\n",
            "18/18 [==============================] - 0s 26ms/step - loss: 151.3566 - mae: 151.3566 - mse: 123446.9766 - val_loss: 840.9166 - val_mae: 840.9166 - val_mse: 2276451.5000\n",
            "Epoch 8/100\n",
            "18/18 [==============================] - 0s 26ms/step - loss: 145.2560 - mae: 145.2560 - mse: 117694.5000 - val_loss: 803.5956 - val_mae: 803.5956 - val_mse: 2140573.5000\n",
            "Epoch 9/100\n",
            "18/18 [==============================] - 0s 27ms/step - loss: 144.3546 - mae: 144.3546 - mse: 115269.3047 - val_loss: 799.5454 - val_mae: 799.5454 - val_mse: 2049207.7500\n",
            "Epoch 10/100\n",
            "18/18 [==============================] - 0s 26ms/step - loss: 141.2943 - mae: 141.2943 - mse: 112394.5938 - val_loss: 763.5010 - val_mae: 763.5010 - val_mse: 1933140.7500\n",
            "Epoch 11/100\n",
            "18/18 [==============================] - 0s 7ms/step - loss: 135.6595 - mae: 135.6595 - mse: 104118.2344 - val_loss: 771.3356 - val_mae: 771.3356 - val_mse: 1885849.7500\n",
            "Epoch 12/100\n",
            "18/18 [==============================] - 0s 7ms/step - loss: 134.1700 - mae: 134.1700 - mse: 101780.8672 - val_loss: 782.8079 - val_mae: 782.8079 - val_mse: 1881727.1250\n",
            "Epoch 13/100\n",
            "18/18 [==============================] - 0s 10ms/step - loss: 134.6015 - mae: 134.6015 - mse: 102345.2266 - val_loss: 784.4449 - val_mae: 784.4449 - val_mse: 1860996.1250\n",
            "Epoch 14/100\n",
            "18/18 [==============================] - 1s 38ms/step - loss: 130.6127 - mae: 130.6127 - mse: 96225.1328 - val_loss: 751.3234 - val_mae: 751.3233 - val_mse: 1749609.0000\n",
            "Epoch 15/100\n",
            "18/18 [==============================] - 1s 39ms/step - loss: 128.8347 - mae: 128.8347 - mse: 94306.9922 - val_loss: 696.5756 - val_mae: 696.5756 - val_mse: 1606352.3750\n",
            "Epoch 16/100\n",
            "18/18 [==============================] - 0s 4ms/step - loss: 124.7739 - mae: 124.7739 - mse: 90394.9375 - val_loss: 702.4698 - val_mae: 702.4698 - val_mse: 1592416.2500\n",
            "Epoch 17/100\n",
            "18/18 [==============================] - 0s 7ms/step - loss: 123.4474 - mae: 123.4474 - mse: 89247.7031 - val_loss: 704.9239 - val_mae: 704.9239 - val_mse: 1580782.7500\n",
            "Epoch 18/100\n",
            "18/18 [==============================] - 1s 63ms/step - loss: 122.2105 - mae: 122.2105 - mse: 87607.5938 - val_loss: 667.9724 - val_mae: 667.9724 - val_mse: 1498881.6250\n",
            "Epoch 19/100\n",
            "18/18 [==============================] - 0s 9ms/step - loss: 121.7263 - mae: 121.7263 - mse: 86632.2422 - val_loss: 718.8796 - val_mae: 718.8796 - val_mse: 1589299.2500\n",
            "Epoch 20/100\n",
            "18/18 [==============================] - 1s 70ms/step - loss: 119.2420 - mae: 119.2420 - mse: 84334.3203 - val_loss: 657.0666 - val_mae: 657.0666 - val_mse: 1447501.1250\n",
            "Epoch 21/100\n",
            "18/18 [==============================] - 1s 49ms/step - loss: 121.2275 - mae: 121.2275 - mse: 85743.3828 - val_loss: 637.0332 - val_mae: 637.0332 - val_mse: 1401774.1250\n",
            "Epoch 22/100\n",
            "18/18 [==============================] - 0s 10ms/step - loss: 119.9544 - mae: 119.9544 - mse: 84050.1094 - val_loss: 671.2487 - val_mae: 671.2487 - val_mse: 1447895.6250\n",
            "Epoch 23/100\n",
            "18/18 [==============================] - 1s 57ms/step - loss: 121.9248 - mae: 121.9248 - mse: 83746.1250 - val_loss: 633.3591 - val_mae: 633.3591 - val_mse: 1367377.8750\n",
            "Epoch 24/100\n",
            "18/18 [==============================] - 1s 41ms/step - loss: 116.3665 - mae: 116.3665 - mse: 81446.6562 - val_loss: 624.4852 - val_mae: 624.4852 - val_mse: 1348960.7500\n",
            "Epoch 25/100\n",
            "18/18 [==============================] - 0s 26ms/step - loss: 114.6816 - mae: 114.6816 - mse: 78912.8359 - val_loss: 619.7570 - val_mae: 619.7570 - val_mse: 1351089.7500\n",
            "Epoch 26/100\n",
            "18/18 [==============================] - 1s 69ms/step - loss: 116.4455 - mae: 116.4455 - mse: 79365.5938 - val_loss: 615.6364 - val_mae: 615.6364 - val_mse: 1321514.3750\n",
            "Epoch 27/100\n",
            "18/18 [==============================] - 0s 8ms/step - loss: 116.5868 - mae: 116.5868 - mse: 78672.9062 - val_loss: 615.9629 - val_mae: 615.9629 - val_mse: 1313077.6250\n",
            "Epoch 28/100\n",
            "18/18 [==============================] - 1s 42ms/step - loss: 113.4691 - mae: 113.4691 - mse: 77440.1016 - val_loss: 608.0921 - val_mae: 608.0921 - val_mse: 1309775.3750\n",
            "Epoch 29/100\n",
            "18/18 [==============================] - 0s 5ms/step - loss: 113.7598 - mae: 113.7598 - mse: 78506.9531 - val_loss: 621.9305 - val_mae: 621.9305 - val_mse: 1313324.6250\n",
            "Epoch 30/100\n",
            "18/18 [==============================] - 1s 42ms/step - loss: 116.8613 - mae: 116.8613 - mse: 79236.4609 - val_loss: 604.4056 - val_mae: 604.4056 - val_mse: 1283407.8750\n",
            "Epoch 31/100\n",
            "18/18 [==============================] - 0s 6ms/step - loss: 111.9375 - mae: 111.9375 - mse: 74849.0703 - val_loss: 609.3882 - val_mae: 609.3882 - val_mse: 1284506.2500\n",
            "Epoch 32/100\n",
            "18/18 [==============================] - 1s 42ms/step - loss: 112.4175 - mae: 112.4175 - mse: 77178.5859 - val_loss: 603.0588 - val_mae: 603.0588 - val_mse: 1273059.5000\n",
            "Epoch 33/100\n",
            "18/18 [==============================] - 0s 8ms/step - loss: 112.6697 - mae: 112.6697 - mse: 75787.9766 - val_loss: 645.6973 - val_mae: 645.6973 - val_mse: 1353255.7500\n",
            "Epoch 34/100\n",
            "18/18 [==============================] - 0s 11ms/step - loss: 111.9867 - mae: 111.9867 - mse: 77245.7266 - val_loss: 604.7634 - val_mae: 604.7634 - val_mse: 1289360.3750\n",
            "Epoch 35/100\n",
            "18/18 [==============================] - 1s 37ms/step - loss: 110.9451 - mae: 110.9451 - mse: 75301.7812 - val_loss: 593.4648 - val_mae: 593.4648 - val_mse: 1250491.3750\n",
            "Epoch 36/100\n",
            "18/18 [==============================] - 0s 7ms/step - loss: 114.4816 - mae: 114.4816 - mse: 76138.5391 - val_loss: 608.0074 - val_mae: 608.0074 - val_mse: 1269272.3750\n",
            "Epoch 37/100\n",
            "18/18 [==============================] - 0s 8ms/step - loss: 110.2016 - mae: 110.2016 - mse: 74635.3047 - val_loss: 597.2308 - val_mae: 597.2308 - val_mse: 1248474.0000\n",
            "Epoch 38/100\n",
            "18/18 [==============================] - 0s 7ms/step - loss: 112.2372 - mae: 112.2372 - mse: 75821.6953 - val_loss: 637.9798 - val_mae: 637.9798 - val_mse: 1366130.8750\n",
            "Epoch 39/100\n",
            "18/18 [==============================] - 1s 44ms/step - loss: 115.1289 - mae: 115.1289 - mse: 76339.6797 - val_loss: 587.4680 - val_mae: 587.4680 - val_mse: 1233512.3750\n",
            "Epoch 40/100\n",
            "18/18 [==============================] - 0s 6ms/step - loss: 110.0854 - mae: 110.0854 - mse: 73528.4766 - val_loss: 592.7117 - val_mae: 592.7117 - val_mse: 1251474.6250\n",
            "Epoch 41/100\n",
            "18/18 [==============================] - 0s 7ms/step - loss: 110.6344 - mae: 110.6344 - mse: 73528.7891 - val_loss: 593.8997 - val_mae: 593.8997 - val_mse: 1253678.5000\n",
            "Epoch 42/100\n",
            "18/18 [==============================] - 0s 10ms/step - loss: 113.5762 - mae: 113.5762 - mse: 77076.7031 - val_loss: 636.3674 - val_mae: 636.3674 - val_mse: 1317283.5000\n",
            "Epoch 43/100\n",
            "18/18 [==============================] - 0s 12ms/step - loss: 116.2285 - mae: 116.2285 - mse: 74712.2031 - val_loss: 662.9263 - val_mae: 662.9263 - val_mse: 1419201.7500\n",
            "Epoch 44/100\n",
            "18/18 [==============================] - 0s 14ms/step - loss: 120.0192 - mae: 120.0192 - mse: 80971.8750 - val_loss: 635.6360 - val_mae: 635.6360 - val_mse: 1345999.3750\n",
            "Epoch 45/100\n",
            "18/18 [==============================] - 0s 17ms/step - loss: 110.9675 - mae: 110.9675 - mse: 74941.2891 - val_loss: 601.9926 - val_mae: 601.9926 - val_mse: 1244816.7500\n",
            "Epoch 46/100\n",
            "18/18 [==============================] - 0s 13ms/step - loss: 111.6012 - mae: 111.6012 - mse: 74565.6016 - val_loss: 593.3531 - val_mae: 593.3531 - val_mse: 1248764.3750\n",
            "Epoch 47/100\n",
            "18/18 [==============================] - 0s 14ms/step - loss: 109.6161 - mae: 109.6161 - mse: 74190.7109 - val_loss: 637.0011 - val_mae: 637.0011 - val_mse: 1314970.2500\n",
            "Epoch 48/100\n",
            "18/18 [==============================] - 0s 12ms/step - loss: 109.1368 - mae: 109.1368 - mse: 72792.5547 - val_loss: 598.4197 - val_mae: 598.4197 - val_mse: 1234610.1250\n",
            "Epoch 49/100\n",
            "18/18 [==============================] - 1s 42ms/step - loss: 112.4355 - mae: 112.4355 - mse: 73980.3359 - val_loss: 579.7042 - val_mae: 579.7042 - val_mse: 1208301.8750\n",
            "Epoch 50/100\n",
            "18/18 [==============================] - 0s 5ms/step - loss: 110.2108 - mae: 110.2108 - mse: 72939.7109 - val_loss: 639.2327 - val_mae: 639.2327 - val_mse: 1347994.1250\n",
            "Epoch 51/100\n",
            "18/18 [==============================] - 0s 6ms/step - loss: 111.0958 - mae: 111.0958 - mse: 73281.9062 - val_loss: 597.3571 - val_mae: 597.3571 - val_mse: 1229791.1250\n",
            "Epoch 52/100\n",
            "18/18 [==============================] - 0s 9ms/step - loss: 110.7351 - mae: 110.7351 - mse: 74529.6328 - val_loss: 580.7227 - val_mae: 580.7227 - val_mse: 1215477.1250\n",
            "Epoch 53/100\n",
            "18/18 [==============================] - 0s 9ms/step - loss: 111.1785 - mae: 111.1785 - mse: 74149.4766 - val_loss: 648.3586 - val_mae: 648.3586 - val_mse: 1336951.1250\n",
            "Epoch 54/100\n",
            "18/18 [==============================] - 0s 11ms/step - loss: 114.0831 - mae: 114.0831 - mse: 74815.0781 - val_loss: 593.2006 - val_mae: 593.2006 - val_mse: 1220661.2500\n",
            "Epoch 55/100\n",
            "18/18 [==============================] - 1s 63ms/step - loss: 110.4910 - mae: 110.4910 - mse: 74711.2500 - val_loss: 579.5067 - val_mae: 579.5067 - val_mse: 1211580.3750\n",
            "Epoch 56/100\n",
            "18/18 [==============================] - 0s 5ms/step - loss: 108.0488 - mae: 108.0488 - mse: 71844.1562 - val_loss: 807.3853 - val_mae: 807.3853 - val_mse: 1859293.0000\n",
            "Epoch 57/100\n",
            "18/18 [==============================] - 0s 4ms/step - loss: 125.0614 - mae: 125.0614 - mse: 84025.2812 - val_loss: 674.1658 - val_mae: 674.1658 - val_mse: 1437687.2500\n",
            "Epoch 58/100\n",
            "18/18 [==============================] - 0s 4ms/step - loss: 115.4340 - mae: 115.4340 - mse: 73710.7500 - val_loss: 582.2697 - val_mae: 582.2697 - val_mse: 1202679.6250\n",
            "Epoch 59/100\n",
            "18/18 [==============================] - 0s 5ms/step - loss: 110.0881 - mae: 110.0881 - mse: 72845.1172 - val_loss: 606.7640 - val_mae: 606.7640 - val_mse: 1267544.0000\n",
            "Epoch 60/100\n",
            "18/18 [==============================] - 0s 4ms/step - loss: 108.7156 - mae: 108.7156 - mse: 72675.7734 - val_loss: 602.3099 - val_mae: 602.3099 - val_mse: 1234689.8750\n",
            "Epoch 61/100\n",
            "18/18 [==============================] - 1s 31ms/step - loss: 108.1525 - mae: 108.1525 - mse: 72252.1250 - val_loss: 573.9990 - val_mae: 573.9990 - val_mse: 1189583.5000\n",
            "Epoch 62/100\n",
            "18/18 [==============================] - 0s 7ms/step - loss: 107.3726 - mae: 107.3726 - mse: 70822.7891 - val_loss: 581.7015 - val_mae: 581.7015 - val_mse: 1214006.6250\n",
            "Epoch 63/100\n",
            "18/18 [==============================] - 0s 8ms/step - loss: 110.7667 - mae: 110.7667 - mse: 73178.4453 - val_loss: 637.5243 - val_mae: 637.5243 - val_mse: 1311201.6250\n",
            "Epoch 64/100\n",
            "18/18 [==============================] - 0s 8ms/step - loss: 110.1539 - mae: 110.1539 - mse: 72588.2188 - val_loss: 586.6598 - val_mae: 586.6598 - val_mse: 1207116.3750\n",
            "Epoch 65/100\n",
            "18/18 [==============================] - 1s 45ms/step - loss: 108.2325 - mae: 108.2325 - mse: 71962.0781 - val_loss: 573.5618 - val_mae: 573.5618 - val_mse: 1188986.2500\n",
            "Epoch 66/100\n",
            "18/18 [==============================] - 1s 46ms/step - loss: 108.6826 - mae: 108.6826 - mse: 71026.3516 - val_loss: 572.2206 - val_mae: 572.2206 - val_mse: 1187818.2500\n",
            "Epoch 67/100\n",
            "18/18 [==============================] - 0s 6ms/step - loss: 106.6371 - mae: 106.6371 - mse: 70166.2578 - val_loss: 646.6359 - val_mae: 646.6359 - val_mse: 1356393.0000\n",
            "Epoch 68/100\n",
            "18/18 [==============================] - 0s 7ms/step - loss: 114.1603 - mae: 114.1603 - mse: 71297.3203 - val_loss: 681.8572 - val_mae: 681.8572 - val_mse: 1455430.5000\n",
            "Epoch 69/100\n",
            "18/18 [==============================] - 0s 7ms/step - loss: 124.5514 - mae: 124.5514 - mse: 81238.9609 - val_loss: 655.9892 - val_mae: 655.9892 - val_mse: 1383324.7500\n",
            "Epoch 70/100\n",
            "18/18 [==============================] - 0s 7ms/step - loss: 125.0234 - mae: 125.0234 - mse: 83058.2109 - val_loss: 601.0039 - val_mae: 601.0039 - val_mse: 1256963.6250\n",
            "Epoch 71/100\n",
            "18/18 [==============================] - 0s 6ms/step - loss: 110.3652 - mae: 110.3652 - mse: 71691.4922 - val_loss: 595.3957 - val_mae: 595.3957 - val_mse: 1222771.6250\n",
            "Epoch 72/100\n",
            "18/18 [==============================] - 0s 6ms/step - loss: 107.9285 - mae: 107.9285 - mse: 71745.5391 - val_loss: 573.7084 - val_mae: 573.7084 - val_mse: 1192818.5000\n",
            "Epoch 73/100\n",
            "18/18 [==============================] - 0s 6ms/step - loss: 109.5085 - mae: 109.5085 - mse: 71691.1484 - val_loss: 580.4183 - val_mae: 580.4183 - val_mse: 1211317.6250\n",
            "Epoch 74/100\n",
            "18/18 [==============================] - 0s 10ms/step - loss: 108.7380 - mae: 108.7380 - mse: 72051.1094 - val_loss: 576.1216 - val_mae: 576.1216 - val_mse: 1199670.6250\n",
            "Epoch 75/100\n",
            "18/18 [==============================] - 0s 15ms/step - loss: 107.9404 - mae: 107.9404 - mse: 71043.1328 - val_loss: 591.1470 - val_mae: 591.1470 - val_mse: 1211107.3750\n",
            "Epoch 76/100\n",
            "18/18 [==============================] - 0s 11ms/step - loss: 109.4232 - mae: 109.4232 - mse: 72295.0234 - val_loss: 597.8611 - val_mae: 597.8611 - val_mse: 1243936.2500\n",
            "Epoch 77/100\n",
            "18/18 [==============================] - 0s 27ms/step - loss: 107.5879 - mae: 107.5879 - mse: 70333.8359 - val_loss: 571.9301 - val_mae: 571.9301 - val_mse: 1186830.0000\n",
            "Epoch 78/100\n",
            "18/18 [==============================] - 0s 4ms/step - loss: 108.1598 - mae: 108.1598 - mse: 70200.0781 - val_loss: 575.2387 - val_mae: 575.2387 - val_mse: 1195318.0000\n",
            "Epoch 79/100\n",
            "18/18 [==============================] - 0s 4ms/step - loss: 107.9175 - mae: 107.9175 - mse: 72451.5859 - val_loss: 617.3083 - val_mae: 617.3083 - val_mse: 1285512.5000\n",
            "Epoch 80/100\n",
            "18/18 [==============================] - 0s 5ms/step - loss: 108.9510 - mae: 108.9510 - mse: 72158.7812 - val_loss: 583.4841 - val_mae: 583.4841 - val_mse: 1194356.7500\n",
            "Epoch 81/100\n",
            "18/18 [==============================] - 0s 26ms/step - loss: 106.0505 - mae: 106.0505 - mse: 69690.9219 - val_loss: 570.0803 - val_mae: 570.0803 - val_mse: 1177237.8750\n",
            "Epoch 82/100\n",
            "18/18 [==============================] - 0s 5ms/step - loss: 115.6827 - mae: 115.6827 - mse: 76903.4922 - val_loss: 575.7388 - val_mae: 575.7388 - val_mse: 1194662.6250\n",
            "Epoch 83/100\n",
            "18/18 [==============================] - 0s 4ms/step - loss: 110.9379 - mae: 110.9379 - mse: 72968.2969 - val_loss: 659.6579 - val_mae: 659.6579 - val_mse: 1388829.8750\n",
            "Epoch 84/100\n",
            "18/18 [==============================] - 0s 4ms/step - loss: 111.4836 - mae: 111.4836 - mse: 73017.9375 - val_loss: 570.1957 - val_mae: 570.1957 - val_mse: 1177492.2500\n",
            "Epoch 85/100\n",
            "18/18 [==============================] - 0s 4ms/step - loss: 107.5949 - mae: 107.5949 - mse: 70728.2266 - val_loss: 601.5938 - val_mae: 601.5938 - val_mse: 1228450.6250\n",
            "Epoch 86/100\n",
            "18/18 [==============================] - 0s 4ms/step - loss: 108.9425 - mae: 108.9425 - mse: 70066.7500 - val_loss: 592.8101 - val_mae: 592.8101 - val_mse: 1209680.7500\n",
            "Epoch 87/100\n",
            "18/18 [==============================] - 0s 4ms/step - loss: 105.7717 - mae: 105.7717 - mse: 68382.3516 - val_loss: 603.6174 - val_mae: 603.6174 - val_mse: 1252409.5000\n",
            "Epoch 88/100\n",
            "18/18 [==============================] - 1s 76ms/step - loss: 107.9217 - mae: 107.9217 - mse: 71668.0469 - val_loss: 569.0499 - val_mae: 569.0499 - val_mse: 1174588.3750\n",
            "Epoch 89/100\n",
            "18/18 [==============================] - 1s 70ms/step - loss: 106.0344 - mae: 106.0344 - mse: 68979.1484 - val_loss: 568.9510 - val_mae: 568.9510 - val_mse: 1171743.5000\n",
            "Epoch 90/100\n",
            "18/18 [==============================] - 0s 7ms/step - loss: 105.4977 - mae: 105.4977 - mse: 67516.5000 - val_loss: 581.7678 - val_mae: 581.7678 - val_mse: 1190160.6250\n",
            "Epoch 91/100\n",
            "18/18 [==============================] - 0s 7ms/step - loss: 108.8468 - mae: 108.8468 - mse: 71112.3359 - val_loss: 573.6025 - val_mae: 573.6025 - val_mse: 1185216.2500\n",
            "Epoch 92/100\n",
            "18/18 [==============================] - 0s 6ms/step - loss: 110.8884 - mae: 110.8884 - mse: 73287.8125 - val_loss: 576.8243 - val_mae: 576.8243 - val_mse: 1181628.3750\n",
            "Epoch 93/100\n",
            "18/18 [==============================] - 0s 6ms/step - loss: 113.8781 - mae: 113.8781 - mse: 75236.4375 - val_loss: 608.3022 - val_mae: 608.3022 - val_mse: 1264206.1250\n",
            "Epoch 94/100\n",
            "18/18 [==============================] - 0s 7ms/step - loss: 110.5763 - mae: 110.5763 - mse: 72590.8672 - val_loss: 601.6042 - val_mae: 601.6042 - val_mse: 1229105.0000\n",
            "Epoch 95/100\n",
            "18/18 [==============================] - 0s 7ms/step - loss: 106.5906 - mae: 106.5906 - mse: 68612.3281 - val_loss: 570.3651 - val_mae: 570.3651 - val_mse: 1175759.3750\n",
            "Epoch 96/100\n",
            "18/18 [==============================] - 0s 9ms/step - loss: 116.9515 - mae: 116.9515 - mse: 75082.1172 - val_loss: 615.2584 - val_mae: 615.2584 - val_mse: 1277124.5000\n",
            "Epoch 97/100\n",
            "18/18 [==============================] - 0s 4ms/step - loss: 108.0739 - mae: 108.0739 - mse: 71321.4219 - val_loss: 580.3076 - val_mae: 580.3076 - val_mse: 1202622.2500\n",
            "Epoch 98/100\n",
            "18/18 [==============================] - 0s 5ms/step - loss: 108.7102 - mae: 108.7102 - mse: 70248.0703 - val_loss: 586.6510 - val_mae: 586.6510 - val_mse: 1200831.5000\n",
            "Epoch 99/100\n",
            "18/18 [==============================] - 0s 5ms/step - loss: 109.0488 - mae: 109.0488 - mse: 70913.1641 - val_loss: 570.0628 - val_mae: 570.0628 - val_mse: 1177064.5000\n",
            "Epoch 100/100\n",
            "18/18 [==============================] - 0s 7ms/step - loss: 106.1845 - mae: 106.1845 - mse: 68681.7266 - val_loss: 585.9758 - val_mae: 585.9758 - val_mse: 1197802.1250\n"
          ]
        },
        {
          "output_type": "execute_result",
          "data": {
            "text/plain": [
              "<keras.callbacks.History at 0x7f5959d05250>"
            ]
          },
          "metadata": {},
          "execution_count": 85
        }
      ]
    },
    {
      "cell_type": "code",
      "source": [
        "model_1.evaluate(test_windows, test_labels)"
      ],
      "metadata": {
        "colab": {
          "base_uri": "https://localhost:8080/"
        },
        "id": "oAxU4EyxjY15",
        "outputId": "49d150bf-f907-438a-bc39-20afb5cf24a0"
      },
      "execution_count": 86,
      "outputs": [
        {
          "output_type": "stream",
          "name": "stdout",
          "text": [
            "18/18 [==============================] - 0s 2ms/step - loss: 585.9758 - mae: 585.9758 - mse: 1197802.1250\n"
          ]
        },
        {
          "output_type": "execute_result",
          "data": {
            "text/plain": [
              "[585.9757690429688, 585.9757690429688, 1197802.125]"
            ]
          },
          "metadata": {},
          "execution_count": 86
        }
      ]
    },
    {
      "cell_type": "code",
      "source": [
        "model_1 = tf.keras.models.load_model(\"model_experiment/model_1_dense/\")\n",
        "model_1.evaluate(test_windows, test_labels)"
      ],
      "metadata": {
        "colab": {
          "base_uri": "https://localhost:8080/"
        },
        "id": "hLNIVI8JlGci",
        "outputId": "7d2753e0-1154-42f0-ac16-b756903be78f"
      },
      "execution_count": 87,
      "outputs": [
        {
          "output_type": "stream",
          "name": "stdout",
          "text": [
            "18/18 [==============================] - 0s 2ms/step - loss: 568.9510 - mae: 568.9510 - mse: 1171743.6250\n"
          ]
        },
        {
          "output_type": "execute_result",
          "data": {
            "text/plain": [
              "[568.9510498046875, 568.9510498046875, 1171743.625]"
            ]
          },
          "metadata": {},
          "execution_count": 87
        }
      ]
    },
    {
      "cell_type": "markdown",
      "source": [
        "## Making forecast with a model (on the test dataset )"
      ],
      "metadata": {
        "id": "wGvIEiKzlwcE"
      }
    },
    {
      "cell_type": "code",
      "source": [
        "def make_preds(model, input_data):\n",
        "\n",
        "  forecast = model.predict(input_data)\n",
        "  return tf.squeeze(forecast)"
      ],
      "metadata": {
        "id": "T0_YpOhKuqdc"
      },
      "execution_count": 88,
      "outputs": []
    },
    {
      "cell_type": "code",
      "source": [
        "model_1_preds = make_preds(model_1, test_windows)\n",
        "model_1_preds[:10]"
      ],
      "metadata": {
        "colab": {
          "base_uri": "https://localhost:8080/"
        },
        "id": "gBhSv0Nnvuds",
        "outputId": "57a0d609-cb78-4027-b87f-fa7b08f03f22"
      },
      "execution_count": 89,
      "outputs": [
        {
          "output_type": "execute_result",
          "data": {
            "text/plain": [
              "<tf.Tensor: shape=(10,), dtype=float32, numpy=\n",
              "array([8861.71 , 8769.887, 9015.711, 8795.519, 8723.811, 8730.111,\n",
              "       8691.952, 8502.054, 8460.961, 8516.548], dtype=float32)>"
            ]
          },
          "metadata": {},
          "execution_count": 89
        }
      ]
    },
    {
      "cell_type": "code",
      "source": [
        "model_1_results = evaluate_preds(y_true=tf.squeeze(test_labels),\n",
        "                                 y_pred = model_1_preds)"
      ],
      "metadata": {
        "id": "oCTLu50TwTEx"
      },
      "execution_count": 90,
      "outputs": []
    },
    {
      "cell_type": "code",
      "source": [
        "model_1_results"
      ],
      "metadata": {
        "colab": {
          "base_uri": "https://localhost:8080/"
        },
        "id": "QvTJ1o1xxugO",
        "outputId": "9e8785a0-3666-4bc8-b4c3-2c8d0b41189a"
      },
      "execution_count": 91,
      "outputs": [
        {
          "output_type": "execute_result",
          "data": {
            "text/plain": [
              "{'mae': 568.95105,\n",
              " 'mse': 1171743.8,\n",
              " 'rmse': 23.852694,\n",
              " 'mape': 2.5448983,\n",
              " 'mase': 0.9994894}"
            ]
          },
          "metadata": {},
          "execution_count": 91
        }
      ]
    },
    {
      "cell_type": "code",
      "source": [
        "offset = 300\n",
        "plt.figure(figsize = (10,7))\n",
        "\n",
        "plot_time_series(timesteps=X_test[-len(test_windows):],\n",
        "                 values = test_labels[:,0],\n",
        "                 start = offset, label = \"Test Data\")\n",
        "\n",
        "plot_time_series(timesteps=X_test[-len(test_windows):],\n",
        "                 values = model_1_preds,\n",
        "                 start = offset,\n",
        "                 format = \"-\",\n",
        "                 label = \"model_1_preds\")\n"
      ],
      "metadata": {
        "colab": {
          "base_uri": "https://localhost:8080/",
          "height": 442
        },
        "id": "rT1Y_IvmxzJx",
        "outputId": "165179d6-26c8-4a74-adbf-4cff28f684a2"
      },
      "execution_count": 92,
      "outputs": [
        {
          "output_type": "display_data",
          "data": {
            "text/plain": [
              "<Figure size 720x504 with 1 Axes>"
            ],
            "image/png": "[encoded data removed]"
          },
          "metadata": {
            "needs_background": "light"
          }
        }
      ]
    },
    {
      "cell_type": "markdown",
      "source": [
        "## Model 2: Dense(window = 30, horizon = 1)"
      ],
      "metadata": {
        "id": "C8OFRqYW0Poi"
      }
    },
    {
      "cell_type": "code",
      "source": [
        "HORIZON = 1\n",
        "WINDOW_SIZE = 30"
      ],
      "metadata": {
        "id": "wlhuSF-pXmae"
      },
      "execution_count": 93,
      "outputs": []
    },
    {
      "cell_type": "code",
      "source": [
        "full_windows, full_labels = make_windows(prices, window_size = WINDOW_SIZE, horizon = HORIZON)"
      ],
      "metadata": {
        "id": "X2MCeEsAYKqz"
      },
      "execution_count": 94,
      "outputs": []
    },
    {
      "cell_type": "code",
      "source": [
        "train_windows, test_windows, train_labels, test_labels = make_train_test_split(windows = full_windows,\n",
        "                                                                               labels =  full_labels,\n",
        "                                                                               test_split = 0.2)"
      ],
      "metadata": {
        "id": "8ZoxLv0uY2jn"
      },
      "execution_count": 95,
      "outputs": []
    },
    {
      "cell_type": "code",
      "source": [
        "tf.random.set_seed(42)\n",
        "\n",
        "model_2 = tf.keras.Sequential([\n",
        "    layers.Dense(128, activation = 'relu'),\n",
        "    layers.Dense(HORIZON)\n",
        "], name = \"model_2_dense\")\n",
        "\n",
        "model_2.compile(loss = 'mae',\n",
        "                optimizer = tf.keras.optimizers.Adam())\n",
        "\n",
        "model_2.fit(train_windows,\n",
        "            train_labels,\n",
        "            batch_size = 128,\n",
        "            epochs = 100,\n",
        "            verbose =0,\n",
        "            validation_data = (test_windows, test_labels),\n",
        "            callbacks = [create_model_checkpoint(model_name = model_2.name)])"
      ],
      "metadata": {
        "colab": {
          "base_uri": "https://localhost:8080/"
        },
        "id": "ly1PvN_tZg4n",
        "outputId": "96c0db94-5224-4256-b0f4-4aee6fbc37f6"
      },
      "execution_count": 111,
      "outputs": [
        {
          "output_type": "execute_result",
          "data": {
            "text/plain": [
              "<keras.callbacks.History at 0x7f596b91f310>"
            ]
          },
          "metadata": {},
          "execution_count": 111
        }
      ]
    },
    {
      "cell_type": "code",
      "source": [
        "model_2.evaluate(test_windows, test_labels)"
      ],
      "metadata": {
        "colab": {
          "base_uri": "https://localhost:8080/"
        },
        "id": "7rxWmmwjav0m",
        "outputId": "7426bd53-c5a3-49d8-e901-87594762be01"
      },
      "execution_count": 112,
      "outputs": [
        {
          "output_type": "stream",
          "name": "stdout",
          "text": [
            "18/18 [==============================] - 0s 2ms/step - loss: 1300.1523\n"
          ]
        },
        {
          "output_type": "execute_result",
          "data": {
            "text/plain": [
              "1300.15234375"
            ]
          },
          "metadata": {},
          "execution_count": 112
        }
      ]
    },
    {
      "cell_type": "code",
      "source": [
        "model_2 = tf.keras.models.load_model('model_experiment/model_2_dense/')\n",
        "model_2.evaluate(test_windows, test_labels)"
      ],
      "metadata": {
        "colab": {
          "base_uri": "https://localhost:8080/"
        },
        "id": "vy6GGH1PbMWb",
        "outputId": "d9fec950-d57e-4017-859f-12bceae3ff69"
      },
      "execution_count": 113,
      "outputs": [
        {
          "output_type": "stream",
          "name": "stdout",
          "text": [
            "18/18 [==============================] - 0s 2ms/step - loss: 1237.5063\n"
          ]
        },
        {
          "output_type": "execute_result",
          "data": {
            "text/plain": [
              "1237.50634765625"
            ]
          },
          "metadata": {},
          "execution_count": 113
        }
      ]
    },
    {
      "cell_type": "code",
      "source": [
        "model_2_preds = make_preds(model_2,\n",
        "                           input_data = test_windows)"
      ],
      "metadata": {
        "id": "Q5EGocb8bukT"
      },
      "execution_count": 114,
      "outputs": []
    },
    {
      "cell_type": "code",
      "source": [
        "model_2_results = evaluate_preds(y_true = tf.squeeze(test_labels),\n",
        "                                 y_pred = model_2_preds)\n"
      ],
      "metadata": {
        "id": "8bE6rs3IcjX5"
      },
      "execution_count": 115,
      "outputs": []
    },
    {
      "cell_type": "code",
      "source": [
        "model_2_results"
      ],
      "metadata": {
        "colab": {
          "base_uri": "https://localhost:8080/"
        },
        "id": "OBHQ1BXKc281",
        "outputId": "518b2346-aa6f-43bb-f337-b976379b6f92"
      },
      "execution_count": 116,
      "outputs": [
        {
          "output_type": "execute_result",
          "data": {
            "text/plain": [
              "{'mae': array([ 513.6056  ,  355.08328 ,  327.17075 ,  358.5106  ,  420.53293 ,\n",
              "         537.854   ,  545.6617  ,  485.9228  ,  584.49713 ,  687.38214 ,\n",
              "         836.2264  ,  755.1576  ,  731.4957  ,  775.3399  ,  567.95544 ,\n",
              "         266.80865 ,  188.80217 ,  188.10805 ,  253.095   ,  301.43256 ,\n",
              "         151.10721 ,  196.8148  ,  191.46178 ,  231.65031 ,  143.61125 ,\n",
              "         122.59089 ,  132.78871 ,  190.81174 ,  179.15994 ,  228.26004 ,\n",
              "         314.44022 ,  379.09235 ,  278.32526 ,  295.34702 ,  299.3852  ,\n",
              "         248.64983 ,  299.75668 ,  259.69434 ,  180.30531 ,  206.72922 ,\n",
              "         374.62863 ,  144.85086 ,  142.33635 ,  131.11613 ,   93.9412  ,\n",
              "          54.825542,   73.79555 ,  103.60121 ,  121.333916,  168.67278 ,\n",
              "         183.90945 ,  152.25307 ,  186.57199 ,  146.91273 ,  240.42912 ,\n",
              "         351.00656 ,  540.952   ,  549.1573  ,  521.2411  ,  526.8554  ,\n",
              "         453.36237 ,  257.9811  ,  277.2947  ,  301.8247  ,  455.718   ,\n",
              "         458.9603  ,  503.4438  ,  522.3119  ,  223.07631 ,  250.09529 ,\n",
              "         297.1437  ,  400.571   ,  495.7984  ,  364.33707 ,  283.3662  ,\n",
              "         325.59543 ,  238.21178 ,  318.97754 ,  460.77106 ,  651.0762  ,\n",
              "         835.88    ,  669.96454 ,  319.54507 ,  261.99442 ,  142.3923  ,\n",
              "         136.62863 ,  154.75223 ,  221.32617 ,  290.50406 ,  503.88406 ,\n",
              "         414.2602  ,  434.35742 ,  377.98785 ,  251.78947 ,  204.2832  ,\n",
              "         388.227   ,  360.65793 ,  493.80914 ,  614.8613  ,  754.70245 ,\n",
              "         533.77136 ,  378.98898 ,  280.49496 ,  339.48074 ,  413.1289  ,\n",
              "         452.87875 ,  550.5381  ,  634.5726  ,  935.5726  ,  931.60016 ,\n",
              "         881.2803  ,  426.39984 ,  179.45871 ,  121.66197 ,  160.43889 ,\n",
              "         372.07108 ,  341.85764 ,  476.52408 ,  618.3245  , 1038.8986  ,\n",
              "        1569.5028  , 2157.1199  , 1987.6077  , 2158.6108  , 2303.5608  ,\n",
              "        2662.9429  , 1405.5013  ,  728.30096 ,  351.70062 ,  322.03195 ,\n",
              "         493.94748 ,  435.4843  ,  565.5558  ,  350.11676 ,  289.0198  ,\n",
              "         251.21603 ,  409.05615 ,  342.20996 ,  320.8362  ,  330.88608 ,\n",
              "         357.84613 ,  335.94818 ,  206.10303 ,  544.3839  ,  700.00934 ,\n",
              "         468.91992 ,  404.49615 ,  172.80127 ,  308.33685 ,  210.47621 ,\n",
              "         318.9543  ,  486.1326  ,  428.8803  ,  533.91113 ,  433.78152 ,\n",
              "         396.89432 ,  138.40381 ,  189.96658 ,  170.39209 ,  181.54346 ,\n",
              "         282.88992 ,  264.3886  ,  250.6218  ,  240.33762 ,  276.95425 ,\n",
              "         326.0295  ,  489.6155  ,  686.2448  ,  526.9793  ,  603.01135 ,\n",
              "         825.3831  ,  871.0463  ,  990.0688  , 1090.0597  ,  560.2842  ,\n",
              "         310.52246 ,  371.39035 ,  348.45953 ,  355.73438 ,  429.56543 ,\n",
              "         581.2835  ,  550.52203 ,  635.4312  ,  913.404   ,  840.7183  ,\n",
              "         305.0357  ,  493.93332 ,  751.31824 ,  410.63434 ,  220.62459 ,\n",
              "         282.25446 ,  291.8527  ,  422.50375 ,  458.6543  ,  637.2352  ,\n",
              "         647.82324 ,  417.24496 ,  220.23703 ,  246.72209 ,  200.22922 ,\n",
              "         455.1494  ,  719.6059  ,  696.3024  ,  485.0996  ,  294.95285 ,\n",
              "         170.52371 ,  211.82478 ,  270.565   ,  189.89299 ,  171.21736 ,\n",
              "         366.44727 ,  231.96373 ,  318.78738 ,  273.79395 ,  358.5565  ,\n",
              "         412.2281  ,  512.3167  ,  185.43959 ,  196.38225 ,  200.006   ,\n",
              "         224.58664 ,  213.41978 ,  186.23926 ,  113.371376,  172.23228 ,\n",
              "         168.89857 ,  236.0957  ,  307.5971  ,  328.9389  ,  566.59625 ,\n",
              "         285.04395 ,  300.44965 ,  125.45299 ,  168.94322 ,  137.25851 ,\n",
              "         143.5039  ,  145.27791 ,  107.339424,   77.16225 ,  131.8711  ,\n",
              "         134.02023 ,  167.45773 ,  137.9216  ,  148.9135  ,  204.95508 ,\n",
              "         157.89746 ,  196.95242 ,  167.93918 ,  156.45605 ,  188.68094 ,\n",
              "         161.44127 ,   90.99763 ,  136.8411  ,  198.51701 ,  230.1381  ,\n",
              "         294.78336 ,  594.2425  ,  699.6479  ,  815.13574 ,  905.339   ,\n",
              "        1127.2997  , 1342.6945  , 1317.0691  ,  590.1681  ,  296.34515 ,\n",
              "         243.43625 ,  256.3983  ,  222.28459 ,  323.83832 ,   82.513115,\n",
              "         120.14384 ,  249.14914 ,  205.73592 ,  243.4548  ,  250.64803 ,\n",
              "         287.2762  ,  224.38142 ,  266.56    ,  221.51033 ,  218.49637 ,\n",
              "         272.42285 ,  279.5964  ,  252.58846 ,  381.565   ,  417.97086 ,\n",
              "         624.5573  ,  368.03738 ,  327.25488 ,  263.43973 ,  349.95285 ,\n",
              "         398.62515 ,  297.07407 ,  147.04924 ,  164.5431  ,  313.36343 ,\n",
              "         477.7482  ,  675.0409  ,  897.2679  , 1094.7103  , 1460.1776  ,\n",
              "        1398.586   ,  952.72516 ,  645.95886 ,  166.17899 ,  144.66895 ,\n",
              "         189.18289 ,  304.81332 ,  435.10602 ,  449.64398 ,  425.2437  ,\n",
              "         441.93597 ,  407.29465 ,  252.40388 ,  248.3697  ,  336.17105 ,\n",
              "         482.81055 ,  437.53082 ,  533.0868  ,  346.9795  ,  127.686806,\n",
              "         110.208145,  301.75113 ,  195.50545 ,  174.65164 ,  238.47098 ,\n",
              "         302.37164 ,  313.51743 ,  310.1296  ,  200.29855 ,  172.47307 ,\n",
              "         140.2302  ,  252.48549 ,  289.32437 ,  343.62094 ,  504.1179  ,\n",
              "         635.1342  ,  602.1302  ,  519.06055 ,  214.90262 ,  195.9117  ,\n",
              "         265.0371  ,  198.90123 ,  345.51285 ,  517.2228  ,  631.0296  ,\n",
              "         988.4247  , 1174.214   , 1196.2845  , 1253.9298  ,  526.0653  ,\n",
              "         210.31516 ,  215.27107 ,  169.86008 ,  283.78668 ,  269.76157 ,\n",
              "         228.6349  ,  186.64648 ,  410.54254 ,  601.2651  ,  618.1225  ,\n",
              "         768.7529  , 1158.5458  , 1232.8795  , 1254.4297  ,  423.0244  ,\n",
              "         390.0357  ,  367.23898 ,  209.55775 ,  530.22235 ,  821.3824  ,\n",
              "         812.3729  ,  741.1964  ,  953.4838  , 1258.9902  , 1844.932   ,\n",
              "        1605.2845  , 1112.7659  ,  594.18835 ,  549.7667  ,  632.5435  ,\n",
              "         829.2642  , 1103.2218  , 1130.1029  , 1033.3518  ,  878.5865  ,\n",
              "         595.40875 , 1115.6506  , 1371.1725  , 1385.2509  ,  387.5226  ,\n",
              "         303.74887 ,  495.12473 ,  719.5804  ,  648.90265 ,  766.1632  ,\n",
              "         683.23157 ,  596.4121  ,  523.09265 ,  577.3407  , 1337.6208  ,\n",
              "        2454.5964  , 2759.2344  , 3135.8762  , 3407.3806  , 3602.6335  ,\n",
              "        2527.157   , 1158.0999  ,  679.8432  ,  748.5586  , 1073.4869  ,\n",
              "        1217.7327  , 1459.5656  , 2502.731   , 3075.8247  , 3090.2878  ,\n",
              "        2564.758   , 2660.5317  , 2928.934   , 3690.556   , 3525.141   ,\n",
              "        4183.6694  , 5144.0674  , 4384.655   , 4164.9614  , 4431.0938  ,\n",
              "        3335.1216  , 3017.6858  , 2589.5396  , 4103.63    , 5582.0933  ,\n",
              "        5108.46    , 1382.9637  ,  953.5419  , 1081.6825  , 2483.1975  ,\n",
              "        2992.0547  , 3127.0942  , 2972.2747  , 3054.65    , 3283.713   ,\n",
              "        3617.3674  , 1170.2589  , 1074.1827  , 1059.317   , 1044.5404  ,\n",
              "        1060.622   , 2115.719   , 3569.8867  , 3474.3625  , 2448.0156  ,\n",
              "        2641.418   , 3188.602   , 4899.9146  , 5516.288   , 4635.486   ,\n",
              "        4677.034   , 5732.883   , 5866.738   , 8083.3403  , 5049.8286  ,\n",
              "        1476.2288  , 1873.3275  , 1219.0988  , 2324.073   , 2467.0083  ,\n",
              "        3005.0898  , 2805.0503  , 3688.254   , 2962.7136  , 3664.2388  ,\n",
              "        5618.684   , 6925.0967  , 9751.094   , 8790.821   , 5057.626   ,\n",
              "        2971.6848  , 1715.495   , 1125.7706  , 2201.4246  , 3969.4978  ,\n",
              "        2988.5083  , 2911.9285  , 2796.8672  , 3937.8806  , 5449.5894  ,\n",
              "        6395.021   , 6148.242   , 5437.6987  , 4291.8257  , 2362.3967  ,\n",
              "        1657.3405  , 1426.6367  , 1647.716   , 2730.3967  , 1813.7115  ,\n",
              "        2061.1519  , 3095.7227  , 4312.8096  , 5500.7266  , 5258.027   ,\n",
              "        5152.028   , 1331.4062  , 1634.4023  , 2493.4324  , 3957.951   ,\n",
              "        4499.2144  , 2215.846   , 2587.4119  , 1622.4397  ,  591.875   ,\n",
              "        1297.4727  , 1284.5983  ,  915.22766 ,  940.44977 , 1084.6584  ,\n",
              "         875.8979  , 1041.3549  , 2299.2478  , 3152.6003  , 3518.394   ,\n",
              "        2531.523   , 2682.573   , 3094.2917  , 3829.3364  , 5550.616   ,\n",
              "        7159.347   , 8820.524   , 8587.342   , 6777.815   , 5193.292   ,\n",
              "        4793.3384  , 2605.2544  , 1668.3605  , 2510.7192  , 4105.6826  ,\n",
              "        6278.392   , 4109.7534  , 1711.1166  , 2261.9832  , 2384.7534  ,\n",
              "        1246.6641  , 1672.8483  , 1103.1345  , 1743.3678  , 1608.4564  ,\n",
              "        1933.904   , 2742.3433  , 3945.3645  , 5765.941   , 6955.8433  ,\n",
              "        8107.708   ], dtype=float32),\n",
              " 'mse': array([3.15562562e+05, 1.69165047e+05, 1.44132125e+05, 1.76003203e+05,\n",
              "        2.63520344e+05, 3.91517562e+05, 3.99526312e+05, 3.44422156e+05,\n",
              "        4.93892469e+05, 6.88786438e+05, 9.18702875e+05, 8.00988562e+05,\n",
              "        6.35508625e+05, 6.45535812e+05, 3.57740594e+05, 1.03007414e+05,\n",
              "        5.33133125e+04, 4.65832500e+04, 1.10349016e+05, 1.11646961e+05,\n",
              "        4.35359453e+04, 5.45391523e+04, 4.55849648e+04, 7.64883672e+04,\n",
              "        4.03074453e+04, 2.71076816e+04, 1.90269824e+04, 4.55625742e+04,\n",
              "        4.25344805e+04, 6.63250156e+04, 1.16741703e+05, 1.69440422e+05,\n",
              "        1.10487078e+05, 1.59708266e+05, 1.61630891e+05, 1.23861797e+05,\n",
              "        1.50757406e+05, 1.31196844e+05, 5.50280977e+04, 6.28156445e+04,\n",
              "        1.77474219e+05, 2.68842363e+04, 2.53034434e+04, 2.58045059e+04,\n",
              "        1.34594688e+04, 3.88201562e+03, 9.22790527e+03, 1.22403125e+04,\n",
              "        2.20870137e+04, 3.60827500e+04, 4.87961602e+04, 3.74652578e+04,\n",
              "        4.10563711e+04, 4.17419023e+04, 1.10490461e+05, 2.00761453e+05,\n",
              "        3.48149906e+05, 3.58061312e+05, 3.28374031e+05, 2.96505938e+05,\n",
              "        2.33353781e+05, 1.54046734e+05, 1.43171641e+05, 1.62586703e+05,\n",
              "        2.96452750e+05, 2.66880969e+05, 2.94188594e+05, 3.10067562e+05,\n",
              "        6.27178242e+04, 8.63872109e+04, 9.69540391e+04, 2.01815250e+05,\n",
              "        2.97054594e+05, 2.00675078e+05, 1.27305445e+05, 1.32510266e+05,\n",
              "        8.46021406e+04, 1.74816797e+05, 2.95114281e+05, 4.75889719e+05,\n",
              "        7.21893438e+05, 4.62710188e+05, 1.33154703e+05, 8.13637656e+04,\n",
              "        3.43107852e+04, 3.45205547e+04, 5.36855352e+04, 7.42412188e+04,\n",
              "        1.09339258e+05, 2.79682500e+05, 2.19119391e+05, 1.99934375e+05,\n",
              "        1.65902453e+05, 8.16736484e+04, 4.82389180e+04, 1.65301344e+05,\n",
              "        1.81698328e+05, 3.30645000e+05, 4.63627250e+05, 6.75045625e+05,\n",
              "        3.34911969e+05, 1.69344000e+05, 1.03219461e+05, 1.48348172e+05,\n",
              "        2.98685688e+05, 3.71952438e+05, 4.43305844e+05, 5.27905000e+05,\n",
              "        1.12945238e+06, 1.00652912e+06, 8.03246812e+05, 2.21277672e+05,\n",
              "        6.64889375e+04, 2.66179375e+04, 3.29691523e+04, 1.68663719e+05,\n",
              "        1.76257344e+05, 2.99364906e+05, 4.31794719e+05, 1.91346938e+06,\n",
              "        3.90354125e+06, 6.29502450e+06, 5.49042500e+06, 6.25677100e+06,\n",
              "        6.28618500e+06, 7.23876700e+06, 2.08143475e+06, 6.66785812e+05,\n",
              "        1.44640328e+05, 1.83413734e+05, 3.41025938e+05, 3.02068688e+05,\n",
              "        3.71339250e+05, 2.02418469e+05, 1.36150797e+05, 8.24756250e+04,\n",
              "        1.96007016e+05, 1.61595531e+05, 1.71401109e+05, 2.00606781e+05,\n",
              "        2.37199359e+05, 1.58720219e+05, 6.36029766e+04, 3.38904750e+05,\n",
              "        5.23524188e+05, 2.86211969e+05, 1.92325922e+05, 3.73764375e+04,\n",
              "        1.31962375e+05, 9.33164844e+04, 1.18443625e+05, 3.00599344e+05,\n",
              "        2.28997641e+05, 3.57954812e+05, 2.36219250e+05, 1.71530031e+05,\n",
              "        2.68483613e+04, 4.79165352e+04, 4.00421953e+04, 5.41032422e+04,\n",
              "        1.07641438e+05, 9.80018359e+04, 7.08349922e+04, 6.55987812e+04,\n",
              "        8.53739609e+04, 1.33836594e+05, 2.72516031e+05, 6.54133000e+05,\n",
              "        4.97211812e+05, 6.11189312e+05, 9.92908312e+05, 9.56691000e+05,\n",
              "        1.09541325e+06, 1.19283175e+06, 3.75002188e+05, 2.22053828e+05,\n",
              "        2.60620156e+05, 1.88108875e+05, 1.87927750e+05, 2.49059219e+05,\n",
              "        3.79191938e+05, 4.07706812e+05, 6.24782625e+05, 9.62080500e+05,\n",
              "        7.95344312e+05, 1.40557766e+05, 2.65226344e+05, 6.26270438e+05,\n",
              "        2.05804469e+05, 6.53086562e+04, 1.33562875e+05, 1.14691547e+05,\n",
              "        2.26913719e+05, 2.61227344e+05, 5.08516812e+05, 4.90744031e+05,\n",
              "        2.38722219e+05, 6.85554844e+04, 7.30579844e+04, 5.36114375e+04,\n",
              "        3.28222750e+05, 6.26447562e+05, 5.17733938e+05, 3.32536906e+05,\n",
              "        1.72656594e+05, 8.28139297e+04, 1.43392859e+05, 8.83170859e+04,\n",
              "        5.15845234e+04, 4.20796602e+04, 1.78049500e+05, 1.17351922e+05,\n",
              "        1.16870359e+05, 1.02416914e+05, 1.67489344e+05, 2.05509422e+05,\n",
              "        2.73222562e+05, 4.73887266e+04, 4.60582461e+04, 5.33724297e+04,\n",
              "        7.87067422e+04, 7.06484219e+04, 5.23134414e+04, 2.50282949e+04,\n",
              "        4.52028984e+04, 4.14731211e+04, 7.00108125e+04, 1.24132516e+05,\n",
              "        1.34167594e+05, 3.38401844e+05, 9.75608906e+04, 1.10023234e+05,\n",
              "        1.99198105e+04, 3.32736992e+04, 2.43713613e+04, 2.76616055e+04,\n",
              "        2.70386289e+04, 1.58114443e+04, 1.16168496e+04, 2.74853652e+04,\n",
              "        2.95268613e+04, 3.95873516e+04, 2.81845449e+04, 3.19157871e+04,\n",
              "        5.60373164e+04, 3.98339648e+04, 5.02200703e+04, 3.19762402e+04,\n",
              "        2.96142949e+04, 4.48334258e+04, 4.32264375e+04, 1.52424775e+04,\n",
              "        2.86075918e+04, 4.23484023e+04, 7.25031172e+04, 1.21924180e+05,\n",
              "        6.41490500e+05, 8.50461375e+05, 1.11135250e+06, 1.22003288e+06,\n",
              "        1.54110100e+06, 2.03451888e+06, 1.76440675e+06, 4.22098719e+05,\n",
              "        1.30513617e+05, 7.30579375e+04, 8.56106875e+04, 7.42399219e+04,\n",
              "        1.49466484e+05, 1.25624111e+04, 2.13100684e+04, 9.81801094e+04,\n",
              "        7.28017891e+04, 1.26064570e+05, 1.01337180e+05, 1.24553578e+05,\n",
              "        7.13406719e+04, 8.41950703e+04, 6.25290547e+04, 8.18796016e+04,\n",
              "        1.27303258e+05, 8.94661328e+04, 1.04101039e+05, 1.66147531e+05,\n",
              "        2.32076047e+05, 4.41966531e+05, 1.75839109e+05, 1.76445078e+05,\n",
              "        9.12171094e+04, 1.67975469e+05, 1.87876422e+05, 1.07636641e+05,\n",
              "        3.26579023e+04, 5.35408945e+04, 1.38144203e+05, 3.28639000e+05,\n",
              "        6.38893000e+05, 1.08279062e+06, 1.55802688e+06, 2.42137025e+06,\n",
              "        2.08980188e+06, 9.83022125e+05, 4.27434938e+05, 5.84014375e+04,\n",
              "        4.02858125e+04, 5.27582695e+04, 1.33694047e+05, 2.41685969e+05,\n",
              "        2.54570125e+05, 2.18475656e+05, 2.39844203e+05, 1.72919391e+05,\n",
              "        9.46134297e+04, 8.14814844e+04, 1.83792781e+05, 3.41631406e+05,\n",
              "        2.67091531e+05, 3.54821562e+05, 1.69607219e+05, 2.63052539e+04,\n",
              "        2.11335898e+04, 1.11685516e+05, 6.08848320e+04, 4.64013945e+04,\n",
              "        6.97663828e+04, 1.16935688e+05, 1.44631391e+05, 1.14627359e+05,\n",
              "        7.92805703e+04, 5.69165547e+04, 3.03999824e+04, 9.47754453e+04,\n",
              "        1.19674555e+05, 2.15399078e+05, 3.15528062e+05, 4.17612281e+05,\n",
              "        3.91753062e+05, 2.83128781e+05, 8.15815391e+04, 5.00838711e+04,\n",
              "        1.01595758e+05, 6.17700664e+04, 3.16725938e+05, 5.76747812e+05,\n",
              "        7.41102938e+05, 1.33218062e+06, 1.56516288e+06, 1.55553288e+06,\n",
              "        1.68517775e+06, 3.21848812e+05, 6.30701875e+04, 7.78368047e+04,\n",
              "        5.12543789e+04, 1.14444773e+05, 1.13520664e+05, 7.03018281e+04,\n",
              "        4.71100312e+04, 4.52435031e+05, 7.79104812e+05, 7.32537000e+05,\n",
              "        1.03909069e+06, 1.56208838e+06, 1.63956625e+06, 1.72790112e+06,\n",
              "        4.00524938e+05, 2.34607969e+05, 1.76724875e+05, 6.78014375e+04,\n",
              "        3.90380906e+05, 9.80138688e+05, 1.03536912e+06, 8.44671688e+05,\n",
              "        1.38894325e+06, 1.98340425e+06, 3.62835000e+06, 2.66920550e+06,\n",
              "        1.42116625e+06, 4.54600656e+05, 3.65966188e+05, 9.46591875e+05,\n",
              "        1.45184338e+06, 1.85899962e+06, 1.89930900e+06, 1.82373088e+06,\n",
              "        1.21286275e+06, 4.94639688e+05, 1.49650112e+06, 2.03091888e+06,\n",
              "        2.25657475e+06, 2.11181250e+05, 1.21395430e+05, 3.04310812e+05,\n",
              "        7.11903125e+05, 6.20310625e+05, 8.05388000e+05, 6.26904125e+05,\n",
              "        5.66389625e+05, 4.27519062e+05, 7.83490438e+05, 3.63024550e+06,\n",
              "        8.18037250e+06, 1.07676110e+07, 1.26563590e+07, 1.33500370e+07,\n",
              "        1.33957210e+07, 6.52510050e+06, 1.60696225e+06, 8.56755125e+05,\n",
              "        1.15616888e+06, 1.69268338e+06, 2.17123725e+06, 3.34217825e+06,\n",
              "        7.84993050e+06, 1.08378820e+07, 1.05727040e+07, 1.01602580e+07,\n",
              "        1.14205950e+07, 1.16179760e+07, 1.73510000e+07, 1.79301580e+07,\n",
              "        2.70626400e+07, 3.72665360e+07, 2.97687480e+07, 2.14580200e+07,\n",
              "        2.44065800e+07, 1.56006630e+07, 1.03771430e+07, 9.93532300e+06,\n",
              "        2.18889420e+07, 3.45002520e+07, 2.72495560e+07, 2.51544575e+06,\n",
              "        2.11410050e+06, 1.65101438e+06, 8.78065100e+06, 1.42263850e+07,\n",
              "        1.50277490e+07, 1.42628870e+07, 1.11521150e+07, 1.31385830e+07,\n",
              "        1.44270310e+07, 2.10808025e+06, 2.37276650e+06, 2.06520375e+06,\n",
              "        1.51271862e+06, 1.63592562e+06, 6.01036300e+06, 1.48181510e+07,\n",
              "        1.51462640e+07, 8.88826800e+06, 1.03656160e+07, 1.24236460e+07,\n",
              "        3.12300340e+07, 4.44121680e+07, 3.35616920e+07, 3.37025520e+07,\n",
              "        4.33024880e+07, 4.04648120e+07, 6.68120760e+07, 2.68143000e+07,\n",
              "        3.37227625e+06, 6.18198100e+06, 3.33603000e+06, 9.76003500e+06,\n",
              "        9.50540700e+06, 1.48300480e+07, 1.08089090e+07, 1.52812330e+07,\n",
              "        1.21298720e+07, 1.47111110e+07, 4.46197040e+07, 6.19226520e+07,\n",
              "        1.05739144e+08, 8.06071200e+07, 3.00356780e+07, 1.30779050e+07,\n",
              "        4.55989850e+06, 1.67929975e+06, 6.99428700e+06, 1.63486880e+07,\n",
              "        1.21498720e+07, 1.21798100e+07, 1.68979380e+07, 2.39387620e+07,\n",
              "        3.73065320e+07, 5.09610680e+07, 4.59522000e+07, 3.20003060e+07,\n",
              "        2.06371620e+07, 8.14506450e+06, 4.14795200e+06, 4.23500700e+06,\n",
              "        3.09785600e+06, 8.37916250e+06, 7.36109850e+06, 7.06096250e+06,\n",
              "        1.57310800e+07, 2.78767000e+07, 4.07340120e+07, 3.28521320e+07,\n",
              "        2.89016540e+07, 3.40229975e+06, 3.84223750e+06, 8.10805100e+06,\n",
              "        1.74778500e+07, 2.13824540e+07, 5.77503650e+06, 7.30699550e+06,\n",
              "        3.70580475e+06, 6.14523812e+05, 1.92766775e+06, 2.29575125e+06,\n",
              "        1.09031838e+06, 1.19422538e+06, 2.01535212e+06, 1.38584200e+06,\n",
              "        2.60915475e+06, 7.48125550e+06, 1.25728590e+07, 1.49188430e+07,\n",
              "        7.64712450e+06, 9.50859000e+06, 1.16537280e+07, 2.15389020e+07,\n",
              "        4.32745680e+07, 6.52255280e+07, 9.30124960e+07, 8.49971200e+07,\n",
              "        5.87007160e+07, 3.43533080e+07, 2.82686400e+07, 9.30442900e+06,\n",
              "        4.66935400e+06, 8.00186650e+06, 2.05975080e+07, 4.07234280e+07,\n",
              "        1.93118500e+07, 4.04351750e+06, 5.92505450e+06, 7.37347950e+06,\n",
              "        2.68488600e+06, 5.27761950e+06, 1.84824825e+06, 4.87236000e+06,\n",
              "        4.87888300e+06, 5.77537050e+06, 1.21702160e+07, 2.70199620e+07,\n",
              "        4.94704520e+07, 6.90301360e+07, 8.50554720e+07], dtype=float32),\n",
              " 'rmse': array([22.662867 , 18.843653 , 18.087862 , 18.934376 , 20.506899 ,\n",
              "        23.191679 , 23.359402 , 22.043655 , 24.176374 , 26.217974 ,\n",
              "        28.91758  , 27.48013  , 27.046177 , 27.844925 , 23.831816 ,\n",
              "        16.334278 , 13.74053  , 13.715248 , 15.908959 , 17.361813 ,\n",
              "        12.292567 , 14.02907  , 13.836971 , 15.220063 , 11.983791 ,\n",
              "        11.072077 , 11.523398 , 13.813462 , 13.385064 , 15.108277 ,\n",
              "        17.732462 , 19.470295 , 16.683083 , 17.185663 , 17.302752 ,\n",
              "        15.768634 , 17.313482 , 16.115034 , 13.427781 , 14.378081 ,\n",
              "        19.355326 , 12.0354   , 11.930479 , 11.450595 ,  9.692327 ,\n",
              "         7.404427 ,  8.590433 , 10.178468 , 11.015167 , 12.987408 ,\n",
              "        13.561322 , 12.339087 , 13.659136 , 12.120756 , 15.505777 ,\n",
              "        18.735168 , 23.258375 , 23.434105 , 22.830704 , 22.953331 ,\n",
              "        21.292307 , 16.06179  , 16.652168 , 17.373102 , 21.347551 ,\n",
              "        21.423359 , 22.437553 , 22.854143 , 14.9357395, 15.814401 ,\n",
              "        17.237856 , 20.01427  , 22.266531 , 19.087614 , 16.833485 ,\n",
              "        18.044262 , 15.434111 , 17.859943 , 21.465578 , 25.516193 ,\n",
              "        28.911589 , 25.883673 , 17.875824 , 16.186241 , 11.932824 ,\n",
              "        11.688825 , 12.439944 , 14.877035 , 17.04418  , 22.447361 ,\n",
              "        20.353382 , 20.841244 , 19.44191  , 15.867876 , 14.292768 ,\n",
              "        19.703476 , 18.990995 , 22.221817 , 24.796398 , 27.471848 ,\n",
              "        23.103493 , 19.46764  , 16.747984 , 18.425003 , 20.325573 ,\n",
              "        21.280949 , 23.463549 , 25.190723 , 30.587132 , 30.522125 ,\n",
              "        29.686365 , 20.64945  , 13.39622  , 11.030048 , 12.666447 ,\n",
              "        19.289143 , 18.489393 , 21.829432 , 24.86613  , 32.23195  ,\n",
              "        39.61695  , 46.444805 , 44.582592 , 46.460854 , 47.995426 ,\n",
              "        51.60371  , 37.490017 , 26.987051 , 18.753683 , 17.945248 ,\n",
              "        22.22493  , 20.868261 , 23.781418 , 18.711407 , 17.000582 ,\n",
              "        15.849796 , 20.225136 , 18.498919 , 17.911901 , 18.190273 ,\n",
              "        18.91682  , 18.32889  , 14.356289 , 23.332035 , 26.45769  ,\n",
              "        21.654558 , 20.11209  , 13.14539  , 17.559523 , 14.507798 ,\n",
              "        17.859293 , 22.048414 , 20.709425 , 23.106518 , 20.827421 ,\n",
              "        19.922207 , 11.764515 , 13.782837 , 13.0534315, 13.473806 ,\n",
              "        16.819332 , 16.26003  , 15.831038 , 15.502826 , 16.641943 ,\n",
              "        18.056288 , 22.127256 , 26.196274 , 22.95603  , 24.55629  ,\n",
              "        28.72948  , 29.513494 , 31.465359 , 33.016052 , 23.670322 ,\n",
              "        17.621647 , 19.27149  , 18.66707  , 18.860922 , 20.72596  ,\n",
              "        24.109821 , 23.463205 , 25.207762 , 30.222574 , 28.995142 ,\n",
              "        17.465271 , 22.224611 , 27.410185 , 20.264114 , 14.853436 ,\n",
              "        16.80043  , 17.083696 , 20.554895 , 21.416216 , 25.243519 ,\n",
              "        25.452372 , 20.426575 , 14.8403845, 15.70739  , 14.150237 ,\n",
              "        21.33423  , 26.82547  , 26.387543 , 22.024977 , 17.17419  ,\n",
              "        13.058473 , 14.554202 , 16.44886  , 13.780167 , 13.085005 ,\n",
              "        19.142813 , 15.230355 , 17.854618 , 16.54672  , 18.935587 ,\n",
              "        20.3034   , 22.634415 , 13.61762  , 14.013645 , 14.142347 ,\n",
              "        14.986215 , 14.608894 , 13.64695  , 10.647599 , 13.12373  ,\n",
              "        12.9960985, 15.365406 , 17.538446 , 18.136673 , 23.803282 ,\n",
              "        16.883244 , 17.333483 , 11.20058  , 12.997816 , 11.715738 ,\n",
              "        11.979312 , 12.053128 , 10.360474 ,  8.7842045, 11.483514 ,\n",
              "        11.576711 , 12.940546 , 11.744002 , 12.2030115, 14.316252 ,\n",
              "        12.565726 , 14.033974 , 12.959135 , 12.508239 , 13.736117 ,\n",
              "        12.705955 ,  9.539268 , 11.697909 , 14.089606 , 15.170303 ,\n",
              "        17.169256 , 24.377089 , 26.450857 , 28.550583 , 30.088852 ,\n",
              "        33.575283 , 36.642796 , 36.291447 , 24.293375 , 17.214678 ,\n",
              "        15.602444 , 16.012442 , 14.909211 , 17.995508 ,  9.083673 ,\n",
              "        10.961014 , 15.784458 , 14.343497 , 15.603038 , 15.831867 ,\n",
              "        16.949224 , 14.979366 , 16.326666 , 14.883224 , 14.781623 ,\n",
              "        16.505236 , 16.721136 , 15.893031 , 19.533688 , 20.444336 ,\n",
              "        24.991144 , 19.1843   , 18.090187 , 16.230827 , 18.707026 ,\n",
              "        19.9656   , 17.235836 , 12.126386 , 12.8274355, 17.702074 ,\n",
              "        21.85745  , 25.981548 , 29.95443  , 33.086407 , 38.21227  ,\n",
              "        37.397675 , 30.866245 , 25.41572  , 12.891043 , 12.02784  ,\n",
              "        13.754377 , 17.458904 , 20.859194 , 21.20481  , 20.621437 ,\n",
              "        21.022272 , 20.181543 , 15.887224 , 15.759749 , 18.334967 ,\n",
              "        21.97295  , 20.917236 , 23.088673 , 18.627386 , 11.299859 ,\n",
              "        10.498007 , 17.370985 , 13.9823265, 13.215583 , 15.442505 ,\n",
              "        17.388836 , 17.706423 , 17.610497 , 14.152687 , 13.1329   ,\n",
              "        11.841883 , 15.8897915, 17.009537 , 18.537016 , 22.45257  ,\n",
              "        25.20187  , 24.538342 , 22.7829   , 14.659557 , 13.996846 ,\n",
              "        16.27996  , 14.103234 , 18.587975 , 22.742533 , 25.120302 ,\n",
              "        31.439222 , 34.266804 , 34.587345 , 35.41087  , 22.936113 ,\n",
              "        14.502247 , 14.672119 , 13.033038 , 16.84597  , 16.42442  ,\n",
              "        15.120678 , 13.661862 , 20.261848 , 24.520706 , 24.862068 ,\n",
              "        27.726393 , 34.03742  , 35.112385 , 35.417927 , 20.567556 ,\n",
              "        19.749321 , 19.16348  , 14.4761095, 23.026558 , 28.65977  ,\n",
              "        28.502157 , 27.224922 , 30.878532 , 35.48225  , 42.95267  ,\n",
              "        40.066    , 33.358147 , 24.375978 , 23.447105 , 25.150417 ,\n",
              "        28.796947 , 33.214783 , 33.617004 , 32.14579  , 29.640959 ,\n",
              "        24.401    , 33.401356 , 37.029346 , 37.218956 , 19.685595 ,\n",
              "        17.428392 , 22.251398 , 26.824995 , 25.473568 , 27.679653 ,\n",
              "        26.138699 , 24.42155  , 22.871218 , 24.027914 , 36.573498 ,\n",
              "        49.543884 , 52.528416 , 55.998894 , 58.372772 , 60.021942 ,\n",
              "        50.270836 , 34.030865 , 26.073803 , 27.359798 , 32.76411  ,\n",
              "        34.896027 , 38.20426  , 50.0273   , 55.460117 , 55.590355 ,\n",
              "        50.64344  , 51.58034  , 54.11963  , 60.749943 , 59.3729   ,\n",
              "        64.68129  , 71.72215  , 66.21672  , 64.53651  , 66.56646  ,\n",
              "        57.75051  , 54.933464 , 50.88752  , 64.05958  , 74.7134   ,\n",
              "        71.473495 , 37.18822  , 30.879473 , 32.888943 , 49.83169  ,\n",
              "        54.699677 , 55.920425 , 54.51857  , 55.268887 , 57.303688 ,\n",
              "        60.144554 , 34.209045 , 32.774727 , 32.54715  , 32.319347 ,\n",
              "        32.56719  , 45.996944 , 59.748528 , 58.94372  , 49.477425 ,\n",
              "        51.394726 , 56.46771  , 69.99939  , 74.27171  , 68.084404 ,\n",
              "        68.38884  , 75.715805 , 76.594635 , 89.907394 , 71.06215  ,\n",
              "        38.421722 , 43.28195  , 34.915592 , 48.20864  , 49.668987 ,\n",
              "        54.8187   , 52.962727 , 60.730995 , 54.430813 , 60.532955 ,\n",
              "        74.957886 , 83.21716  , 98.74763  , 93.75938  , 71.11698  ,\n",
              "        54.51316  , 41.418533 , 33.552505 , 46.919342 , 63.003952 ,\n",
              "        54.667248 , 53.962288 , 52.885414 , 62.752533 , 73.821335 ,\n",
              "        79.96887  , 78.41073  , 73.74075  , 65.512024 , 48.604492 ,\n",
              "        40.710445 , 37.770844 , 40.592068 , 52.253197 , 42.587692 ,\n",
              "        45.39991  , 55.639217 , 65.67198  , 74.166885 , 72.51225  ,\n",
              "        71.777626 , 36.488438 , 40.427742 , 49.93428  , 62.912247 ,\n",
              "        67.07618  , 47.072773 , 50.866608 , 40.27952  , 24.328482 ,\n",
              "        36.020447 , 35.841293 , 30.25273  , 30.666754 , 32.934155 ,\n",
              "        29.595572 , 32.27003  , 47.950474 , 56.14802  , 59.31605  ,\n",
              "        50.31424  , 51.79356  , 55.626358 , 61.88163  , 74.50246  ,\n",
              "        84.61293  , 93.91765  , 92.66791  , 82.327484 , 72.0645   ,\n",
              "        69.23394  , 51.04169  , 40.845566 , 50.10708  , 64.0756   ,\n",
              "        79.236305 , 64.10735  , 41.365646 , 47.56031  , 48.83394  ,\n",
              "        35.30813  , 40.900467 , 33.21347  , 41.753654 , 40.105564 ,\n",
              "        43.976173 , 52.367386 , 62.812134 , 75.93379  , 83.401695 ,\n",
              "        90.04281  ], dtype=float32),\n",
              " 'mape': array([ 5.860151  ,  4.087341  ,  3.775816  ,  4.187658  ,  4.978141  ,\n",
              "         6.448365  ,  6.614463  ,  6.061672  ,  7.5475917 ,  9.095924  ,\n",
              "        11.300206  , 10.396472  , 10.109089  , 10.697326  ,  7.8628473 ,\n",
              "         3.6872826 ,  2.5856361 ,  2.505005  ,  3.350452  ,  4.013581  ,\n",
              "         2.0036225 ,  2.639741  ,  2.6087885 ,  3.1609263 ,  1.9612128 ,\n",
              "         1.6679873 ,  1.7952282 ,  2.5901215 ,  2.4362576 ,  3.1327386 ,\n",
              "         4.3595424 ,  5.2856355 ,  3.940355  ,  4.3142247 ,  4.3733144 ,\n",
              "         3.6376853 ,  4.362979  ,  3.7757437 ,  2.6192946 ,  2.900764  ,\n",
              "         5.1501083 ,  2.0147362 ,  1.9706653 ,  1.8104146 ,  1.3007253 ,\n",
              "         0.7535146 ,  1.0192343 ,  1.4282731 ,  1.6741855 ,  2.3589702 ,\n",
              "         2.563099  ,  2.1327195 ,  2.597486  ,  2.0173275 ,  3.1387615 ,\n",
              "         4.5021305 ,  6.95963   ,  6.9602227 ,  6.5331383 ,  6.5757856 ,\n",
              "         5.610285  ,  3.0642028 ,  3.2473986 ,  3.484728  ,  5.2227206 ,\n",
              "         5.229478  ,  5.727937  ,  5.927383  ,  2.5284474 ,  2.8664036 ,\n",
              "         3.4308906 ,  4.68742   ,  5.841512  ,  4.309815  ,  3.3552845 ,\n",
              "         3.8162112 ,  2.7363582 ,  3.462369  ,  4.9716797 ,  7.0261016 ,\n",
              "         8.974979  ,  7.1678147 ,  3.4013336 ,  2.7761197 ,  1.5223246 ,\n",
              "         1.4535493 ,  1.6354663 ,  2.2527792 ,  2.9475605 ,  5.0738955 ,\n",
              "         4.103283  ,  4.2952995 ,  3.7052817 ,  2.4620771 ,  2.0132227 ,\n",
              "         3.84283   ,  3.6306522 ,  5.016277  ,  6.2794776 ,  7.757472  ,\n",
              "         5.4956765 ,  3.8907118 ,  2.854692  ,  3.5311143 ,  4.464893  ,\n",
              "         5.0162416 ,  6.125715  ,  7.129436  , 10.711449  , 10.664078  ,\n",
              "        10.087246  ,  4.893629  ,  2.0717275 ,  1.3628381 ,  1.8011156 ,\n",
              "         4.219881  ,  4.0556946 ,  5.744895  ,  7.49288   , 15.03298   ,\n",
              "        24.38847   , 35.428123  , 34.702423  , 39.8611    , 42.836586  ,\n",
              "        49.60461   , 26.081121  , 13.669951  ,  6.3608704 ,  5.4986424 ,\n",
              "         7.9925127 ,  6.8575373 ,  8.820604  ,  5.3112006 ,  4.5279126 ,\n",
              "         3.8704064 ,  6.2283874 ,  5.2470303 ,  5.1045527 ,  5.329427  ,\n",
              "         5.778973  ,  5.358489  ,  3.2211251 ,  8.1184435 , 10.231979  ,\n",
              "         6.726865  ,  5.757307  ,  2.404117  ,  4.2864566 ,  2.9776995 ,\n",
              "         4.4548492 ,  6.9262066 ,  6.1590796 ,  7.763828  ,  6.308203  ,\n",
              "         5.7371473 ,  1.9719498 ,  2.7191217 ,  2.399884  ,  2.5685852 ,\n",
              "         3.9529998 ,  3.6584735 ,  3.4535587 ,  3.301876  ,  3.794225  ,\n",
              "         4.310309  ,  6.4319797 ,  8.567103  ,  6.293656  ,  7.023875  ,\n",
              "         9.469172  ,  9.915057  , 11.217033  , 12.2806635 ,  6.209284  ,\n",
              "         3.2802799 ,  3.8508568 ,  3.6124706 ,  3.7172365 ,  4.6127863 ,\n",
              "         6.233847  ,  6.0376983 ,  7.135962  , 10.132261  ,  9.337389  ,\n",
              "         3.379456  ,  5.190334  ,  7.8229246 ,  4.2644997 ,  2.3285031 ,\n",
              "         3.0320892 ,  3.1225471 ,  4.5721936 ,  5.01346   ,  7.059326  ,\n",
              "         7.180871  ,  4.628824  ,  2.4294448 ,  2.6893463 ,  2.1346915 ,\n",
              "         4.670391  ,  7.4296794 ,  7.17774   ,  4.927452  ,  2.9697573 ,\n",
              "         1.7036037 ,  2.102083  ,  2.790086  ,  1.9540966 ,  1.7562671 ,\n",
              "         3.8170424 ,  2.4557264 ,  3.3356586 ,  2.8912692 ,  3.8006873 ,\n",
              "         4.3685207 ,  5.4371586 ,  1.969062  ,  2.0868657 ,  2.132989  ,\n",
              "         2.4014468 ,  2.2829754 ,  1.9878384 ,  1.212721  ,  1.8306261 ,\n",
              "         1.815668  ,  2.5207548 ,  3.292389  ,  3.5837169 ,  6.187771  ,\n",
              "         3.1184072 ,  3.2884552 ,  1.3740312 ,  1.8472781 ,  1.5017242 ,\n",
              "         1.56714   ,  1.5889238 ,  1.1630667 ,  0.83712757,  1.4223033 ,\n",
              "         1.4407552 ,  1.8029895 ,  1.4796977 ,  1.5990864 ,  2.2175858 ,\n",
              "         1.7130921 ,  2.1422648 ,  1.8232723 ,  1.7015604 ,  2.0563033 ,\n",
              "         1.7596658 ,  0.98229676,  1.4560665 ,  2.1070144 ,  2.4114134 ,\n",
              "         3.049994  ,  5.77384   ,  6.6185617 ,  7.4951463 ,  8.227665  ,\n",
              "        10.186892  , 11.928123  , 11.676128  ,  5.199712  ,  2.592971  ,\n",
              "         2.1249874 ,  2.23352   ,  1.9233074 ,  2.8466196 ,  0.7076641 ,\n",
              "         1.0350558 ,  2.1322331 ,  1.7789838 ,  2.1161134 ,  2.1635559 ,\n",
              "         2.4792883 ,  1.9270623 ,  2.2551286 ,  1.845722  ,  1.8112669 ,\n",
              "         2.2626755 ,  2.3515148 ,  2.1173391 ,  3.2111607 ,  3.5736072 ,\n",
              "         5.371579  ,  3.1869485 ,  2.8585389 ,  2.2958062 ,  3.0580983 ,\n",
              "         3.480608  ,  2.5900195 ,  1.2625039 ,  1.405033  ,  2.7622344 ,\n",
              "         4.3049507 ,  6.2830634 ,  8.513557  , 10.517092  , 14.161083  ,\n",
              "        13.64061   ,  9.3202505 ,  6.308069  ,  1.6300529 ,  1.3983192 ,\n",
              "         1.819187  ,  2.8875947 ,  4.0688186 ,  4.1736455 ,  3.9228578 ,\n",
              "         4.0472693 ,  3.7387352 ,  2.3069754 ,  2.3063276 ,  3.194118  ,\n",
              "         4.58959   ,  4.1579456 ,  5.0558167 ,  3.300565  ,  1.2102807 ,\n",
              "         1.0371053 ,  2.8088493 ,  1.8151473 ,  1.6353133 ,  2.235357  ,\n",
              "         2.8412092 ,  2.9520068 ,  2.918753  ,  1.8913219 ,  1.6178724 ,\n",
              "         1.2982846 ,  2.3039372 ,  2.6034815 ,  3.0176406 ,  4.4442587 ,\n",
              "         5.598941  ,  5.266943  ,  4.535595  ,  1.8671691 ,  1.7055051 ,\n",
              "         2.3196983 ,  1.7318262 ,  2.7897274 ,  4.062607  ,  4.8944464 ,\n",
              "         7.6816387 ,  9.1078005 ,  9.207179  ,  9.502261  ,  3.9754753 ,\n",
              "         1.5744743 ,  1.5996995 ,  1.242373  ,  2.077034  ,  1.9747171 ,\n",
              "         1.6764205 ,  1.3502657 ,  2.785835  ,  3.9915614 ,  4.0835915 ,\n",
              "         5.016293  ,  7.6388435 ,  8.078354  ,  8.109142  ,  2.6612601 ,\n",
              "         2.4994817 ,  2.2963908 ,  1.3040293 ,  3.2585542 ,  4.9145136 ,\n",
              "         4.7377963 ,  4.2538853 ,  5.3531504 ,  6.9800653 , 10.170471  ,\n",
              "         8.772198  ,  6.0037904 ,  3.184009  ,  3.0089974 ,  3.6370165 ,\n",
              "         4.774086  ,  6.289237  ,  6.4191914 ,  5.9040833 ,  4.996318  ,\n",
              "         3.190599  ,  5.85623   ,  7.181029  ,  7.211656  ,  2.021984  ,\n",
              "         1.591239  ,  2.6243281 ,  3.8534112 ,  3.5140622 ,  4.1405344 ,\n",
              "         3.6843975 ,  3.215591  ,  2.8228238 ,  2.88985   ,  6.2848916 ,\n",
              "        11.458008  , 12.342679  , 13.76467   , 14.824157  , 15.566195  ,\n",
              "        10.829551  ,  4.9278164 ,  2.8345594 ,  3.0226746 ,  4.31179   ,\n",
              "         4.720057  ,  5.5167937 ,  9.303037  , 11.212705  , 11.037068  ,\n",
              "         8.631594  ,  8.57773   ,  9.389047  , 11.49777   , 10.463529  ,\n",
              "        11.683611  , 13.823773  , 11.273861  , 10.80596   , 11.400708  ,\n",
              "         8.496614  ,  7.8893795 ,  7.1694746 , 11.423845  , 15.540586  ,\n",
              "        14.24639   ,  3.8430889 ,  2.5450244 ,  2.926231  ,  7.2883105 ,\n",
              "         8.999361  ,  9.586315  ,  9.271845  ,  9.42326   , 10.242951  ,\n",
              "        11.39661   ,  3.655802  ,  3.345456  ,  3.2290843 ,  3.1591043 ,\n",
              "         3.1852624 ,  6.141231  , 10.163144  ,  9.67394   ,  6.657334  ,\n",
              "         6.975822  ,  8.377455  , 12.24459   , 13.002367  , 10.547288  ,\n",
              "        10.269909  , 12.405405  , 12.598534  , 17.187767  , 10.616799  ,\n",
              "         3.0717638 ,  3.766271  ,  2.3915288 ,  4.426362  ,  4.6217604 ,\n",
              "         5.4785867 ,  5.115232  ,  6.8264303 ,  5.6151514 ,  7.090962  ,\n",
              "        11.599259  , 14.510158  , 20.67855   , 18.67078   , 10.813845  ,\n",
              "         6.3959217 ,  3.68131   ,  2.3239684 ,  4.4593644 ,  8.030946  ,\n",
              "         5.953289  ,  5.6428604 ,  5.137942  ,  7.162542  ,  9.831411  ,\n",
              "        11.2098    , 10.556693  ,  9.350714  ,  7.3507614 ,  3.9944015 ,\n",
              "         2.82334   ,  2.3929412 ,  2.8540525 ,  4.729087  ,  3.2363744 ,\n",
              "         3.681079  ,  5.66858   ,  8.005048  , 10.247122  ,  9.747851  ,\n",
              "         9.54604   ,  2.477174  ,  2.9854128 ,  4.34938   ,  6.88064   ,\n",
              "         7.7586837 ,  3.8011284 ,  4.4251747 ,  2.761091  ,  1.0093703 ,\n",
              "         2.242207  ,  2.2289233 ,  1.5868819 ,  1.6239101 ,  1.8814805 ,\n",
              "         1.5162615 ,  1.7166462 ,  3.759433  ,  5.0977936 ,  5.66472   ,\n",
              "         4.075431  ,  4.348674  ,  5.1419644 ,  6.6189804 ,  9.824003  ,\n",
              "        12.981379  , 16.388014  , 16.260683  , 13.2497835 , 10.180601  ,\n",
              "         9.383696  ,  5.121851  ,  3.2893925 ,  4.634884  ,  7.40683   ,\n",
              "        11.284326  ,  7.2873406 ,  3.019625  ,  4.0061307 ,  4.1726418 ,\n",
              "         2.2337658 ,  3.0054157 ,  1.9702908 ,  3.1211088 ,  2.7774823 ,\n",
              "         3.492497  ,  5.1419334 ,  7.6572046 , 11.470653  , 14.311554  ,\n",
              "        17.280172  ], dtype=float32),\n",
              " 'mase': 2.2020733}"
            ]
          },
          "metadata": {},
          "execution_count": 116
        }
      ]
    },
    {
      "cell_type": "code",
      "source": [
        "offset =300\n",
        "\n",
        "plt.figure(figsize= (10,7))\n",
        "\n",
        "plot_time_series(timesteps= X_test[-len(test_windows):],\n",
        "                 values = test_labels[:,0],\n",
        "                 start = offset,\n",
        "                 label = \"test_data\")\n",
        "\n",
        "plot_time_series(timesteps = X_test[-len(test_windows):],\n",
        "                 values = model_2_preds,\n",
        "                 start = offset,\n",
        "                 format = \"-\",\n",
        "                 label = \"model_2_preds\")"
      ],
      "metadata": {
        "colab": {
          "base_uri": "https://localhost:8080/",
          "height": 442
        },
        "id": "6yy_NHcJc6oN",
        "outputId": "015bbdd5-ad41-422a-ffbd-2a3ddc35a6e1"
      },
      "execution_count": 117,
      "outputs": [
        {
          "output_type": "display_data",
          "data": {
            "text/plain": [
              "<Figure size 720x504 with 1 Axes>"
            ],
            "image/png": "[encoded data removed]"
          },
          "metadata": {
            "needs_background": "light"
          }
        }
      ]
    },
    {
      "cell_type": "markdown",
      "source": [
        "## model 3 : Dense(window =30, horizon = 7)"
      ],
      "metadata": {
        "id": "X6hZpxzFefgT"
      }
    },
    {
      "cell_type": "code",
      "source": [
        "HORIZON = 7\n",
        "WINDOW_SIZE = 30\n",
        "\n",
        "full_windows,full_labels = make_windows(prices, window_size= WINDOW_SIZE , horizon =  HORIZON)"
      ],
      "metadata": {
        "id": "3hvj9OpMgMuG"
      },
      "execution_count": 118,
      "outputs": []
    },
    {
      "cell_type": "code",
      "source": [
        "train_windows, test_windows, train_labels, test_labels = make_train_test_split(windows = full_windows,\n",
        "                                                                               labels = full_labels)"
      ],
      "metadata": {
        "id": "3kLAbT9egbNn"
      },
      "execution_count": 119,
      "outputs": []
    },
    {
      "cell_type": "code",
      "source": [
        "tf.random.set_seed(42)\n",
        "\n",
        "model_3 = tf.keras.Sequential([\n",
        "    layers.Dense(128, activation = 'relu'),\n",
        "    layers.Dense(HORIZON)\n",
        "],name = 'model_3_dense')\n",
        "\n",
        "model_3.compile(loss = 'mae',\n",
        "                optimizer = tf.keras.optimizers.Adam())\n",
        "\n",
        "model_3.fit(train_windows,\n",
        "            train_labels,\n",
        "            batch_size= 128,\n",
        "            epochs =100,\n",
        "            validation_data = (test_windows, test_labels),\n",
        "            callbacks = [create_model_checkpoint(model_name = model_3.name)])\n"
      ],
      "metadata": {
        "colab": {
          "base_uri": "https://localhost:8080/"
        },
        "id": "VPjKlKtWg86m",
        "outputId": "1d3af8f1-03fb-44ab-de3c-8e817e40f9c9"
      },
      "execution_count": 121,
      "outputs": [
        {
          "output_type": "stream",
          "name": "stdout",
          "text": [
            "Epoch 1/100\n",
            "18/18 [==============================] - 1s 32ms/step - loss: 1476.6752 - val_loss: 3088.5613\n",
            "Epoch 2/100\n",
            "18/18 [==============================] - 0s 25ms/step - loss: 552.8943 - val_loss: 2462.4548\n",
            "Epoch 3/100\n",
            "18/18 [==============================] - 0s 24ms/step - loss: 435.1978 - val_loss: 2283.1484\n",
            "Epoch 4/100\n",
            "18/18 [==============================] - 0s 24ms/step - loss: 391.9787 - val_loss: 1975.1218\n",
            "Epoch 5/100\n",
            "18/18 [==============================] - 0s 4ms/step - loss: 357.9485 - val_loss: 2000.1556\n",
            "Epoch 6/100\n",
            "18/18 [==============================] - 0s 25ms/step - loss: 332.6704 - val_loss: 1723.4186\n",
            "Epoch 7/100\n",
            "18/18 [==============================] - 0s 25ms/step - loss: 309.9903 - val_loss: 1591.9688\n",
            "Epoch 8/100\n",
            "18/18 [==============================] - 0s 24ms/step - loss: 302.4123 - val_loss: 1579.8518\n",
            "Epoch 9/100\n",
            "18/18 [==============================] - 0s 4ms/step - loss: 293.9170 - val_loss: 1602.9116\n",
            "Epoch 10/100\n",
            "18/18 [==============================] - 0s 23ms/step - loss: 291.5431 - val_loss: 1504.9114\n",
            "Epoch 11/100\n",
            "18/18 [==============================] - 0s 26ms/step - loss: 282.3861 - val_loss: 1474.9521\n",
            "Epoch 12/100\n",
            "18/18 [==============================] - 0s 4ms/step - loss: 276.0491 - val_loss: 1539.4847\n",
            "Epoch 13/100\n",
            "18/18 [==============================] - 0s 24ms/step - loss: 272.3232 - val_loss: 1459.5269\n",
            "Epoch 14/100\n",
            "18/18 [==============================] - 0s 25ms/step - loss: 270.6817 - val_loss: 1417.0792\n",
            "Epoch 15/100\n",
            "18/18 [==============================] - 0s 4ms/step - loss: 263.8875 - val_loss: 1541.0621\n",
            "Epoch 16/100\n",
            "18/18 [==============================] - 0s 4ms/step - loss: 265.9065 - val_loss: 1441.2795\n",
            "Epoch 17/100\n",
            "18/18 [==============================] - 0s 4ms/step - loss: 262.9132 - val_loss: 1505.8213\n",
            "Epoch 18/100\n",
            "18/18 [==============================] - 0s 3ms/step - loss: 260.1363 - val_loss: 1446.3213\n",
            "Epoch 19/100\n",
            "18/18 [==============================] - 0s 4ms/step - loss: 258.2223 - val_loss: 1522.3828\n",
            "Epoch 20/100\n",
            "18/18 [==============================] - 0s 3ms/step - loss: 263.9978 - val_loss: 1425.1411\n",
            "Epoch 21/100\n",
            "18/18 [==============================] - 0s 3ms/step - loss: 255.4174 - val_loss: 1460.1968\n",
            "Epoch 22/100\n",
            "18/18 [==============================] - 0s 4ms/step - loss: 255.3434 - val_loss: 1419.4122\n",
            "Epoch 23/100\n",
            "18/18 [==============================] - 1s 42ms/step - loss: 258.0463 - val_loss: 1384.9282\n",
            "Epoch 24/100\n",
            "18/18 [==============================] - 0s 25ms/step - loss: 269.2109 - val_loss: 1377.6122\n",
            "Epoch 25/100\n",
            "18/18 [==============================] - 0s 4ms/step - loss: 253.5239 - val_loss: 1452.3351\n",
            "Epoch 26/100\n",
            "18/18 [==============================] - 0s 4ms/step - loss: 252.1648 - val_loss: 1388.5122\n",
            "Epoch 27/100\n",
            "18/18 [==============================] - 0s 5ms/step - loss: 251.8276 - val_loss: 1451.5784\n",
            "Epoch 28/100\n",
            "18/18 [==============================] - 0s 4ms/step - loss: 247.8791 - val_loss: 1391.4445\n",
            "Epoch 29/100\n",
            "18/18 [==============================] - 0s 4ms/step - loss: 246.0225 - val_loss: 1382.1858\n",
            "Epoch 30/100\n",
            "18/18 [==============================] - 0s 24ms/step - loss: 248.2236 - val_loss: 1336.2773\n",
            "Epoch 31/100\n",
            "18/18 [==============================] - 0s 25ms/step - loss: 242.1411 - val_loss: 1334.8569\n",
            "Epoch 32/100\n",
            "18/18 [==============================] - 0s 25ms/step - loss: 245.8559 - val_loss: 1329.1195\n",
            "Epoch 33/100\n",
            "18/18 [==============================] - 0s 4ms/step - loss: 246.9277 - val_loss: 1372.8105\n",
            "Epoch 34/100\n",
            "18/18 [==============================] - 0s 4ms/step - loss: 244.2540 - val_loss: 1373.9778\n",
            "Epoch 35/100\n",
            "18/18 [==============================] - 0s 4ms/step - loss: 244.3824 - val_loss: 1349.5087\n",
            "Epoch 36/100\n",
            "18/18 [==============================] - 0s 5ms/step - loss: 241.3231 - val_loss: 1427.5961\n",
            "Epoch 37/100\n",
            "18/18 [==============================] - 0s 4ms/step - loss: 257.3803 - val_loss: 1363.9797\n",
            "Epoch 38/100\n",
            "18/18 [==============================] - 0s 5ms/step - loss: 240.1044 - val_loss: 1376.8528\n",
            "Epoch 39/100\n",
            "18/18 [==============================] - 0s 4ms/step - loss: 245.4610 - val_loss: 1412.0402\n",
            "Epoch 40/100\n",
            "18/18 [==============================] - 0s 4ms/step - loss: 239.6820 - val_loss: 1426.0742\n",
            "Epoch 41/100\n",
            "18/18 [==============================] - 0s 4ms/step - loss: 239.1188 - val_loss: 1442.6663\n",
            "Epoch 42/100\n",
            "18/18 [==============================] - 0s 4ms/step - loss: 246.8635 - val_loss: 1347.2452\n",
            "Epoch 43/100\n",
            "18/18 [==============================] - 0s 4ms/step - loss: 239.3242 - val_loss: 1365.7219\n",
            "Epoch 44/100\n",
            "18/18 [==============================] - 0s 24ms/step - loss: 250.1504 - val_loss: 1293.0472\n",
            "Epoch 45/100\n",
            "18/18 [==============================] - 0s 4ms/step - loss: 243.7763 - val_loss: 1505.8341\n",
            "Epoch 46/100\n",
            "18/18 [==============================] - 0s 4ms/step - loss: 241.1997 - val_loss: 1299.8013\n",
            "Epoch 47/100\n",
            "18/18 [==============================] - 0s 4ms/step - loss: 236.0368 - val_loss: 1339.0396\n",
            "Epoch 48/100\n",
            "18/18 [==============================] - 0s 4ms/step - loss: 235.2749 - val_loss: 1329.4685\n",
            "Epoch 49/100\n",
            "18/18 [==============================] - 0s 4ms/step - loss: 238.4083 - val_loss: 1326.4941\n",
            "Epoch 50/100\n",
            "18/18 [==============================] - 0s 5ms/step - loss: 236.0985 - val_loss: 1318.6080\n",
            "Epoch 51/100\n",
            "18/18 [==============================] - 0s 4ms/step - loss: 247.4354 - val_loss: 1389.7017\n",
            "Epoch 52/100\n",
            "18/18 [==============================] - 0s 4ms/step - loss: 233.8826 - val_loss: 1293.4277\n",
            "Epoch 53/100\n",
            "18/18 [==============================] - 0s 26ms/step - loss: 232.7012 - val_loss: 1284.7607\n",
            "Epoch 54/100\n",
            "18/18 [==============================] - 0s 26ms/step - loss: 235.9017 - val_loss: 1284.3806\n",
            "Epoch 55/100\n",
            "18/18 [==============================] - 0s 5ms/step - loss: 232.9453 - val_loss: 1312.6141\n",
            "Epoch 56/100\n",
            "18/18 [==============================] - 0s 4ms/step - loss: 231.0590 - val_loss: 1355.7415\n",
            "Epoch 57/100\n",
            "18/18 [==============================] - 0s 4ms/step - loss: 235.9913 - val_loss: 1363.5928\n",
            "Epoch 58/100\n",
            "18/18 [==============================] - 0s 5ms/step - loss: 231.6387 - val_loss: 1306.6425\n",
            "Epoch 59/100\n",
            "18/18 [==============================] - 0s 4ms/step - loss: 230.8834 - val_loss: 1288.3002\n",
            "Epoch 60/100\n",
            "18/18 [==============================] - 0s 26ms/step - loss: 230.1366 - val_loss: 1259.6017\n",
            "Epoch 61/100\n",
            "18/18 [==============================] - 0s 4ms/step - loss: 230.5381 - val_loss: 1406.2996\n",
            "Epoch 62/100\n",
            "18/18 [==============================] - 0s 4ms/step - loss: 231.8386 - val_loss: 1291.0713\n",
            "Epoch 63/100\n",
            "18/18 [==============================] - 0s 4ms/step - loss: 233.6788 - val_loss: 1368.6284\n",
            "Epoch 64/100\n",
            "18/18 [==============================] - 0s 25ms/step - loss: 232.2232 - val_loss: 1251.2312\n",
            "Epoch 65/100\n",
            "18/18 [==============================] - 0s 5ms/step - loss: 232.8093 - val_loss: 1346.9840\n",
            "Epoch 66/100\n",
            "18/18 [==============================] - 0s 4ms/step - loss: 231.5086 - val_loss: 1429.1592\n",
            "Epoch 67/100\n",
            "18/18 [==============================] - 0s 4ms/step - loss: 234.4316 - val_loss: 1291.2920\n",
            "Epoch 68/100\n",
            "18/18 [==============================] - 0s 4ms/step - loss: 228.4419 - val_loss: 1320.3304\n",
            "Epoch 69/100\n",
            "18/18 [==============================] - 0s 4ms/step - loss: 227.7240 - val_loss: 1519.1730\n",
            "Epoch 70/100\n",
            "18/18 [==============================] - 0s 4ms/step - loss: 233.6939 - val_loss: 1278.3643\n",
            "Epoch 71/100\n",
            "18/18 [==============================] - 0s 4ms/step - loss: 227.1845 - val_loss: 1261.8005\n",
            "Epoch 72/100\n",
            "18/18 [==============================] - 0s 4ms/step - loss: 229.9134 - val_loss: 1251.5463\n",
            "Epoch 73/100\n",
            "18/18 [==============================] - 0s 4ms/step - loss: 227.0497 - val_loss: 1270.7107\n",
            "Epoch 74/100\n",
            "18/18 [==============================] - 0s 4ms/step - loss: 230.8764 - val_loss: 1387.2860\n",
            "Epoch 75/100\n",
            "18/18 [==============================] - 0s 4ms/step - loss: 228.8457 - val_loss: 1356.4390\n",
            "Epoch 76/100\n",
            "18/18 [==============================] - 0s 4ms/step - loss: 228.9847 - val_loss: 1287.2343\n",
            "Epoch 77/100\n",
            "18/18 [==============================] - 0s 24ms/step - loss: 225.3239 - val_loss: 1237.5065\n",
            "Epoch 78/100\n",
            "18/18 [==============================] - 0s 4ms/step - loss: 229.2194 - val_loss: 1248.6913\n",
            "Epoch 79/100\n",
            "18/18 [==============================] - 0s 4ms/step - loss: 227.7465 - val_loss: 1286.5439\n",
            "Epoch 80/100\n",
            "18/18 [==============================] - 0s 4ms/step - loss: 225.9967 - val_loss: 1329.9921\n",
            "Epoch 81/100\n",
            "18/18 [==============================] - 0s 4ms/step - loss: 228.1217 - val_loss: 1262.6129\n",
            "Epoch 82/100\n",
            "18/18 [==============================] - 0s 4ms/step - loss: 225.3166 - val_loss: 1273.8380\n",
            "Epoch 83/100\n",
            "18/18 [==============================] - 0s 4ms/step - loss: 225.2265 - val_loss: 1279.3624\n",
            "Epoch 84/100\n",
            "18/18 [==============================] - 0s 4ms/step - loss: 224.9336 - val_loss: 1249.8485\n",
            "Epoch 85/100\n",
            "18/18 [==============================] - 0s 4ms/step - loss: 226.8255 - val_loss: 1248.8396\n",
            "Epoch 86/100\n",
            "18/18 [==============================] - 0s 4ms/step - loss: 224.7192 - val_loss: 1295.6708\n",
            "Epoch 87/100\n",
            "18/18 [==============================] - 0s 4ms/step - loss: 227.7314 - val_loss: 1312.5574\n",
            "Epoch 88/100\n",
            "18/18 [==============================] - 0s 4ms/step - loss: 226.0089 - val_loss: 1531.1237\n",
            "Epoch 89/100\n",
            "18/18 [==============================] - 0s 4ms/step - loss: 232.9869 - val_loss: 1280.1622\n",
            "Epoch 90/100\n",
            "18/18 [==============================] - 0s 5ms/step - loss: 231.6928 - val_loss: 1342.9246\n",
            "Epoch 91/100\n",
            "18/18 [==============================] - 0s 4ms/step - loss: 226.7607 - val_loss: 1259.4495\n",
            "Epoch 92/100\n",
            "18/18 [==============================] - 0s 4ms/step - loss: 225.4304 - val_loss: 1244.5863\n",
            "Epoch 93/100\n",
            "18/18 [==============================] - 0s 5ms/step - loss: 232.3920 - val_loss: 1305.4160\n",
            "Epoch 94/100\n",
            "18/18 [==============================] - 0s 4ms/step - loss: 227.1455 - val_loss: 1278.3680\n",
            "Epoch 95/100\n",
            "18/18 [==============================] - 0s 4ms/step - loss: 226.4553 - val_loss: 1282.0594\n",
            "Epoch 96/100\n",
            "18/18 [==============================] - 0s 4ms/step - loss: 229.8147 - val_loss: 1359.4149\n",
            "Epoch 97/100\n",
            "18/18 [==============================] - 0s 4ms/step - loss: 226.3261 - val_loss: 1261.2341\n",
            "Epoch 98/100\n",
            "18/18 [==============================] - 0s 4ms/step - loss: 227.1718 - val_loss: 1369.7388\n",
            "Epoch 99/100\n",
            "18/18 [==============================] - 0s 4ms/step - loss: 228.8833 - val_loss: 1241.8301\n",
            "Epoch 100/100\n",
            "18/18 [==============================] - 0s 4ms/step - loss: 223.2735 - val_loss: 1300.1525\n"
          ]
        },
        {
          "output_type": "execute_result",
          "data": {
            "text/plain": [
              "<keras.callbacks.History at 0x7f596bdf6ed0>"
            ]
          },
          "metadata": {},
          "execution_count": 121
        }
      ]
    },
    {
      "cell_type": "code",
      "source": [
        "model_3.evaluate(test_windows, test_labels)"
      ],
      "metadata": {
        "colab": {
          "base_uri": "https://localhost:8080/"
        },
        "id": "DG3qOx2diBmA",
        "outputId": "8f16fe75-4dbd-4385-9c81-330ad74c2f63"
      },
      "execution_count": 122,
      "outputs": [
        {
          "output_type": "stream",
          "name": "stdout",
          "text": [
            "18/18 [==============================] - 0s 3ms/step - loss: 1300.1525\n"
          ]
        },
        {
          "output_type": "execute_result",
          "data": {
            "text/plain": [
              "1300.1524658203125"
            ]
          },
          "metadata": {},
          "execution_count": 122
        }
      ]
    },
    {
      "cell_type": "code",
      "source": [
        "model_3 = tf.keras.models.load_model('model_experiment/model_3_dense/')\n",
        "model_3.evaluate(test_windows, test_labels)"
      ],
      "metadata": {
        "colab": {
          "base_uri": "https://localhost:8080/"
        },
        "id": "1qh3AKm5jFPS",
        "outputId": "9d4696ae-22fc-4c02-c4a9-18e6edb38c62"
      },
      "execution_count": 123,
      "outputs": [
        {
          "output_type": "stream",
          "name": "stdout",
          "text": [
            "18/18 [==============================] - 0s 2ms/step - loss: 1237.5065\n"
          ]
        },
        {
          "output_type": "execute_result",
          "data": {
            "text/plain": [
              "1237.5064697265625"
            ]
          },
          "metadata": {},
          "execution_count": 123
        }
      ]
    },
    {
      "cell_type": "code",
      "source": [
        "model_3_preds = make_preds(model_3,\n",
        "                           input_data = test_windows)\n",
        "\n",
        "model_3_preds[:3]"
      ],
      "metadata": {
        "colab": {
          "base_uri": "https://localhost:8080/"
        },
        "id": "mgW63cQLj1fo",
        "outputId": "f31cf5d5-f289-4a45-d995-8c17a6e0be7e"
      },
      "execution_count": 125,
      "outputs": [
        {
          "output_type": "execute_result",
          "data": {
            "text/plain": [
              "<tf.Tensor: shape=(3, 7), dtype=float32, numpy=\n",
              "array([[9004.694 , 9048.1   , 9425.09  , 9258.256 , 9495.797 , 9558.453 ,\n",
              "        9357.3545],\n",
              "       [8735.506 , 8840.303 , 9247.793 , 8885.601 , 9097.186 , 9174.327 ,\n",
              "        9156.818 ],\n",
              "       [8672.508 , 8782.387 , 9123.857 , 8770.371 , 9007.13  , 9003.869 ,\n",
              "        9042.725 ]], dtype=float32)>"
            ]
          },
          "metadata": {},
          "execution_count": 125
        }
      ]
    },
    {
      "cell_type": "code",
      "source": [
        "model_3_results = evaluate_preds(y_true = tf.squeeze(test_labels),\n",
        "                                 y_pred =  model_3_preds)\n",
        "\n",
        "model_3_results"
      ],
      "metadata": {
        "colab": {
          "base_uri": "https://localhost:8080/"
        },
        "id": "PWDcPib3kXqG",
        "outputId": "6f6b7b46-e513-4bf6-e08f-488aaa1ab291"
      },
      "execution_count": 131,
      "outputs": [
        {
          "output_type": "execute_result",
          "data": {
            "text/plain": [
              "{'mae': array([ 513.6056  ,  355.08328 ,  327.17075 ,  358.5106  ,  420.53305 ,\n",
              "         537.854   ,  545.6617  ,  485.9228  ,  584.49713 ,  687.38214 ,\n",
              "         836.2264  ,  755.1577  ,  731.4957  ,  775.3399  ,  567.95544 ,\n",
              "         266.80865 ,  188.80217 ,  188.10799 ,  253.095   ,  301.43256 ,\n",
              "         151.10721 ,  196.81473 ,  191.46178 ,  231.65031 ,  143.61125 ,\n",
              "         122.59089 ,  132.78879 ,  190.8118  ,  179.15994 ,  228.26018 ,\n",
              "         314.44022 ,  379.09244 ,  278.32526 ,  295.3471  ,  299.3852  ,\n",
              "         248.64983 ,  299.75662 ,  259.69434 ,  180.30531 ,  206.72922 ,\n",
              "         374.62863 ,  144.85086 ,  142.33635 ,  131.11613 ,   93.9412  ,\n",
              "          54.825542,   73.79548 ,  103.60128 ,  121.333916,  168.67278 ,\n",
              "         183.90945 ,  152.25307 ,  186.57199 ,  146.91267 ,  240.42912 ,\n",
              "         351.00662 ,  540.952   ,  549.1573  ,  521.2411  ,  526.8554  ,\n",
              "         453.36237 ,  257.98102 ,  277.29486 ,  301.8247  ,  455.718   ,\n",
              "         458.96017 ,  503.4438  ,  522.3119  ,  223.07631 ,  250.09529 ,\n",
              "         297.1437  ,  400.571   ,  495.7984  ,  364.33707 ,  283.3662  ,\n",
              "         325.59543 ,  238.21191 ,  318.97754 ,  460.77106 ,  651.0762  ,\n",
              "         835.88    ,  669.96454 ,  319.54507 ,  261.99442 ,  142.3923  ,\n",
              "         136.62863 ,  154.75223 ,  221.32631 ,  290.50418 ,  503.88406 ,\n",
              "         414.2602  ,  434.35742 ,  377.98785 ,  251.78947 ,  204.2832  ,\n",
              "         388.227   ,  360.65793 ,  493.80914 ,  614.8613  ,  754.70245 ,\n",
              "         533.77136 ,  378.98898 ,  280.49496 ,  339.48074 ,  413.1289  ,\n",
              "         452.87875 ,  550.5381  ,  634.5726  ,  935.5726  ,  931.60016 ,\n",
              "         881.2803  ,  426.39996 ,  179.45871 ,  121.66197 ,  160.43889 ,\n",
              "         372.07108 ,  341.85764 ,  476.52408 ,  618.3245  , 1038.8986  ,\n",
              "        1569.5028  , 2157.1199  , 1987.6077  , 2158.6108  , 2303.5608  ,\n",
              "        2662.9429  , 1405.5013  ,  728.30096 ,  351.70062 ,  322.03195 ,\n",
              "         493.94748 ,  435.4843  ,  565.5558  ,  350.11676 ,  289.0198  ,\n",
              "         251.21603 ,  409.05615 ,  342.20996 ,  320.8361  ,  330.88608 ,\n",
              "         357.84613 ,  335.94818 ,  206.10303 ,  544.384   ,  700.00934 ,\n",
              "         468.91992 ,  404.49615 ,  172.80127 ,  308.33685 ,  210.47621 ,\n",
              "         318.9543  ,  486.1326  ,  428.8803  ,  533.91113 ,  433.78152 ,\n",
              "         396.89432 ,  138.40381 ,  189.96658 ,  170.39209 ,  181.54346 ,\n",
              "         282.88992 ,  264.38867 ,  250.6218  ,  240.33762 ,  276.95425 ,\n",
              "         326.0295  ,  489.6155  ,  686.2448  ,  526.9793  ,  603.01135 ,\n",
              "         825.3831  ,  871.04626 ,  990.0688  , 1090.0597  ,  560.2842  ,\n",
              "         310.52246 ,  371.39035 ,  348.45953 ,  355.73438 ,  429.56543 ,\n",
              "         581.2835  ,  550.52203 ,  635.4312  ,  913.404   ,  840.7183  ,\n",
              "         305.0357  ,  493.93332 ,  751.31824 ,  410.6345  ,  220.62459 ,\n",
              "         282.25446 ,  291.8527  ,  422.5039  ,  458.6543  ,  637.2352  ,\n",
              "         647.82336 ,  417.24496 ,  220.23703 ,  246.72209 ,  200.22922 ,\n",
              "         455.1494  ,  719.6059  ,  696.3024  ,  485.0996  ,  294.95285 ,\n",
              "         170.52371 ,  211.82478 ,  270.565   ,  189.89299 ,  171.21736 ,\n",
              "         366.44727 ,  231.96387 ,  318.78738 ,  273.79395 ,  358.55664 ,\n",
              "         412.2281  ,  512.3167  ,  185.43959 ,  196.38225 ,  200.006   ,\n",
              "         224.58664 ,  213.41978 ,  186.23926 ,  113.371376,  172.23228 ,\n",
              "         168.89857 ,  236.0957  ,  307.5971  ,  328.93903 ,  566.59625 ,\n",
              "         285.04395 ,  300.44965 ,  125.45299 ,  168.94322 ,  137.25851 ,\n",
              "         143.5039  ,  145.27776 ,  107.339424,   77.16225 ,  131.8711  ,\n",
              "         134.02023 ,  167.45773 ,  137.9216  ,  148.9135  ,  204.95508 ,\n",
              "         157.89746 ,  196.95256 ,  167.93918 ,  156.45605 ,  188.68094 ,\n",
              "         161.44127 ,   90.99749 ,  136.8411  ,  198.51701 ,  230.1381  ,\n",
              "         294.78336 ,  594.2425  ,  699.6479  ,  815.13574 ,  905.339   ,\n",
              "        1127.2997  , 1342.6945  , 1317.0691  ,  590.1681  ,  296.34515 ,\n",
              "         243.43625 ,  256.3983  ,  222.28459 ,  323.83832 ,   82.513115,\n",
              "         120.14384 ,  249.14914 ,  205.73592 ,  243.4548  ,  250.64803 ,\n",
              "         287.2762  ,  224.38142 ,  266.56    ,  221.51047 ,  218.49637 ,\n",
              "         272.42285 ,  279.59625 ,  252.58846 ,  381.565   ,  417.97086 ,\n",
              "         624.5573  ,  368.03738 ,  327.25488 ,  263.43973 ,  349.95285 ,\n",
              "         398.62527 ,  297.07407 ,  147.04924 ,  164.5431  ,  313.36343 ,\n",
              "         477.7482  ,  675.0409  ,  897.2679  , 1094.7103  , 1460.1776  ,\n",
              "        1398.586   ,  952.7253  ,  645.959   ,  166.17899 ,  144.66895 ,\n",
              "         189.18289 ,  304.8132  ,  435.10602 ,  449.64383 ,  425.2437  ,\n",
              "         441.93597 ,  407.29465 ,  252.40388 ,  248.3697  ,  336.17105 ,\n",
              "         482.8107  ,  437.53098 ,  533.0868  ,  346.9795  ,  127.686806,\n",
              "         110.20829 ,  301.75113 ,  195.50545 ,  174.65164 ,  238.47084 ,\n",
              "         302.3718  ,  313.51758 ,  310.1296  ,  200.29855 ,  172.47307 ,\n",
              "         140.2302  ,  252.48549 ,  289.32437 ,  343.62094 ,  504.1179  ,\n",
              "         635.1342  ,  602.1302  ,  519.06055 ,  214.90276 ,  195.9117  ,\n",
              "         265.0371  ,  198.90123 ,  345.51285 ,  517.2228  ,  631.0296  ,\n",
              "         988.4247  , 1174.214   , 1196.2844  , 1253.9298  ,  526.0653  ,\n",
              "         210.31487 ,  215.27107 ,  169.86008 ,  283.78656 ,  269.76157 ,\n",
              "         228.6349  ,  186.64648 ,  410.54242 ,  601.2651  ,  618.1224  ,\n",
              "         768.7529  , 1158.5457  , 1232.8795  , 1254.4297  ,  423.0244  ,\n",
              "         390.0357  ,  367.2387  ,  209.55775 ,  530.22235 ,  821.38226 ,\n",
              "         812.3729  ,  741.1964  ,  953.4838  , 1258.9902  , 1844.932   ,\n",
              "        1605.2845  , 1112.7659  ,  594.18835 ,  549.7667  ,  632.5435  ,\n",
              "         829.2642  , 1103.2218  , 1130.1029  , 1033.3522  ,  878.5865  ,\n",
              "         595.40875 , 1115.6506  , 1371.1725  , 1385.2509  ,  387.5229  ,\n",
              "         303.7486  ,  495.125   ,  719.5804  ,  648.90265 ,  766.1632  ,\n",
              "         683.23157 ,  596.4121  ,  523.09265 ,  577.3407  , 1337.6208  ,\n",
              "        2454.5964  , 2759.2344  , 3135.8762  , 3407.3806  , 3602.6335  ,\n",
              "        2527.157   , 1158.0999  ,  679.8432  ,  748.5586  , 1073.4869  ,\n",
              "        1217.7327  , 1459.5656  , 2502.731   , 3075.8247  , 3090.2878  ,\n",
              "        2564.758   , 2660.5317  , 2928.934   , 3690.556   , 3525.141   ,\n",
              "        4183.6694  , 5144.068   , 4384.655   , 4164.9604  , 4431.0938  ,\n",
              "        3335.1216  , 3017.6858  , 2589.5396  , 4103.63    , 5582.0933  ,\n",
              "        5108.46    , 1382.9637  ,  953.5419  , 1081.6825  , 2483.1975  ,\n",
              "        2992.0547  , 3127.0942  , 2972.2747  , 3054.65    , 3283.713   ,\n",
              "        3617.3674  , 1170.2589  , 1074.1833  , 1059.317   , 1044.5404  ,\n",
              "        1060.6217  , 2115.719   , 3569.8867  , 3474.3625  , 2448.0156  ,\n",
              "        2641.418   , 3188.602   , 4899.915   , 5516.2876  , 4635.486   ,\n",
              "        4677.034   , 5732.883   , 5866.738   , 8083.3403  , 5049.8286  ,\n",
              "        1476.2288  , 1873.3275  , 1219.0988  , 2324.073   , 2467.009   ,\n",
              "        3005.0898  , 2805.0503  , 3688.254   , 2962.7136  , 3664.2388  ,\n",
              "        5618.684   , 6925.097   , 9751.095   , 8790.821   , 5057.626   ,\n",
              "        2971.6848  , 1715.495   , 1125.7706  , 2201.4246  , 3969.4973  ,\n",
              "        2988.5083  , 2911.9285  , 2796.8672  , 3937.8806  , 5449.5894  ,\n",
              "        6395.021   , 6148.242   , 5437.6987  , 4291.8257  , 2362.3967  ,\n",
              "        1657.3405  , 1426.6367  , 1647.716   , 2730.398   , 1813.7115  ,\n",
              "        2061.1519  , 3095.7227  , 4312.8096  , 5500.727   , 5258.027   ,\n",
              "        5152.0283  , 1331.4062  , 1634.4023  , 2493.4324  , 3957.951   ,\n",
              "        4499.2144  , 2215.846   , 2587.4119  , 1622.4397  ,  591.875   ,\n",
              "        1297.4727  , 1284.5983  ,  915.22766 ,  940.44977 , 1084.6584  ,\n",
              "         875.8979  , 1041.3549  , 2299.2473  , 3152.6003  , 3518.394   ,\n",
              "        2531.523   , 2682.573   , 3094.2917  , 3829.3376  , 5550.616   ,\n",
              "        7159.3477  , 8820.524   , 8587.342   , 6777.815   , 5193.292   ,\n",
              "        4793.3384  , 2605.2556  , 1668.3605  , 2510.7183  , 4105.6826  ,\n",
              "        6278.392   , 4109.7534  , 1711.1172  , 2261.9832  , 2384.7534  ,\n",
              "        1246.6641  , 1672.8483  , 1103.1345  , 1743.3678  , 1608.4564  ,\n",
              "        1933.904   , 2742.3433  , 3945.3645  , 5765.941   , 6955.8433  ,\n",
              "        8107.7095  ], dtype=float32),\n",
              " 'mse': array([3.15562562e+05, 1.69165047e+05, 1.44132125e+05, 1.76003203e+05,\n",
              "        2.63520375e+05, 3.91517562e+05, 3.99526312e+05, 3.44422156e+05,\n",
              "        4.93892469e+05, 6.88786438e+05, 9.18702875e+05, 8.00988875e+05,\n",
              "        6.35508625e+05, 6.45535812e+05, 3.57740594e+05, 1.03007414e+05,\n",
              "        5.33133125e+04, 4.65832188e+04, 1.10349016e+05, 1.11646961e+05,\n",
              "        4.35359453e+04, 5.45390977e+04, 4.55849648e+04, 7.64883672e+04,\n",
              "        4.03074453e+04, 2.71076816e+04, 1.90270059e+04, 4.55626055e+04,\n",
              "        4.25344805e+04, 6.63250547e+04, 1.16741703e+05, 1.69440500e+05,\n",
              "        1.10487078e+05, 1.59708281e+05, 1.61630891e+05, 1.23861797e+05,\n",
              "        1.50757391e+05, 1.31196844e+05, 5.50280977e+04, 6.28156445e+04,\n",
              "        1.77474219e+05, 2.68842363e+04, 2.53034434e+04, 2.58045059e+04,\n",
              "        1.34594688e+04, 3.88201562e+03, 9.22790430e+03, 1.22403281e+04,\n",
              "        2.20870137e+04, 3.60827500e+04, 4.87961602e+04, 3.74652578e+04,\n",
              "        4.10563711e+04, 4.17418945e+04, 1.10490461e+05, 2.00761469e+05,\n",
              "        3.48149906e+05, 3.58061312e+05, 3.28374031e+05, 2.96505938e+05,\n",
              "        2.33353781e+05, 1.54046703e+05, 1.43171672e+05, 1.62586703e+05,\n",
              "        2.96452750e+05, 2.66880812e+05, 2.94188594e+05, 3.10067562e+05,\n",
              "        6.27178242e+04, 8.63872109e+04, 9.69540391e+04, 2.01815250e+05,\n",
              "        2.97054594e+05, 2.00675078e+05, 1.27305445e+05, 1.32510266e+05,\n",
              "        8.46021953e+04, 1.74816797e+05, 2.95114281e+05, 4.75889719e+05,\n",
              "        7.21893438e+05, 4.62710188e+05, 1.33154703e+05, 8.13637656e+04,\n",
              "        3.43107852e+04, 3.45205547e+04, 5.36855352e+04, 7.42412266e+04,\n",
              "        1.09339273e+05, 2.79682500e+05, 2.19119391e+05, 1.99934375e+05,\n",
              "        1.65902453e+05, 8.16736484e+04, 4.82389180e+04, 1.65301344e+05,\n",
              "        1.81698328e+05, 3.30645000e+05, 4.63627250e+05, 6.75045625e+05,\n",
              "        3.34911969e+05, 1.69344000e+05, 1.03219461e+05, 1.48348172e+05,\n",
              "        2.98685688e+05, 3.71952438e+05, 4.43305844e+05, 5.27905000e+05,\n",
              "        1.12945238e+06, 1.00652912e+06, 8.03246812e+05, 2.21277719e+05,\n",
              "        6.64889375e+04, 2.66179375e+04, 3.29691523e+04, 1.68663719e+05,\n",
              "        1.76257344e+05, 2.99364906e+05, 4.31794719e+05, 1.91346938e+06,\n",
              "        3.90354125e+06, 6.29502550e+06, 5.49042500e+06, 6.25677100e+06,\n",
              "        6.28618500e+06, 7.23876700e+06, 2.08143475e+06, 6.66785812e+05,\n",
              "        1.44640328e+05, 1.83413734e+05, 3.41025938e+05, 3.02068688e+05,\n",
              "        3.71339250e+05, 2.02418469e+05, 1.36150797e+05, 8.24756250e+04,\n",
              "        1.96007016e+05, 1.61595531e+05, 1.71401094e+05, 2.00606781e+05,\n",
              "        2.37199359e+05, 1.58720219e+05, 6.36029766e+04, 3.38904781e+05,\n",
              "        5.23524188e+05, 2.86211969e+05, 1.92325922e+05, 3.73764375e+04,\n",
              "        1.31962375e+05, 9.33164844e+04, 1.18443625e+05, 3.00599344e+05,\n",
              "        2.28997641e+05, 3.57954812e+05, 2.36219250e+05, 1.71530031e+05,\n",
              "        2.68483613e+04, 4.79165352e+04, 4.00421953e+04, 5.41032422e+04,\n",
              "        1.07641438e+05, 9.80018828e+04, 7.08349922e+04, 6.55987812e+04,\n",
              "        8.53739609e+04, 1.33836594e+05, 2.72516031e+05, 6.54133000e+05,\n",
              "        4.97211812e+05, 6.11189312e+05, 9.92908312e+05, 9.56690875e+05,\n",
              "        1.09541325e+06, 1.19283175e+06, 3.75002188e+05, 2.22053828e+05,\n",
              "        2.60620156e+05, 1.88108875e+05, 1.87927750e+05, 2.49059219e+05,\n",
              "        3.79191938e+05, 4.07706812e+05, 6.24782625e+05, 9.62080500e+05,\n",
              "        7.95344312e+05, 1.40557766e+05, 2.65226344e+05, 6.26270438e+05,\n",
              "        2.05804469e+05, 6.53086562e+04, 1.33562875e+05, 1.14691547e+05,\n",
              "        2.26913922e+05, 2.61227344e+05, 5.08516812e+05, 4.90744344e+05,\n",
              "        2.38722219e+05, 6.85554844e+04, 7.30579844e+04, 5.36114375e+04,\n",
              "        3.28222750e+05, 6.26447562e+05, 5.17733938e+05, 3.32536906e+05,\n",
              "        1.72656594e+05, 8.28139297e+04, 1.43392859e+05, 8.83170859e+04,\n",
              "        5.15845234e+04, 4.20796602e+04, 1.78049500e+05, 1.17352047e+05,\n",
              "        1.16870359e+05, 1.02416914e+05, 1.67489453e+05, 2.05509422e+05,\n",
              "        2.73222562e+05, 4.73887266e+04, 4.60582461e+04, 5.33724297e+04,\n",
              "        7.87067422e+04, 7.06484219e+04, 5.23134414e+04, 2.50282949e+04,\n",
              "        4.52028984e+04, 4.14731211e+04, 7.00108125e+04, 1.24132516e+05,\n",
              "        1.34167734e+05, 3.38401844e+05, 9.75608906e+04, 1.10023234e+05,\n",
              "        1.99198105e+04, 3.32736992e+04, 2.43713613e+04, 2.76616055e+04,\n",
              "        2.70385918e+04, 1.58114443e+04, 1.16168496e+04, 2.74853652e+04,\n",
              "        2.95268613e+04, 3.95873516e+04, 2.81845449e+04, 3.19157871e+04,\n",
              "        5.60373164e+04, 3.98339648e+04, 5.02201758e+04, 3.19762402e+04,\n",
              "        2.96142949e+04, 4.48334258e+04, 4.32264375e+04, 1.52424697e+04,\n",
              "        2.86075918e+04, 4.23484023e+04, 7.25031172e+04, 1.21924180e+05,\n",
              "        6.41490500e+05, 8.50461375e+05, 1.11135250e+06, 1.22003288e+06,\n",
              "        1.54110100e+06, 2.03451888e+06, 1.76440675e+06, 4.22098719e+05,\n",
              "        1.30513617e+05, 7.30579375e+04, 8.56106875e+04, 7.42399219e+04,\n",
              "        1.49466484e+05, 1.25624111e+04, 2.13100684e+04, 9.81801094e+04,\n",
              "        7.28017891e+04, 1.26064570e+05, 1.01337180e+05, 1.24553578e+05,\n",
              "        7.13406719e+04, 8.41950703e+04, 6.25290625e+04, 8.18796016e+04,\n",
              "        1.27303258e+05, 8.94660547e+04, 1.04101039e+05, 1.66147531e+05,\n",
              "        2.32076047e+05, 4.41966531e+05, 1.75839109e+05, 1.76445078e+05,\n",
              "        9.12171094e+04, 1.67975469e+05, 1.87876500e+05, 1.07636641e+05,\n",
              "        3.26579023e+04, 5.35408945e+04, 1.38144203e+05, 3.28639000e+05,\n",
              "        6.38893000e+05, 1.08279062e+06, 1.55802688e+06, 2.42137025e+06,\n",
              "        2.08980188e+06, 9.83022500e+05, 4.27435062e+05, 5.84014375e+04,\n",
              "        4.02858125e+04, 5.27582695e+04, 1.33694031e+05, 2.41685969e+05,\n",
              "        2.54569906e+05, 2.18475656e+05, 2.39844203e+05, 1.72919391e+05,\n",
              "        9.46134297e+04, 8.14814844e+04, 1.83792781e+05, 3.41631688e+05,\n",
              "        2.67091656e+05, 3.54821562e+05, 1.69607219e+05, 2.63052539e+04,\n",
              "        2.11336035e+04, 1.11685516e+05, 6.08848320e+04, 4.64013945e+04,\n",
              "        6.97663359e+04, 1.16935750e+05, 1.44631531e+05, 1.14627359e+05,\n",
              "        7.92805703e+04, 5.69165547e+04, 3.03999824e+04, 9.47754453e+04,\n",
              "        1.19674555e+05, 2.15399078e+05, 3.15528062e+05, 4.17612281e+05,\n",
              "        3.91753062e+05, 2.83128781e+05, 8.15815625e+04, 5.00838711e+04,\n",
              "        1.01595758e+05, 6.17700664e+04, 3.16725938e+05, 5.76747812e+05,\n",
              "        7.41102938e+05, 1.33218062e+06, 1.56516288e+06, 1.55553262e+06,\n",
              "        1.68517775e+06, 3.21848812e+05, 6.30699648e+04, 7.78368047e+04,\n",
              "        5.12543789e+04, 1.14444672e+05, 1.13520664e+05, 7.03018281e+04,\n",
              "        4.71100312e+04, 4.52434969e+05, 7.79104812e+05, 7.32536562e+05,\n",
              "        1.03909069e+06, 1.56208825e+06, 1.63956625e+06, 1.72790112e+06,\n",
              "        4.00524938e+05, 2.34607969e+05, 1.76724578e+05, 6.78014375e+04,\n",
              "        3.90380906e+05, 9.80138500e+05, 1.03536912e+06, 8.44671688e+05,\n",
              "        1.38894325e+06, 1.98340425e+06, 3.62835000e+06, 2.66920550e+06,\n",
              "        1.42116625e+06, 4.54600656e+05, 3.65966188e+05, 9.46591875e+05,\n",
              "        1.45184338e+06, 1.85899962e+06, 1.89930900e+06, 1.82373088e+06,\n",
              "        1.21286275e+06, 4.94639688e+05, 1.49650112e+06, 2.03091888e+06,\n",
              "        2.25657475e+06, 2.11181391e+05, 1.21395414e+05, 3.04311312e+05,\n",
              "        7.11903125e+05, 6.20310625e+05, 8.05388000e+05, 6.26904125e+05,\n",
              "        5.66389625e+05, 4.27519062e+05, 7.83490438e+05, 3.63024550e+06,\n",
              "        8.18037250e+06, 1.07676110e+07, 1.26563590e+07, 1.33500370e+07,\n",
              "        1.33957210e+07, 6.52510050e+06, 1.60696225e+06, 8.56755125e+05,\n",
              "        1.15616888e+06, 1.69268338e+06, 2.17123725e+06, 3.34217825e+06,\n",
              "        7.84993050e+06, 1.08378820e+07, 1.05727040e+07, 1.01602580e+07,\n",
              "        1.14205950e+07, 1.16179760e+07, 1.73510000e+07, 1.79301580e+07,\n",
              "        2.70626400e+07, 3.72665360e+07, 2.97687480e+07, 2.14580120e+07,\n",
              "        2.44065800e+07, 1.56006630e+07, 1.03771430e+07, 9.93532300e+06,\n",
              "        2.18889420e+07, 3.45002520e+07, 2.72495560e+07, 2.51544575e+06,\n",
              "        2.11410050e+06, 1.65101438e+06, 8.78065100e+06, 1.42263850e+07,\n",
              "        1.50277490e+07, 1.42628870e+07, 1.11521150e+07, 1.31385830e+07,\n",
              "        1.44270310e+07, 2.10808025e+06, 2.37276825e+06, 2.06520375e+06,\n",
              "        1.51271862e+06, 1.63592488e+06, 6.01036300e+06, 1.48181510e+07,\n",
              "        1.51462640e+07, 8.88826800e+06, 1.03656160e+07, 1.24236460e+07,\n",
              "        3.12300380e+07, 4.44121680e+07, 3.35616920e+07, 3.37025520e+07,\n",
              "        4.33024880e+07, 4.04648120e+07, 6.68120760e+07, 2.68143000e+07,\n",
              "        3.37227625e+06, 6.18198100e+06, 3.33603000e+06, 9.76003500e+06,\n",
              "        9.50540800e+06, 1.48300480e+07, 1.08089090e+07, 1.52812330e+07,\n",
              "        1.21298720e+07, 1.47111110e+07, 4.46197040e+07, 6.19226600e+07,\n",
              "        1.05739152e+08, 8.06071200e+07, 3.00356780e+07, 1.30779050e+07,\n",
              "        4.55989850e+06, 1.67929975e+06, 6.99428700e+06, 1.63486830e+07,\n",
              "        1.21498720e+07, 1.21798100e+07, 1.68979380e+07, 2.39387620e+07,\n",
              "        3.73065320e+07, 5.09610680e+07, 4.59522000e+07, 3.20003060e+07,\n",
              "        2.06371620e+07, 8.14506450e+06, 4.14795200e+06, 4.23500700e+06,\n",
              "        3.09785600e+06, 8.37916900e+06, 7.36109850e+06, 7.06096250e+06,\n",
              "        1.57310800e+07, 2.78767000e+07, 4.07340160e+07, 3.28521320e+07,\n",
              "        2.89016620e+07, 3.40229975e+06, 3.84223750e+06, 8.10805100e+06,\n",
              "        1.74778500e+07, 2.13824540e+07, 5.77503650e+06, 7.30699550e+06,\n",
              "        3.70580475e+06, 6.14523812e+05, 1.92766775e+06, 2.29575125e+06,\n",
              "        1.09031838e+06, 1.19422538e+06, 2.01535212e+06, 1.38584200e+06,\n",
              "        2.60915475e+06, 7.48125100e+06, 1.25728590e+07, 1.49188430e+07,\n",
              "        7.64712450e+06, 9.50859000e+06, 1.16537280e+07, 2.15389180e+07,\n",
              "        4.32745680e+07, 6.52255360e+07, 9.30124960e+07, 8.49971200e+07,\n",
              "        5.87007160e+07, 3.43533080e+07, 2.82686400e+07, 9.30443000e+06,\n",
              "        4.66935400e+06, 8.00185900e+06, 2.05975080e+07, 4.07234280e+07,\n",
              "        1.93118500e+07, 4.04351800e+06, 5.92505450e+06, 7.37347950e+06,\n",
              "        2.68488600e+06, 5.27761950e+06, 1.84824825e+06, 4.87236000e+06,\n",
              "        4.87888300e+06, 5.77537050e+06, 1.21702160e+07, 2.70199620e+07,\n",
              "        4.94704520e+07, 6.90301360e+07, 8.50554960e+07], dtype=float32),\n",
              " 'rmse': array([22.662867 , 18.843653 , 18.087862 , 18.934376 , 20.506903 ,\n",
              "        23.191679 , 23.359402 , 22.043655 , 24.176374 , 26.217974 ,\n",
              "        28.91758  , 27.480133 , 27.046177 , 27.844925 , 23.831816 ,\n",
              "        16.334278 , 13.74053  , 13.715246 , 15.908959 , 17.361813 ,\n",
              "        12.292567 , 14.029067 , 13.836971 , 15.220063 , 11.983791 ,\n",
              "        11.072077 , 11.523401 , 13.813464 , 13.385064 , 15.108281 ,\n",
              "        17.732462 , 19.470297 , 16.683083 , 17.185665 , 17.302752 ,\n",
              "        15.768634 , 17.31348  , 16.115034 , 13.427781 , 14.378081 ,\n",
              "        19.355326 , 12.0354   , 11.930479 , 11.450595 ,  9.692327 ,\n",
              "         7.404427 ,  8.590429 , 10.178472 , 11.015167 , 12.987408 ,\n",
              "        13.561322 , 12.339087 , 13.659136 , 12.120753 , 15.505777 ,\n",
              "        18.73517  , 23.258375 , 23.434105 , 22.830704 , 22.953331 ,\n",
              "        21.292307 , 16.061787 , 16.652172 , 17.373102 , 21.347551 ,\n",
              "        21.423355 , 22.437553 , 22.854143 , 14.9357395, 15.814401 ,\n",
              "        17.237856 , 20.01427  , 22.266531 , 19.087614 , 16.833485 ,\n",
              "        18.044262 , 15.434115 , 17.859943 , 21.465578 , 25.516193 ,\n",
              "        28.911589 , 25.883673 , 17.875824 , 16.186241 , 11.932824 ,\n",
              "        11.688825 , 12.439944 , 14.87704  , 17.044184 , 22.447361 ,\n",
              "        20.353382 , 20.841244 , 19.44191  , 15.867876 , 14.292768 ,\n",
              "        19.703476 , 18.990995 , 22.221817 , 24.796398 , 27.471848 ,\n",
              "        23.103493 , 19.46764  , 16.747984 , 18.425003 , 20.325573 ,\n",
              "        21.280949 , 23.463549 , 25.190723 , 30.587132 , 30.522125 ,\n",
              "        29.686365 , 20.649454 , 13.39622  , 11.030048 , 12.666447 ,\n",
              "        19.289143 , 18.489393 , 21.829432 , 24.86613  , 32.23195  ,\n",
              "        39.61695  , 46.444805 , 44.582592 , 46.460854 , 47.995426 ,\n",
              "        51.60371  , 37.490017 , 26.987051 , 18.753683 , 17.945248 ,\n",
              "        22.22493  , 20.868261 , 23.781418 , 18.711407 , 17.000582 ,\n",
              "        15.849796 , 20.225136 , 18.498919 , 17.911898 , 18.190273 ,\n",
              "        18.91682  , 18.32889  , 14.356289 , 23.332037 , 26.45769  ,\n",
              "        21.654558 , 20.11209  , 13.14539  , 17.559523 , 14.507798 ,\n",
              "        17.859293 , 22.048414 , 20.709425 , 23.106518 , 20.827421 ,\n",
              "        19.922207 , 11.764515 , 13.782837 , 13.0534315, 13.473806 ,\n",
              "        16.819332 , 16.260033 , 15.831038 , 15.502826 , 16.641943 ,\n",
              "        18.056288 , 22.127256 , 26.196274 , 22.95603  , 24.55629  ,\n",
              "        28.72948  , 29.513493 , 31.465359 , 33.016052 , 23.670322 ,\n",
              "        17.621647 , 19.27149  , 18.66707  , 18.860922 , 20.72596  ,\n",
              "        24.109821 , 23.463205 , 25.207762 , 30.222574 , 28.995142 ,\n",
              "        17.465271 , 22.224611 , 27.410185 , 20.264118 , 14.853436 ,\n",
              "        16.80043  , 17.083696 , 20.5549   , 21.416216 , 25.243519 ,\n",
              "        25.452375 , 20.426575 , 14.8403845, 15.70739  , 14.150237 ,\n",
              "        21.33423  , 26.82547  , 26.387543 , 22.024977 , 17.17419  ,\n",
              "        13.058473 , 14.554202 , 16.44886  , 13.780167 , 13.085005 ,\n",
              "        19.142813 , 15.23036  , 17.854618 , 16.54672  , 18.935593 ,\n",
              "        20.3034   , 22.634415 , 13.61762  , 14.013645 , 14.142347 ,\n",
              "        14.986215 , 14.608894 , 13.64695  , 10.647599 , 13.12373  ,\n",
              "        12.9960985, 15.365406 , 17.538446 , 18.136677 , 23.803282 ,\n",
              "        16.883244 , 17.333483 , 11.20058  , 12.997816 , 11.715738 ,\n",
              "        11.979312 , 12.0531225, 10.360474 ,  8.7842045, 11.483514 ,\n",
              "        11.576711 , 12.940546 , 11.744002 , 12.2030115, 14.316252 ,\n",
              "        12.565726 , 14.033978 , 12.959135 , 12.508239 , 13.736117 ,\n",
              "        12.705955 ,  9.53926  , 11.697909 , 14.089606 , 15.170303 ,\n",
              "        17.169256 , 24.377089 , 26.450857 , 28.550583 , 30.088852 ,\n",
              "        33.575283 , 36.642796 , 36.291447 , 24.293375 , 17.214678 ,\n",
              "        15.602444 , 16.012442 , 14.909211 , 17.995508 ,  9.083673 ,\n",
              "        10.961014 , 15.784458 , 14.343497 , 15.603038 , 15.831867 ,\n",
              "        16.949224 , 14.979366 , 16.326666 , 14.883227 , 14.781623 ,\n",
              "        16.505236 , 16.721132 , 15.893031 , 19.533688 , 20.444336 ,\n",
              "        24.991144 , 19.1843   , 18.090187 , 16.230827 , 18.707026 ,\n",
              "        19.965603 , 17.235836 , 12.126386 , 12.8274355, 17.702074 ,\n",
              "        21.85745  , 25.981548 , 29.95443  , 33.086407 , 38.21227  ,\n",
              "        37.397675 , 30.866247 , 25.415724 , 12.891043 , 12.02784  ,\n",
              "        13.754377 , 17.4589   , 20.859194 , 21.204807 , 20.621437 ,\n",
              "        21.022272 , 20.181543 , 15.887224 , 15.759749 , 18.334967 ,\n",
              "        21.972954 , 20.91724  , 23.088673 , 18.627386 , 11.299859 ,\n",
              "        10.4980135, 17.370985 , 13.9823265, 13.215583 , 15.442501 ,\n",
              "        17.388842 , 17.706427 , 17.610497 , 14.152687 , 13.1329   ,\n",
              "        11.841883 , 15.8897915, 17.009537 , 18.537016 , 22.45257  ,\n",
              "        25.20187  , 24.538342 , 22.7829   , 14.659562 , 13.996846 ,\n",
              "        16.27996  , 14.103234 , 18.587975 , 22.742533 , 25.120302 ,\n",
              "        31.439222 , 34.266804 , 34.587345 , 35.41087  , 22.936113 ,\n",
              "        14.502236 , 14.672119 , 13.033038 , 16.845966 , 16.42442  ,\n",
              "        15.120678 , 13.661862 , 20.261847 , 24.520706 , 24.862066 ,\n",
              "        27.726393 , 34.037415 , 35.112385 , 35.417927 , 20.567556 ,\n",
              "        19.749321 , 19.163473 , 14.4761095, 23.026558 , 28.659767 ,\n",
              "        28.502157 , 27.224922 , 30.878532 , 35.48225  , 42.95267  ,\n",
              "        40.066    , 33.358147 , 24.375978 , 23.447105 , 25.150417 ,\n",
              "        28.796947 , 33.214783 , 33.617004 , 32.145794 , 29.640959 ,\n",
              "        24.401    , 33.401356 , 37.029346 , 37.218956 , 19.6856   ,\n",
              "        17.428385 , 22.251404 , 26.824995 , 25.473568 , 27.679653 ,\n",
              "        26.138699 , 24.42155  , 22.871218 , 24.027914 , 36.573498 ,\n",
              "        49.543884 , 52.528416 , 55.998894 , 58.372772 , 60.021942 ,\n",
              "        50.270836 , 34.030865 , 26.073803 , 27.359798 , 32.76411  ,\n",
              "        34.896027 , 38.20426  , 50.0273   , 55.460117 , 55.590355 ,\n",
              "        50.64344  , 51.58034  , 54.11963  , 60.749943 , 59.3729   ,\n",
              "        64.68129  , 71.72215  , 66.21672  , 64.5365   , 66.56646  ,\n",
              "        57.75051  , 54.933464 , 50.88752  , 64.05958  , 74.7134   ,\n",
              "        71.473495 , 37.18822  , 30.879473 , 32.888943 , 49.83169  ,\n",
              "        54.699677 , 55.920425 , 54.51857  , 55.268887 , 57.303688 ,\n",
              "        60.144554 , 34.209045 , 32.774734 , 32.54715  , 32.319347 ,\n",
              "        32.567184 , 45.996944 , 59.748528 , 58.94372  , 49.477425 ,\n",
              "        51.394726 , 56.46771  , 69.99939  , 74.27171  , 68.084404 ,\n",
              "        68.38884  , 75.715805 , 76.594635 , 89.907394 , 71.06215  ,\n",
              "        38.421722 , 43.28195  , 34.915592 , 48.20864  , 49.668995 ,\n",
              "        54.8187   , 52.962727 , 60.730995 , 54.430813 , 60.532955 ,\n",
              "        74.957886 , 83.21716  , 98.74763  , 93.75938  , 71.11698  ,\n",
              "        54.51316  , 41.418533 , 33.552505 , 46.919342 , 63.00395  ,\n",
              "        54.667248 , 53.962288 , 52.885414 , 62.752533 , 73.821335 ,\n",
              "        79.96887  , 78.41073  , 73.74075  , 65.512024 , 48.604492 ,\n",
              "        40.710445 , 37.770844 , 40.592068 , 52.25321  , 42.587692 ,\n",
              "        45.39991  , 55.639217 , 65.67198  , 74.166885 , 72.51225  ,\n",
              "        71.777626 , 36.488438 , 40.427742 , 49.93428  , 62.912247 ,\n",
              "        67.07618  , 47.072773 , 50.866608 , 40.27952  , 24.328482 ,\n",
              "        36.020447 , 35.841293 , 30.25273  , 30.666754 , 32.934155 ,\n",
              "        29.595572 , 32.27003  , 47.95047  , 56.14802  , 59.31605  ,\n",
              "        50.31424  , 51.79356  , 55.626358 , 61.88164  , 74.50246  ,\n",
              "        84.61293  , 93.91765  , 92.66791  , 82.327484 , 72.0645   ,\n",
              "        69.23394  , 51.041706 , 40.845566 , 50.107067 , 64.0756   ,\n",
              "        79.236305 , 64.10735  , 41.365654 , 47.56031  , 48.83394  ,\n",
              "        35.30813  , 40.900467 , 33.21347  , 41.753654 , 40.105564 ,\n",
              "        43.976173 , 52.367386 , 62.812134 , 75.93379  , 83.401695 ,\n",
              "        90.042816 ], dtype=float32),\n",
              " 'mape': array([ 5.860151  ,  4.087341  ,  3.775816  ,  4.187658  ,  4.9781423 ,\n",
              "         6.448365  ,  6.614463  ,  6.061672  ,  7.5475917 ,  9.095924  ,\n",
              "        11.300206  , 10.396474  , 10.109089  , 10.697326  ,  7.8628473 ,\n",
              "         3.6872826 ,  2.5856361 ,  2.505004  ,  3.350452  ,  4.013581  ,\n",
              "         2.0036225 ,  2.6397398 ,  2.6087885 ,  3.1609263 ,  1.9612128 ,\n",
              "         1.6679873 ,  1.7952291 ,  2.5901227 ,  2.4362576 ,  3.1327405 ,\n",
              "         4.3595424 ,  5.285637  ,  3.940355  ,  4.3142257 ,  4.3733144 ,\n",
              "         3.6376853 ,  4.3629785 ,  3.7757437 ,  2.6192946 ,  2.900764  ,\n",
              "         5.1501083 ,  2.0147362 ,  1.9706653 ,  1.8104146 ,  1.3007253 ,\n",
              "         0.7535146 ,  1.0192333 ,  1.4282739 ,  1.6741855 ,  2.3589702 ,\n",
              "         2.563099  ,  2.1327195 ,  2.597486  ,  2.0173264 ,  3.1387615 ,\n",
              "         4.502132  ,  6.95963   ,  6.9602227 ,  6.5331383 ,  6.5757856 ,\n",
              "         5.610285  ,  3.064202  ,  3.2474003 ,  3.484728  ,  5.2227206 ,\n",
              "         5.2294765 ,  5.727937  ,  5.927383  ,  2.5284474 ,  2.8664036 ,\n",
              "         3.4308906 ,  4.68742   ,  5.841512  ,  4.309815  ,  3.3552845 ,\n",
              "         3.8162112 ,  2.7363598 ,  3.462369  ,  4.9716797 ,  7.0261016 ,\n",
              "         8.974979  ,  7.1678147 ,  3.4013336 ,  2.7761197 ,  1.5223246 ,\n",
              "         1.4535493 ,  1.6354663 ,  2.252781  ,  2.947562  ,  5.0738955 ,\n",
              "         4.103283  ,  4.2952995 ,  3.7052817 ,  2.4620771 ,  2.0132227 ,\n",
              "         3.84283   ,  3.6306522 ,  5.016277  ,  6.2794776 ,  7.757472  ,\n",
              "         5.4956765 ,  3.8907118 ,  2.854692  ,  3.5311143 ,  4.464893  ,\n",
              "         5.0162416 ,  6.125715  ,  7.129436  , 10.711449  , 10.664078  ,\n",
              "        10.087246  ,  4.893631  ,  2.0717275 ,  1.3628381 ,  1.8011156 ,\n",
              "         4.219881  ,  4.0556946 ,  5.744895  ,  7.49288   , 15.03298   ,\n",
              "        24.38847   , 35.428123  , 34.702423  , 39.8611    , 42.836586  ,\n",
              "        49.60461   , 26.081121  , 13.669951  ,  6.3608704 ,  5.4986424 ,\n",
              "         7.9925127 ,  6.8575373 ,  8.820604  ,  5.3112006 ,  4.5279126 ,\n",
              "         3.8704064 ,  6.2283874 ,  5.2470303 ,  5.1045504 ,  5.329427  ,\n",
              "         5.778973  ,  5.358489  ,  3.2211251 ,  8.1184435 , 10.231979  ,\n",
              "         6.726865  ,  5.757307  ,  2.404117  ,  4.2864566 ,  2.9776995 ,\n",
              "         4.4548492 ,  6.9262066 ,  6.1590796 ,  7.763828  ,  6.308203  ,\n",
              "         5.7371473 ,  1.9719498 ,  2.7191217 ,  2.399884  ,  2.5685852 ,\n",
              "         3.9529998 ,  3.6584747 ,  3.4535587 ,  3.301876  ,  3.794225  ,\n",
              "         4.310309  ,  6.4319797 ,  8.567103  ,  6.293656  ,  7.023875  ,\n",
              "         9.469172  ,  9.915057  , 11.217033  , 12.2806635 ,  6.209284  ,\n",
              "         3.2802799 ,  3.8508568 ,  3.6124706 ,  3.7172365 ,  4.6127863 ,\n",
              "         6.233847  ,  6.0376983 ,  7.135962  , 10.132261  ,  9.337389  ,\n",
              "         3.379456  ,  5.190334  ,  7.8229246 ,  4.264501  ,  2.3285031 ,\n",
              "         3.0320892 ,  3.1225471 ,  4.572195  ,  5.01346   ,  7.059326  ,\n",
              "         7.1808734 ,  4.628824  ,  2.4294448 ,  2.6893463 ,  2.1346915 ,\n",
              "         4.670391  ,  7.4296794 ,  7.17774   ,  4.927452  ,  2.9697573 ,\n",
              "         1.7036037 ,  2.102083  ,  2.790086  ,  1.9540966 ,  1.7562671 ,\n",
              "         3.8170424 ,  2.455728  ,  3.3356586 ,  2.8912692 ,  3.8006883 ,\n",
              "         4.3685207 ,  5.4371586 ,  1.969062  ,  2.0868657 ,  2.132989  ,\n",
              "         2.4014468 ,  2.2829754 ,  1.9878384 ,  1.212721  ,  1.8306261 ,\n",
              "         1.815668  ,  2.5207548 ,  3.292389  ,  3.5837185 ,  6.187771  ,\n",
              "         3.1184072 ,  3.2884552 ,  1.3740312 ,  1.8472781 ,  1.5017242 ,\n",
              "         1.56714   ,  1.5889224 ,  1.1630667 ,  0.83712757,  1.4223033 ,\n",
              "         1.4407552 ,  1.8029895 ,  1.4796977 ,  1.5990864 ,  2.2175858 ,\n",
              "         1.7130921 ,  2.1422663 ,  1.8232723 ,  1.7015604 ,  2.0563033 ,\n",
              "         1.7596658 ,  0.98229516,  1.4560665 ,  2.1070144 ,  2.4114134 ,\n",
              "         3.049994  ,  5.77384   ,  6.6185617 ,  7.4951463 ,  8.227665  ,\n",
              "        10.186892  , 11.928123  , 11.676128  ,  5.199712  ,  2.592971  ,\n",
              "         2.1249874 ,  2.23352   ,  1.9233074 ,  2.8466196 ,  0.7076641 ,\n",
              "         1.0350558 ,  2.1322331 ,  1.7789838 ,  2.1161134 ,  2.1635559 ,\n",
              "         2.4792883 ,  1.9270623 ,  2.2551286 ,  1.845723  ,  1.8112669 ,\n",
              "         2.2626755 ,  2.3515134 ,  2.1173391 ,  3.2111607 ,  3.5736072 ,\n",
              "         5.371579  ,  3.1869485 ,  2.8585389 ,  2.2958062 ,  3.0580983 ,\n",
              "         3.4806094 ,  2.5900195 ,  1.2625039 ,  1.405033  ,  2.7622344 ,\n",
              "         4.3049507 ,  6.2830634 ,  8.513557  , 10.517092  , 14.161083  ,\n",
              "        13.64061   ,  9.320252  ,  6.3080707 ,  1.6300529 ,  1.3983192 ,\n",
              "         1.819187  ,  2.8875935 ,  4.0688186 ,  4.173644  ,  3.9228578 ,\n",
              "         4.0472693 ,  3.7387352 ,  2.3069754 ,  2.3063276 ,  3.194118  ,\n",
              "         4.589591  ,  4.1579466 ,  5.0558167 ,  3.300565  ,  1.2102807 ,\n",
              "         1.0371065 ,  2.8088493 ,  1.8151473 ,  1.6353133 ,  2.2353556 ,\n",
              "         2.8412106 ,  2.9520082 ,  2.918753  ,  1.8913219 ,  1.6178724 ,\n",
              "         1.2982846 ,  2.3039372 ,  2.6034815 ,  3.0176406 ,  4.4442587 ,\n",
              "         5.598941  ,  5.266943  ,  4.535595  ,  1.8671705 ,  1.7055051 ,\n",
              "         2.3196983 ,  1.7318262 ,  2.7897274 ,  4.062607  ,  4.8944464 ,\n",
              "         7.6816387 ,  9.1078005 ,  9.207178  ,  9.502261  ,  3.9754753 ,\n",
              "         1.5744725 ,  1.5996995 ,  1.242373  ,  2.077033  ,  1.9747171 ,\n",
              "         1.6764205 ,  1.3502657 ,  2.785834  ,  3.9915614 ,  4.0835905 ,\n",
              "         5.016293  ,  7.6388426 ,  8.078354  ,  8.109142  ,  2.6612601 ,\n",
              "         2.4994817 ,  2.296389  ,  1.3040293 ,  3.2585542 ,  4.9145126 ,\n",
              "         4.7377963 ,  4.2538853 ,  5.3531504 ,  6.9800653 , 10.170471  ,\n",
              "         8.772198  ,  6.0037904 ,  3.184009  ,  3.0089974 ,  3.6370165 ,\n",
              "         4.774086  ,  6.289237  ,  6.4191914 ,  5.904084  ,  4.996318  ,\n",
              "         3.190599  ,  5.85623   ,  7.181029  ,  7.211656  ,  2.0219858 ,\n",
              "         1.5912374 ,  2.6243296 ,  3.8534112 ,  3.5140622 ,  4.1405344 ,\n",
              "         3.6843975 ,  3.215591  ,  2.8228238 ,  2.88985   ,  6.2848916 ,\n",
              "        11.458008  , 12.342679  , 13.76467   , 14.824157  , 15.566195  ,\n",
              "        10.829551  ,  4.9278164 ,  2.8345594 ,  3.0226746 ,  4.31179   ,\n",
              "         4.720057  ,  5.5167937 ,  9.303037  , 11.212705  , 11.037068  ,\n",
              "         8.631594  ,  8.57773   ,  9.389047  , 11.49777   , 10.463529  ,\n",
              "        11.683611  , 13.823773  , 11.273861  , 10.805959  , 11.400708  ,\n",
              "         8.496614  ,  7.8893795 ,  7.1694746 , 11.423845  , 15.540586  ,\n",
              "        14.24639   ,  3.8430889 ,  2.5450244 ,  2.926231  ,  7.2883105 ,\n",
              "         8.999361  ,  9.586315  ,  9.271845  ,  9.42326   , 10.242951  ,\n",
              "        11.39661   ,  3.655802  ,  3.3454576 ,  3.2290843 ,  3.1591043 ,\n",
              "         3.1852615 ,  6.141231  , 10.163144  ,  9.67394   ,  6.657334  ,\n",
              "         6.975822  ,  8.377455  , 12.244591  , 13.002366  , 10.547288  ,\n",
              "        10.269909  , 12.405405  , 12.598534  , 17.187767  , 10.616799  ,\n",
              "         3.0717638 ,  3.766271  ,  2.3915288 ,  4.426362  ,  4.6217613 ,\n",
              "         5.4785867 ,  5.115232  ,  6.8264303 ,  5.6151514 ,  7.090962  ,\n",
              "        11.599259  , 14.5101595 , 20.67855   , 18.67078   , 10.813845  ,\n",
              "         6.3959217 ,  3.68131   ,  2.3239684 ,  4.4593644 ,  8.030945  ,\n",
              "         5.953289  ,  5.6428604 ,  5.137942  ,  7.162542  ,  9.831411  ,\n",
              "        11.2098    , 10.556693  ,  9.350714  ,  7.3507614 ,  3.9944015 ,\n",
              "         2.82334   ,  2.3929412 ,  2.8540525 ,  4.729089  ,  3.2363744 ,\n",
              "         3.681079  ,  5.66858   ,  8.005048  , 10.247124  ,  9.747851  ,\n",
              "         9.54604   ,  2.477174  ,  2.9854128 ,  4.34938   ,  6.88064   ,\n",
              "         7.7586837 ,  3.8011284 ,  4.4251747 ,  2.761091  ,  1.0093703 ,\n",
              "         2.242207  ,  2.2289233 ,  1.5868819 ,  1.6239101 ,  1.8814805 ,\n",
              "         1.5162615 ,  1.7166462 ,  3.7594323 ,  5.0977936 ,  5.66472   ,\n",
              "         4.075431  ,  4.348674  ,  5.1419644 ,  6.6189823 ,  9.824003  ,\n",
              "        12.98138   , 16.388014  , 16.260683  , 13.2497835 , 10.180601  ,\n",
              "         9.383696  ,  5.121853  ,  3.2893925 ,  4.634882  ,  7.40683   ,\n",
              "        11.284326  ,  7.2873406 ,  3.019626  ,  4.0061307 ,  4.1726418 ,\n",
              "         2.2337658 ,  3.0054157 ,  1.9702908 ,  3.1211088 ,  2.7774823 ,\n",
              "         3.492497  ,  5.1419334 ,  7.6572046 , 11.470653  , 14.311554  ,\n",
              "        17.280174  ], dtype=float32),\n",
              " 'mase': 2.2020733}"
            ]
          },
          "metadata": {},
          "execution_count": 131
        }
      ]
    },
    {
      "cell_type": "markdown",
      "source": [
        "## make our evaluation function work for larger horizons"
      ],
      "metadata": {
        "id": "ivbD5f30mq5o"
      }
    },
    {
      "cell_type": "code",
      "source": [
        "tf.reduce_mean(model_3_results['mae']).numpy()"
      ],
      "metadata": {
        "colab": {
          "base_uri": "https://localhost:8080/"
        },
        "id": "3C0Qf149oFJQ",
        "outputId": "659c9fb2-fcda-4b27-90aa-1294e438d179"
      },
      "execution_count": 132,
      "outputs": [
        {
          "output_type": "execute_result",
          "data": {
            "text/plain": [
              "1237.5063"
            ]
          },
          "metadata": {},
          "execution_count": 132
        }
      ]
    },
    {
      "cell_type": "code",
      "source": [
        "def evaluate_preds(y_true,y_pred):\n",
        "  y_true = tf.cast(y_true, dtype=tf.float32)\n",
        "  y_pred = tf.cast(y_pred, dtype= tf.float32)\n",
        "\n",
        "  mae = tf.keras.metrics.mean_absolute_error(y_true, y_pred)\n",
        "  mse = tf.keras.metrics.mean_squared_error(y_true,y_pred)\n",
        "  rmse = tf.sqrt(mae)\n",
        "  mape = tf.keras.metrics.mean_absolute_percentage_error(y_true,y_pred)\n",
        "  mase = mean_absolute_scaled_error(y_true,y_pred)\n",
        "\n",
        "  if mae.ndim >0:\n",
        "    mae = tf.reduce_mean(mae)\n",
        "    mse =tf.reduce_mean(mse)\n",
        "    rmse = tf.reduce_mean(rmse)\n",
        "    mape = tf.reduce_mean(mape)\n",
        "    mase = tf.reduce_mean(mase)\n",
        "\n",
        "  return{'mae':mae.numpy(),\n",
        "         'mse':mse.numpy(),\n",
        "         'rmse':rmse.numpy(),\n",
        "         'mape':mape.numpy(),\n",
        "         'mase': mase.numpy()}"
      ],
      "metadata": {
        "id": "YXHskG5mnBDE"
      },
      "execution_count": 133,
      "outputs": []
    },
    {
      "cell_type": "code",
      "source": [
        "model_3_results = evaluate_preds(y_true = tf.squeeze(test_labels),\n",
        "                                 y_pred = model_3_preds)\n",
        "model_3_results"
      ],
      "metadata": {
        "colab": {
          "base_uri": "https://localhost:8080/"
        },
        "id": "-Vct0cYvpcih",
        "outputId": "ec7f0e87-5e3e-456d-b9a5-b9a56c92c9f9"
      },
      "execution_count": 135,
      "outputs": [
        {
          "output_type": "execute_result",
          "data": {
            "text/plain": [
              "{'mae': 1237.5063,\n",
              " 'mse': 5405198.5,\n",
              " 'rmse': 29.735102,\n",
              " 'mape': 5.5588784,\n",
              " 'mase': 2.2020733}"
            ]
          },
          "metadata": {},
          "execution_count": 135
        }
      ]
    },
    {
      "cell_type": "code",
      "source": [
        "offset = 300\n",
        "\n",
        "plt.figure(figsize = (10,7))\n",
        "\n",
        "plot_time_series(timesteps = X_test[-len(test_windows):], values = test_labels[:,0], start = offset, label = 'Test Data')\n",
        "\n",
        "plot_time_series(timesteps =X_test[-len(test_windows):], values = tf.reduce_mean(model_3_preds, axis=1) ,start = offset,format='-', label = 'model_3_preds' )"
      ],
      "metadata": {
        "colab": {
          "base_uri": "https://localhost:8080/",
          "height": 442
        },
        "id": "vyYhluAMpqP5",
        "outputId": "1e63a2e1-e109-4931-824a-1b7ddff93358"
      },
      "execution_count": 143,
      "outputs": [
        {
          "output_type": "display_data",
          "data": {
            "text/plain": [
              "<Figure size 720x504 with 1 Axes>"
            ],
            "image/png": "[encoded data removed]"
          },
          "metadata": {
            "needs_background": "light"
          }
        }
      ]
    },
    {
      "cell_type": "code",
      "source": [],
      "metadata": {
        "id": "MQAAtxaztyZ6"
      },
      "execution_count": null,
      "outputs": []
    }
  ]
}