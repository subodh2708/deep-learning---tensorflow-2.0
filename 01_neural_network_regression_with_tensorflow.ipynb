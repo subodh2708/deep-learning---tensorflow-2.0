{
  "nbformat": 4,
  "nbformat_minor": 0,
  "metadata": {
    "colab": {
      "name": "01_neural_network_regression_with_tensorflow.ipynb",
      "provenance": [],
      "toc_visible": true,
      "authorship_tag": "ABX9TyO/LlQBSQPIxqI8Cl/vXz7q",
      "include_colab_link": true
    },
    "kernelspec": {
      "name": "python3",
      "display_name": "Python 3"
    },
    "language_info": {
      "name": "python"
    }
  },
  "cells": [
    {
      "cell_type": "markdown",
      "metadata": {
        "id": "view-in-github",
        "colab_type": "text"
      },
      "source": [
        "<a href=\"https://colab.research.google.com/github/subodh2708/deep-learning---tensorflow-2.0/blob/main/01_neural_network_regression_with_tensorflow.ipynb\" target=\"_parent\"><img src=\"https://colab.research.google.com/assets/colab-badge.svg\" alt=\"Open In Colab\"/></a>"
      ]
    },
    {
      "cell_type": "markdown",
      "source": [
        "# Introduction to Regression with neural networks in tensorflow"
      ],
      "metadata": {
        "id": "hXQiPisH4Sjf"
      }
    },
    {
      "cell_type": "code",
      "source": [
        "import tensorflow as tf\n",
        "print(tf.__version__)"
      ],
      "metadata": {
        "colab": {
          "base_uri": "https://localhost:8080/"
        },
        "id": "qpXhNtFjBnHW",
        "outputId": "a58f310c-f39f-438d-b734-f2f271478697"
      },
      "execution_count": 1,
      "outputs": [
        {
          "output_type": "stream",
          "name": "stdout",
          "text": [
            "2.8.2\n"
          ]
        }
      ]
    },
    {
      "cell_type": "code",
      "source": [
        "import numpy as np \n",
        "import matplotlib.pyplot as plt"
      ],
      "metadata": {
        "id": "Hcu89oQ0Dbp7"
      },
      "execution_count": 2,
      "outputs": []
    },
    {
      "cell_type": "code",
      "source": [
        "#Create Features \n",
        "X = np.array([-7.0,-4.0,-1.0,2.0,5.0,8.0,11.0,14.0])\n",
        "\n",
        "# Create Labels\n",
        "\n",
        "y = np.array([3.0,6.0,9.0,12.0,15.0,18.0,21.0,24.0])\n",
        "\n",
        "# Visualize it \n",
        "\n",
        "plt.scatter(X,y)"
      ],
      "metadata": {
        "colab": {
          "base_uri": "https://localhost:8080/",
          "height": 286
        },
        "id": "zxHiuGXbFMO6",
        "outputId": "de010e9f-ee54-48be-890f-db773dced682"
      },
      "execution_count": 3,
      "outputs": [
        {
          "output_type": "execute_result",
          "data": {
            "text/plain": [
              "<matplotlib.collections.PathCollection at 0x7f99217977d0>"
            ]
          },
          "metadata": {},
          "execution_count": 3
        },
        {
          "output_type": "display_data",
          "data": {
            "text/plain": [
              "<Figure size 432x288 with 1 Axes>"
            ],
            "image/png": "[encoded data removed]"
          },
          "metadata": {
            "needs_background": "light"
          }
        }
      ]
    },
    {
      "cell_type": "code",
      "source": [
        "y = X + 10\n",
        "y"
      ],
      "metadata": {
        "colab": {
          "base_uri": "https://localhost:8080/"
        },
        "id": "6SaN7VL_JqIh",
        "outputId": "1a321d51-c53e-4289-cd85-0f30d895af2b"
      },
      "execution_count": 4,
      "outputs": [
        {
          "output_type": "execute_result",
          "data": {
            "text/plain": [
              "array([ 3.,  6.,  9., 12., 15., 18., 21., 24.])"
            ]
          },
          "metadata": {},
          "execution_count": 4
        }
      ]
    },
    {
      "cell_type": "markdown",
      "source": [
        "input and output shapes"
      ],
      "metadata": {
        "id": "81d0qacGIFs3"
      }
    },
    {
      "cell_type": "code",
      "source": [
        "house_info = tf.constant(['bedroom','bathroom','garage'])\n",
        "house_price = tf.constant([939700])\n",
        "house_info , house_price"
      ],
      "metadata": {
        "colab": {
          "base_uri": "https://localhost:8080/"
        },
        "id": "KVEaPT5LJVrr",
        "outputId": "6a861c08-43f3-456e-9018-375bded22280"
      },
      "execution_count": 5,
      "outputs": [
        {
          "output_type": "execute_result",
          "data": {
            "text/plain": [
              "(<tf.Tensor: shape=(3,), dtype=string, numpy=array([b'bedroom', b'bathroom', b'garage'], dtype=object)>,\n",
              " <tf.Tensor: shape=(1,), dtype=int32, numpy=array([939700], dtype=int32)>)"
            ]
          },
          "metadata": {},
          "execution_count": 5
        }
      ]
    },
    {
      "cell_type": "code",
      "source": [
        "input_shape = X.shape\n",
        "output_shape = y.shape\n",
        "\n",
        "input_shape , output_shape"
      ],
      "metadata": {
        "colab": {
          "base_uri": "https://localhost:8080/"
        },
        "id": "J5fxvVYy247F",
        "outputId": "c86d4012-b3da-408b-fe9a-381f22fabf48"
      },
      "execution_count": 6,
      "outputs": [
        {
          "output_type": "execute_result",
          "data": {
            "text/plain": [
              "((8,), (8,))"
            ]
          },
          "metadata": {},
          "execution_count": 6
        }
      ]
    },
    {
      "cell_type": "code",
      "source": [
        "# turn numpy array into tensors\n",
        "\n",
        "X = tf.constant(X, dtype= tf.float32)\n",
        "y = tf.constant(y, dtype = tf.float32)\n",
        "X.shape, y.shape\n",
        "X\n",
        "y"
      ],
      "metadata": {
        "colab": {
          "base_uri": "https://localhost:8080/"
        },
        "id": "qAfvUZvy4854",
        "outputId": "b795457c-afe7-4ac7-d011-15341f0e22e8"
      },
      "execution_count": 7,
      "outputs": [
        {
          "output_type": "execute_result",
          "data": {
            "text/plain": [
              "<tf.Tensor: shape=(8,), dtype=float32, numpy=array([ 3.,  6.,  9., 12., 15., 18., 21., 24.], dtype=float32)>"
            ]
          },
          "metadata": {},
          "execution_count": 7
        }
      ]
    },
    {
      "cell_type": "code",
      "source": [
        "input_shape = X[0].shape\n",
        "output_shape = y[0].shape\n",
        "input_shape,output_shape"
      ],
      "metadata": {
        "colab": {
          "base_uri": "https://localhost:8080/"
        },
        "id": "qC7_iQsTI5Is",
        "outputId": "2a072352-074f-44da-b529-74b61ffa0ee2"
      },
      "execution_count": 8,
      "outputs": [
        {
          "output_type": "execute_result",
          "data": {
            "text/plain": [
              "(TensorShape([]), TensorShape([]))"
            ]
          },
          "metadata": {},
          "execution_count": 8
        }
      ]
    },
    {
      "cell_type": "markdown",
      "source": [
        "## Steps in modelling in tenorflow"
      ],
      "metadata": {
        "id": "J2tkygPiJUz5"
      }
    },
    {
      "cell_type": "code",
      "source": [
        "tf.random.set_seed(42)\n",
        "\n",
        "# 1. Create a model using sequential API\n",
        "model  = tf.keras.Sequential([\n",
        "    tf.keras.layers.Dense(1),\n",
        "])\n",
        "\n",
        "# 2. compile a model \n",
        "\n",
        "model.compile(loss= tf.keras.losses.mae,\n",
        "              optimizer=tf.keras.optimizers.SGD(),\n",
        "              metrics = [\"mae\"])\n",
        "\n",
        "# 3. fit the model\n",
        "\n",
        "model.fit(tf.expand_dims(X,axis=-1),y, epochs=5)"
      ],
      "metadata": {
        "colab": {
          "base_uri": "https://localhost:8080/"
        },
        "id": "MKVG8Z--JyWN",
        "outputId": "c91c7c97-362a-4c58-be11-2ab5c9abae78"
      },
      "execution_count": 9,
      "outputs": [
        {
          "output_type": "stream",
          "name": "stdout",
          "text": [
            "Epoch 1/5\n",
            "1/1 [==============================] - 0s 360ms/step - loss: 11.5048 - mae: 11.5048\n",
            "Epoch 2/5\n",
            "1/1 [==============================] - 0s 8ms/step - loss: 11.3723 - mae: 11.3723\n",
            "Epoch 3/5\n",
            "1/1 [==============================] - 0s 11ms/step - loss: 11.2398 - mae: 11.2398\n",
            "Epoch 4/5\n",
            "1/1 [==============================] - 0s 10ms/step - loss: 11.1073 - mae: 11.1073\n",
            "Epoch 5/5\n",
            "1/1 [==============================] - 0s 8ms/step - loss: 10.9748 - mae: 10.9748\n"
          ]
        },
        {
          "output_type": "execute_result",
          "data": {
            "text/plain": [
              "<keras.callbacks.History at 0x7f991d52aa50>"
            ]
          },
          "metadata": {},
          "execution_count": 9
        }
      ]
    },
    {
      "cell_type": "code",
      "source": [
        "# try and make prediction on model\n",
        "\n",
        "model.predict([17.0])"
      ],
      "metadata": {
        "colab": {
          "base_uri": "https://localhost:8080/"
        },
        "id": "9UzAbtiDWJS_",
        "outputId": "820220df-28b0-43d3-d7a2-6493975d9f38"
      },
      "execution_count": 10,
      "outputs": [
        {
          "output_type": "execute_result",
          "data": {
            "text/plain": [
              "array([[12.716021]], dtype=float32)"
            ]
          },
          "metadata": {},
          "execution_count": 10
        }
      ]
    },
    {
      "cell_type": "markdown",
      "source": [
        "##Improving our model"
      ],
      "metadata": {
        "id": "75YviwyHYpRl"
      }
    },
    {
      "cell_type": "code",
      "source": [
        "# let's rebuild our model\n",
        "\n",
        "model = tf.keras.Sequential([\n",
        "    tf.keras.layers.Dense(1)\n",
        "])\n",
        "\n",
        "model.compile(loss = tf.keras.losses.mae,\n",
        "              optimizer = tf.keras.optimizers.SGD(),\n",
        "              metrics = ['mae'])\n",
        "\n",
        "model.fit(tf.expand_dims(X, axis= -1),y , epochs = 100)"
      ],
      "metadata": {
        "colab": {
          "base_uri": "https://localhost:8080/"
        },
        "id": "ccXy_D5DZPxK",
        "outputId": "0c97b9b5-ae53-4447-8326-7e0ae5410d14"
      },
      "execution_count": 11,
      "outputs": [
        {
          "output_type": "stream",
          "name": "stdout",
          "text": [
            "Epoch 1/100\n",
            "1/1 [==============================] - 0s 312ms/step - loss: 11.2219 - mae: 11.2219\n",
            "Epoch 2/100\n",
            "1/1 [==============================] - 0s 6ms/step - loss: 11.0894 - mae: 11.0894\n",
            "Epoch 3/100\n",
            "1/1 [==============================] - 0s 9ms/step - loss: 10.9569 - mae: 10.9569\n",
            "Epoch 4/100\n",
            "1/1 [==============================] - 0s 7ms/step - loss: 10.8244 - mae: 10.8244\n",
            "Epoch 5/100\n",
            "1/1 [==============================] - 0s 9ms/step - loss: 10.6919 - mae: 10.6919\n",
            "Epoch 6/100\n",
            "1/1 [==============================] - 0s 7ms/step - loss: 10.5594 - mae: 10.5594\n",
            "Epoch 7/100\n",
            "1/1 [==============================] - 0s 9ms/step - loss: 10.4269 - mae: 10.4269\n",
            "Epoch 8/100\n",
            "1/1 [==============================] - 0s 7ms/step - loss: 10.2944 - mae: 10.2944\n",
            "Epoch 9/100\n",
            "1/1 [==============================] - 0s 6ms/step - loss: 10.1619 - mae: 10.1619\n",
            "Epoch 10/100\n",
            "1/1 [==============================] - 0s 6ms/step - loss: 10.0294 - mae: 10.0294\n",
            "Epoch 11/100\n",
            "1/1 [==============================] - 0s 6ms/step - loss: 9.8969 - mae: 9.8969\n",
            "Epoch 12/100\n",
            "1/1 [==============================] - 0s 7ms/step - loss: 9.7644 - mae: 9.7644\n",
            "Epoch 13/100\n",
            "1/1 [==============================] - 0s 6ms/step - loss: 9.6319 - mae: 9.6319\n",
            "Epoch 14/100\n",
            "1/1 [==============================] - 0s 6ms/step - loss: 9.4994 - mae: 9.4994\n",
            "Epoch 15/100\n",
            "1/1 [==============================] - 0s 6ms/step - loss: 9.3669 - mae: 9.3669\n",
            "Epoch 16/100\n",
            "1/1 [==============================] - 0s 6ms/step - loss: 9.2344 - mae: 9.2344\n",
            "Epoch 17/100\n",
            "1/1 [==============================] - 0s 13ms/step - loss: 9.1019 - mae: 9.1019\n",
            "Epoch 18/100\n",
            "1/1 [==============================] - 0s 9ms/step - loss: 8.9694 - mae: 8.9694\n",
            "Epoch 19/100\n",
            "1/1 [==============================] - 0s 7ms/step - loss: 8.8369 - mae: 8.8369\n",
            "Epoch 20/100\n",
            "1/1 [==============================] - 0s 7ms/step - loss: 8.7044 - mae: 8.7044\n",
            "Epoch 21/100\n",
            "1/1 [==============================] - 0s 6ms/step - loss: 8.5719 - mae: 8.5719\n",
            "Epoch 22/100\n",
            "1/1 [==============================] - 0s 6ms/step - loss: 8.4394 - mae: 8.4394\n",
            "Epoch 23/100\n",
            "1/1 [==============================] - 0s 6ms/step - loss: 8.3069 - mae: 8.3069\n",
            "Epoch 24/100\n",
            "1/1 [==============================] - 0s 6ms/step - loss: 8.1744 - mae: 8.1744\n",
            "Epoch 25/100\n",
            "1/1 [==============================] - 0s 6ms/step - loss: 8.0419 - mae: 8.0419\n",
            "Epoch 26/100\n",
            "1/1 [==============================] - 0s 6ms/step - loss: 7.9094 - mae: 7.9094\n",
            "Epoch 27/100\n",
            "1/1 [==============================] - 0s 6ms/step - loss: 7.7769 - mae: 7.7769\n",
            "Epoch 28/100\n",
            "1/1 [==============================] - 0s 7ms/step - loss: 7.6444 - mae: 7.6444\n",
            "Epoch 29/100\n",
            "1/1 [==============================] - 0s 7ms/step - loss: 7.5119 - mae: 7.5119\n",
            "Epoch 30/100\n",
            "1/1 [==============================] - 0s 7ms/step - loss: 7.3794 - mae: 7.3794\n",
            "Epoch 31/100\n",
            "1/1 [==============================] - 0s 9ms/step - loss: 7.2750 - mae: 7.2750\n",
            "Epoch 32/100\n",
            "1/1 [==============================] - 0s 6ms/step - loss: 7.2694 - mae: 7.2694\n",
            "Epoch 33/100\n",
            "1/1 [==============================] - 0s 7ms/step - loss: 7.2638 - mae: 7.2638\n",
            "Epoch 34/100\n",
            "1/1 [==============================] - 0s 7ms/step - loss: 7.2581 - mae: 7.2581\n",
            "Epoch 35/100\n",
            "1/1 [==============================] - 0s 6ms/step - loss: 7.2525 - mae: 7.2525\n",
            "Epoch 36/100\n",
            "1/1 [==============================] - 0s 6ms/step - loss: 7.2469 - mae: 7.2469\n",
            "Epoch 37/100\n",
            "1/1 [==============================] - 0s 7ms/step - loss: 7.2412 - mae: 7.2412\n",
            "Epoch 38/100\n",
            "1/1 [==============================] - 0s 6ms/step - loss: 7.2356 - mae: 7.2356\n",
            "Epoch 39/100\n",
            "1/1 [==============================] - 0s 7ms/step - loss: 7.2300 - mae: 7.2300\n",
            "Epoch 40/100\n",
            "1/1 [==============================] - 0s 6ms/step - loss: 7.2244 - mae: 7.2244\n",
            "Epoch 41/100\n",
            "1/1 [==============================] - 0s 7ms/step - loss: 7.2188 - mae: 7.2188\n",
            "Epoch 42/100\n",
            "1/1 [==============================] - 0s 7ms/step - loss: 7.2131 - mae: 7.2131\n",
            "Epoch 43/100\n",
            "1/1 [==============================] - 0s 6ms/step - loss: 7.2075 - mae: 7.2075\n",
            "Epoch 44/100\n",
            "1/1 [==============================] - 0s 6ms/step - loss: 7.2019 - mae: 7.2019\n",
            "Epoch 45/100\n",
            "1/1 [==============================] - 0s 7ms/step - loss: 7.1962 - mae: 7.1962\n",
            "Epoch 46/100\n",
            "1/1 [==============================] - 0s 7ms/step - loss: 7.1906 - mae: 7.1906\n",
            "Epoch 47/100\n",
            "1/1 [==============================] - 0s 9ms/step - loss: 7.1850 - mae: 7.1850\n",
            "Epoch 48/100\n",
            "1/1 [==============================] - 0s 14ms/step - loss: 7.1794 - mae: 7.1794\n",
            "Epoch 49/100\n",
            "1/1 [==============================] - 0s 9ms/step - loss: 7.1737 - mae: 7.1737\n",
            "Epoch 50/100\n",
            "1/1 [==============================] - 0s 31ms/step - loss: 7.1681 - mae: 7.1681\n",
            "Epoch 51/100\n",
            "1/1 [==============================] - 0s 26ms/step - loss: 7.1625 - mae: 7.1625\n",
            "Epoch 52/100\n",
            "1/1 [==============================] - 0s 16ms/step - loss: 7.1569 - mae: 7.1569\n",
            "Epoch 53/100\n",
            "1/1 [==============================] - 0s 10ms/step - loss: 7.1512 - mae: 7.1512\n",
            "Epoch 54/100\n",
            "1/1 [==============================] - 0s 11ms/step - loss: 7.1456 - mae: 7.1456\n",
            "Epoch 55/100\n",
            "1/1 [==============================] - 0s 12ms/step - loss: 7.1400 - mae: 7.1400\n",
            "Epoch 56/100\n",
            "1/1 [==============================] - 0s 11ms/step - loss: 7.1344 - mae: 7.1344\n",
            "Epoch 57/100\n",
            "1/1 [==============================] - 0s 12ms/step - loss: 7.1287 - mae: 7.1287\n",
            "Epoch 58/100\n",
            "1/1 [==============================] - 0s 12ms/step - loss: 7.1231 - mae: 7.1231\n",
            "Epoch 59/100\n",
            "1/1 [==============================] - 0s 20ms/step - loss: 7.1175 - mae: 7.1175\n",
            "Epoch 60/100\n",
            "1/1 [==============================] - 0s 16ms/step - loss: 7.1119 - mae: 7.1119\n",
            "Epoch 61/100\n",
            "1/1 [==============================] - 0s 33ms/step - loss: 7.1062 - mae: 7.1062\n",
            "Epoch 62/100\n",
            "1/1 [==============================] - 0s 36ms/step - loss: 7.1006 - mae: 7.1006\n",
            "Epoch 63/100\n",
            "1/1 [==============================] - 0s 11ms/step - loss: 7.0950 - mae: 7.0950\n",
            "Epoch 64/100\n",
            "1/1 [==============================] - 0s 37ms/step - loss: 7.0894 - mae: 7.0894\n",
            "Epoch 65/100\n",
            "1/1 [==============================] - 0s 7ms/step - loss: 7.0838 - mae: 7.0838\n",
            "Epoch 66/100\n",
            "1/1 [==============================] - 0s 11ms/step - loss: 7.0781 - mae: 7.0781\n",
            "Epoch 67/100\n",
            "1/1 [==============================] - 0s 16ms/step - loss: 7.0725 - mae: 7.0725\n",
            "Epoch 68/100\n",
            "1/1 [==============================] - 0s 15ms/step - loss: 7.0669 - mae: 7.0669\n",
            "Epoch 69/100\n",
            "1/1 [==============================] - 0s 13ms/step - loss: 7.0613 - mae: 7.0613\n",
            "Epoch 70/100\n",
            "1/1 [==============================] - 0s 12ms/step - loss: 7.0556 - mae: 7.0556\n",
            "Epoch 71/100\n",
            "1/1 [==============================] - 0s 12ms/step - loss: 7.0500 - mae: 7.0500\n",
            "Epoch 72/100\n",
            "1/1 [==============================] - 0s 11ms/step - loss: 7.0444 - mae: 7.0444\n",
            "Epoch 73/100\n",
            "1/1 [==============================] - 0s 8ms/step - loss: 7.0388 - mae: 7.0388\n",
            "Epoch 74/100\n",
            "1/1 [==============================] - 0s 7ms/step - loss: 7.0331 - mae: 7.0331\n",
            "Epoch 75/100\n",
            "1/1 [==============================] - 0s 6ms/step - loss: 7.0275 - mae: 7.0275\n",
            "Epoch 76/100\n",
            "1/1 [==============================] - 0s 7ms/step - loss: 7.0219 - mae: 7.0219\n",
            "Epoch 77/100\n",
            "1/1 [==============================] - 0s 7ms/step - loss: 7.0163 - mae: 7.0163\n",
            "Epoch 78/100\n",
            "1/1 [==============================] - 0s 6ms/step - loss: 7.0106 - mae: 7.0106\n",
            "Epoch 79/100\n",
            "1/1 [==============================] - 0s 6ms/step - loss: 7.0050 - mae: 7.0050\n",
            "Epoch 80/100\n",
            "1/1 [==============================] - 0s 7ms/step - loss: 6.9994 - mae: 6.9994\n",
            "Epoch 81/100\n",
            "1/1 [==============================] - 0s 8ms/step - loss: 6.9938 - mae: 6.9938\n",
            "Epoch 82/100\n",
            "1/1 [==============================] - 0s 7ms/step - loss: 6.9881 - mae: 6.9881\n",
            "Epoch 83/100\n",
            "1/1 [==============================] - 0s 13ms/step - loss: 6.9825 - mae: 6.9825\n",
            "Epoch 84/100\n",
            "1/1 [==============================] - 0s 10ms/step - loss: 6.9769 - mae: 6.9769\n",
            "Epoch 85/100\n",
            "1/1 [==============================] - 0s 12ms/step - loss: 6.9713 - mae: 6.9713\n",
            "Epoch 86/100\n",
            "1/1 [==============================] - 0s 23ms/step - loss: 6.9656 - mae: 6.9656\n",
            "Epoch 87/100\n",
            "1/1 [==============================] - 0s 15ms/step - loss: 6.9600 - mae: 6.9600\n",
            "Epoch 88/100\n",
            "1/1 [==============================] - 0s 17ms/step - loss: 6.9544 - mae: 6.9544\n",
            "Epoch 89/100\n",
            "1/1 [==============================] - 0s 13ms/step - loss: 6.9488 - mae: 6.9488\n",
            "Epoch 90/100\n",
            "1/1 [==============================] - 0s 25ms/step - loss: 6.9431 - mae: 6.9431\n",
            "Epoch 91/100\n",
            "1/1 [==============================] - 0s 10ms/step - loss: 6.9375 - mae: 6.9375\n",
            "Epoch 92/100\n",
            "1/1 [==============================] - 0s 15ms/step - loss: 6.9319 - mae: 6.9319\n",
            "Epoch 93/100\n",
            "1/1 [==============================] - 0s 10ms/step - loss: 6.9263 - mae: 6.9263\n",
            "Epoch 94/100\n",
            "1/1 [==============================] - 0s 39ms/step - loss: 6.9206 - mae: 6.9206\n",
            "Epoch 95/100\n",
            "1/1 [==============================] - 0s 16ms/step - loss: 6.9150 - mae: 6.9150\n",
            "Epoch 96/100\n",
            "1/1 [==============================] - 0s 29ms/step - loss: 6.9094 - mae: 6.9094\n",
            "Epoch 97/100\n",
            "1/1 [==============================] - 0s 11ms/step - loss: 6.9038 - mae: 6.9038\n",
            "Epoch 98/100\n",
            "1/1 [==============================] - 0s 17ms/step - loss: 6.8981 - mae: 6.8981\n",
            "Epoch 99/100\n",
            "1/1 [==============================] - 0s 13ms/step - loss: 6.8925 - mae: 6.8925\n",
            "Epoch 100/100\n",
            "1/1 [==============================] - 0s 12ms/step - loss: 6.8869 - mae: 6.8869\n"
          ]
        },
        {
          "output_type": "execute_result",
          "data": {
            "text/plain": [
              "<keras.callbacks.History at 0x7f991d445f90>"
            ]
          },
          "metadata": {},
          "execution_count": 11
        }
      ]
    },
    {
      "cell_type": "code",
      "source": [
        "X,y"
      ],
      "metadata": {
        "colab": {
          "base_uri": "https://localhost:8080/"
        },
        "id": "T-M_GLt_5v9f",
        "outputId": "ced92c9e-a06f-4c63-dbee-313aefef77ae"
      },
      "execution_count": 12,
      "outputs": [
        {
          "output_type": "execute_result",
          "data": {
            "text/plain": [
              "(<tf.Tensor: shape=(8,), dtype=float32, numpy=array([-7., -4., -1.,  2.,  5.,  8., 11., 14.], dtype=float32)>,\n",
              " <tf.Tensor: shape=(8,), dtype=float32, numpy=array([ 3.,  6.,  9., 12., 15., 18., 21., 24.], dtype=float32)>)"
            ]
          },
          "metadata": {},
          "execution_count": 12
        }
      ]
    },
    {
      "cell_type": "code",
      "source": [
        "model.predict([17])"
      ],
      "metadata": {
        "colab": {
          "base_uri": "https://localhost:8080/"
        },
        "id": "G04DfJgE6Q_V",
        "outputId": "b522385a-17be-4cde-f584-21f4e8c65203"
      },
      "execution_count": 13,
      "outputs": [
        {
          "output_type": "execute_result",
          "data": {
            "text/plain": [
              "array([[29.739855]], dtype=float32)"
            ]
          },
          "metadata": {},
          "execution_count": 13
        }
      ]
    },
    {
      "cell_type": "code",
      "source": [
        "# let's try be using Adam optimizer and an extra layer\n",
        "\n",
        "model = tf.keras.Sequential([\n",
        "    tf.keras.layers.Dense(100, activation='relu'),\n",
        "    tf.keras.layers.Dense(1)\n",
        "])\n",
        "\n",
        "model.compile(loss = tf.keras.losses.mae,\n",
        "              optimizer= tf.keras.optimizers.Adam(learning_rate = 0.01),\n",
        "              metrics = ['mae'])\n",
        "\n",
        "model.fit(tf.expand_dims(X, axis=-1),y, epochs = 100)"
      ],
      "metadata": {
        "colab": {
          "base_uri": "https://localhost:8080/"
        },
        "id": "To8s3OWo6n9C",
        "outputId": "132683c9-0ff0-4135-dba8-85a987554edf"
      },
      "execution_count": 14,
      "outputs": [
        {
          "output_type": "stream",
          "name": "stdout",
          "text": [
            "Epoch 1/100\n",
            "1/1 [==============================] - 1s 1s/step - loss: 12.3193 - mae: 12.3193\n",
            "Epoch 2/100\n",
            "1/1 [==============================] - 0s 17ms/step - loss: 11.5062 - mae: 11.5062\n",
            "Epoch 3/100\n",
            "1/1 [==============================] - 0s 17ms/step - loss: 10.6739 - mae: 10.6739\n",
            "Epoch 4/100\n",
            "1/1 [==============================] - 0s 13ms/step - loss: 9.8419 - mae: 9.8419\n",
            "Epoch 5/100\n",
            "1/1 [==============================] - 0s 11ms/step - loss: 8.9962 - mae: 8.9962\n",
            "Epoch 6/100\n",
            "1/1 [==============================] - 0s 13ms/step - loss: 8.1347 - mae: 8.1347\n",
            "Epoch 7/100\n",
            "1/1 [==============================] - 0s 18ms/step - loss: 7.4053 - mae: 7.4053\n",
            "Epoch 8/100\n",
            "1/1 [==============================] - 0s 15ms/step - loss: 6.6763 - mae: 6.6763\n",
            "Epoch 9/100\n",
            "1/1 [==============================] - 0s 21ms/step - loss: 5.9141 - mae: 5.9141\n",
            "Epoch 10/100\n",
            "1/1 [==============================] - 0s 13ms/step - loss: 5.1125 - mae: 5.1125\n",
            "Epoch 11/100\n",
            "1/1 [==============================] - 0s 14ms/step - loss: 4.2653 - mae: 4.2653\n",
            "Epoch 12/100\n",
            "1/1 [==============================] - 0s 13ms/step - loss: 3.8460 - mae: 3.8460\n",
            "Epoch 13/100\n",
            "1/1 [==============================] - 0s 30ms/step - loss: 3.9257 - mae: 3.9257\n",
            "Epoch 14/100\n",
            "1/1 [==============================] - 0s 15ms/step - loss: 4.0900 - mae: 4.0900\n",
            "Epoch 15/100\n",
            "1/1 [==============================] - 0s 13ms/step - loss: 4.4780 - mae: 4.4780\n",
            "Epoch 16/100\n",
            "1/1 [==============================] - 0s 13ms/step - loss: 4.7607 - mae: 4.7607\n",
            "Epoch 17/100\n",
            "1/1 [==============================] - 0s 14ms/step - loss: 4.9264 - mae: 4.9264\n",
            "Epoch 18/100\n",
            "1/1 [==============================] - 0s 31ms/step - loss: 4.9893 - mae: 4.9893\n",
            "Epoch 19/100\n",
            "1/1 [==============================] - 0s 14ms/step - loss: 4.9672 - mae: 4.9672\n",
            "Epoch 20/100\n",
            "1/1 [==============================] - 0s 13ms/step - loss: 4.8677 - mae: 4.8677\n",
            "Epoch 21/100\n",
            "1/1 [==============================] - 0s 13ms/step - loss: 4.7046 - mae: 4.7046\n",
            "Epoch 22/100\n",
            "1/1 [==============================] - 0s 13ms/step - loss: 4.4896 - mae: 4.4896\n",
            "Epoch 23/100\n",
            "1/1 [==============================] - 0s 14ms/step - loss: 4.2326 - mae: 4.2326\n",
            "Epoch 24/100\n",
            "1/1 [==============================] - 0s 14ms/step - loss: 3.9418 - mae: 3.9418\n",
            "Epoch 25/100\n",
            "1/1 [==============================] - 0s 14ms/step - loss: 3.7886 - mae: 3.7886\n",
            "Epoch 26/100\n",
            "1/1 [==============================] - 0s 14ms/step - loss: 3.6632 - mae: 3.6632\n",
            "Epoch 27/100\n",
            "1/1 [==============================] - 0s 14ms/step - loss: 3.5392 - mae: 3.5392\n",
            "Epoch 28/100\n",
            "1/1 [==============================] - 0s 13ms/step - loss: 3.5531 - mae: 3.5531\n",
            "Epoch 29/100\n",
            "1/1 [==============================] - 0s 13ms/step - loss: 3.6208 - mae: 3.6208\n",
            "Epoch 30/100\n",
            "1/1 [==============================] - 0s 13ms/step - loss: 3.6577 - mae: 3.6577\n",
            "Epoch 31/100\n",
            "1/1 [==============================] - 0s 13ms/step - loss: 3.7506 - mae: 3.7506\n",
            "Epoch 32/100\n",
            "1/1 [==============================] - 0s 13ms/step - loss: 3.7093 - mae: 3.7093\n",
            "Epoch 33/100\n",
            "1/1 [==============================] - 0s 13ms/step - loss: 3.5338 - mae: 3.5338\n",
            "Epoch 34/100\n",
            "1/1 [==============================] - 0s 14ms/step - loss: 3.4270 - mae: 3.4270\n",
            "Epoch 35/100\n",
            "1/1 [==============================] - 0s 13ms/step - loss: 3.3004 - mae: 3.3004\n",
            "Epoch 36/100\n",
            "1/1 [==============================] - 0s 20ms/step - loss: 3.1545 - mae: 3.1545\n",
            "Epoch 37/100\n",
            "1/1 [==============================] - 0s 13ms/step - loss: 3.0648 - mae: 3.0648\n",
            "Epoch 38/100\n",
            "1/1 [==============================] - 0s 13ms/step - loss: 3.0459 - mae: 3.0459\n",
            "Epoch 39/100\n",
            "1/1 [==============================] - 0s 13ms/step - loss: 3.0209 - mae: 3.0209\n",
            "Epoch 40/100\n",
            "1/1 [==============================] - 0s 12ms/step - loss: 3.0347 - mae: 3.0347\n",
            "Epoch 41/100\n",
            "1/1 [==============================] - 0s 12ms/step - loss: 2.9867 - mae: 2.9867\n",
            "Epoch 42/100\n",
            "1/1 [==============================] - 0s 13ms/step - loss: 2.8887 - mae: 2.8887\n",
            "Epoch 43/100\n",
            "1/1 [==============================] - 0s 12ms/step - loss: 2.8175 - mae: 2.8175\n",
            "Epoch 44/100\n",
            "1/1 [==============================] - 0s 15ms/step - loss: 2.7250 - mae: 2.7250\n",
            "Epoch 45/100\n",
            "1/1 [==============================] - 0s 14ms/step - loss: 2.6172 - mae: 2.6172\n",
            "Epoch 46/100\n",
            "1/1 [==============================] - 0s 7ms/step - loss: 2.5069 - mae: 2.5069\n",
            "Epoch 47/100\n",
            "1/1 [==============================] - 0s 7ms/step - loss: 2.4002 - mae: 2.4002\n",
            "Epoch 48/100\n",
            "1/1 [==============================] - 0s 8ms/step - loss: 2.2894 - mae: 2.2894\n",
            "Epoch 49/100\n",
            "1/1 [==============================] - 0s 8ms/step - loss: 2.1712 - mae: 2.1712\n",
            "Epoch 50/100\n",
            "1/1 [==============================] - 0s 8ms/step - loss: 2.0403 - mae: 2.0403\n",
            "Epoch 51/100\n",
            "1/1 [==============================] - 0s 10ms/step - loss: 1.9989 - mae: 1.9989\n",
            "Epoch 52/100\n",
            "1/1 [==============================] - 0s 9ms/step - loss: 1.8725 - mae: 1.8725\n",
            "Epoch 53/100\n",
            "1/1 [==============================] - 0s 8ms/step - loss: 1.7026 - mae: 1.7026\n",
            "Epoch 54/100\n",
            "1/1 [==============================] - 0s 8ms/step - loss: 1.5747 - mae: 1.5747\n",
            "Epoch 55/100\n",
            "1/1 [==============================] - 0s 7ms/step - loss: 1.4753 - mae: 1.4753\n",
            "Epoch 56/100\n",
            "1/1 [==============================] - 0s 10ms/step - loss: 1.3545 - mae: 1.3545\n",
            "Epoch 57/100\n",
            "1/1 [==============================] - 0s 7ms/step - loss: 1.2392 - mae: 1.2392\n",
            "Epoch 58/100\n",
            "1/1 [==============================] - 0s 7ms/step - loss: 1.0315 - mae: 1.0315\n",
            "Epoch 59/100\n",
            "1/1 [==============================] - 0s 7ms/step - loss: 0.8339 - mae: 0.8339\n",
            "Epoch 60/100\n",
            "1/1 [==============================] - 0s 7ms/step - loss: 0.6625 - mae: 0.6625\n",
            "Epoch 61/100\n",
            "1/1 [==============================] - 0s 28ms/step - loss: 0.5088 - mae: 0.5088\n",
            "Epoch 62/100\n",
            "1/1 [==============================] - 0s 32ms/step - loss: 0.3310 - mae: 0.3310\n",
            "Epoch 63/100\n",
            "1/1 [==============================] - 0s 17ms/step - loss: 0.3306 - mae: 0.3306\n",
            "Epoch 64/100\n",
            "1/1 [==============================] - 0s 9ms/step - loss: 0.3330 - mae: 0.3330\n",
            "Epoch 65/100\n",
            "1/1 [==============================] - 0s 8ms/step - loss: 0.2128 - mae: 0.2128\n",
            "Epoch 66/100\n",
            "1/1 [==============================] - 0s 16ms/step - loss: 0.6744 - mae: 0.6744\n",
            "Epoch 67/100\n",
            "1/1 [==============================] - 0s 13ms/step - loss: 0.6279 - mae: 0.6279\n",
            "Epoch 68/100\n",
            "1/1 [==============================] - 0s 13ms/step - loss: 0.6085 - mae: 0.6085\n",
            "Epoch 69/100\n",
            "1/1 [==============================] - 0s 12ms/step - loss: 0.7257 - mae: 0.7257\n",
            "Epoch 70/100\n",
            "1/1 [==============================] - 0s 22ms/step - loss: 0.6237 - mae: 0.6237\n",
            "Epoch 71/100\n",
            "1/1 [==============================] - 0s 13ms/step - loss: 0.3928 - mae: 0.3928\n",
            "Epoch 72/100\n",
            "1/1 [==============================] - 0s 9ms/step - loss: 0.5721 - mae: 0.5721\n",
            "Epoch 73/100\n",
            "1/1 [==============================] - 0s 14ms/step - loss: 0.6972 - mae: 0.6972\n",
            "Epoch 74/100\n",
            "1/1 [==============================] - 0s 18ms/step - loss: 0.4927 - mae: 0.4927\n",
            "Epoch 75/100\n",
            "1/1 [==============================] - 0s 18ms/step - loss: 0.5584 - mae: 0.5584\n",
            "Epoch 76/100\n",
            "1/1 [==============================] - 0s 13ms/step - loss: 0.5706 - mae: 0.5706\n",
            "Epoch 77/100\n",
            "1/1 [==============================] - 0s 16ms/step - loss: 0.4548 - mae: 0.4548\n",
            "Epoch 78/100\n",
            "1/1 [==============================] - 0s 25ms/step - loss: 0.2732 - mae: 0.2732\n",
            "Epoch 79/100\n",
            "1/1 [==============================] - 0s 8ms/step - loss: 0.6350 - mae: 0.6350\n",
            "Epoch 80/100\n",
            "1/1 [==============================] - 0s 7ms/step - loss: 0.7159 - mae: 0.7159\n",
            "Epoch 81/100\n",
            "1/1 [==============================] - 0s 13ms/step - loss: 0.4848 - mae: 0.4848\n",
            "Epoch 82/100\n",
            "1/1 [==============================] - 0s 18ms/step - loss: 0.1989 - mae: 0.1989\n",
            "Epoch 83/100\n",
            "1/1 [==============================] - 0s 16ms/step - loss: 0.3396 - mae: 0.3396\n",
            "Epoch 84/100\n",
            "1/1 [==============================] - 0s 19ms/step - loss: 0.2129 - mae: 0.2129\n",
            "Epoch 85/100\n",
            "1/1 [==============================] - 0s 13ms/step - loss: 0.3691 - mae: 0.3691\n",
            "Epoch 86/100\n",
            "1/1 [==============================] - 0s 7ms/step - loss: 0.4716 - mae: 0.4716\n",
            "Epoch 87/100\n",
            "1/1 [==============================] - 0s 7ms/step - loss: 0.3323 - mae: 0.3323\n",
            "Epoch 88/100\n",
            "1/1 [==============================] - 0s 22ms/step - loss: 0.2552 - mae: 0.2552\n",
            "Epoch 89/100\n",
            "1/1 [==============================] - 0s 29ms/step - loss: 0.3310 - mae: 0.3310\n",
            "Epoch 90/100\n",
            "1/1 [==============================] - 0s 13ms/step - loss: 0.2381 - mae: 0.2381\n",
            "Epoch 91/100\n",
            "1/1 [==============================] - 0s 17ms/step - loss: 0.2594 - mae: 0.2594\n",
            "Epoch 92/100\n",
            "1/1 [==============================] - 0s 8ms/step - loss: 0.2367 - mae: 0.2367\n",
            "Epoch 93/100\n",
            "1/1 [==============================] - 0s 10ms/step - loss: 0.1750 - mae: 0.1750\n",
            "Epoch 94/100\n",
            "1/1 [==============================] - 0s 10ms/step - loss: 0.2303 - mae: 0.2303\n",
            "Epoch 95/100\n",
            "1/1 [==============================] - 0s 16ms/step - loss: 0.1337 - mae: 0.1337\n",
            "Epoch 96/100\n",
            "1/1 [==============================] - 0s 19ms/step - loss: 0.1930 - mae: 0.1930\n",
            "Epoch 97/100\n",
            "1/1 [==============================] - 0s 18ms/step - loss: 0.1098 - mae: 0.1098\n",
            "Epoch 98/100\n",
            "1/1 [==============================] - 0s 36ms/step - loss: 0.2055 - mae: 0.2055\n",
            "Epoch 99/100\n",
            "1/1 [==============================] - 0s 15ms/step - loss: 0.1987 - mae: 0.1987\n",
            "Epoch 100/100\n",
            "1/1 [==============================] - 0s 16ms/step - loss: 0.2264 - mae: 0.2264\n"
          ]
        },
        {
          "output_type": "execute_result",
          "data": {
            "text/plain": [
              "<keras.callbacks.History at 0x7f991d3a4a90>"
            ]
          },
          "metadata": {},
          "execution_count": 14
        }
      ]
    },
    {
      "cell_type": "code",
      "source": [
        "model.predict([17])"
      ],
      "metadata": {
        "colab": {
          "base_uri": "https://localhost:8080/"
        },
        "id": "m0vMZbwI-jO3",
        "outputId": "e93cd276-6b7f-487f-af3a-d03ece2f2032"
      },
      "execution_count": 15,
      "outputs": [
        {
          "output_type": "execute_result",
          "data": {
            "text/plain": [
              "array([[27.159163]], dtype=float32)"
            ]
          },
          "metadata": {},
          "execution_count": 15
        }
      ]
    },
    {
      "cell_type": "code",
      "source": [
        "# lets create a bigger data\n",
        "\n",
        "X = tf.range(-100,100,4)\n",
        "X"
      ],
      "metadata": {
        "colab": {
          "base_uri": "https://localhost:8080/"
        },
        "id": "o-yDHupU-rVJ",
        "outputId": "2cd5d84c-550f-4f95-c4f4-60e0b3c8b60f"
      },
      "execution_count": 16,
      "outputs": [
        {
          "output_type": "execute_result",
          "data": {
            "text/plain": [
              "<tf.Tensor: shape=(50,), dtype=int32, numpy=\n",
              "array([-100,  -96,  -92,  -88,  -84,  -80,  -76,  -72,  -68,  -64,  -60,\n",
              "        -56,  -52,  -48,  -44,  -40,  -36,  -32,  -28,  -24,  -20,  -16,\n",
              "        -12,   -8,   -4,    0,    4,    8,   12,   16,   20,   24,   28,\n",
              "         32,   36,   40,   44,   48,   52,   56,   60,   64,   68,   72,\n",
              "         76,   80,   84,   88,   92,   96], dtype=int32)>"
            ]
          },
          "metadata": {},
          "execution_count": 16
        }
      ]
    },
    {
      "cell_type": "code",
      "source": [
        "y = X + 10\n",
        "y"
      ],
      "metadata": {
        "colab": {
          "base_uri": "https://localhost:8080/"
        },
        "id": "MnzC73kuDdyJ",
        "outputId": "221b4616-0ec9-40e2-dbe1-773846aa5cd1"
      },
      "execution_count": 17,
      "outputs": [
        {
          "output_type": "execute_result",
          "data": {
            "text/plain": [
              "<tf.Tensor: shape=(50,), dtype=int32, numpy=\n",
              "array([-90, -86, -82, -78, -74, -70, -66, -62, -58, -54, -50, -46, -42,\n",
              "       -38, -34, -30, -26, -22, -18, -14, -10,  -6,  -2,   2,   6,  10,\n",
              "        14,  18,  22,  26,  30,  34,  38,  42,  46,  50,  54,  58,  62,\n",
              "        66,  70,  74,  78,  82,  86,  90,  94,  98, 102, 106], dtype=int32)>"
            ]
          },
          "metadata": {},
          "execution_count": 17
        }
      ]
    },
    {
      "cell_type": "code",
      "source": [
        "import matplotlib.pyplot as plt\n",
        "\n",
        "plt.plot(X,y)"
      ],
      "metadata": {
        "colab": {
          "base_uri": "https://localhost:8080/",
          "height": 282
        },
        "id": "i-vK1ZGhDiFX",
        "outputId": "8a598b6f-83e5-4581-8e7e-9b13a3e03832"
      },
      "execution_count": 18,
      "outputs": [
        {
          "output_type": "execute_result",
          "data": {
            "text/plain": [
              "[<matplotlib.lines.Line2D at 0x7f991d2a9250>]"
            ]
          },
          "metadata": {},
          "execution_count": 18
        },
        {
          "output_type": "display_data",
          "data": {
            "text/plain": [
              "<Figure size 432x288 with 1 Axes>"
            ],
            "image/png": "[encoded data removed]"
          },
          "metadata": {
            "needs_background": "light"
          }
        }
      ]
    },
    {
      "cell_type": "code",
      "source": [
        "len(X)"
      ],
      "metadata": {
        "colab": {
          "base_uri": "https://localhost:8080/"
        },
        "id": "fIfpd3TdD6ER",
        "outputId": "e2660029-3287-45d8-d700-a5f32ce286d6"
      },
      "execution_count": 19,
      "outputs": [
        {
          "output_type": "execute_result",
          "data": {
            "text/plain": [
              "50"
            ]
          },
          "metadata": {},
          "execution_count": 19
        }
      ]
    },
    {
      "cell_type": "code",
      "source": [
        "# split the data in train test split\n",
        "\n",
        "X_train = X[:40]\n",
        "y_train = y[:40]\n",
        "\n",
        "X_test = X[40:]\n",
        "y_test = y[40:]\n",
        "\n",
        "len(X_train), len(X_test), len(y_train), len(y_test)"
      ],
      "metadata": {
        "colab": {
          "base_uri": "https://localhost:8080/"
        },
        "id": "zJQbWM63IiTT",
        "outputId": "1d260a4d-7061-4c4d-9047-9b6dcaccdd64"
      },
      "execution_count": 20,
      "outputs": [
        {
          "output_type": "execute_result",
          "data": {
            "text/plain": [
              "(40, 10, 40, 10)"
            ]
          },
          "metadata": {},
          "execution_count": 20
        }
      ]
    },
    {
      "cell_type": "markdown",
      "source": [
        "# visualize the model"
      ],
      "metadata": {
        "id": "Ab2QIvST7wJz"
      }
    },
    {
      "cell_type": "markdown",
      "source": [
        "## visualize the data"
      ],
      "metadata": {
        "id": "1wqd1oVx77HN"
      }
    },
    {
      "cell_type": "code",
      "source": [
        "\n",
        "# visualise the data\n",
        "\n",
        "plt.figure(figsize=(10,7))\n",
        "\n",
        "plt.scatter(X_train,y_train,c = 'b', label = 'Training data')\n",
        "\n",
        "plt.scatter(X_test,y_test, c = 'g', label = 'testing Data')\n",
        "\n",
        "plt.legend()"
      ],
      "metadata": {
        "colab": {
          "base_uri": "https://localhost:8080/",
          "height": 445
        },
        "id": "nb_S1uzeKAs0",
        "outputId": "9c496455-f8d1-46c3-808a-e29ddab649c4"
      },
      "execution_count": 21,
      "outputs": [
        {
          "output_type": "execute_result",
          "data": {
            "text/plain": [
              "<matplotlib.legend.Legend at 0x7f991c4ac950>"
            ]
          },
          "metadata": {},
          "execution_count": 21
        },
        {
          "output_type": "display_data",
          "data": {
            "text/plain": [
              "<Figure size 720x504 with 1 Axes>"
            ],
            "image/png": "[encoded data removed]"
          },
          "metadata": {
            "needs_background": "light"
          }
        }
      ]
    },
    {
      "cell_type": "code",
      "source": [
        "model = tf.keras.Sequential([\n",
        "    tf.keras.layers.Dense(1)\n",
        "])\n",
        "\n",
        "model.compile(loss = tf.keras.losses.mae,\n",
        "              optimizer= tf.keras.optimizers.SGD(),\n",
        "              metrics= ['mae'])"
      ],
      "metadata": {
        "id": "uwWiGZv6LCnq"
      },
      "execution_count": 22,
      "outputs": []
    },
    {
      "cell_type": "code",
      "source": [
        "X.shape"
      ],
      "metadata": {
        "colab": {
          "base_uri": "https://localhost:8080/"
        },
        "id": "z4xcyCFWOGxV",
        "outputId": "c5181de6-5ffa-41a9-98cb-8f66284ff8a8"
      },
      "execution_count": 23,
      "outputs": [
        {
          "output_type": "execute_result",
          "data": {
            "text/plain": [
              "TensorShape([50])"
            ]
          },
          "metadata": {},
          "execution_count": 23
        }
      ]
    },
    {
      "cell_type": "code",
      "source": [
        "tf.random.set_seed(42)\n",
        "\n",
        "model = tf.keras.Sequential([\n",
        "    tf.keras.layers.Dense(10,input_shape= [1],name= 'input_layer'),\n",
        "    tf.keras.layers.Dense(1, name= 'output_layer')\n",
        "], name= 'first_model')\n",
        "\n",
        "model.compile(loss=tf.keras.losses.mae,\n",
        "              optimizer= tf.keras.optimizers.SGD(),\n",
        "              metrics = [\"mae\"])"
      ],
      "metadata": {
        "id": "bB7pHsY1O_Sr"
      },
      "execution_count": 24,
      "outputs": []
    },
    {
      "cell_type": "code",
      "source": [
        "model.summary()"
      ],
      "metadata": {
        "colab": {
          "base_uri": "https://localhost:8080/"
        },
        "id": "E82HPO2fQJjx",
        "outputId": "e89e8206-5d2c-4608-cb94-df68940b27a8"
      },
      "execution_count": 25,
      "outputs": [
        {
          "output_type": "stream",
          "name": "stdout",
          "text": [
            "Model: \"first_model\"\n",
            "_________________________________________________________________\n",
            " Layer (type)                Output Shape              Param #   \n",
            "=================================================================\n",
            " input_layer (Dense)         (None, 10)                20        \n",
            "                                                                 \n",
            " output_layer (Dense)        (None, 1)                 11        \n",
            "                                                                 \n",
            "=================================================================\n",
            "Total params: 31\n",
            "Trainable params: 31\n",
            "Non-trainable params: 0\n",
            "_________________________________________________________________\n"
          ]
        }
      ]
    },
    {
      "cell_type": "code",
      "source": [
        "model.fit(X_train, y_train , epochs=100 , verbose=0)"
      ],
      "metadata": {
        "colab": {
          "base_uri": "https://localhost:8080/"
        },
        "id": "KQWAAeS5QT1r",
        "outputId": "7a723a83-8a51-4da0-ac42-7befc7dad9ab"
      },
      "execution_count": 26,
      "outputs": [
        {
          "output_type": "execute_result",
          "data": {
            "text/plain": [
              "<keras.callbacks.History at 0x7f991c46f690>"
            ]
          },
          "metadata": {},
          "execution_count": 26
        }
      ]
    },
    {
      "cell_type": "code",
      "source": [
        "model.summary()"
      ],
      "metadata": {
        "colab": {
          "base_uri": "https://localhost:8080/"
        },
        "id": "FuxYvlAN1eWD",
        "outputId": "277fe985-f1a0-405c-e109-173f99ff7dd3"
      },
      "execution_count": 27,
      "outputs": [
        {
          "output_type": "stream",
          "name": "stdout",
          "text": [
            "Model: \"first_model\"\n",
            "_________________________________________________________________\n",
            " Layer (type)                Output Shape              Param #   \n",
            "=================================================================\n",
            " input_layer (Dense)         (None, 10)                20        \n",
            "                                                                 \n",
            " output_layer (Dense)        (None, 1)                 11        \n",
            "                                                                 \n",
            "=================================================================\n",
            "Total params: 31\n",
            "Trainable params: 31\n",
            "Non-trainable params: 0\n",
            "_________________________________________________________________\n"
          ]
        }
      ]
    },
    {
      "cell_type": "code",
      "source": [
        "from tensorflow.keras.utils import plot_model\n",
        "\n",
        "plot_model(model=model, show_shapes= True)"
      ],
      "metadata": {
        "colab": {
          "base_uri": "https://localhost:8080/",
          "height": 312
        },
        "id": "GLcswayM3b88",
        "outputId": "6e6cc235-71b0-4ff3-aa82-f098878c4e59"
      },
      "execution_count": 28,
      "outputs": [
        {
          "output_type": "execute_result",
          "data": {
            "text/plain": [
              "<IPython.core.display.Image object>"
            ],
            "image/png": "[encoded data removed]"
          },
          "metadata": {},
          "execution_count": 28
        }
      ]
    },
    {
      "cell_type": "markdown",
      "source": [
        "## visualizing the model prediction"
      ],
      "metadata": {
        "id": "Jf1QHkaV4AZh"
      }
    },
    {
      "cell_type": "code",
      "source": [
        "# make some prediction \n",
        "\n",
        "y_pred = model.predict(X_test)\n",
        "y_pred"
      ],
      "metadata": {
        "colab": {
          "base_uri": "https://localhost:8080/"
        },
        "id": "Bi1bMUNs8MMX",
        "outputId": "2b60c3f9-0c86-4269-ccf0-dff22acad928"
      },
      "execution_count": 29,
      "outputs": [
        {
          "output_type": "execute_result",
          "data": {
            "text/plain": [
              "array([[ 70.55218 ],\n",
              "       [ 75.13991 ],\n",
              "       [ 79.72763 ],\n",
              "       [ 84.31535 ],\n",
              "       [ 88.903076],\n",
              "       [ 93.49081 ],\n",
              "       [ 98.07853 ],\n",
              "       [102.66625 ],\n",
              "       [107.253975],\n",
              "       [111.8417  ]], dtype=float32)"
            ]
          },
          "metadata": {},
          "execution_count": 29
        }
      ]
    },
    {
      "cell_type": "code",
      "source": [
        "X_test"
      ],
      "metadata": {
        "colab": {
          "base_uri": "https://localhost:8080/"
        },
        "id": "xu1E7XlQDz6f",
        "outputId": "652d7617-96f4-476d-d0dc-b3b5008566f2"
      },
      "execution_count": 30,
      "outputs": [
        {
          "output_type": "execute_result",
          "data": {
            "text/plain": [
              "<tf.Tensor: shape=(10,), dtype=int32, numpy=array([60, 64, 68, 72, 76, 80, 84, 88, 92, 96], dtype=int32)>"
            ]
          },
          "metadata": {},
          "execution_count": 30
        }
      ]
    },
    {
      "cell_type": "code",
      "source": [
        "y_test"
      ],
      "metadata": {
        "colab": {
          "base_uri": "https://localhost:8080/"
        },
        "id": "Ke17nULb8qi4",
        "outputId": "d0cae7c4-d5d2-4d5a-85dd-67d290cfb456"
      },
      "execution_count": 31,
      "outputs": [
        {
          "output_type": "execute_result",
          "data": {
            "text/plain": [
              "<tf.Tensor: shape=(10,), dtype=int32, numpy=array([ 70,  74,  78,  82,  86,  90,  94,  98, 102, 106], dtype=int32)>"
            ]
          },
          "metadata": {},
          "execution_count": 31
        }
      ]
    },
    {
      "cell_type": "code",
      "source": [
        "def plot_predictions(train_data=X_train, \n",
        "                     train_labels=y_train, \n",
        "                     test_data=X_test, \n",
        "                     test_labels=y_test, \n",
        "                     predictions=y_pred):\n",
        "  \"\"\"\n",
        "  Plots training data, test data and compares predictions.\n",
        "  \"\"\"\n",
        "  plt.figure(figsize=(10, 7))\n",
        "  # Plot training data in blue\n",
        "  plt.scatter(train_data, train_labels, c=\"b\", label=\"Training data\")\n",
        "  # Plot test data in green\n",
        "  plt.scatter(test_data, test_labels, c=\"g\", label=\"Testing data\")\n",
        "  # Plot the predictions in red (predictions were made on the test data)\n",
        "  plt.scatter(test_data, predictions, c=\"r\", label=\"Predictions\")\n",
        "  # Show the legend\n",
        "  plt.legend();"
      ],
      "metadata": {
        "id": "xgof7xI18t8v"
      },
      "execution_count": 32,
      "outputs": []
    },
    {
      "cell_type": "code",
      "source": [
        "plot_predictions(train_data= X_train,\n",
        "                 train_labels = y_train,\n",
        "                 test_data = X_test,\n",
        "                 test_labels = y_test,\n",
        "                 predictions = y_pred)"
      ],
      "metadata": {
        "colab": {
          "base_uri": "https://localhost:8080/",
          "height": 428
        },
        "id": "FD01UPBT_8Wd",
        "outputId": "ff6d203a-2425-428a-9313-221a9cf3e0b9"
      },
      "execution_count": 33,
      "outputs": [
        {
          "output_type": "display_data",
          "data": {
            "text/plain": [
              "<Figure size 720x504 with 1 Axes>"
            ],
            "image/png": "[encoded data removed]"
          },
          "metadata": {
            "needs_background": "light"
          }
        }
      ]
    },
    {
      "cell_type": "markdown",
      "source": [
        "##Evaluating our model's prediction with regression evaluation metrics"
      ],
      "metadata": {
        "id": "P2nPn42f___R"
      }
    },
    {
      "cell_type": "code",
      "source": [
        "model.evaluate(X_test,y_test)"
      ],
      "metadata": {
        "colab": {
          "base_uri": "https://localhost:8080/"
        },
        "id": "bp4D0XF0Ev-w",
        "outputId": "3badf422-41e0-47b6-8d73-f370cadf7a64"
      },
      "execution_count": 34,
      "outputs": [
        {
          "output_type": "stream",
          "name": "stdout",
          "text": [
            "1/1 [==============================] - 0s 288ms/step - loss: 3.1969 - mae: 3.1969\n"
          ]
        },
        {
          "output_type": "execute_result",
          "data": {
            "text/plain": [
              "[3.196942090988159, 3.196942090988159]"
            ]
          },
          "metadata": {},
          "execution_count": 34
        }
      ]
    },
    {
      "cell_type": "code",
      "source": [
        "tf.keras.losses.MAE(y_test,y_pred )"
      ],
      "metadata": {
        "colab": {
          "base_uri": "https://localhost:8080/"
        },
        "id": "LeqF_U9KJyA-",
        "outputId": "cacb0dec-2906-4e50-a439-dd41754ffff3"
      },
      "execution_count": 35,
      "outputs": [
        {
          "output_type": "execute_result",
          "data": {
            "text/plain": [
              "<tf.Tensor: shape=(10,), dtype=float32, numpy=\n",
              "array([17.558258 , 14.1160555, 11.708948 , 10.336929 , 10.       ,\n",
              "       10.698161 , 12.447118 , 15.333002 , 19.253975 , 23.841698 ],\n",
              "      dtype=float32)>"
            ]
          },
          "metadata": {},
          "execution_count": 35
        }
      ]
    },
    {
      "cell_type": "code",
      "source": [
        "tf.metrics.mean_absolute_error(y_test,y_pred)"
      ],
      "metadata": {
        "colab": {
          "base_uri": "https://localhost:8080/"
        },
        "id": "GvDKk4XcKegB",
        "outputId": "ffe91139-4e98-48b9-87ed-f66947aba669"
      },
      "execution_count": 36,
      "outputs": [
        {
          "output_type": "execute_result",
          "data": {
            "text/plain": [
              "<tf.Tensor: shape=(10,), dtype=float32, numpy=\n",
              "array([17.558258 , 14.1160555, 11.708948 , 10.336929 , 10.       ,\n",
              "       10.698161 , 12.447118 , 15.333002 , 19.253975 , 23.841698 ],\n",
              "      dtype=float32)>"
            ]
          },
          "metadata": {},
          "execution_count": 36
        }
      ]
    },
    {
      "cell_type": "code",
      "source": [
        "y_test.shape"
      ],
      "metadata": {
        "colab": {
          "base_uri": "https://localhost:8080/"
        },
        "id": "k2GPPeTULC1b",
        "outputId": "8299a34f-1478-4f70-c1a5-65fe5fc1358d"
      },
      "execution_count": 37,
      "outputs": [
        {
          "output_type": "execute_result",
          "data": {
            "text/plain": [
              "TensorShape([10])"
            ]
          },
          "metadata": {},
          "execution_count": 37
        }
      ]
    },
    {
      "cell_type": "code",
      "source": [
        "y_pred.shape"
      ],
      "metadata": {
        "colab": {
          "base_uri": "https://localhost:8080/"
        },
        "id": "MMICjj83Lz8c",
        "outputId": "03d95857-ca41-4451-960a-0681edf73d1f"
      },
      "execution_count": 38,
      "outputs": [
        {
          "output_type": "execute_result",
          "data": {
            "text/plain": [
              "(10, 1)"
            ]
          },
          "metadata": {},
          "execution_count": 38
        }
      ]
    },
    {
      "cell_type": "code",
      "source": [
        "tf.squeeze(y_pred)"
      ],
      "metadata": {
        "colab": {
          "base_uri": "https://localhost:8080/"
        },
        "id": "rFc3hvJDL2Tz",
        "outputId": "d56e2e1f-9b50-43f3-c4ae-68ad1f5b54af"
      },
      "execution_count": 39,
      "outputs": [
        {
          "output_type": "execute_result",
          "data": {
            "text/plain": [
              "<tf.Tensor: shape=(10,), dtype=float32, numpy=\n",
              "array([ 70.55218 ,  75.13991 ,  79.72763 ,  84.31535 ,  88.903076,\n",
              "        93.49081 ,  98.07853 , 102.66625 , 107.253975, 111.8417  ],\n",
              "      dtype=float32)>"
            ]
          },
          "metadata": {},
          "execution_count": 39
        }
      ]
    },
    {
      "cell_type": "code",
      "source": [
        "mae = tf.metrics.mean_absolute_error(y_true= y_test,\n",
        "                                     y_pred= tf.squeeze(y_pred))"
      ],
      "metadata": {
        "id": "AmuYyx04MR2D"
      },
      "execution_count": 40,
      "outputs": []
    },
    {
      "cell_type": "code",
      "source": [
        "mae"
      ],
      "metadata": {
        "colab": {
          "base_uri": "https://localhost:8080/"
        },
        "id": "yjxqwU_WM2tx",
        "outputId": "a6c49d36-3696-494e-a240-0483d6652f65"
      },
      "execution_count": 41,
      "outputs": [
        {
          "output_type": "execute_result",
          "data": {
            "text/plain": [
              "<tf.Tensor: shape=(), dtype=float32, numpy=3.1969407>"
            ]
          },
          "metadata": {},
          "execution_count": 41
        }
      ]
    },
    {
      "cell_type": "code",
      "source": [
        "mse = tf.metrics.mean_squared_error(y_true= y_test,\n",
        "                                    y_pred = tf.squeeze(y_pred))\n",
        "mse"
      ],
      "metadata": {
        "colab": {
          "base_uri": "https://localhost:8080/"
        },
        "id": "50uwA5ntM3pY",
        "outputId": "ea85ab33-8bae-4f65-a245-e5514905f253"
      },
      "execution_count": 42,
      "outputs": [
        {
          "output_type": "execute_result",
          "data": {
            "text/plain": [
              "<tf.Tensor: shape=(), dtype=float32, numpy=13.070143>"
            ]
          },
          "metadata": {},
          "execution_count": 42
        }
      ]
    },
    {
      "cell_type": "code",
      "source": [
        "# let's make some function to reuse MAE and MSE\n",
        "\n",
        "def mae(y_test,y_pred):\n",
        "  return tf.metrics.mean_absolute_error(y_true= y_test,\n",
        "                                        y_pred = tf.squeeze(y_pred))\n",
        "  \n",
        "def mse(y_test,y_pred):\n",
        "  return tf.metrics.mean_squared_error(y_true = y_test,\n",
        "                                        y_pred  = tf.squeeze(y_pred))"
      ],
      "metadata": {
        "id": "ZFDVqhgYNrNT"
      },
      "execution_count": 55,
      "outputs": []
    },
    {
      "cell_type": "markdown",
      "source": [
        "###run experiments to improve our model"
      ],
      "metadata": {
        "id": "GH5_s4KVPFQH"
      }
    },
    {
      "cell_type": "code",
      "source": [
        "tf.random.set_seed(42)\n",
        "\n",
        "model_1 = tf.keras.Sequential([\n",
        "    tf.keras.layers.Dense(1)\n",
        "])\n",
        "\n",
        "model_1.compile(loss = tf.keras.losses.mae,\n",
        "                optimizer= tf.keras.optimizers.SGD(),\n",
        "                metrics= [\"mae\"])\n",
        "\n",
        "model_1.fit(tf.expand_dims(X_train,axis=-1), y_train, epochs= 100)"
      ],
      "metadata": {
        "colab": {
          "base_uri": "https://localhost:8080/"
        },
        "id": "NjqY4YsqQufV",
        "outputId": "82b6bd83-66b2-40e5-af72-089f82f8d23e"
      },
      "execution_count": 56,
      "outputs": [
        {
          "output_type": "stream",
          "name": "stdout",
          "text": [
            "Epoch 1/100\n",
            "2/2 [==============================] - 0s 8ms/step - loss: 15.9024 - mae: 15.9024\n",
            "Epoch 2/100\n",
            "2/2 [==============================] - 0s 10ms/step - loss: 11.2837 - mae: 11.2837\n",
            "Epoch 3/100\n",
            "2/2 [==============================] - 0s 6ms/step - loss: 11.1074 - mae: 11.1074\n",
            "Epoch 4/100\n",
            "2/2 [==============================] - 0s 3ms/step - loss: 9.2991 - mae: 9.2991\n",
            "Epoch 5/100\n",
            "2/2 [==============================] - 0s 5ms/step - loss: 10.1677 - mae: 10.1677\n",
            "Epoch 6/100\n",
            "2/2 [==============================] - 0s 4ms/step - loss: 9.4303 - mae: 9.4303\n",
            "Epoch 7/100\n",
            "2/2 [==============================] - 0s 4ms/step - loss: 8.5704 - mae: 8.5704\n",
            "Epoch 8/100\n",
            "2/2 [==============================] - 0s 4ms/step - loss: 9.0442 - mae: 9.0442\n",
            "Epoch 9/100\n",
            "2/2 [==============================] - 0s 5ms/step - loss: 18.7517 - mae: 18.7517\n",
            "Epoch 10/100\n",
            "2/2 [==============================] - 0s 5ms/step - loss: 10.1142 - mae: 10.1142\n",
            "Epoch 11/100\n",
            "2/2 [==============================] - 0s 5ms/step - loss: 8.3980 - mae: 8.3980\n",
            "Epoch 12/100\n",
            "2/2 [==============================] - 0s 5ms/step - loss: 10.6639 - mae: 10.6639\n",
            "Epoch 13/100\n",
            "2/2 [==============================] - 0s 5ms/step - loss: 9.7977 - mae: 9.7977\n",
            "Epoch 14/100\n",
            "2/2 [==============================] - 0s 5ms/step - loss: 16.0103 - mae: 16.0103\n",
            "Epoch 15/100\n",
            "2/2 [==============================] - 0s 5ms/step - loss: 11.4068 - mae: 11.4068\n",
            "Epoch 16/100\n",
            "2/2 [==============================] - 0s 5ms/step - loss: 8.5393 - mae: 8.5393\n",
            "Epoch 17/100\n",
            "2/2 [==============================] - 0s 10ms/step - loss: 13.6348 - mae: 13.6348\n",
            "Epoch 18/100\n",
            "2/2 [==============================] - 0s 12ms/step - loss: 11.4629 - mae: 11.4629\n",
            "Epoch 19/100\n",
            "2/2 [==============================] - 0s 11ms/step - loss: 17.9148 - mae: 17.9148\n",
            "Epoch 20/100\n",
            "2/2 [==============================] - 0s 9ms/step - loss: 15.0494 - mae: 15.0494\n",
            "Epoch 21/100\n",
            "2/2 [==============================] - 0s 10ms/step - loss: 11.0216 - mae: 11.0216\n",
            "Epoch 22/100\n",
            "2/2 [==============================] - 0s 12ms/step - loss: 8.1558 - mae: 8.1558\n",
            "Epoch 23/100\n",
            "2/2 [==============================] - 0s 8ms/step - loss: 9.5138 - mae: 9.5138\n",
            "Epoch 24/100\n",
            "2/2 [==============================] - 0s 9ms/step - loss: 7.6617 - mae: 7.6617\n",
            "Epoch 25/100\n",
            "2/2 [==============================] - 0s 8ms/step - loss: 13.1859 - mae: 13.1859\n",
            "Epoch 26/100\n",
            "2/2 [==============================] - 0s 5ms/step - loss: 16.4211 - mae: 16.4211\n",
            "Epoch 27/100\n",
            "2/2 [==============================] - 0s 3ms/step - loss: 13.1660 - mae: 13.1660\n",
            "Epoch 28/100\n",
            "2/2 [==============================] - 0s 4ms/step - loss: 14.2559 - mae: 14.2559\n",
            "Epoch 29/100\n",
            "2/2 [==============================] - 0s 4ms/step - loss: 10.0670 - mae: 10.0670\n",
            "Epoch 30/100\n",
            "2/2 [==============================] - 0s 4ms/step - loss: 16.3409 - mae: 16.3409\n",
            "Epoch 31/100\n",
            "2/2 [==============================] - 0s 4ms/step - loss: 23.6444 - mae: 23.6444\n",
            "Epoch 32/100\n",
            "2/2 [==============================] - 0s 4ms/step - loss: 7.6215 - mae: 7.6215\n",
            "Epoch 33/100\n",
            "2/2 [==============================] - 0s 4ms/step - loss: 9.3221 - mae: 9.3221\n",
            "Epoch 34/100\n",
            "2/2 [==============================] - 0s 5ms/step - loss: 13.7313 - mae: 13.7313\n",
            "Epoch 35/100\n",
            "2/2 [==============================] - 0s 5ms/step - loss: 11.1276 - mae: 11.1276\n",
            "Epoch 36/100\n",
            "2/2 [==============================] - 0s 5ms/step - loss: 13.3222 - mae: 13.3222\n",
            "Epoch 37/100\n",
            "2/2 [==============================] - 0s 5ms/step - loss: 9.4763 - mae: 9.4763\n",
            "Epoch 38/100\n",
            "2/2 [==============================] - 0s 4ms/step - loss: 10.1381 - mae: 10.1381\n",
            "Epoch 39/100\n",
            "2/2 [==============================] - 0s 6ms/step - loss: 10.1793 - mae: 10.1793\n",
            "Epoch 40/100\n",
            "2/2 [==============================] - 0s 5ms/step - loss: 10.9137 - mae: 10.9137\n",
            "Epoch 41/100\n",
            "2/2 [==============================] - 0s 4ms/step - loss: 7.9063 - mae: 7.9063\n",
            "Epoch 42/100\n",
            "2/2 [==============================] - 0s 5ms/step - loss: 10.0914 - mae: 10.0914\n",
            "Epoch 43/100\n",
            "2/2 [==============================] - 0s 4ms/step - loss: 8.7006 - mae: 8.7006\n",
            "Epoch 44/100\n",
            "2/2 [==============================] - 0s 4ms/step - loss: 12.2047 - mae: 12.2047\n",
            "Epoch 45/100\n",
            "2/2 [==============================] - 0s 10ms/step - loss: 13.7970 - mae: 13.7970\n",
            "Epoch 46/100\n",
            "2/2 [==============================] - 0s 5ms/step - loss: 8.4687 - mae: 8.4687\n",
            "Epoch 47/100\n",
            "2/2 [==============================] - 0s 4ms/step - loss: 9.1330 - mae: 9.1330\n",
            "Epoch 48/100\n",
            "2/2 [==============================] - 0s 7ms/step - loss: 10.6190 - mae: 10.6190\n",
            "Epoch 49/100\n",
            "2/2 [==============================] - 0s 5ms/step - loss: 7.7503 - mae: 7.7503\n",
            "Epoch 50/100\n",
            "2/2 [==============================] - 0s 4ms/step - loss: 9.5407 - mae: 9.5407\n",
            "Epoch 51/100\n",
            "2/2 [==============================] - 0s 4ms/step - loss: 9.1584 - mae: 9.1584\n",
            "Epoch 52/100\n",
            "2/2 [==============================] - 0s 4ms/step - loss: 16.3630 - mae: 16.3630\n",
            "Epoch 53/100\n",
            "2/2 [==============================] - 0s 5ms/step - loss: 14.1299 - mae: 14.1299\n",
            "Epoch 54/100\n",
            "2/2 [==============================] - 0s 4ms/step - loss: 21.1247 - mae: 21.1247\n",
            "Epoch 55/100\n",
            "2/2 [==============================] - 0s 5ms/step - loss: 16.3961 - mae: 16.3961\n",
            "Epoch 56/100\n",
            "2/2 [==============================] - 0s 5ms/step - loss: 9.9806 - mae: 9.9806\n",
            "Epoch 57/100\n",
            "2/2 [==============================] - 0s 4ms/step - loss: 9.9606 - mae: 9.9606\n",
            "Epoch 58/100\n",
            "2/2 [==============================] - 0s 4ms/step - loss: 9.2209 - mae: 9.2209\n",
            "Epoch 59/100\n",
            "2/2 [==============================] - 0s 4ms/step - loss: 8.4239 - mae: 8.4239\n",
            "Epoch 60/100\n",
            "2/2 [==============================] - 0s 5ms/step - loss: 9.4869 - mae: 9.4869\n",
            "Epoch 61/100\n",
            "2/2 [==============================] - 0s 4ms/step - loss: 11.4355 - mae: 11.4355\n",
            "Epoch 62/100\n",
            "2/2 [==============================] - 0s 5ms/step - loss: 11.6887 - mae: 11.6887\n",
            "Epoch 63/100\n",
            "2/2 [==============================] - 0s 4ms/step - loss: 7.0838 - mae: 7.0838\n",
            "Epoch 64/100\n",
            "2/2 [==============================] - 0s 4ms/step - loss: 16.9675 - mae: 16.9675\n",
            "Epoch 65/100\n",
            "2/2 [==============================] - 0s 4ms/step - loss: 12.4599 - mae: 12.4599\n",
            "Epoch 66/100\n",
            "2/2 [==============================] - 0s 5ms/step - loss: 13.0184 - mae: 13.0184\n",
            "Epoch 67/100\n",
            "2/2 [==============================] - 0s 7ms/step - loss: 8.0600 - mae: 8.0600\n",
            "Epoch 68/100\n",
            "2/2 [==============================] - 0s 5ms/step - loss: 10.1888 - mae: 10.1888\n",
            "Epoch 69/100\n",
            "2/2 [==============================] - 0s 4ms/step - loss: 12.3633 - mae: 12.3633\n",
            "Epoch 70/100\n",
            "2/2 [==============================] - 0s 5ms/step - loss: 9.0516 - mae: 9.0516\n",
            "Epoch 71/100\n",
            "2/2 [==============================] - 0s 5ms/step - loss: 10.0378 - mae: 10.0378\n",
            "Epoch 72/100\n",
            "2/2 [==============================] - 0s 5ms/step - loss: 10.0516 - mae: 10.0516\n",
            "Epoch 73/100\n",
            "2/2 [==============================] - 0s 4ms/step - loss: 12.6151 - mae: 12.6151\n",
            "Epoch 74/100\n",
            "2/2 [==============================] - 0s 5ms/step - loss: 10.3819 - mae: 10.3819\n",
            "Epoch 75/100\n",
            "2/2 [==============================] - 0s 5ms/step - loss: 9.7229 - mae: 9.7229\n",
            "Epoch 76/100\n",
            "2/2 [==============================] - 0s 4ms/step - loss: 11.2252 - mae: 11.2252\n",
            "Epoch 77/100\n",
            "2/2 [==============================] - 0s 4ms/step - loss: 8.3642 - mae: 8.3642\n",
            "Epoch 78/100\n",
            "2/2 [==============================] - 0s 4ms/step - loss: 9.1274 - mae: 9.1274\n",
            "Epoch 79/100\n",
            "2/2 [==============================] - 0s 4ms/step - loss: 19.5039 - mae: 19.5039\n",
            "Epoch 80/100\n",
            "2/2 [==============================] - 0s 5ms/step - loss: 14.8945 - mae: 14.8945\n",
            "Epoch 81/100\n",
            "2/2 [==============================] - 0s 4ms/step - loss: 9.0034 - mae: 9.0034\n",
            "Epoch 82/100\n",
            "2/2 [==============================] - 0s 4ms/step - loss: 13.0206 - mae: 13.0206\n",
            "Epoch 83/100\n",
            "2/2 [==============================] - 0s 5ms/step - loss: 7.9299 - mae: 7.9299\n",
            "Epoch 84/100\n",
            "2/2 [==============================] - 0s 4ms/step - loss: 7.6872 - mae: 7.6872\n",
            "Epoch 85/100\n",
            "2/2 [==============================] - 0s 4ms/step - loss: 10.0328 - mae: 10.0328\n",
            "Epoch 86/100\n",
            "2/2 [==============================] - 0s 4ms/step - loss: 9.2433 - mae: 9.2433\n",
            "Epoch 87/100\n",
            "2/2 [==============================] - 0s 4ms/step - loss: 12.0209 - mae: 12.0209\n",
            "Epoch 88/100\n",
            "2/2 [==============================] - 0s 4ms/step - loss: 10.6389 - mae: 10.6389\n",
            "Epoch 89/100\n",
            "2/2 [==============================] - 0s 4ms/step - loss: 7.2667 - mae: 7.2667\n",
            "Epoch 90/100\n",
            "2/2 [==============================] - 0s 4ms/step - loss: 12.7786 - mae: 12.7786\n",
            "Epoch 91/100\n",
            "2/2 [==============================] - 0s 5ms/step - loss: 7.3481 - mae: 7.3481\n",
            "Epoch 92/100\n",
            "2/2 [==============================] - 0s 5ms/step - loss: 7.7175 - mae: 7.7175\n",
            "Epoch 93/100\n",
            "2/2 [==============================] - 0s 12ms/step - loss: 7.1263 - mae: 7.1263\n",
            "Epoch 94/100\n",
            "2/2 [==============================] - 0s 6ms/step - loss: 12.6190 - mae: 12.6190\n",
            "Epoch 95/100\n",
            "2/2 [==============================] - 0s 4ms/step - loss: 10.0912 - mae: 10.0912\n",
            "Epoch 96/100\n",
            "2/2 [==============================] - 0s 3ms/step - loss: 9.3558 - mae: 9.3558\n",
            "Epoch 97/100\n",
            "2/2 [==============================] - 0s 4ms/step - loss: 12.6834 - mae: 12.6834\n",
            "Epoch 98/100\n",
            "2/2 [==============================] - 0s 4ms/step - loss: 8.6762 - mae: 8.6762\n",
            "Epoch 99/100\n",
            "2/2 [==============================] - 0s 4ms/step - loss: 9.4693 - mae: 9.4693\n",
            "Epoch 100/100\n",
            "2/2 [==============================] - 0s 4ms/step - loss: 8.7067 - mae: 8.7067\n"
          ]
        },
        {
          "output_type": "execute_result",
          "data": {
            "text/plain": [
              "<keras.callbacks.History at 0x7f991c3aee90>"
            ]
          },
          "metadata": {},
          "execution_count": 56
        }
      ]
    },
    {
      "cell_type": "code",
      "source": [
        "y_pred_1 = model_1.predict(X_test)\n",
        "plot_predictions(predictions= y_pred_1)"
      ],
      "metadata": {
        "colab": {
          "base_uri": "https://localhost:8080/",
          "height": 428
        },
        "id": "5dD6XdWKSaBH",
        "outputId": "d3be8440-9993-4516-a9a0-6d9d9901faa8"
      },
      "execution_count": 57,
      "outputs": [
        {
          "output_type": "display_data",
          "data": {
            "text/plain": [
              "<Figure size 720x504 with 1 Axes>"
            ],
            "image/png": "[encoded data removed]"
          },
          "metadata": {
            "needs_background": "light"
          }
        }
      ]
    },
    {
      "cell_type": "code",
      "source": [
        "# calculate model_1 evaluation metrics\n",
        "\n",
        "mae_1 = mae(y_test,y_pred_1)\n",
        "mse_1 = mse(y_test,y_pred_1)\n",
        "mae_1, mse_1"
      ],
      "metadata": {
        "colab": {
          "base_uri": "https://localhost:8080/"
        },
        "id": "UF-R0YTKrtYE",
        "outputId": "acfa4761-d9a8-4142-ce35-62fc68a737e0"
      },
      "execution_count": 59,
      "outputs": [
        {
          "output_type": "execute_result",
          "data": {
            "text/plain": [
              "(<tf.Tensor: shape=(), dtype=float32, numpy=18.745327>,\n",
              " <tf.Tensor: shape=(), dtype=float32, numpy=353.57336>)"
            ]
          },
          "metadata": {},
          "execution_count": 59
        }
      ]
    },
    {
      "cell_type": "code",
      "source": [
        "# create model_2 \n",
        "\n",
        "tf.random.set_seed(42)\n",
        "\n",
        "model_2 = tf.keras.Sequential([\n",
        "    tf.keras.layers.Dense(10),\n",
        "    tf.keras.layers.Dense(1)\n",
        "])\n",
        "\n",
        "model_2.compile(loss = tf.keras.losses.mae,\n",
        "                optimizer= tf.keras.optimizers.SGD(),\n",
        "                metrics = ['mse'])\n",
        "\n",
        "model_2.fit(tf.expand_dims(X_train, axis=-1),y_train, epochs=100)"
      ],
      "metadata": {
        "colab": {
          "base_uri": "https://localhost:8080/"
        },
        "id": "4-H02VMys28i",
        "outputId": "5150c57c-1097-487a-c2d2-c6e52ece4ecf"
      },
      "execution_count": 61,
      "outputs": [
        {
          "output_type": "stream",
          "name": "stdout",
          "text": [
            "Epoch 1/100\n",
            "2/2 [==============================] - 1s 19ms/step - loss: 27.4058 - mse: 1084.1482\n",
            "Epoch 2/100\n",
            "2/2 [==============================] - 0s 10ms/step - loss: 24.6339 - mse: 777.9203\n",
            "Epoch 3/100\n",
            "2/2 [==============================] - 0s 7ms/step - loss: 29.8935 - mse: 1334.8955\n",
            "Epoch 4/100\n",
            "2/2 [==============================] - 0s 4ms/step - loss: 27.4055 - mse: 1106.8035\n",
            "Epoch 5/100\n",
            "2/2 [==============================] - 0s 6ms/step - loss: 14.9463 - mse: 281.1077\n",
            "Epoch 6/100\n",
            "2/2 [==============================] - 0s 5ms/step - loss: 11.8819 - mse: 168.6621\n",
            "Epoch 7/100\n",
            "2/2 [==============================] - 0s 6ms/step - loss: 11.1988 - mse: 151.3509\n",
            "Epoch 8/100\n",
            "2/2 [==============================] - 0s 5ms/step - loss: 11.0910 - mse: 160.3745\n",
            "Epoch 9/100\n",
            "2/2 [==============================] - 0s 5ms/step - loss: 40.4763 - mse: 2586.0090\n",
            "Epoch 10/100\n",
            "2/2 [==============================] - 0s 5ms/step - loss: 27.8688 - mse: 1094.4382\n",
            "Epoch 11/100\n",
            "2/2 [==============================] - 0s 6ms/step - loss: 10.2473 - mse: 147.9359\n",
            "Epoch 12/100\n",
            "2/2 [==============================] - 0s 5ms/step - loss: 25.2803 - mse: 890.3867\n",
            "Epoch 13/100\n",
            "2/2 [==============================] - 0s 5ms/step - loss: 16.9897 - mse: 399.9678\n",
            "Epoch 14/100\n",
            "2/2 [==============================] - 0s 5ms/step - loss: 25.9217 - mse: 1049.5515\n",
            "Epoch 15/100\n",
            "2/2 [==============================] - 0s 4ms/step - loss: 17.9948 - mse: 450.2580\n",
            "Epoch 16/100\n",
            "2/2 [==============================] - 0s 5ms/step - loss: 7.3510 - mse: 80.6206\n",
            "Epoch 17/100\n",
            "2/2 [==============================] - 0s 4ms/step - loss: 10.8636 - mse: 174.7868\n",
            "Epoch 18/100\n",
            "2/2 [==============================] - 0s 5ms/step - loss: 19.5304 - mse: 565.8053\n",
            "Epoch 19/100\n",
            "2/2 [==============================] - 0s 17ms/step - loss: 10.3469 - mse: 167.7749\n",
            "Epoch 20/100\n",
            "2/2 [==============================] - 0s 14ms/step - loss: 17.6985 - mse: 455.7096\n",
            "Epoch 21/100\n",
            "2/2 [==============================] - 0s 10ms/step - loss: 15.8984 - mse: 347.1929\n",
            "Epoch 22/100\n",
            "2/2 [==============================] - 0s 10ms/step - loss: 14.1991 - mse: 285.1767\n",
            "Epoch 23/100\n",
            "2/2 [==============================] - 0s 8ms/step - loss: 8.7720 - mse: 91.7852\n",
            "Epoch 24/100\n",
            "2/2 [==============================] - 0s 9ms/step - loss: 11.0570 - mse: 153.7430\n",
            "Epoch 25/100\n",
            "2/2 [==============================] - 0s 5ms/step - loss: 12.6838 - mse: 233.2949\n",
            "Epoch 26/100\n",
            "2/2 [==============================] - 0s 8ms/step - loss: 26.1877 - mse: 1024.6091\n",
            "Epoch 27/100\n",
            "2/2 [==============================] - 0s 11ms/step - loss: 11.7432 - mse: 194.8454\n",
            "Epoch 28/100\n",
            "2/2 [==============================] - 0s 7ms/step - loss: 22.8730 - mse: 835.6074\n",
            "Epoch 29/100\n",
            "2/2 [==============================] - 0s 7ms/step - loss: 9.2459 - mse: 96.7786\n",
            "Epoch 30/100\n",
            "2/2 [==============================] - 0s 13ms/step - loss: 29.2641 - mse: 1535.1349\n",
            "Epoch 31/100\n",
            "2/2 [==============================] - 0s 5ms/step - loss: 53.0225 - mse: 5030.2988\n",
            "Epoch 32/100\n",
            "2/2 [==============================] - 0s 8ms/step - loss: 11.9951 - mse: 211.7025\n",
            "Epoch 33/100\n",
            "2/2 [==============================] - 0s 8ms/step - loss: 15.6357 - mse: 337.3666\n",
            "Epoch 34/100\n",
            "2/2 [==============================] - 0s 8ms/step - loss: 12.6925 - mse: 214.4823\n",
            "Epoch 35/100\n",
            "2/2 [==============================] - 0s 5ms/step - loss: 9.2398 - mse: 92.9126\n",
            "Epoch 36/100\n",
            "2/2 [==============================] - 0s 4ms/step - loss: 16.6497 - mse: 403.6573\n",
            "Epoch 37/100\n",
            "2/2 [==============================] - 0s 6ms/step - loss: 11.0382 - mse: 192.3919\n",
            "Epoch 38/100\n",
            "2/2 [==============================] - 0s 7ms/step - loss: 18.1634 - mse: 433.6717\n",
            "Epoch 39/100\n",
            "2/2 [==============================] - 0s 10ms/step - loss: 19.1013 - mse: 529.6439\n",
            "Epoch 40/100\n",
            "2/2 [==============================] - 0s 6ms/step - loss: 20.4324 - mse: 610.1324\n",
            "Epoch 41/100\n",
            "2/2 [==============================] - 0s 6ms/step - loss: 14.9102 - mse: 279.6183\n",
            "Epoch 42/100\n",
            "2/2 [==============================] - 0s 4ms/step - loss: 12.2809 - mse: 186.6180\n",
            "Epoch 43/100\n",
            "2/2 [==============================] - 0s 7ms/step - loss: 10.7333 - mse: 167.0952\n",
            "Epoch 44/100\n",
            "2/2 [==============================] - 0s 9ms/step - loss: 23.0260 - mse: 830.4244\n",
            "Epoch 45/100\n",
            "2/2 [==============================] - 0s 8ms/step - loss: 10.3897 - mse: 128.9549\n",
            "Epoch 46/100\n",
            "2/2 [==============================] - 0s 7ms/step - loss: 11.7904 - mse: 181.9212\n",
            "Epoch 47/100\n",
            "2/2 [==============================] - 0s 7ms/step - loss: 9.6438 - mse: 153.8708\n",
            "Epoch 48/100\n",
            "2/2 [==============================] - 0s 4ms/step - loss: 17.2335 - mse: 402.8494\n",
            "Epoch 49/100\n",
            "2/2 [==============================] - 0s 6ms/step - loss: 9.5729 - mse: 99.8337\n",
            "Epoch 50/100\n",
            "2/2 [==============================] - 0s 5ms/step - loss: 13.8185 - mse: 260.3670\n",
            "Epoch 51/100\n",
            "2/2 [==============================] - 0s 6ms/step - loss: 11.5958 - mse: 154.7956\n",
            "Epoch 52/100\n",
            "2/2 [==============================] - 0s 6ms/step - loss: 30.5538 - mse: 1613.0886\n",
            "Epoch 53/100\n",
            "2/2 [==============================] - 0s 6ms/step - loss: 14.3541 - mse: 302.5293\n",
            "Epoch 54/100\n",
            "2/2 [==============================] - 0s 6ms/step - loss: 23.9713 - mse: 859.3983\n",
            "Epoch 55/100\n",
            "2/2 [==============================] - 0s 6ms/step - loss: 23.1938 - mse: 805.5452\n",
            "Epoch 56/100\n",
            "2/2 [==============================] - 0s 8ms/step - loss: 10.8837 - mse: 170.9834\n",
            "Epoch 57/100\n",
            "2/2 [==============================] - 0s 9ms/step - loss: 12.7445 - mse: 198.7015\n",
            "Epoch 58/100\n",
            "2/2 [==============================] - 0s 5ms/step - loss: 9.5995 - mse: 102.5890\n",
            "Epoch 59/100\n",
            "2/2 [==============================] - 0s 5ms/step - loss: 12.5172 - mse: 216.3367\n",
            "Epoch 60/100\n",
            "2/2 [==============================] - 0s 10ms/step - loss: 12.3200 - mse: 208.6371\n",
            "Epoch 61/100\n",
            "2/2 [==============================] - 0s 11ms/step - loss: 17.4604 - mse: 428.6393\n",
            "Epoch 62/100\n",
            "2/2 [==============================] - 0s 8ms/step - loss: 10.6052 - mse: 136.9777\n",
            "Epoch 63/100\n",
            "2/2 [==============================] - 0s 11ms/step - loss: 10.4893 - mse: 152.4555\n",
            "Epoch 64/100\n",
            "2/2 [==============================] - 0s 8ms/step - loss: 24.8450 - mse: 911.7511\n",
            "Epoch 65/100\n",
            "2/2 [==============================] - 0s 4ms/step - loss: 10.6761 - mse: 142.7374\n",
            "Epoch 66/100\n",
            "2/2 [==============================] - 0s 9ms/step - loss: 21.7809 - mse: 704.4492\n",
            "Epoch 67/100\n",
            "2/2 [==============================] - 0s 12ms/step - loss: 10.7136 - mse: 136.0194\n",
            "Epoch 68/100\n",
            "2/2 [==============================] - 0s 5ms/step - loss: 10.6397 - mse: 149.2300\n",
            "Epoch 69/100\n",
            "2/2 [==============================] - 0s 5ms/step - loss: 22.6914 - mse: 742.1761\n",
            "Epoch 70/100\n",
            "2/2 [==============================] - 0s 9ms/step - loss: 9.3316 - mse: 166.1628\n",
            "Epoch 71/100\n",
            "2/2 [==============================] - 0s 7ms/step - loss: 15.4355 - mse: 323.0843\n",
            "Epoch 72/100\n",
            "2/2 [==============================] - 0s 5ms/step - loss: 6.7437 - mse: 67.0210\n",
            "Epoch 73/100\n",
            "2/2 [==============================] - 0s 5ms/step - loss: 11.6891 - mse: 183.7296\n",
            "Epoch 74/100\n",
            "2/2 [==============================] - 0s 6ms/step - loss: 24.0400 - mse: 908.8992\n",
            "Epoch 75/100\n",
            "2/2 [==============================] - 0s 6ms/step - loss: 9.5896 - mse: 149.3948\n",
            "Epoch 76/100\n",
            "2/2 [==============================] - 0s 5ms/step - loss: 12.4371 - mse: 188.3310\n",
            "Epoch 77/100\n",
            "2/2 [==============================] - 0s 8ms/step - loss: 16.6489 - mse: 429.2708\n",
            "Epoch 78/100\n",
            "2/2 [==============================] - 0s 10ms/step - loss: 9.0614 - mse: 95.4870\n",
            "Epoch 79/100\n",
            "2/2 [==============================] - 0s 7ms/step - loss: 23.9675 - mse: 864.0864\n",
            "Epoch 80/100\n",
            "2/2 [==============================] - 0s 8ms/step - loss: 26.7463 - mse: 1104.4032\n",
            "Epoch 81/100\n",
            "2/2 [==============================] - 0s 11ms/step - loss: 11.6714 - mse: 170.7055\n",
            "Epoch 82/100\n",
            "2/2 [==============================] - 0s 10ms/step - loss: 12.0228 - mse: 211.9191\n",
            "Epoch 83/100\n",
            "2/2 [==============================] - 0s 12ms/step - loss: 17.4218 - mse: 395.5589\n",
            "Epoch 84/100\n",
            "2/2 [==============================] - 0s 13ms/step - loss: 7.2629 - mse: 73.0935\n",
            "Epoch 85/100\n",
            "2/2 [==============================] - 0s 14ms/step - loss: 14.9650 - mse: 312.8361\n",
            "Epoch 86/100\n",
            "2/2 [==============================] - 0s 7ms/step - loss: 15.2862 - mse: 315.3605\n",
            "Epoch 87/100\n",
            "2/2 [==============================] - 0s 5ms/step - loss: 19.1086 - mse: 521.2534\n",
            "Epoch 88/100\n",
            "2/2 [==============================] - 0s 7ms/step - loss: 29.8229 - mse: 1287.1907\n",
            "Epoch 89/100\n",
            "2/2 [==============================] - 0s 8ms/step - loss: 10.1742 - mse: 124.1342\n",
            "Epoch 90/100\n",
            "2/2 [==============================] - 0s 5ms/step - loss: 21.5240 - mse: 663.8611\n",
            "Epoch 91/100\n",
            "2/2 [==============================] - 0s 5ms/step - loss: 10.5716 - mse: 161.7467\n",
            "Epoch 92/100\n",
            "2/2 [==============================] - 0s 4ms/step - loss: 18.3977 - mse: 464.1326\n",
            "Epoch 93/100\n",
            "2/2 [==============================] - 0s 8ms/step - loss: 7.4138 - mse: 81.9820\n",
            "Epoch 94/100\n",
            "2/2 [==============================] - 0s 4ms/step - loss: 17.7380 - mse: 445.7379\n",
            "Epoch 95/100\n",
            "2/2 [==============================] - 0s 4ms/step - loss: 11.1144 - mse: 164.0820\n",
            "Epoch 96/100\n",
            "2/2 [==============================] - 0s 7ms/step - loss: 19.4346 - mse: 510.5842\n",
            "Epoch 97/100\n",
            "2/2 [==============================] - 0s 7ms/step - loss: 12.1593 - mse: 209.9755\n",
            "Epoch 98/100\n",
            "2/2 [==============================] - 0s 13ms/step - loss: 11.5653 - mse: 169.4052\n",
            "Epoch 99/100\n",
            "2/2 [==============================] - 0s 9ms/step - loss: 13.8827 - mse: 265.4630\n",
            "Epoch 100/100\n",
            "2/2 [==============================] - 0s 11ms/step - loss: 20.2277 - mse: 608.8218\n"
          ]
        },
        {
          "output_type": "execute_result",
          "data": {
            "text/plain": [
              "<keras.callbacks.History at 0x7f991ba4d990>"
            ]
          },
          "metadata": {},
          "execution_count": 61
        }
      ]
    },
    {
      "cell_type": "code",
      "source": [
        "# make a plot predictions of model_2\n",
        "\n",
        "y_pred_2 = model_2(X_test)\n",
        "plot_predictions(predictions= y_pred_2)"
      ],
      "metadata": {
        "colab": {
          "base_uri": "https://localhost:8080/",
          "height": 428
        },
        "id": "-iyRZ-g3whow",
        "outputId": "444b4cb9-9f39-44a9-9cbb-db99e1709f39"
      },
      "execution_count": 62,
      "outputs": [
        {
          "output_type": "display_data",
          "data": {
            "text/plain": [
              "<Figure size 720x504 with 1 Axes>"
            ],
            "image/png": "[encoded data removed]"
          },
          "metadata": {
            "needs_background": "light"
          }
        }
      ]
    },
    {
      "cell_type": "code",
      "source": [
        "# calculate evaluation metrics for model_2\n",
        "\n",
        "mae_2 = mae(y_test,y_pred_2)\n",
        "mse_2  = mse(y_test, y_pred_2)\n",
        "mae_2 , mse_2"
      ],
      "metadata": {
        "colab": {
          "base_uri": "https://localhost:8080/"
        },
        "id": "6xyUsZwBxnqK",
        "outputId": "d2de581b-b4cf-4807-eff0-e72402f119af"
      },
      "execution_count": 63,
      "outputs": [
        {
          "output_type": "execute_result",
          "data": {
            "text/plain": [
              "(<tf.Tensor: shape=(), dtype=float32, numpy=3.1969407>,\n",
              " <tf.Tensor: shape=(), dtype=float32, numpy=13.070143>)"
            ]
          },
          "metadata": {},
          "execution_count": 63
        }
      ]
    },
    {
      "cell_type": "code",
      "source": [
        "# create model_3 \n",
        "\n",
        "model_3 = tf.keras.Sequential([\n",
        "    tf.keras.layers.Dense(10),\n",
        "    tf.keras.layers.Dense(1)\n",
        "])\n",
        "\n",
        "model_3.compile(loss= tf.keras.losses.mae,\n",
        "                optimizer= tf.keras.optimizers.SGD(),\n",
        "                metrics = ['mae'])\n",
        "\n",
        "model_3.fit(tf.expand_dims(X_train, axis= -1 ), y_train, epochs = 500)"
      ],
      "metadata": {
        "colab": {
          "base_uri": "https://localhost:8080/"
        },
        "id": "6x9Wp1qIzRCP",
        "outputId": "7b156021-d483-4d50-bc30-46dafa6a5a01"
      },
      "execution_count": 64,
      "outputs": [
        {
          "output_type": "stream",
          "name": "stdout",
          "text": [
            "Epoch 1/500\n",
            "2/2 [==============================] - 1s 12ms/step - loss: 42.5822 - mae: 42.5822\n",
            "Epoch 2/500\n",
            "2/2 [==============================] - 0s 4ms/step - loss: 10.9331 - mae: 10.9331\n",
            "Epoch 3/500\n",
            "2/2 [==============================] - 0s 12ms/step - loss: 26.9259 - mae: 26.9259\n",
            "Epoch 4/500\n",
            "2/2 [==============================] - 0s 15ms/step - loss: 13.6703 - mae: 13.6703\n",
            "Epoch 5/500\n",
            "2/2 [==============================] - 0s 9ms/step - loss: 15.1926 - mae: 15.1926\n",
            "Epoch 6/500\n",
            "2/2 [==============================] - 0s 4ms/step - loss: 12.0801 - mae: 12.0801\n",
            "Epoch 7/500\n",
            "2/2 [==============================] - 0s 4ms/step - loss: 11.4040 - mae: 11.4040\n",
            "Epoch 8/500\n",
            "2/2 [==============================] - 0s 6ms/step - loss: 11.1956 - mae: 11.1956\n",
            "Epoch 9/500\n",
            "2/2 [==============================] - 0s 5ms/step - loss: 41.6513 - mae: 41.6513\n",
            "Epoch 10/500\n",
            "2/2 [==============================] - 0s 6ms/step - loss: 28.8935 - mae: 28.8935\n",
            "Epoch 11/500\n",
            "2/2 [==============================] - 0s 6ms/step - loss: 8.5332 - mae: 8.5332\n",
            "Epoch 12/500\n",
            "2/2 [==============================] - 0s 7ms/step - loss: 27.4635 - mae: 27.4635\n",
            "Epoch 13/500\n",
            "2/2 [==============================] - 0s 7ms/step - loss: 12.1139 - mae: 12.1139\n",
            "Epoch 14/500\n",
            "2/2 [==============================] - 0s 7ms/step - loss: 34.8373 - mae: 34.8373\n",
            "Epoch 15/500\n",
            "2/2 [==============================] - 0s 6ms/step - loss: 22.6692 - mae: 22.6692\n",
            "Epoch 16/500\n",
            "2/2 [==============================] - 0s 6ms/step - loss: 9.9359 - mae: 9.9359\n",
            "Epoch 17/500\n",
            "2/2 [==============================] - 0s 7ms/step - loss: 17.8992 - mae: 17.8992\n",
            "Epoch 18/500\n",
            "2/2 [==============================] - 0s 7ms/step - loss: 14.3769 - mae: 14.3769\n",
            "Epoch 19/500\n",
            "2/2 [==============================] - 0s 7ms/step - loss: 14.4871 - mae: 14.4871\n",
            "Epoch 20/500\n",
            "2/2 [==============================] - 0s 5ms/step - loss: 10.4799 - mae: 10.4799\n",
            "Epoch 21/500\n",
            "2/2 [==============================] - 0s 8ms/step - loss: 15.2574 - mae: 15.2574\n",
            "Epoch 22/500\n",
            "2/2 [==============================] - 0s 11ms/step - loss: 15.6024 - mae: 15.6024\n",
            "Epoch 23/500\n",
            "2/2 [==============================] - 0s 8ms/step - loss: 9.2279 - mae: 9.2279\n",
            "Epoch 24/500\n",
            "2/2 [==============================] - 0s 8ms/step - loss: 17.2281 - mae: 17.2281\n",
            "Epoch 25/500\n",
            "2/2 [==============================] - 0s 6ms/step - loss: 15.9113 - mae: 15.9113\n",
            "Epoch 26/500\n",
            "2/2 [==============================] - 0s 5ms/step - loss: 20.8721 - mae: 20.8721\n",
            "Epoch 27/500\n",
            "2/2 [==============================] - 0s 8ms/step - loss: 26.0935 - mae: 26.0935\n",
            "Epoch 28/500\n",
            "2/2 [==============================] - 0s 5ms/step - loss: 18.5731 - mae: 18.5731\n",
            "Epoch 29/500\n",
            "2/2 [==============================] - 0s 4ms/step - loss: 9.2419 - mae: 9.2419\n",
            "Epoch 30/500\n",
            "2/2 [==============================] - 0s 6ms/step - loss: 29.1981 - mae: 29.1981\n",
            "Epoch 31/500\n",
            "2/2 [==============================] - 0s 5ms/step - loss: 52.8950 - mae: 52.8950\n",
            "Epoch 32/500\n",
            "2/2 [==============================] - 0s 7ms/step - loss: 11.9662 - mae: 11.9662\n",
            "Epoch 33/500\n",
            "2/2 [==============================] - 0s 6ms/step - loss: 15.5894 - mae: 15.5894\n",
            "Epoch 34/500\n",
            "2/2 [==============================] - 0s 6ms/step - loss: 12.6582 - mae: 12.6582\n",
            "Epoch 35/500\n",
            "2/2 [==============================] - 0s 10ms/step - loss: 9.2225 - mae: 9.2225\n",
            "Epoch 36/500\n",
            "2/2 [==============================] - 0s 7ms/step - loss: 16.5907 - mae: 16.5907\n",
            "Epoch 37/500\n",
            "2/2 [==============================] - 0s 9ms/step - loss: 11.0521 - mae: 11.0521\n",
            "Epoch 38/500\n",
            "2/2 [==============================] - 0s 6ms/step - loss: 18.1794 - mae: 18.1794\n",
            "Epoch 39/500\n",
            "2/2 [==============================] - 0s 6ms/step - loss: 19.1155 - mae: 19.1155\n",
            "Epoch 40/500\n",
            "2/2 [==============================] - 0s 5ms/step - loss: 20.4601 - mae: 20.4601\n",
            "Epoch 41/500\n",
            "2/2 [==============================] - 0s 5ms/step - loss: 14.8707 - mae: 14.8707\n",
            "Epoch 42/500\n",
            "2/2 [==============================] - 0s 5ms/step - loss: 12.2499 - mae: 12.2499\n",
            "Epoch 43/500\n",
            "2/2 [==============================] - 0s 5ms/step - loss: 10.7146 - mae: 10.7146\n",
            "Epoch 44/500\n",
            "2/2 [==============================] - 0s 6ms/step - loss: 22.9474 - mae: 22.9474\n",
            "Epoch 45/500\n",
            "2/2 [==============================] - 0s 6ms/step - loss: 10.3634 - mae: 10.3634\n",
            "Epoch 46/500\n",
            "2/2 [==============================] - 0s 6ms/step - loss: 11.7521 - mae: 11.7521\n",
            "Epoch 47/500\n",
            "2/2 [==============================] - 0s 11ms/step - loss: 9.6556 - mae: 9.6556\n",
            "Epoch 48/500\n",
            "2/2 [==============================] - 0s 8ms/step - loss: 17.2632 - mae: 17.2632\n",
            "Epoch 49/500\n",
            "2/2 [==============================] - 0s 6ms/step - loss: 9.5489 - mae: 9.5489\n",
            "Epoch 50/500\n",
            "2/2 [==============================] - 0s 8ms/step - loss: 13.7777 - mae: 13.7777\n",
            "Epoch 51/500\n",
            "2/2 [==============================] - 0s 8ms/step - loss: 11.5782 - mae: 11.5782\n",
            "Epoch 52/500\n",
            "2/2 [==============================] - 0s 8ms/step - loss: 30.4587 - mae: 30.4587\n",
            "Epoch 53/500\n",
            "2/2 [==============================] - 0s 6ms/step - loss: 14.3112 - mae: 14.3112\n",
            "Epoch 54/500\n",
            "2/2 [==============================] - 0s 7ms/step - loss: 23.8976 - mae: 23.8976\n",
            "Epoch 55/500\n",
            "2/2 [==============================] - 0s 9ms/step - loss: 23.1125 - mae: 23.1125\n",
            "Epoch 56/500\n",
            "2/2 [==============================] - 0s 4ms/step - loss: 10.8542 - mae: 10.8542\n",
            "Epoch 57/500\n",
            "2/2 [==============================] - 0s 8ms/step - loss: 12.7053 - mae: 12.7053\n",
            "Epoch 58/500\n",
            "2/2 [==============================] - 0s 7ms/step - loss: 9.5760 - mae: 9.5760\n",
            "Epoch 59/500\n",
            "2/2 [==============================] - 0s 8ms/step - loss: 12.4807 - mae: 12.4807\n",
            "Epoch 60/500\n",
            "2/2 [==============================] - 0s 5ms/step - loss: 11.8913 - mae: 11.8913\n",
            "Epoch 61/500\n",
            "2/2 [==============================] - 0s 8ms/step - loss: 16.9716 - mae: 16.9716\n",
            "Epoch 62/500\n",
            "2/2 [==============================] - 0s 13ms/step - loss: 10.3876 - mae: 10.3876\n",
            "Epoch 63/500\n",
            "2/2 [==============================] - 0s 7ms/step - loss: 10.3428 - mae: 10.3428\n",
            "Epoch 64/500\n",
            "2/2 [==============================] - 0s 5ms/step - loss: 24.1942 - mae: 24.1942\n",
            "Epoch 65/500\n",
            "2/2 [==============================] - 0s 7ms/step - loss: 10.5224 - mae: 10.5224\n",
            "Epoch 66/500\n",
            "2/2 [==============================] - 0s 11ms/step - loss: 21.2046 - mae: 21.2046\n",
            "Epoch 67/500\n",
            "2/2 [==============================] - 0s 10ms/step - loss: 10.5191 - mae: 10.5191\n",
            "Epoch 68/500\n",
            "2/2 [==============================] - 0s 4ms/step - loss: 14.3680 - mae: 14.3680\n",
            "Epoch 69/500\n",
            "2/2 [==============================] - 0s 7ms/step - loss: 10.6097 - mae: 10.6097\n",
            "Epoch 70/500\n",
            "2/2 [==============================] - 0s 9ms/step - loss: 12.6937 - mae: 12.6937\n",
            "Epoch 71/500\n",
            "2/2 [==============================] - 0s 6ms/step - loss: 13.1234 - mae: 13.1234\n",
            "Epoch 72/500\n",
            "2/2 [==============================] - 0s 4ms/step - loss: 19.6276 - mae: 19.6276\n",
            "Epoch 73/500\n",
            "2/2 [==============================] - 0s 7ms/step - loss: 11.1902 - mae: 11.1902\n",
            "Epoch 74/500\n",
            "2/2 [==============================] - 0s 8ms/step - loss: 21.9121 - mae: 21.9121\n",
            "Epoch 75/500\n",
            "2/2 [==============================] - 0s 7ms/step - loss: 7.1885 - mae: 7.1885\n",
            "Epoch 76/500\n",
            "2/2 [==============================] - 0s 9ms/step - loss: 9.4161 - mae: 9.4161\n",
            "Epoch 77/500\n",
            "2/2 [==============================] - 0s 7ms/step - loss: 22.0473 - mae: 22.0473\n",
            "Epoch 78/500\n",
            "2/2 [==============================] - 0s 4ms/step - loss: 17.7011 - mae: 17.7011\n",
            "Epoch 79/500\n",
            "2/2 [==============================] - 0s 8ms/step - loss: 14.8612 - mae: 14.8612\n",
            "Epoch 80/500\n",
            "2/2 [==============================] - 0s 8ms/step - loss: 25.1842 - mae: 25.1842\n",
            "Epoch 81/500\n",
            "2/2 [==============================] - 0s 9ms/step - loss: 10.9252 - mae: 10.9252\n",
            "Epoch 82/500\n",
            "2/2 [==============================] - 0s 7ms/step - loss: 12.7402 - mae: 12.7402\n",
            "Epoch 83/500\n",
            "2/2 [==============================] - 0s 8ms/step - loss: 17.5086 - mae: 17.5086\n",
            "Epoch 84/500\n",
            "2/2 [==============================] - 0s 8ms/step - loss: 7.2803 - mae: 7.2803\n",
            "Epoch 85/500\n",
            "2/2 [==============================] - 0s 8ms/step - loss: 15.0318 - mae: 15.0318\n",
            "Epoch 86/500\n",
            "2/2 [==============================] - 0s 6ms/step - loss: 15.3400 - mae: 15.3400\n",
            "Epoch 87/500\n",
            "2/2 [==============================] - 0s 9ms/step - loss: 19.2179 - mae: 19.2179\n",
            "Epoch 88/500\n",
            "2/2 [==============================] - 0s 6ms/step - loss: 29.5362 - mae: 29.5362\n",
            "Epoch 89/500\n",
            "2/2 [==============================] - 0s 9ms/step - loss: 10.1332 - mae: 10.1332\n",
            "Epoch 90/500\n",
            "2/2 [==============================] - 0s 9ms/step - loss: 21.2860 - mae: 21.2860\n",
            "Epoch 91/500\n",
            "2/2 [==============================] - 0s 10ms/step - loss: 10.5150 - mae: 10.5150\n",
            "Epoch 92/500\n",
            "2/2 [==============================] - 0s 9ms/step - loss: 18.1815 - mae: 18.1815\n",
            "Epoch 93/500\n",
            "2/2 [==============================] - 0s 9ms/step - loss: 6.5368 - mae: 6.5368\n",
            "Epoch 94/500\n",
            "2/2 [==============================] - 0s 10ms/step - loss: 11.1743 - mae: 11.1743\n",
            "Epoch 95/500\n",
            "2/2 [==============================] - 0s 8ms/step - loss: 24.6366 - mae: 24.6366\n",
            "Epoch 96/500\n",
            "2/2 [==============================] - 0s 8ms/step - loss: 10.7835 - mae: 10.7835\n",
            "Epoch 97/500\n",
            "2/2 [==============================] - 0s 11ms/step - loss: 15.5303 - mae: 15.5303\n",
            "Epoch 98/500\n",
            "2/2 [==============================] - 0s 6ms/step - loss: 9.0533 - mae: 9.0533\n",
            "Epoch 99/500\n",
            "2/2 [==============================] - 0s 5ms/step - loss: 10.8684 - mae: 10.8684\n",
            "Epoch 100/500\n",
            "2/2 [==============================] - 0s 7ms/step - loss: 27.1543 - mae: 27.1543\n",
            "Epoch 101/500\n",
            "2/2 [==============================] - 0s 9ms/step - loss: 15.0985 - mae: 15.0985\n",
            "Epoch 102/500\n",
            "2/2 [==============================] - 0s 8ms/step - loss: 10.6480 - mae: 10.6480\n",
            "Epoch 103/500\n",
            "2/2 [==============================] - 0s 8ms/step - loss: 9.1251 - mae: 9.1251\n",
            "Epoch 104/500\n",
            "2/2 [==============================] - 0s 5ms/step - loss: 23.5916 - mae: 23.5916\n",
            "Epoch 105/500\n",
            "2/2 [==============================] - 0s 7ms/step - loss: 10.7488 - mae: 10.7488\n",
            "Epoch 106/500\n",
            "2/2 [==============================] - 0s 5ms/step - loss: 11.2126 - mae: 11.2126\n",
            "Epoch 107/500\n",
            "2/2 [==============================] - 0s 7ms/step - loss: 21.1606 - mae: 21.1606\n",
            "Epoch 108/500\n",
            "2/2 [==============================] - 0s 4ms/step - loss: 6.3044 - mae: 6.3044\n",
            "Epoch 109/500\n",
            "2/2 [==============================] - 0s 6ms/step - loss: 10.5376 - mae: 10.5376\n",
            "Epoch 110/500\n",
            "2/2 [==============================] - 0s 6ms/step - loss: 10.4890 - mae: 10.4890\n",
            "Epoch 111/500\n",
            "2/2 [==============================] - 0s 6ms/step - loss: 16.6339 - mae: 16.6339\n",
            "Epoch 112/500\n",
            "2/2 [==============================] - 0s 6ms/step - loss: 9.4794 - mae: 9.4794\n",
            "Epoch 113/500\n",
            "2/2 [==============================] - 0s 7ms/step - loss: 17.5285 - mae: 17.5285\n",
            "Epoch 114/500\n",
            "2/2 [==============================] - 0s 5ms/step - loss: 16.8953 - mae: 16.8953\n",
            "Epoch 115/500\n",
            "2/2 [==============================] - 0s 6ms/step - loss: 11.0144 - mae: 11.0144\n",
            "Epoch 116/500\n",
            "2/2 [==============================] - 0s 6ms/step - loss: 22.9330 - mae: 22.9330\n",
            "Epoch 117/500\n",
            "2/2 [==============================] - 0s 5ms/step - loss: 9.4916 - mae: 9.4916\n",
            "Epoch 118/500\n",
            "2/2 [==============================] - 0s 9ms/step - loss: 10.5481 - mae: 10.5481\n",
            "Epoch 119/500\n",
            "2/2 [==============================] - 0s 7ms/step - loss: 8.0094 - mae: 8.0094\n",
            "Epoch 120/500\n",
            "2/2 [==============================] - 0s 6ms/step - loss: 29.2342 - mae: 29.2342\n",
            "Epoch 121/500\n",
            "2/2 [==============================] - 0s 6ms/step - loss: 8.0499 - mae: 8.0499\n",
            "Epoch 122/500\n",
            "2/2 [==============================] - 0s 5ms/step - loss: 27.9400 - mae: 27.9400\n",
            "Epoch 123/500\n",
            "2/2 [==============================] - 0s 7ms/step - loss: 32.4459 - mae: 32.4459\n",
            "Epoch 124/500\n",
            "2/2 [==============================] - 0s 6ms/step - loss: 19.2868 - mae: 19.2868\n",
            "Epoch 125/500\n",
            "2/2 [==============================] - 0s 6ms/step - loss: 9.4754 - mae: 9.4754\n",
            "Epoch 126/500\n",
            "2/2 [==============================] - 0s 5ms/step - loss: 9.5574 - mae: 9.5574\n",
            "Epoch 127/500\n",
            "2/2 [==============================] - 0s 8ms/step - loss: 12.6759 - mae: 12.6759\n",
            "Epoch 128/500\n",
            "2/2 [==============================] - 0s 9ms/step - loss: 12.7723 - mae: 12.7723\n",
            "Epoch 129/500\n",
            "2/2 [==============================] - 0s 5ms/step - loss: 13.9047 - mae: 13.9047\n",
            "Epoch 130/500\n",
            "2/2 [==============================] - 0s 14ms/step - loss: 10.2031 - mae: 10.2031\n",
            "Epoch 131/500\n",
            "2/2 [==============================] - 0s 8ms/step - loss: 21.6633 - mae: 21.6633\n",
            "Epoch 132/500\n",
            "2/2 [==============================] - 0s 6ms/step - loss: 8.2481 - mae: 8.2481\n",
            "Epoch 133/500\n",
            "2/2 [==============================] - 0s 22ms/step - loss: 9.0299 - mae: 9.0299\n",
            "Epoch 134/500\n",
            "2/2 [==============================] - 0s 7ms/step - loss: 16.8696 - mae: 16.8696\n",
            "Epoch 135/500\n",
            "2/2 [==============================] - 0s 7ms/step - loss: 10.6254 - mae: 10.6254\n",
            "Epoch 136/500\n",
            "2/2 [==============================] - 0s 4ms/step - loss: 18.4895 - mae: 18.4895\n",
            "Epoch 137/500\n",
            "2/2 [==============================] - 0s 5ms/step - loss: 23.4743 - mae: 23.4743\n",
            "Epoch 138/500\n",
            "2/2 [==============================] - 0s 9ms/step - loss: 9.2535 - mae: 9.2535\n",
            "Epoch 139/500\n",
            "2/2 [==============================] - 0s 8ms/step - loss: 8.9906 - mae: 8.9906\n",
            "Epoch 140/500\n",
            "2/2 [==============================] - 0s 9ms/step - loss: 16.9579 - mae: 16.9579\n",
            "Epoch 141/500\n",
            "2/2 [==============================] - 0s 10ms/step - loss: 8.2991 - mae: 8.2991\n",
            "Epoch 142/500\n",
            "2/2 [==============================] - 0s 5ms/step - loss: 34.0529 - mae: 34.0529\n",
            "Epoch 143/500\n",
            "2/2 [==============================] - 0s 5ms/step - loss: 23.0925 - mae: 23.0925\n",
            "Epoch 144/500\n",
            "2/2 [==============================] - 0s 8ms/step - loss: 11.3178 - mae: 11.3178\n",
            "Epoch 145/500\n",
            "2/2 [==============================] - 0s 7ms/step - loss: 25.0260 - mae: 25.0260\n",
            "Epoch 146/500\n",
            "2/2 [==============================] - 0s 7ms/step - loss: 11.1395 - mae: 11.1395\n",
            "Epoch 147/500\n",
            "2/2 [==============================] - 0s 8ms/step - loss: 14.0641 - mae: 14.0641\n",
            "Epoch 148/500\n",
            "2/2 [==============================] - 0s 12ms/step - loss: 16.9134 - mae: 16.9134\n",
            "Epoch 149/500\n",
            "2/2 [==============================] - 0s 8ms/step - loss: 9.2440 - mae: 9.2440\n",
            "Epoch 150/500\n",
            "2/2 [==============================] - 0s 10ms/step - loss: 7.9228 - mae: 7.9228\n",
            "Epoch 151/500\n",
            "2/2 [==============================] - 0s 5ms/step - loss: 16.5267 - mae: 16.5267\n",
            "Epoch 152/500\n",
            "2/2 [==============================] - 0s 4ms/step - loss: 9.7869 - mae: 9.7869\n",
            "Epoch 153/500\n",
            "2/2 [==============================] - 0s 8ms/step - loss: 26.8916 - mae: 26.8916\n",
            "Epoch 154/500\n",
            "2/2 [==============================] - 0s 5ms/step - loss: 11.8991 - mae: 11.8991\n",
            "Epoch 155/500\n",
            "2/2 [==============================] - 0s 5ms/step - loss: 15.2670 - mae: 15.2670\n",
            "Epoch 156/500\n",
            "2/2 [==============================] - 0s 5ms/step - loss: 16.6285 - mae: 16.6285\n",
            "Epoch 157/500\n",
            "2/2 [==============================] - 0s 5ms/step - loss: 19.3260 - mae: 19.3260\n",
            "Epoch 158/500\n",
            "2/2 [==============================] - 0s 7ms/step - loss: 8.2555 - mae: 8.2555\n",
            "Epoch 159/500\n",
            "2/2 [==============================] - 0s 14ms/step - loss: 7.9670 - mae: 7.9670\n",
            "Epoch 160/500\n",
            "2/2 [==============================] - 0s 5ms/step - loss: 20.9312 - mae: 20.9312\n",
            "Epoch 161/500\n",
            "2/2 [==============================] - 0s 8ms/step - loss: 23.8384 - mae: 23.8384\n",
            "Epoch 162/500\n",
            "2/2 [==============================] - 0s 7ms/step - loss: 18.7474 - mae: 18.7474\n",
            "Epoch 163/500\n",
            "2/2 [==============================] - 0s 6ms/step - loss: 17.6969 - mae: 17.6969\n",
            "Epoch 164/500\n",
            "2/2 [==============================] - 0s 4ms/step - loss: 11.0904 - mae: 11.0904\n",
            "Epoch 165/500\n",
            "2/2 [==============================] - 0s 10ms/step - loss: 9.5959 - mae: 9.5959\n",
            "Epoch 166/500\n",
            "2/2 [==============================] - 0s 7ms/step - loss: 21.5284 - mae: 21.5284\n",
            "Epoch 167/500\n",
            "2/2 [==============================] - 0s 8ms/step - loss: 26.4465 - mae: 26.4465\n",
            "Epoch 168/500\n",
            "2/2 [==============================] - 0s 7ms/step - loss: 9.8807 - mae: 9.8807\n",
            "Epoch 169/500\n",
            "2/2 [==============================] - 0s 7ms/step - loss: 22.7214 - mae: 22.7214\n",
            "Epoch 170/500\n",
            "2/2 [==============================] - 0s 8ms/step - loss: 10.1229 - mae: 10.1229\n",
            "Epoch 171/500\n",
            "2/2 [==============================] - 0s 8ms/step - loss: 17.9795 - mae: 17.9795\n",
            "Epoch 172/500\n",
            "2/2 [==============================] - 0s 6ms/step - loss: 28.9997 - mae: 28.9997\n",
            "Epoch 173/500\n",
            "2/2 [==============================] - 0s 9ms/step - loss: 16.6552 - mae: 16.6552\n",
            "Epoch 174/500\n",
            "2/2 [==============================] - 0s 8ms/step - loss: 11.1959 - mae: 11.1959\n",
            "Epoch 175/500\n",
            "2/2 [==============================] - 0s 10ms/step - loss: 27.5433 - mae: 27.5433\n",
            "Epoch 176/500\n",
            "2/2 [==============================] - 0s 6ms/step - loss: 8.3104 - mae: 8.3104\n",
            "Epoch 177/500\n",
            "2/2 [==============================] - 0s 5ms/step - loss: 9.2890 - mae: 9.2890\n",
            "Epoch 178/500\n",
            "2/2 [==============================] - 0s 7ms/step - loss: 18.2729 - mae: 18.2729\n",
            "Epoch 179/500\n",
            "2/2 [==============================] - 0s 5ms/step - loss: 10.5415 - mae: 10.5415\n",
            "Epoch 180/500\n",
            "2/2 [==============================] - 0s 6ms/step - loss: 7.9188 - mae: 7.9188\n",
            "Epoch 181/500\n",
            "2/2 [==============================] - 0s 11ms/step - loss: 17.5086 - mae: 17.5086\n",
            "Epoch 182/500\n",
            "2/2 [==============================] - 0s 6ms/step - loss: 11.0546 - mae: 11.0546\n",
            "Epoch 183/500\n",
            "2/2 [==============================] - 0s 9ms/step - loss: 11.7519 - mae: 11.7519\n",
            "Epoch 184/500\n",
            "2/2 [==============================] - 0s 10ms/step - loss: 30.5715 - mae: 30.5715\n",
            "Epoch 185/500\n",
            "2/2 [==============================] - 0s 9ms/step - loss: 7.5400 - mae: 7.5400\n",
            "Epoch 186/500\n",
            "2/2 [==============================] - 0s 8ms/step - loss: 15.9406 - mae: 15.9406\n",
            "Epoch 187/500\n",
            "2/2 [==============================] - 0s 6ms/step - loss: 8.5711 - mae: 8.5711\n",
            "Epoch 188/500\n",
            "2/2 [==============================] - 0s 5ms/step - loss: 28.8885 - mae: 28.8885\n",
            "Epoch 189/500\n",
            "2/2 [==============================] - 0s 9ms/step - loss: 13.1373 - mae: 13.1373\n",
            "Epoch 190/500\n",
            "2/2 [==============================] - 0s 8ms/step - loss: 18.2753 - mae: 18.2753\n",
            "Epoch 191/500\n",
            "2/2 [==============================] - 0s 6ms/step - loss: 13.6973 - mae: 13.6973\n",
            "Epoch 192/500\n",
            "2/2 [==============================] - 0s 4ms/step - loss: 13.6935 - mae: 13.6935\n",
            "Epoch 193/500\n",
            "2/2 [==============================] - 0s 8ms/step - loss: 28.5525 - mae: 28.5525\n",
            "Epoch 194/500\n",
            "2/2 [==============================] - 0s 6ms/step - loss: 7.1046 - mae: 7.1046\n",
            "Epoch 195/500\n",
            "2/2 [==============================] - 0s 9ms/step - loss: 7.0502 - mae: 7.0502\n",
            "Epoch 196/500\n",
            "2/2 [==============================] - 0s 6ms/step - loss: 21.9599 - mae: 21.9599\n",
            "Epoch 197/500\n",
            "2/2 [==============================] - 0s 8ms/step - loss: 20.9412 - mae: 20.9412\n",
            "Epoch 198/500\n",
            "2/2 [==============================] - 0s 10ms/step - loss: 12.5266 - mae: 12.5266\n",
            "Epoch 199/500\n",
            "2/2 [==============================] - 0s 8ms/step - loss: 17.9922 - mae: 17.9922\n",
            "Epoch 200/500\n",
            "2/2 [==============================] - 0s 4ms/step - loss: 13.8247 - mae: 13.8247\n",
            "Epoch 201/500\n",
            "2/2 [==============================] - 0s 9ms/step - loss: 6.0285 - mae: 6.0285\n",
            "Epoch 202/500\n",
            "2/2 [==============================] - 0s 15ms/step - loss: 22.8397 - mae: 22.8397\n",
            "Epoch 203/500\n",
            "2/2 [==============================] - 0s 5ms/step - loss: 8.9404 - mae: 8.9404\n",
            "Epoch 204/500\n",
            "2/2 [==============================] - 0s 10ms/step - loss: 18.8189 - mae: 18.8189\n",
            "Epoch 205/500\n",
            "2/2 [==============================] - 0s 10ms/step - loss: 9.3440 - mae: 9.3440\n",
            "Epoch 206/500\n",
            "2/2 [==============================] - 0s 4ms/step - loss: 10.4134 - mae: 10.4134\n",
            "Epoch 207/500\n",
            "2/2 [==============================] - 0s 8ms/step - loss: 21.1017 - mae: 21.1017\n",
            "Epoch 208/500\n",
            "2/2 [==============================] - 0s 7ms/step - loss: 16.4626 - mae: 16.4626\n",
            "Epoch 209/500\n",
            "2/2 [==============================] - 0s 6ms/step - loss: 14.3688 - mae: 14.3688\n",
            "Epoch 210/500\n",
            "2/2 [==============================] - 0s 6ms/step - loss: 19.3789 - mae: 19.3789\n",
            "Epoch 211/500\n",
            "2/2 [==============================] - 0s 4ms/step - loss: 10.2959 - mae: 10.2959\n",
            "Epoch 212/500\n",
            "2/2 [==============================] - 0s 4ms/step - loss: 20.1656 - mae: 20.1656\n",
            "Epoch 213/500\n",
            "2/2 [==============================] - 0s 8ms/step - loss: 15.0622 - mae: 15.0622\n",
            "Epoch 214/500\n",
            "2/2 [==============================] - 0s 4ms/step - loss: 14.6038 - mae: 14.6038\n",
            "Epoch 215/500\n",
            "2/2 [==============================] - 0s 4ms/step - loss: 23.3325 - mae: 23.3325\n",
            "Epoch 216/500\n",
            "2/2 [==============================] - 0s 5ms/step - loss: 13.3112 - mae: 13.3112\n",
            "Epoch 217/500\n",
            "2/2 [==============================] - 0s 4ms/step - loss: 9.8162 - mae: 9.8162\n",
            "Epoch 218/500\n",
            "2/2 [==============================] - 0s 4ms/step - loss: 12.5853 - mae: 12.5853\n",
            "Epoch 219/500\n",
            "2/2 [==============================] - 0s 4ms/step - loss: 5.3331 - mae: 5.3331\n",
            "Epoch 220/500\n",
            "2/2 [==============================] - 0s 5ms/step - loss: 14.6926 - mae: 14.6926\n",
            "Epoch 221/500\n",
            "2/2 [==============================] - 0s 10ms/step - loss: 33.5385 - mae: 33.5385\n",
            "Epoch 222/500\n",
            "2/2 [==============================] - 0s 8ms/step - loss: 13.8805 - mae: 13.8805\n",
            "Epoch 223/500\n",
            "2/2 [==============================] - 0s 8ms/step - loss: 10.9872 - mae: 10.9872\n",
            "Epoch 224/500\n",
            "2/2 [==============================] - 0s 8ms/step - loss: 14.9380 - mae: 14.9380\n",
            "Epoch 225/500\n",
            "2/2 [==============================] - 0s 8ms/step - loss: 16.9834 - mae: 16.9834\n",
            "Epoch 226/500\n",
            "2/2 [==============================] - 0s 12ms/step - loss: 16.1735 - mae: 16.1735\n",
            "Epoch 227/500\n",
            "2/2 [==============================] - 0s 8ms/step - loss: 16.4892 - mae: 16.4892\n",
            "Epoch 228/500\n",
            "2/2 [==============================] - 0s 6ms/step - loss: 9.9334 - mae: 9.9334\n",
            "Epoch 229/500\n",
            "2/2 [==============================] - 0s 7ms/step - loss: 17.8279 - mae: 17.8279\n",
            "Epoch 230/500\n",
            "2/2 [==============================] - 0s 16ms/step - loss: 15.4489 - mae: 15.4489\n",
            "Epoch 231/500\n",
            "2/2 [==============================] - 0s 8ms/step - loss: 20.8729 - mae: 20.8729\n",
            "Epoch 232/500\n",
            "2/2 [==============================] - 0s 9ms/step - loss: 20.4368 - mae: 20.4368\n",
            "Epoch 233/500\n",
            "2/2 [==============================] - 0s 8ms/step - loss: 15.0925 - mae: 15.0925\n",
            "Epoch 234/500\n",
            "2/2 [==============================] - 0s 8ms/step - loss: 6.9611 - mae: 6.9611\n",
            "Epoch 235/500\n",
            "2/2 [==============================] - 0s 10ms/step - loss: 15.7431 - mae: 15.7431\n",
            "Epoch 236/500\n",
            "2/2 [==============================] - 0s 7ms/step - loss: 6.6844 - mae: 6.6844\n",
            "Epoch 237/500\n",
            "2/2 [==============================] - 0s 7ms/step - loss: 8.5997 - mae: 8.5997\n",
            "Epoch 238/500\n",
            "2/2 [==============================] - 0s 8ms/step - loss: 7.7600 - mae: 7.7600\n",
            "Epoch 239/500\n",
            "2/2 [==============================] - 0s 4ms/step - loss: 15.6674 - mae: 15.6674\n",
            "Epoch 240/500\n",
            "2/2 [==============================] - 0s 5ms/step - loss: 9.0044 - mae: 9.0044\n",
            "Epoch 241/500\n",
            "2/2 [==============================] - 0s 5ms/step - loss: 13.4320 - mae: 13.4320\n",
            "Epoch 242/500\n",
            "2/2 [==============================] - 0s 4ms/step - loss: 8.8925 - mae: 8.8925\n",
            "Epoch 243/500\n",
            "2/2 [==============================] - 0s 5ms/step - loss: 19.3309 - mae: 19.3309\n",
            "Epoch 244/500\n",
            "2/2 [==============================] - 0s 5ms/step - loss: 13.8752 - mae: 13.8752\n",
            "Epoch 245/500\n",
            "2/2 [==============================] - 0s 5ms/step - loss: 14.5270 - mae: 14.5270\n",
            "Epoch 246/500\n",
            "2/2 [==============================] - 0s 4ms/step - loss: 15.6643 - mae: 15.6643\n",
            "Epoch 247/500\n",
            "2/2 [==============================] - 0s 9ms/step - loss: 17.4968 - mae: 17.4968\n",
            "Epoch 248/500\n",
            "2/2 [==============================] - 0s 8ms/step - loss: 13.0650 - mae: 13.0650\n",
            "Epoch 249/500\n",
            "2/2 [==============================] - 0s 11ms/step - loss: 14.4143 - mae: 14.4143\n",
            "Epoch 250/500\n",
            "2/2 [==============================] - 0s 9ms/step - loss: 27.8084 - mae: 27.8084\n",
            "Epoch 251/500\n",
            "2/2 [==============================] - 0s 9ms/step - loss: 7.4941 - mae: 7.4941\n",
            "Epoch 252/500\n",
            "2/2 [==============================] - 0s 6ms/step - loss: 38.2515 - mae: 38.2515\n",
            "Epoch 253/500\n",
            "2/2 [==============================] - 0s 5ms/step - loss: 23.1391 - mae: 23.1391\n",
            "Epoch 254/500\n",
            "2/2 [==============================] - 0s 9ms/step - loss: 7.2848 - mae: 7.2848\n",
            "Epoch 255/500\n",
            "2/2 [==============================] - 0s 11ms/step - loss: 24.6464 - mae: 24.6464\n",
            "Epoch 256/500\n",
            "2/2 [==============================] - 0s 9ms/step - loss: 12.3952 - mae: 12.3952\n",
            "Epoch 257/500\n",
            "2/2 [==============================] - 0s 7ms/step - loss: 10.5623 - mae: 10.5623\n",
            "Epoch 258/500\n",
            "2/2 [==============================] - 0s 9ms/step - loss: 14.1943 - mae: 14.1943\n",
            "Epoch 259/500\n",
            "2/2 [==============================] - 0s 10ms/step - loss: 11.2490 - mae: 11.2490\n",
            "Epoch 260/500\n",
            "2/2 [==============================] - 0s 6ms/step - loss: 31.6272 - mae: 31.6272\n",
            "Epoch 261/500\n",
            "2/2 [==============================] - 0s 23ms/step - loss: 11.1654 - mae: 11.1654\n",
            "Epoch 262/500\n",
            "2/2 [==============================] - 0s 5ms/step - loss: 10.0203 - mae: 10.0203\n",
            "Epoch 263/500\n",
            "2/2 [==============================] - 0s 5ms/step - loss: 8.9338 - mae: 8.9338\n",
            "Epoch 264/500\n",
            "2/2 [==============================] - 0s 5ms/step - loss: 21.5165 - mae: 21.5165\n",
            "Epoch 265/500\n",
            "2/2 [==============================] - 0s 10ms/step - loss: 11.4335 - mae: 11.4335\n",
            "Epoch 266/500\n",
            "2/2 [==============================] - 0s 7ms/step - loss: 13.2669 - mae: 13.2669\n",
            "Epoch 267/500\n",
            "2/2 [==============================] - 0s 8ms/step - loss: 11.0636 - mae: 11.0636\n",
            "Epoch 268/500\n",
            "2/2 [==============================] - 0s 6ms/step - loss: 21.7188 - mae: 21.7188\n",
            "Epoch 269/500\n",
            "2/2 [==============================] - 0s 23ms/step - loss: 32.9129 - mae: 32.9129\n",
            "Epoch 270/500\n",
            "2/2 [==============================] - 0s 7ms/step - loss: 9.7237 - mae: 9.7237\n",
            "Epoch 271/500\n",
            "2/2 [==============================] - 0s 7ms/step - loss: 7.7036 - mae: 7.7036\n",
            "Epoch 272/500\n",
            "2/2 [==============================] - 0s 16ms/step - loss: 28.5088 - mae: 28.5088\n",
            "Epoch 273/500\n",
            "2/2 [==============================] - 0s 6ms/step - loss: 7.3695 - mae: 7.3695\n",
            "Epoch 274/500\n",
            "2/2 [==============================] - 0s 8ms/step - loss: 6.3200 - mae: 6.3200\n",
            "Epoch 275/500\n",
            "2/2 [==============================] - 0s 8ms/step - loss: 37.1489 - mae: 37.1489\n",
            "Epoch 276/500\n",
            "2/2 [==============================] - 0s 10ms/step - loss: 8.2746 - mae: 8.2746\n",
            "Epoch 277/500\n",
            "2/2 [==============================] - 0s 8ms/step - loss: 27.9333 - mae: 27.9333\n",
            "Epoch 278/500\n",
            "2/2 [==============================] - 0s 7ms/step - loss: 10.6131 - mae: 10.6131\n",
            "Epoch 279/500\n",
            "2/2 [==============================] - 0s 6ms/step - loss: 16.0592 - mae: 16.0592\n",
            "Epoch 280/500\n",
            "2/2 [==============================] - 0s 7ms/step - loss: 21.1418 - mae: 21.1418\n",
            "Epoch 281/500\n",
            "2/2 [==============================] - 0s 7ms/step - loss: 24.0278 - mae: 24.0278\n",
            "Epoch 282/500\n",
            "2/2 [==============================] - 0s 11ms/step - loss: 8.2943 - mae: 8.2943\n",
            "Epoch 283/500\n",
            "2/2 [==============================] - 0s 10ms/step - loss: 9.0376 - mae: 9.0376\n",
            "Epoch 284/500\n",
            "2/2 [==============================] - 0s 7ms/step - loss: 22.9683 - mae: 22.9683\n",
            "Epoch 285/500\n",
            "2/2 [==============================] - 0s 6ms/step - loss: 11.8141 - mae: 11.8141\n",
            "Epoch 286/500\n",
            "2/2 [==============================] - 0s 4ms/step - loss: 6.7266 - mae: 6.7266\n",
            "Epoch 287/500\n",
            "2/2 [==============================] - 0s 9ms/step - loss: 20.9356 - mae: 20.9356\n",
            "Epoch 288/500\n",
            "2/2 [==============================] - 0s 15ms/step - loss: 11.1900 - mae: 11.1900\n",
            "Epoch 289/500\n",
            "2/2 [==============================] - 0s 5ms/step - loss: 12.4182 - mae: 12.4182\n",
            "Epoch 290/500\n",
            "2/2 [==============================] - 0s 8ms/step - loss: 16.9540 - mae: 16.9540\n",
            "Epoch 291/500\n",
            "2/2 [==============================] - 0s 5ms/step - loss: 17.3521 - mae: 17.3521\n",
            "Epoch 292/500\n",
            "2/2 [==============================] - 0s 8ms/step - loss: 11.4509 - mae: 11.4509\n",
            "Epoch 293/500\n",
            "2/2 [==============================] - 0s 8ms/step - loss: 14.2686 - mae: 14.2686\n",
            "Epoch 294/500\n",
            "2/2 [==============================] - 0s 6ms/step - loss: 21.1963 - mae: 21.1963\n",
            "Epoch 295/500\n",
            "2/2 [==============================] - 0s 6ms/step - loss: 15.7475 - mae: 15.7475\n",
            "Epoch 296/500\n",
            "2/2 [==============================] - 0s 11ms/step - loss: 5.8710 - mae: 5.8710\n",
            "Epoch 297/500\n",
            "2/2 [==============================] - 0s 4ms/step - loss: 11.8133 - mae: 11.8133\n",
            "Epoch 298/500\n",
            "2/2 [==============================] - 0s 4ms/step - loss: 23.6499 - mae: 23.6499\n",
            "Epoch 299/500\n",
            "2/2 [==============================] - 0s 18ms/step - loss: 16.6366 - mae: 16.6366\n",
            "Epoch 300/500\n",
            "2/2 [==============================] - 0s 8ms/step - loss: 6.7560 - mae: 6.7560\n",
            "Epoch 301/500\n",
            "2/2 [==============================] - 0s 5ms/step - loss: 23.8761 - mae: 23.8761\n",
            "Epoch 302/500\n",
            "2/2 [==============================] - 0s 5ms/step - loss: 7.9915 - mae: 7.9915\n",
            "Epoch 303/500\n",
            "2/2 [==============================] - 0s 4ms/step - loss: 20.4030 - mae: 20.4030\n",
            "Epoch 304/500\n",
            "2/2 [==============================] - 0s 4ms/step - loss: 13.1574 - mae: 13.1574\n",
            "Epoch 305/500\n",
            "2/2 [==============================] - 0s 5ms/step - loss: 6.9126 - mae: 6.9126\n",
            "Epoch 306/500\n",
            "2/2 [==============================] - 0s 4ms/step - loss: 18.5340 - mae: 18.5340\n",
            "Epoch 307/500\n",
            "2/2 [==============================] - 0s 5ms/step - loss: 9.6451 - mae: 9.6451\n",
            "Epoch 308/500\n",
            "2/2 [==============================] - 0s 5ms/step - loss: 20.2383 - mae: 20.2383\n",
            "Epoch 309/500\n",
            "2/2 [==============================] - 0s 4ms/step - loss: 14.2506 - mae: 14.2506\n",
            "Epoch 310/500\n",
            "2/2 [==============================] - 0s 8ms/step - loss: 5.0876 - mae: 5.0876\n",
            "Epoch 311/500\n",
            "2/2 [==============================] - 0s 7ms/step - loss: 13.8201 - mae: 13.8201\n",
            "Epoch 312/500\n",
            "2/2 [==============================] - 0s 7ms/step - loss: 30.3948 - mae: 30.3948\n",
            "Epoch 313/500\n",
            "2/2 [==============================] - 0s 5ms/step - loss: 6.9042 - mae: 6.9042\n",
            "Epoch 314/500\n",
            "2/2 [==============================] - 0s 4ms/step - loss: 11.0914 - mae: 11.0914\n",
            "Epoch 315/500\n",
            "2/2 [==============================] - 0s 6ms/step - loss: 23.3471 - mae: 23.3471\n",
            "Epoch 316/500\n",
            "2/2 [==============================] - 0s 5ms/step - loss: 14.8040 - mae: 14.8040\n",
            "Epoch 317/500\n",
            "2/2 [==============================] - 0s 5ms/step - loss: 20.4903 - mae: 20.4903\n",
            "Epoch 318/500\n",
            "2/2 [==============================] - 0s 4ms/step - loss: 8.6387 - mae: 8.6387\n",
            "Epoch 319/500\n",
            "2/2 [==============================] - 0s 4ms/step - loss: 15.1350 - mae: 15.1350\n",
            "Epoch 320/500\n",
            "2/2 [==============================] - 0s 5ms/step - loss: 8.2728 - mae: 8.2728\n",
            "Epoch 321/500\n",
            "2/2 [==============================] - 0s 6ms/step - loss: 14.5406 - mae: 14.5406\n",
            "Epoch 322/500\n",
            "2/2 [==============================] - 0s 6ms/step - loss: 12.8420 - mae: 12.8420\n",
            "Epoch 323/500\n",
            "2/2 [==============================] - 0s 8ms/step - loss: 19.1403 - mae: 19.1403\n",
            "Epoch 324/500\n",
            "2/2 [==============================] - 0s 10ms/step - loss: 16.9096 - mae: 16.9096\n",
            "Epoch 325/500\n",
            "2/2 [==============================] - 0s 7ms/step - loss: 9.3109 - mae: 9.3109\n",
            "Epoch 326/500\n",
            "2/2 [==============================] - 0s 11ms/step - loss: 19.9790 - mae: 19.9790\n",
            "Epoch 327/500\n",
            "2/2 [==============================] - 0s 5ms/step - loss: 27.9554 - mae: 27.9554\n",
            "Epoch 328/500\n",
            "2/2 [==============================] - 0s 5ms/step - loss: 11.7384 - mae: 11.7384\n",
            "Epoch 329/500\n",
            "2/2 [==============================] - 0s 40ms/step - loss: 16.4214 - mae: 16.4214\n",
            "Epoch 330/500\n",
            "2/2 [==============================] - 0s 10ms/step - loss: 7.2757 - mae: 7.2757\n",
            "Epoch 331/500\n",
            "2/2 [==============================] - 0s 8ms/step - loss: 22.4687 - mae: 22.4687\n",
            "Epoch 332/500\n",
            "2/2 [==============================] - 0s 4ms/step - loss: 13.2669 - mae: 13.2669\n",
            "Epoch 333/500\n",
            "2/2 [==============================] - 0s 9ms/step - loss: 10.0931 - mae: 10.0931\n",
            "Epoch 334/500\n",
            "2/2 [==============================] - 0s 9ms/step - loss: 6.5639 - mae: 6.5639\n",
            "Epoch 335/500\n",
            "2/2 [==============================] - 0s 5ms/step - loss: 6.2410 - mae: 6.2410\n",
            "Epoch 336/500\n",
            "2/2 [==============================] - 0s 6ms/step - loss: 34.4345 - mae: 34.4345\n",
            "Epoch 337/500\n",
            "2/2 [==============================] - 0s 4ms/step - loss: 26.8680 - mae: 26.8680\n",
            "Epoch 338/500\n",
            "2/2 [==============================] - 0s 7ms/step - loss: 13.9396 - mae: 13.9396\n",
            "Epoch 339/500\n",
            "2/2 [==============================] - 0s 5ms/step - loss: 11.4910 - mae: 11.4910\n",
            "Epoch 340/500\n",
            "2/2 [==============================] - 0s 4ms/step - loss: 8.8214 - mae: 8.8214\n",
            "Epoch 341/500\n",
            "2/2 [==============================] - 0s 6ms/step - loss: 23.4782 - mae: 23.4782\n",
            "Epoch 342/500\n",
            "2/2 [==============================] - 0s 7ms/step - loss: 13.8497 - mae: 13.8497\n",
            "Epoch 343/500\n",
            "2/2 [==============================] - 0s 7ms/step - loss: 14.8419 - mae: 14.8419\n",
            "Epoch 344/500\n",
            "2/2 [==============================] - 0s 7ms/step - loss: 13.3787 - mae: 13.3787\n",
            "Epoch 345/500\n",
            "2/2 [==============================] - 0s 7ms/step - loss: 31.0326 - mae: 31.0326\n",
            "Epoch 346/500\n",
            "2/2 [==============================] - 0s 4ms/step - loss: 10.6989 - mae: 10.6989\n",
            "Epoch 347/500\n",
            "2/2 [==============================] - 0s 4ms/step - loss: 25.7343 - mae: 25.7343\n",
            "Epoch 348/500\n",
            "2/2 [==============================] - 0s 8ms/step - loss: 12.8637 - mae: 12.8637\n",
            "Epoch 349/500\n",
            "2/2 [==============================] - 0s 14ms/step - loss: 13.1562 - mae: 13.1562\n",
            "Epoch 350/500\n",
            "2/2 [==============================] - 0s 5ms/step - loss: 15.4313 - mae: 15.4313\n",
            "Epoch 351/500\n",
            "2/2 [==============================] - 0s 8ms/step - loss: 32.9634 - mae: 32.9634\n",
            "Epoch 352/500\n",
            "2/2 [==============================] - 0s 8ms/step - loss: 14.1986 - mae: 14.1986\n",
            "Epoch 353/500\n",
            "2/2 [==============================] - 0s 5ms/step - loss: 15.9160 - mae: 15.9160\n",
            "Epoch 354/500\n",
            "2/2 [==============================] - 0s 4ms/step - loss: 19.0813 - mae: 19.0813\n",
            "Epoch 355/500\n",
            "2/2 [==============================] - 0s 9ms/step - loss: 34.1370 - mae: 34.1370\n",
            "Epoch 356/500\n",
            "2/2 [==============================] - 0s 5ms/step - loss: 8.2431 - mae: 8.2431\n",
            "Epoch 357/500\n",
            "2/2 [==============================] - 0s 4ms/step - loss: 21.7224 - mae: 21.7224\n",
            "Epoch 358/500\n",
            "2/2 [==============================] - 0s 5ms/step - loss: 19.8383 - mae: 19.8383\n",
            "Epoch 359/500\n",
            "2/2 [==============================] - 0s 6ms/step - loss: 11.0707 - mae: 11.0707\n",
            "Epoch 360/500\n",
            "2/2 [==============================] - 0s 5ms/step - loss: 20.3356 - mae: 20.3356\n",
            "Epoch 361/500\n",
            "2/2 [==============================] - 0s 10ms/step - loss: 10.8995 - mae: 10.8995\n",
            "Epoch 362/500\n",
            "2/2 [==============================] - 0s 11ms/step - loss: 6.7801 - mae: 6.7801\n",
            "Epoch 363/500\n",
            "2/2 [==============================] - 0s 5ms/step - loss: 23.8593 - mae: 23.8593\n",
            "Epoch 364/500\n",
            "2/2 [==============================] - 0s 5ms/step - loss: 29.5703 - mae: 29.5703\n",
            "Epoch 365/500\n",
            "2/2 [==============================] - 0s 5ms/step - loss: 8.2665 - mae: 8.2665\n",
            "Epoch 366/500\n",
            "2/2 [==============================] - 0s 12ms/step - loss: 6.0686 - mae: 6.0686\n",
            "Epoch 367/500\n",
            "2/2 [==============================] - 0s 5ms/step - loss: 34.7233 - mae: 34.7233\n",
            "Epoch 368/500\n",
            "2/2 [==============================] - 0s 4ms/step - loss: 7.3412 - mae: 7.3412\n",
            "Epoch 369/500\n",
            "2/2 [==============================] - 0s 7ms/step - loss: 9.1538 - mae: 9.1538\n",
            "Epoch 370/500\n",
            "2/2 [==============================] - 0s 8ms/step - loss: 10.8544 - mae: 10.8544\n",
            "Epoch 371/500\n",
            "2/2 [==============================] - 0s 7ms/step - loss: 8.9199 - mae: 8.9199\n",
            "Epoch 372/500\n",
            "2/2 [==============================] - 0s 9ms/step - loss: 7.6868 - mae: 7.6868\n",
            "Epoch 373/500\n",
            "2/2 [==============================] - 0s 6ms/step - loss: 25.0877 - mae: 25.0877\n",
            "Epoch 374/500\n",
            "2/2 [==============================] - 0s 8ms/step - loss: 13.1512 - mae: 13.1512\n",
            "Epoch 375/500\n",
            "2/2 [==============================] - 0s 4ms/step - loss: 11.8736 - mae: 11.8736\n",
            "Epoch 376/500\n",
            "2/2 [==============================] - 0s 4ms/step - loss: 14.1561 - mae: 14.1561\n",
            "Epoch 377/500\n",
            "2/2 [==============================] - 0s 4ms/step - loss: 15.7279 - mae: 15.7279\n",
            "Epoch 378/500\n",
            "2/2 [==============================] - 0s 6ms/step - loss: 17.0633 - mae: 17.0633\n",
            "Epoch 379/500\n",
            "2/2 [==============================] - 0s 4ms/step - loss: 19.3443 - mae: 19.3443\n",
            "Epoch 380/500\n",
            "2/2 [==============================] - 0s 10ms/step - loss: 15.6960 - mae: 15.6960\n",
            "Epoch 381/500\n",
            "2/2 [==============================] - 0s 11ms/step - loss: 11.4719 - mae: 11.4719\n",
            "Epoch 382/500\n",
            "2/2 [==============================] - 0s 8ms/step - loss: 16.3436 - mae: 16.3436\n",
            "Epoch 383/500\n",
            "2/2 [==============================] - 0s 17ms/step - loss: 22.1107 - mae: 22.1107\n",
            "Epoch 384/500\n",
            "2/2 [==============================] - 0s 15ms/step - loss: 7.7105 - mae: 7.7105\n",
            "Epoch 385/500\n",
            "2/2 [==============================] - 0s 36ms/step - loss: 10.6118 - mae: 10.6118\n",
            "Epoch 386/500\n",
            "2/2 [==============================] - 0s 13ms/step - loss: 19.1051 - mae: 19.1051\n",
            "Epoch 387/500\n",
            "2/2 [==============================] - 0s 13ms/step - loss: 26.4671 - mae: 26.4671\n",
            "Epoch 388/500\n",
            "2/2 [==============================] - 0s 13ms/step - loss: 10.0792 - mae: 10.0792\n",
            "Epoch 389/500\n",
            "2/2 [==============================] - 0s 11ms/step - loss: 5.1517 - mae: 5.1517\n",
            "Epoch 390/500\n",
            "2/2 [==============================] - 0s 18ms/step - loss: 18.8077 - mae: 18.8077\n",
            "Epoch 391/500\n",
            "2/2 [==============================] - 0s 13ms/step - loss: 9.3263 - mae: 9.3263\n",
            "Epoch 392/500\n",
            "2/2 [==============================] - 0s 14ms/step - loss: 14.4041 - mae: 14.4041\n",
            "Epoch 393/500\n",
            "2/2 [==============================] - 0s 5ms/step - loss: 15.4075 - mae: 15.4075\n",
            "Epoch 394/500\n",
            "2/2 [==============================] - 0s 14ms/step - loss: 14.7419 - mae: 14.7419\n",
            "Epoch 395/500\n",
            "2/2 [==============================] - 0s 23ms/step - loss: 24.9778 - mae: 24.9778\n",
            "Epoch 396/500\n",
            "2/2 [==============================] - 0s 13ms/step - loss: 19.1388 - mae: 19.1388\n",
            "Epoch 397/500\n",
            "2/2 [==============================] - 0s 9ms/step - loss: 11.5711 - mae: 11.5711\n",
            "Epoch 398/500\n",
            "2/2 [==============================] - 0s 9ms/step - loss: 19.2242 - mae: 19.2242\n",
            "Epoch 399/500\n",
            "2/2 [==============================] - 0s 19ms/step - loss: 25.9351 - mae: 25.9351\n",
            "Epoch 400/500\n",
            "2/2 [==============================] - 0s 29ms/step - loss: 15.5935 - mae: 15.5935\n",
            "Epoch 401/500\n",
            "2/2 [==============================] - 0s 18ms/step - loss: 14.6526 - mae: 14.6526\n",
            "Epoch 402/500\n",
            "2/2 [==============================] - 0s 17ms/step - loss: 24.2780 - mae: 24.2780\n",
            "Epoch 403/500\n",
            "2/2 [==============================] - 0s 12ms/step - loss: 16.2797 - mae: 16.2797\n",
            "Epoch 404/500\n",
            "2/2 [==============================] - 0s 16ms/step - loss: 10.4338 - mae: 10.4338\n",
            "Epoch 405/500\n",
            "2/2 [==============================] - 0s 19ms/step - loss: 6.3794 - mae: 6.3794\n",
            "Epoch 406/500\n",
            "2/2 [==============================] - 0s 15ms/step - loss: 17.7626 - mae: 17.7626\n",
            "Epoch 407/500\n",
            "2/2 [==============================] - 0s 13ms/step - loss: 11.0234 - mae: 11.0234\n",
            "Epoch 408/500\n",
            "2/2 [==============================] - 0s 34ms/step - loss: 21.0807 - mae: 21.0807\n",
            "Epoch 409/500\n",
            "2/2 [==============================] - 0s 12ms/step - loss: 30.2959 - mae: 30.2959\n",
            "Epoch 410/500\n",
            "2/2 [==============================] - 0s 16ms/step - loss: 9.8325 - mae: 9.8325\n",
            "Epoch 411/500\n",
            "2/2 [==============================] - 0s 11ms/step - loss: 14.7097 - mae: 14.7097\n",
            "Epoch 412/500\n",
            "2/2 [==============================] - 0s 4ms/step - loss: 21.4597 - mae: 21.4597\n",
            "Epoch 413/500\n",
            "2/2 [==============================] - 0s 6ms/step - loss: 13.3104 - mae: 13.3104\n",
            "Epoch 414/500\n",
            "2/2 [==============================] - 0s 9ms/step - loss: 7.7989 - mae: 7.7989\n",
            "Epoch 415/500\n",
            "2/2 [==============================] - 0s 9ms/step - loss: 12.2027 - mae: 12.2027\n",
            "Epoch 416/500\n",
            "2/2 [==============================] - 0s 20ms/step - loss: 25.8896 - mae: 25.8896\n",
            "Epoch 417/500\n",
            "2/2 [==============================] - 0s 13ms/step - loss: 15.0039 - mae: 15.0039\n",
            "Epoch 418/500\n",
            "2/2 [==============================] - 0s 4ms/step - loss: 12.7948 - mae: 12.7948\n",
            "Epoch 419/500\n",
            "2/2 [==============================] - 0s 12ms/step - loss: 15.8623 - mae: 15.8623\n",
            "Epoch 420/500\n",
            "2/2 [==============================] - 0s 4ms/step - loss: 24.7144 - mae: 24.7144\n",
            "Epoch 421/500\n",
            "2/2 [==============================] - 0s 14ms/step - loss: 17.5656 - mae: 17.5656\n",
            "Epoch 422/500\n",
            "2/2 [==============================] - 0s 15ms/step - loss: 8.7163 - mae: 8.7163\n",
            "Epoch 423/500\n",
            "2/2 [==============================] - 0s 7ms/step - loss: 24.9130 - mae: 24.9130\n",
            "Epoch 424/500\n",
            "2/2 [==============================] - 0s 9ms/step - loss: 16.1225 - mae: 16.1225\n",
            "Epoch 425/500\n",
            "2/2 [==============================] - 0s 20ms/step - loss: 7.4654 - mae: 7.4654\n",
            "Epoch 426/500\n",
            "2/2 [==============================] - 0s 13ms/step - loss: 21.5441 - mae: 21.5441\n",
            "Epoch 427/500\n",
            "2/2 [==============================] - 0s 17ms/step - loss: 6.6520 - mae: 6.6520\n",
            "Epoch 428/500\n",
            "2/2 [==============================] - 0s 6ms/step - loss: 13.8155 - mae: 13.8155\n",
            "Epoch 429/500\n",
            "2/2 [==============================] - 0s 6ms/step - loss: 11.7674 - mae: 11.7674\n",
            "Epoch 430/500\n",
            "2/2 [==============================] - 0s 7ms/step - loss: 10.5095 - mae: 10.5095\n",
            "Epoch 431/500\n",
            "2/2 [==============================] - 0s 12ms/step - loss: 12.0563 - mae: 12.0563\n",
            "Epoch 432/500\n",
            "2/2 [==============================] - 0s 6ms/step - loss: 7.6051 - mae: 7.6051\n",
            "Epoch 433/500\n",
            "2/2 [==============================] - 0s 6ms/step - loss: 14.8279 - mae: 14.8279\n",
            "Epoch 434/500\n",
            "2/2 [==============================] - 0s 12ms/step - loss: 17.9457 - mae: 17.9457\n",
            "Epoch 435/500\n",
            "2/2 [==============================] - 0s 6ms/step - loss: 9.7130 - mae: 9.7130\n",
            "Epoch 436/500\n",
            "2/2 [==============================] - 0s 9ms/step - loss: 29.1169 - mae: 29.1169\n",
            "Epoch 437/500\n",
            "2/2 [==============================] - 0s 9ms/step - loss: 9.2796 - mae: 9.2796\n",
            "Epoch 438/500\n",
            "2/2 [==============================] - 0s 5ms/step - loss: 12.6930 - mae: 12.6930\n",
            "Epoch 439/500\n",
            "2/2 [==============================] - 0s 7ms/step - loss: 33.5526 - mae: 33.5526\n",
            "Epoch 440/500\n",
            "2/2 [==============================] - 0s 4ms/step - loss: 14.9204 - mae: 14.9204\n",
            "Epoch 441/500\n",
            "2/2 [==============================] - 0s 4ms/step - loss: 17.3505 - mae: 17.3505\n",
            "Epoch 442/500\n",
            "2/2 [==============================] - 0s 7ms/step - loss: 22.0311 - mae: 22.0311\n",
            "Epoch 443/500\n",
            "2/2 [==============================] - 0s 35ms/step - loss: 24.2373 - mae: 24.2373\n",
            "Epoch 444/500\n",
            "2/2 [==============================] - 0s 18ms/step - loss: 11.5245 - mae: 11.5245\n",
            "Epoch 445/500\n",
            "2/2 [==============================] - 0s 7ms/step - loss: 14.7614 - mae: 14.7614\n",
            "Epoch 446/500\n",
            "2/2 [==============================] - 0s 7ms/step - loss: 17.7724 - mae: 17.7724\n",
            "Epoch 447/500\n",
            "2/2 [==============================] - 0s 10ms/step - loss: 5.6770 - mae: 5.6770\n",
            "Epoch 448/500\n",
            "2/2 [==============================] - 0s 12ms/step - loss: 9.5166 - mae: 9.5166\n",
            "Epoch 449/500\n",
            "2/2 [==============================] - 0s 8ms/step - loss: 14.1783 - mae: 14.1783\n",
            "Epoch 450/500\n",
            "2/2 [==============================] - 0s 12ms/step - loss: 16.9440 - mae: 16.9440\n",
            "Epoch 451/500\n",
            "2/2 [==============================] - 0s 7ms/step - loss: 14.3605 - mae: 14.3605\n",
            "Epoch 452/500\n",
            "2/2 [==============================] - 0s 5ms/step - loss: 30.7707 - mae: 30.7707\n",
            "Epoch 453/500\n",
            "2/2 [==============================] - 0s 4ms/step - loss: 8.4148 - mae: 8.4148\n",
            "Epoch 454/500\n",
            "2/2 [==============================] - 0s 4ms/step - loss: 27.6925 - mae: 27.6925\n",
            "Epoch 455/500\n",
            "2/2 [==============================] - 0s 4ms/step - loss: 9.8312 - mae: 9.8312\n",
            "Epoch 456/500\n",
            "2/2 [==============================] - 0s 6ms/step - loss: 14.6270 - mae: 14.6270\n",
            "Epoch 457/500\n",
            "2/2 [==============================] - 0s 9ms/step - loss: 17.7890 - mae: 17.7890\n",
            "Epoch 458/500\n",
            "2/2 [==============================] - 0s 4ms/step - loss: 14.0619 - mae: 14.0619\n",
            "Epoch 459/500\n",
            "2/2 [==============================] - 0s 8ms/step - loss: 26.0022 - mae: 26.0022\n",
            "Epoch 460/500\n",
            "2/2 [==============================] - 0s 20ms/step - loss: 14.7843 - mae: 14.7843\n",
            "Epoch 461/500\n",
            "2/2 [==============================] - 0s 17ms/step - loss: 12.0183 - mae: 12.0183\n",
            "Epoch 462/500\n",
            "2/2 [==============================] - 0s 4ms/step - loss: 13.3071 - mae: 13.3071\n",
            "Epoch 463/500\n",
            "2/2 [==============================] - 0s 8ms/step - loss: 29.5312 - mae: 29.5312\n",
            "Epoch 464/500\n",
            "2/2 [==============================] - 0s 6ms/step - loss: 3.4591 - mae: 3.4591\n",
            "Epoch 465/500\n",
            "2/2 [==============================] - 0s 13ms/step - loss: 15.1962 - mae: 15.1962\n",
            "Epoch 466/500\n",
            "2/2 [==============================] - 0s 12ms/step - loss: 20.7925 - mae: 20.7925\n",
            "Epoch 467/500\n",
            "2/2 [==============================] - 0s 4ms/step - loss: 30.6246 - mae: 30.6246\n",
            "Epoch 468/500\n",
            "2/2 [==============================] - 0s 5ms/step - loss: 11.1070 - mae: 11.1070\n",
            "Epoch 469/500\n",
            "2/2 [==============================] - 0s 5ms/step - loss: 12.9014 - mae: 12.9014\n",
            "Epoch 470/500\n",
            "2/2 [==============================] - 0s 5ms/step - loss: 3.5627 - mae: 3.5627\n",
            "Epoch 471/500\n",
            "2/2 [==============================] - 0s 6ms/step - loss: 42.0638 - mae: 42.0638\n",
            "Epoch 472/500\n",
            "2/2 [==============================] - 0s 9ms/step - loss: 4.6053 - mae: 4.6053\n",
            "Epoch 473/500\n",
            "2/2 [==============================] - 0s 5ms/step - loss: 18.4567 - mae: 18.4567\n",
            "Epoch 474/500\n",
            "2/2 [==============================] - 0s 8ms/step - loss: 41.5628 - mae: 41.5628\n",
            "Epoch 475/500\n",
            "2/2 [==============================] - 0s 15ms/step - loss: 17.5718 - mae: 17.5718\n",
            "Epoch 476/500\n",
            "2/2 [==============================] - 0s 12ms/step - loss: 13.2544 - mae: 13.2544\n",
            "Epoch 477/500\n",
            "2/2 [==============================] - 0s 7ms/step - loss: 29.3734 - mae: 29.3734\n",
            "Epoch 478/500\n",
            "2/2 [==============================] - 0s 9ms/step - loss: 5.6482 - mae: 5.6482\n",
            "Epoch 479/500\n",
            "2/2 [==============================] - 0s 8ms/step - loss: 7.8072 - mae: 7.8072\n",
            "Epoch 480/500\n",
            "2/2 [==============================] - 0s 9ms/step - loss: 18.4698 - mae: 18.4698\n",
            "Epoch 481/500\n",
            "2/2 [==============================] - 0s 4ms/step - loss: 16.3174 - mae: 16.3174\n",
            "Epoch 482/500\n",
            "2/2 [==============================] - 0s 17ms/step - loss: 15.1087 - mae: 15.1087\n",
            "Epoch 483/500\n",
            "2/2 [==============================] - 0s 4ms/step - loss: 20.6300 - mae: 20.6300\n",
            "Epoch 484/500\n",
            "2/2 [==============================] - 0s 17ms/step - loss: 34.8879 - mae: 34.8879\n",
            "Epoch 485/500\n",
            "2/2 [==============================] - 0s 5ms/step - loss: 13.6770 - mae: 13.6770\n",
            "Epoch 486/500\n",
            "2/2 [==============================] - 0s 4ms/step - loss: 7.3646 - mae: 7.3646\n",
            "Epoch 487/500\n",
            "2/2 [==============================] - 0s 6ms/step - loss: 6.4212 - mae: 6.4212\n",
            "Epoch 488/500\n",
            "2/2 [==============================] - 0s 7ms/step - loss: 31.2173 - mae: 31.2173\n",
            "Epoch 489/500\n",
            "2/2 [==============================] - 0s 6ms/step - loss: 12.2965 - mae: 12.2965\n",
            "Epoch 490/500\n",
            "2/2 [==============================] - 0s 7ms/step - loss: 12.9182 - mae: 12.9182\n",
            "Epoch 491/500\n",
            "2/2 [==============================] - 0s 4ms/step - loss: 23.9857 - mae: 23.9857\n",
            "Epoch 492/500\n",
            "2/2 [==============================] - 0s 4ms/step - loss: 19.6227 - mae: 19.6227\n",
            "Epoch 493/500\n",
            "2/2 [==============================] - 0s 4ms/step - loss: 4.7966 - mae: 4.7966\n",
            "Epoch 494/500\n",
            "2/2 [==============================] - 0s 4ms/step - loss: 12.0276 - mae: 12.0276\n",
            "Epoch 495/500\n",
            "2/2 [==============================] - 0s 8ms/step - loss: 13.6991 - mae: 13.6991\n",
            "Epoch 496/500\n",
            "2/2 [==============================] - 0s 4ms/step - loss: 12.8986 - mae: 12.8986\n",
            "Epoch 497/500\n",
            "2/2 [==============================] - 0s 7ms/step - loss: 18.0246 - mae: 18.0246\n",
            "Epoch 498/500\n",
            "2/2 [==============================] - 0s 9ms/step - loss: 22.6500 - mae: 22.6500\n",
            "Epoch 499/500\n",
            "2/2 [==============================] - 0s 7ms/step - loss: 8.5478 - mae: 8.5478\n",
            "Epoch 500/500\n",
            "2/2 [==============================] - 0s 8ms/step - loss: 14.4578 - mae: 14.4578\n"
          ]
        },
        {
          "output_type": "execute_result",
          "data": {
            "text/plain": [
              "<keras.callbacks.History at 0x7f991b8d8150>"
            ]
          },
          "metadata": {},
          "execution_count": 64
        }
      ]
    },
    {
      "cell_type": "code",
      "source": [
        "# plot model_3 predictions\n",
        "\n",
        "y_pred_3 = model_3.predict(X_test)\n",
        "plot_predictions(predictions= y_pred_3)"
      ],
      "metadata": {
        "colab": {
          "base_uri": "https://localhost:8080/",
          "height": 428
        },
        "id": "Qho4Cy851Oo-",
        "outputId": "04554fba-3340-4765-ed3e-2e0c05199583"
      },
      "execution_count": 65,
      "outputs": [
        {
          "output_type": "display_data",
          "data": {
            "text/plain": [
              "<Figure size 720x504 with 1 Axes>"
            ],
            "image/png": "[encoded data removed]"
          },
          "metadata": {
            "needs_background": "light"
          }
        }
      ]
    },
    {
      "cell_type": "code",
      "source": [
        "# calculate evaluation metrics for model_3\n",
        "\n",
        "mae_3 = mae(y_test, y_pred_3)\n",
        "mse_3 = mse(y_test, y_pred_3)\n",
        "\n",
        "mae_3, mse_3"
      ],
      "metadata": {
        "colab": {
          "base_uri": "https://localhost:8080/"
        },
        "id": "OplotGPX1o0s",
        "outputId": "fa08324a-8c2e-4184-fc1c-0e2f4e5692ff"
      },
      "execution_count": 66,
      "outputs": [
        {
          "output_type": "execute_result",
          "data": {
            "text/plain": [
              "(<tf.Tensor: shape=(), dtype=float32, numpy=68.149315>,\n",
              " <tf.Tensor: shape=(), dtype=float32, numpy=4729.35>)"
            ]
          },
          "metadata": {},
          "execution_count": 66
        }
      ]
    },
    {
      "cell_type": "markdown",
      "source": [
        "### comparing the results of our experiment"
      ],
      "metadata": {
        "id": "Npo68gQ82Cow"
      }
    },
    {
      "cell_type": "code",
      "source": [
        "# let's compare our results using pandas dataframe\n",
        "import pandas as pd\n",
        "\n",
        "model_result = [['model_1', mae_1.numpy(), mse_1.numpy()],\n",
        "                ['model_2',mae_2.numpy(), mae_2.numpy()],\n",
        "                ['model_3', mae_3.numpy(), mse_3.numpy()]]\n",
        "\n",
        "all_results = pd.DataFrame(model_result, columns= ['model', 'mae', 'mse'])\n",
        "\n",
        "all_results"
      ],
      "metadata": {
        "colab": {
          "base_uri": "https://localhost:8080/",
          "height": 143
        },
        "id": "v5RBpGOK3TnF",
        "outputId": "ffda8c15-e802-496d-dd3c-e55304dca321"
      },
      "execution_count": 70,
      "outputs": [
        {
          "output_type": "execute_result",
          "data": {
            "text/plain": [
              "     model        mae          mse\n",
              "0  model_1  18.745327   353.573364\n",
              "1  model_2   3.196941     3.196941\n",
              "2  model_3  68.149315  4729.350098"
            ],
            "text/html": [
              "\n",
              "  <div id=\"df-272171d8-c141-4911-9218-40c2c737ac69\">\n",
              "    <div class=\"colab-df-container\">\n",
              "      <div>\n",
              "<style scoped>\n",
              "    .dataframe tbody tr th:only-of-type {\n",
              "        vertical-align: middle;\n",
              "    }\n",
              "\n",
              "    .dataframe tbody tr th {\n",
              "        vertical-align: top;\n",
              "    }\n",
              "\n",
              "    .dataframe thead th {\n",
              "        text-align: right;\n",
              "    }\n",
              "</style>\n",
              "<table border=\"1\" class=\"dataframe\">\n",
              "  <thead>\n",
              "    <tr style=\"text-align: right;\">\n",
              "      <th></th>\n",
              "      <th>model</th>\n",
              "      <th>mae</th>\n",
              "      <th>mse</th>\n",
              "    </tr>\n",
              "  </thead>\n",
              "  <tbody>\n",
              "    <tr>\n",
              "      <th>0</th>\n",
              "      <td>model_1</td>\n",
              "      <td>18.745327</td>\n",
              "      <td>353.573364</td>\n",
              "    </tr>\n",
              "    <tr>\n",
              "      <th>1</th>\n",
              "      <td>model_2</td>\n",
              "      <td>3.196941</td>\n",
              "      <td>3.196941</td>\n",
              "    </tr>\n",
              "    <tr>\n",
              "      <th>2</th>\n",
              "      <td>model_3</td>\n",
              "      <td>68.149315</td>\n",
              "      <td>4729.350098</td>\n",
              "    </tr>\n",
              "  </tbody>\n",
              "</table>\n",
              "</div>\n",
              "      <button class=\"colab-df-convert\" onclick=\"convertToInteractive('df-272171d8-c141-4911-9218-40c2c737ac69')\"\n",
              "              title=\"Convert this dataframe to an interactive table.\"\n",
              "              style=\"display:none;\">\n",
              "        \n",
              "  <svg xmlns=\"http://www.w3.org/2000/svg\" height=\"24px\"viewBox=\"0 0 24 24\"\n",
              "       width=\"24px\">\n",
              "    <path d=\"M0 0h24v24H0V0z\" fill=\"none\"/>\n",
              "    <path d=\"M18.56 5.44l.94 2.06.94-2.06 2.06-.94-2.06-.94-.94-2.06-.94 2.06-2.06.94zm-11 1L8.5 8.5l.94-2.06 2.06-.94-2.06-.94L8.5 2.5l-.94 2.06-2.06.94zm10 10l.94 2.06.94-2.06 2.06-.94-2.06-.94-.94-2.06-.94 2.06-2.06.94z\"/><path d=\"M17.41 7.96l-1.37-1.37c-.4-.4-.92-.59-1.43-.59-.52 0-1.04.2-1.43.59L10.3 9.45l-7.72 7.72c-.78.78-.78 2.05 0 2.83L4 21.41c.39.39.9.59 1.41.59.51 0 1.02-.2 1.41-.59l7.78-7.78 2.81-2.81c.8-.78.8-2.07 0-2.86zM5.41 20L4 18.59l7.72-7.72 1.47 1.35L5.41 20z\"/>\n",
              "  </svg>\n",
              "      </button>\n",
              "      \n",
              "  <style>\n",
              "    .colab-df-container {\n",
              "      display:flex;\n",
              "      flex-wrap:wrap;\n",
              "      gap: 12px;\n",
              "    }\n",
              "\n",
              "    .colab-df-convert {\n",
              "      background-color: #E8F0FE;\n",
              "      border: none;\n",
              "      border-radius: 50%;\n",
              "      cursor: pointer;\n",
              "      display: none;\n",
              "      fill: #1967D2;\n",
              "      height: 32px;\n",
              "      padding: 0 0 0 0;\n",
              "      width: 32px;\n",
              "    }\n",
              "\n",
              "    .colab-df-convert:hover {\n",
              "      background-color: #E2EBFA;\n",
              "      box-shadow: 0px 1px 2px rgba(60, 64, 67, 0.3), 0px 1px 3px 1px rgba(60, 64, 67, 0.15);\n",
              "      fill: #174EA6;\n",
              "    }\n",
              "\n",
              "    [theme=dark] .colab-df-convert {\n",
              "      background-color: #3B4455;\n",
              "      fill: #D2E3FC;\n",
              "    }\n",
              "\n",
              "    [theme=dark] .colab-df-convert:hover {\n",
              "      background-color: #434B5C;\n",
              "      box-shadow: 0px 1px 3px 1px rgba(0, 0, 0, 0.15);\n",
              "      filter: drop-shadow(0px 1px 2px rgba(0, 0, 0, 0.3));\n",
              "      fill: #FFFFFF;\n",
              "    }\n",
              "  </style>\n",
              "\n",
              "      <script>\n",
              "        const buttonEl =\n",
              "          document.querySelector('#df-272171d8-c141-4911-9218-40c2c737ac69 button.colab-df-convert');\n",
              "        buttonEl.style.display =\n",
              "          google.colab.kernel.accessAllowed ? 'block' : 'none';\n",
              "\n",
              "        async function convertToInteractive(key) {\n",
              "          const element = document.querySelector('#df-272171d8-c141-4911-9218-40c2c737ac69');\n",
              "          const dataTable =\n",
              "            await google.colab.kernel.invokeFunction('convertToInteractive',\n",
              "                                                     [key], {});\n",
              "          if (!dataTable) return;\n",
              "\n",
              "          const docLinkHtml = 'Like what you see? Visit the ' +\n",
              "            '<a target=\"_blank\" href=https://colab.research.google.com/notebooks/data_table.ipynb>data table notebook</a>'\n",
              "            + ' to learn more about interactive tables.';\n",
              "          element.innerHTML = '';\n",
              "          dataTable['output_type'] = 'display_data';\n",
              "          await google.colab.output.renderOutput(dataTable, element);\n",
              "          const docLink = document.createElement('div');\n",
              "          docLink.innerHTML = docLinkHtml;\n",
              "          element.appendChild(docLink);\n",
              "        }\n",
              "      </script>\n",
              "    </div>\n",
              "  </div>\n",
              "  "
            ]
          },
          "metadata": {},
          "execution_count": 70
        }
      ]
    },
    {
      "cell_type": "markdown",
      "source": [
        "## Saving our model\n",
        "\n"
      ],
      "metadata": {
        "id": "M5ufysC13oHU"
      }
    },
    {
      "cell_type": "code",
      "source": [
        "# save model using SavedModel format\n",
        "\n",
        "model_2.save(\"first_model_savedModel_format\")"
      ],
      "metadata": {
        "colab": {
          "base_uri": "https://localhost:8080/"
        },
        "id": "cbMWj7fS9OyK",
        "outputId": "fdbacbf4-0e67-401a-f2f6-0d2f09f1e61d"
      },
      "execution_count": 72,
      "outputs": [
        {
          "output_type": "stream",
          "name": "stdout",
          "text": [
            "INFO:tensorflow:Assets written to: first_model_savedModel_format/assets\n"
          ]
        },
        {
          "output_type": "stream",
          "name": "stderr",
          "text": [
            "INFO:tensorflow:Assets written to: first_model_savedModel_format/assets\n"
          ]
        }
      ]
    },
    {
      "cell_type": "code",
      "source": [
        "# save model using HDF5 format\n",
        "\n",
        "model_2.save('first_model_HDF5_format.h5')"
      ],
      "metadata": {
        "id": "DRBjBvIe99Fx"
      },
      "execution_count": 73,
      "outputs": []
    },
    {
      "cell_type": "markdown",
      "source": [
        "## loading in a saved model"
      ],
      "metadata": {
        "id": "SFIEntfP_Q-n"
      }
    },
    {
      "cell_type": "code",
      "source": [
        "loaded_savedmodel_format = tf.keras.models.load_model(\"/content/first_model_savedModel_format\")\n",
        "loaded_savedmodel_format.summary()"
      ],
      "metadata": {
        "colab": {
          "base_uri": "https://localhost:8080/"
        },
        "id": "fA-Vw3HmAQvb",
        "outputId": "a912a16c-4f2e-433d-fe12-a0c3c5334cc1"
      },
      "execution_count": 74,
      "outputs": [
        {
          "output_type": "stream",
          "name": "stdout",
          "text": [
            "Model: \"sequential_8\"\n",
            "_________________________________________________________________\n",
            " Layer (type)                Output Shape              Param #   \n",
            "=================================================================\n",
            " dense_10 (Dense)            (None, 10)                20        \n",
            "                                                                 \n",
            " dense_11 (Dense)            (None, 1)                 11        \n",
            "                                                                 \n",
            "=================================================================\n",
            "Total params: 31\n",
            "Trainable params: 31\n",
            "Non-trainable params: 0\n",
            "_________________________________________________________________\n"
          ]
        }
      ]
    },
    {
      "cell_type": "code",
      "source": [
        "model_2_pred = model_2.predict(X_test)\n",
        "\n",
        "loaded_savedmodel_predict = loaded_savedmodel_format.predict(X_test)\n",
        "\n",
        "model_2_pred == loaded_savedmodel_predict"
      ],
      "metadata": {
        "colab": {
          "base_uri": "https://localhost:8080/"
        },
        "id": "Yay84GpcBCeh",
        "outputId": "618bdfdb-ef32-4d94-cd13-5260f5657b9a"
      },
      "execution_count": 76,
      "outputs": [
        {
          "output_type": "execute_result",
          "data": {
            "text/plain": [
              "array([[ True],\n",
              "       [ True],\n",
              "       [ True],\n",
              "       [ True],\n",
              "       [ True],\n",
              "       [ True],\n",
              "       [ True],\n",
              "       [ True],\n",
              "       [ True],\n",
              "       [ True]])"
            ]
          },
          "metadata": {},
          "execution_count": 76
        }
      ]
    },
    {
      "cell_type": "code",
      "source": [
        "model_2_pred ,loaded_savedmodel_predict"
      ],
      "metadata": {
        "colab": {
          "base_uri": "https://localhost:8080/"
        },
        "id": "iH2b5upbCBiZ",
        "outputId": "bf6cb7ec-1e3b-4154-acb0-f67027137ae2"
      },
      "execution_count": 79,
      "outputs": [
        {
          "output_type": "execute_result",
          "data": {
            "text/plain": [
              "(array([[ 70.55218 ],\n",
              "        [ 75.13991 ],\n",
              "        [ 79.72763 ],\n",
              "        [ 84.31535 ],\n",
              "        [ 88.903076],\n",
              "        [ 93.49081 ],\n",
              "        [ 98.07853 ],\n",
              "        [102.66625 ],\n",
              "        [107.253975],\n",
              "        [111.8417  ]], dtype=float32), array([[ 70.55218 ],\n",
              "        [ 75.13991 ],\n",
              "        [ 79.72763 ],\n",
              "        [ 84.31535 ],\n",
              "        [ 88.903076],\n",
              "        [ 93.49081 ],\n",
              "        [ 98.07853 ],\n",
              "        [102.66625 ],\n",
              "        [107.253975],\n",
              "        [111.8417  ]], dtype=float32))"
            ]
          },
          "metadata": {},
          "execution_count": 79
        }
      ]
    },
    {
      "cell_type": "code",
      "source": [
        "# load a model using .h5 format\n",
        "\n",
        "loaded_h5_format = tf.keras.models.load_model(\"/content/first_model_HDF5_format.h5\")"
      ],
      "metadata": {
        "id": "DDztlUpgCyWk"
      },
      "execution_count": 84,
      "outputs": []
    },
    {
      "cell_type": "code",
      "source": [
        "loaded_h5_format.summary()"
      ],
      "metadata": {
        "colab": {
          "base_uri": "https://localhost:8080/"
        },
        "id": "0M2nO0ADEDB5",
        "outputId": "09976364-4b20-4033-908f-d3d642fc7e81"
      },
      "execution_count": 85,
      "outputs": [
        {
          "output_type": "stream",
          "name": "stdout",
          "text": [
            "Model: \"sequential_8\"\n",
            "_________________________________________________________________\n",
            " Layer (type)                Output Shape              Param #   \n",
            "=================================================================\n",
            " dense_10 (Dense)            (None, 10)                20        \n",
            "                                                                 \n",
            " dense_11 (Dense)            (None, 1)                 11        \n",
            "                                                                 \n",
            "=================================================================\n",
            "Total params: 31\n",
            "Trainable params: 31\n",
            "Non-trainable params: 0\n",
            "_________________________________________________________________\n"
          ]
        }
      ]
    },
    {
      "cell_type": "code",
      "source": [
        "model_2_predict = model_2.predict(X_test)\n",
        "model_h5_predict = loaded_h5_format.predict(X_test)\n",
        "\n",
        "model_2_predict == model_h5_predict"
      ],
      "metadata": {
        "colab": {
          "base_uri": "https://localhost:8080/"
        },
        "id": "R3kHf7r-ERW8",
        "outputId": "5c4a4ee7-204c-4736-a5d6-02e97c6424cb"
      },
      "execution_count": 86,
      "outputs": [
        {
          "output_type": "execute_result",
          "data": {
            "text/plain": [
              "array([[ True],\n",
              "       [ True],\n",
              "       [ True],\n",
              "       [ True],\n",
              "       [ True],\n",
              "       [ True],\n",
              "       [ True],\n",
              "       [ True],\n",
              "       [ True],\n",
              "       [ True]])"
            ]
          },
          "metadata": {},
          "execution_count": 86
        }
      ]
    },
    {
      "cell_type": "code",
      "source": [
        ""
      ],
      "metadata": {
        "id": "g49_aqXmEUES"
      },
      "execution_count": null,
      "outputs": []
    }
  ]
}